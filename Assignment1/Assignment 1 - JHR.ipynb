{
 "cells": [
  {
   "cell_type": "markdown",
   "metadata": {},
   "source": [
    "# Assignment 1"
   ]
  },
  {
   "cell_type": "markdown",
   "metadata": {},
   "source": [
    "## 1번 문제\n",
    "- a=\"Hello Python\" 문자열을 Slicing과 연결 연산자 (+)를 사용하여 \"Python Hello\"로 변경하시오.\n",
    "  - [주의] a 변수 자체에 \"Python Hello\" 문자열이 저장되어야 함"
   ]
  },
  {
   "cell_type": "code",
   "execution_count": 14,
   "metadata": {
    "scrolled": true
   },
   "outputs": [
    {
     "name": "stdout",
     "output_type": "stream",
     "text": [
      "Python Hello\n"
     ]
    }
   ],
   "source": [
    "a = \"Hello Python\"\n",
    "a = a[6:12] + a[5] + a[0:5]\n",
    "print(a)"
   ]
  },
  {
   "cell_type": "markdown",
   "metadata": {},
   "source": [
    "a[0:5] : Hello, a[6:12] : Python으로 Slicing 할 수 있다."
   ]
  },
  {
   "cell_type": "markdown",
   "metadata": {},
   "source": [
    "## 2번 문제\n",
    "- b=\"Hello Python World\" 문자열을 Slicing과 연결 연산자 (+)를 사용하여 \"World Python Hello\"로 변경하시오.\n",
    "    - [주의] b 변수 자체에 \"Python Hello\" 문자열이 저장되어야 함"
   ]
  },
  {
   "cell_type": "code",
   "execution_count": 17,
   "metadata": {},
   "outputs": [
    {
     "name": "stdout",
     "output_type": "stream",
     "text": [
      "World Python Hello\n"
     ]
    }
   ],
   "source": [
    "b = \"Hello Python World\"\n",
    "b = b[13:18] + b[12] + b[6:12] + b[5] + b[0:5]\n",
    "print(b)"
   ]
  },
  {
   "cell_type": "markdown",
   "metadata": {},
   "source": [
    "a[0:5] : Hello, a[6:12] : Python, a[13:18] : World로 Slicing 할 수 있다."
   ]
  },
  {
   "cell_type": "markdown",
   "metadata": {},
   "source": [
    "## 3번 문제\n",
    "- c=\"Hello\"를 \"olleH\"로 변경하시오\n",
    "    - [주의] c 변수 자체에 \"olleH\" 문자열이 저장되어야 함"
   ]
  },
  {
   "cell_type": "code",
   "execution_count": 2,
   "metadata": {},
   "outputs": [
    {
     "name": "stdout",
     "output_type": "stream",
     "text": [
      "olleH\n"
     ]
    }
   ],
   "source": [
    "c = \"Hello\"\n",
    "c = c[::-1]\n",
    "print(c)"
   ]
  },
  {
   "cell_type": "markdown",
   "metadata": {},
   "source": [
    "c = c[::-1]이면 step이 -1이므로 문자열을 거꾸로 할 수 있다."
   ]
  },
  {
   "cell_type": "markdown",
   "metadata": {},
   "source": [
    "## 4번 문제\n",
    "- s=\"python\"에 대해 다음 문제를 풀어보시오.\n",
    "    1. s[0], s[0][0], s[0][0][0]은 각각 어떤 값이 나오는지 확인하고 그 이유를 나름대로 설명해 보시오.\n",
    "    2. s[-100], s[100]은 값이 나오는지 에러가 나오는지 확인하고 그 결과에 대한 이유를 나름대로 설명해 보시오.\n",
    "    3. s[-100, 100]은 값이 나오는지 에러가 나오는지 확인하고 그 결과에 대한 이유를 나름대로 설명해 보시오.\n",
    "    4. s[1:-1]의 결과를 확인하고 그 결과에 대한 이유를 정확하게 설명하시오.\n",
    "    5. s[3:-3]의 결과를 확인하고 그 결과에 대한 이유를 정확하게 설명하시오."
   ]
  },
  {
   "cell_type": "code",
   "execution_count": 6,
   "metadata": {},
   "outputs": [
    {
     "name": "stdout",
     "output_type": "stream",
     "text": [
      "s[0] : p , s[0][0] : p , s[0][0][0] : p\n"
     ]
    }
   ],
   "source": [
    "s = \"python\"\n",
    "print(\"s[0] : \" + s[0] + \" , s[0][0] : \" + s[0][0] + \" , s[0][0][0] : \" + s[0][0][0])"
   ]
  },
  {
   "cell_type": "markdown",
   "metadata": {},
   "source": [
    "s[0]의 경우 첫 글자가 나와야 하고, s[0][0]인 경우 (s[0])[0]으로 취급되는 것 같아서 문자열 \"p\"의 첫번째 글자이므로 p이고, s[0][0][0]의 경우도 마찬가지인 것 같다."
   ]
  },
  {
   "cell_type": "code",
   "execution_count": 15,
   "metadata": {
    "scrolled": true
   },
   "outputs": [
    {
     "ename": "IndexError",
     "evalue": "string index out of range",
     "output_type": "error",
     "traceback": [
      "\u001b[1;31m---------------------------------------------------------------------------\u001b[0m",
      "\u001b[1;31mIndexError\u001b[0m                                Traceback (most recent call last)",
      "\u001b[1;32m<ipython-input-15-226ffd9e8f89>\u001b[0m in \u001b[0;36m<module>\u001b[1;34m()\u001b[0m\n\u001b[1;32m----> 1\u001b[1;33m \u001b[0mprint\u001b[0m\u001b[1;33m(\u001b[0m\u001b[1;34m\"s[-100] : \"\u001b[0m \u001b[1;33m+\u001b[0m \u001b[0ms\u001b[0m\u001b[1;33m[\u001b[0m\u001b[1;33m-\u001b[0m\u001b[1;36m100\u001b[0m\u001b[1;33m]\u001b[0m \u001b[1;33m+\u001b[0m \u001b[1;34m\" , \"\u001b[0m \u001b[1;33m+\u001b[0m \u001b[0ms\u001b[0m\u001b[1;33m[\u001b[0m\u001b[1;36m100\u001b[0m\u001b[1;33m]\u001b[0m\u001b[1;33m)\u001b[0m\u001b[1;33m\u001b[0m\u001b[0m\n\u001b[0m",
      "\u001b[1;31mIndexError\u001b[0m: string index out of range"
     ]
    }
   ],
   "source": [
    "print(\"s[-100] : \" + s[-100] + \" , \" + s[100])"
   ]
  },
  {
   "cell_type": "markdown",
   "metadata": {},
   "source": [
    "s[-100]과 s[100]은 각각 뒤에서부터 100번째와 앞에서부터 101번째 글자를 출력하라는 이야기인데, s의 길이가 100을 넘지 않기 때문에 에러가 발생하는 것 같다."
   ]
  },
  {
   "cell_type": "code",
   "execution_count": 12,
   "metadata": {
    "scrolled": true
   },
   "outputs": [
    {
     "ename": "TypeError",
     "evalue": "string indices must be integers",
     "output_type": "error",
     "traceback": [
      "\u001b[1;31m---------------------------------------------------------------------------\u001b[0m",
      "\u001b[1;31mTypeError\u001b[0m                                 Traceback (most recent call last)",
      "\u001b[1;32m<ipython-input-12-d63bfae38ddd>\u001b[0m in \u001b[0;36m<module>\u001b[1;34m()\u001b[0m\n\u001b[1;32m----> 1\u001b[1;33m \u001b[0mprint\u001b[0m\u001b[1;33m(\u001b[0m\u001b[1;34m\"s[-100, 100] : \"\u001b[0m \u001b[1;33m+\u001b[0m \u001b[0ms\u001b[0m\u001b[1;33m[\u001b[0m\u001b[1;33m-\u001b[0m\u001b[1;36m100\u001b[0m\u001b[1;33m,\u001b[0m \u001b[1;36m100\u001b[0m\u001b[1;33m]\u001b[0m\u001b[1;33m)\u001b[0m\u001b[1;33m\u001b[0m\u001b[0m\n\u001b[0m",
      "\u001b[1;31mTypeError\u001b[0m: string indices must be integers"
     ]
    }
   ],
   "source": [
    "print(\"s[-100, 100] : \" + s[-100, 100])"
   ]
  },
  {
   "cell_type": "markdown",
   "metadata": {},
   "source": [
    "s[-100]과 s[100]의 결과가 각각 에러가 나기 때문에 정수형으로 취급되지 않는 것 같다."
   ]
  },
  {
   "cell_type": "code",
   "execution_count": 22,
   "metadata": {
    "scrolled": true
   },
   "outputs": [
    {
     "name": "stdout",
     "output_type": "stream",
     "text": [
      "s[1 : -1] : ytho\n"
     ]
    }
   ],
   "source": [
    "print(\"s[1 : -1] : \" + s[1:-1])"
   ]
  },
  {
   "cell_type": "markdown",
   "metadata": {},
   "source": [
    "2번째 자리부터 -2번째(end 앞자리)까지 출력하라는 명령이기 때문에, y부터 o까지 출력된 것 같다."
   ]
  },
  {
   "cell_type": "code",
   "execution_count": 17,
   "metadata": {},
   "outputs": [
    {
     "name": "stdout",
     "output_type": "stream",
     "text": [
      "s[3:-3] : \n"
     ]
    }
   ],
   "source": [
    "print(\"s[3:-3] : \" + s[3:-3])"
   ]
  },
  {
   "cell_type": "markdown",
   "metadata": {},
   "source": [
    "4번째 자리부터 -4번째까지 출력하라는 명령이므로, 인덱스 범위 초과 오류는 나지 않지만 이상한 명령으로 취급되는 것 같다."
   ]
  },
  {
   "cell_type": "markdown",
   "metadata": {},
   "source": [
    "## 5번 문제\n",
    "- for문을 활용하여 1부터 100사이의 홀수를 출력하시오."
   ]
  },
  {
   "cell_type": "code",
   "execution_count": 1,
   "metadata": {
    "scrolled": true
   },
   "outputs": [
    {
     "name": "stdout",
     "output_type": "stream",
     "text": [
      "[1, 3, 5, 7, 9, 11, 13, 15, 17, 19, 21, 23, 25, 27, 29, 31, 33, 35, 37, 39, 41, 43, 45, 47, 49, 51, 53, 55, 57, 59, 61, 63, 65, 67, 69, 71, 73, 75, 77, 79, 81, 83, 85, 87, 89, 91, 93, 95, 97, 99]\n"
     ]
    }
   ],
   "source": [
    "odd = []\n",
    "for x in range(1, 100):\n",
    "    if (x % 2 != 0):\n",
    "        odd.append(x)\n",
    "print (odd)"
   ]
  },
  {
   "cell_type": "markdown",
   "metadata": {},
   "source": [
    "1부터 100까지 for문을 수행하면서 2로 나누었을때 나머지가 0이 아닌 숫자의 리스트를 만들어서 리스트를 출력하게 했다."
   ]
  },
  {
   "cell_type": "markdown",
   "metadata": {},
   "source": [
    "## 6번 문제\n",
    "- while문을 활용하여 1부터 100사이의 짝수의 합을 계산하여 출력하시오."
   ]
  },
  {
   "cell_type": "code",
   "execution_count": 9,
   "metadata": {
    "scrolled": true
   },
   "outputs": [
    {
     "name": "stdout",
     "output_type": "stream",
     "text": [
      "2550\n"
     ]
    }
   ],
   "source": [
    "sum = 0\n",
    "x = 1\n",
    "while x <= 100:\n",
    "    if (x % 2 == 0):\n",
    "        sum += x\n",
    "    x += 1\n",
    "print (sum)"
   ]
  },
  {
   "cell_type": "markdown",
   "metadata": {},
   "source": [
    "홀수를 계산했던 것과 마찬가지로 짝수를 계산하고, sum이라는 변수에 짝수이면 값을 더하게 하여 짝수의 합을 계산하였다."
   ]
  },
  {
   "cell_type": "markdown",
   "metadata": {},
   "source": [
    "## 7번 문제\n",
    "- 사용자로 부터 임의의 정수를 입력받고, 해당 숫자를 역순으로 출력하는 프로그램을 작성하시오.\n",
    "    \n",
    "   [실행 예]\n",
    "    \n",
    "    > 정수를 입력하세요: 3125\n",
    "    \n",
    "    > 숫자 역순은 5213 입니다."
   ]
  },
  {
   "cell_type": "code",
   "execution_count": 13,
   "metadata": {
    "scrolled": true
   },
   "outputs": [
    {
     "name": "stdout",
     "output_type": "stream",
     "text": [
      "정수를 입력하세요 :3125\n",
      "숫자 역순은 5213 입니다.\n"
     ]
    }
   ],
   "source": [
    "a = input('정수를 입력하세요 :')\n",
    "a = a[::-1]\n",
    "print('숫자 역순은 ' + a + ' 입니다.')"
   ]
  },
  {
   "cell_type": "markdown",
   "metadata": {},
   "source": [
    "사용자로부터 정수를 입력받고, a[::-1]을 이용하여 a에 역순으로 저장되게 하고 a를 출력하였다."
   ]
  },
  {
   "cell_type": "markdown",
   "metadata": {},
   "source": [
    "## 8번 문제\n",
    "- 사용자로 부터 정수를 입력받아서 1부터 그 사이에 존재하는 소수 (Prime number)를 출력하는 파이썬 프로그램을 작성하시오."
   ]
  },
  {
   "cell_type": "code",
   "execution_count": 6,
   "metadata": {},
   "outputs": [
    {
     "name": "stdout",
     "output_type": "stream",
     "text": [
      "정수 : 40\n",
      "[1, 2, 3, 5, 7, 11, 13, 17, 19, 23, 29, 31, 37]\n"
     ]
    }
   ],
   "source": [
    "a = input('정수 : ')\n",
    "x = 1\n",
    "primeList = []\n",
    "while x <= int(a):\n",
    "    for i in range(2, x):\n",
    "        if (x % i == 0):\n",
    "            break;\n",
    "    else:\n",
    "        primeList.append(x)\n",
    "    x += 1\n",
    "        \n",
    "print (primeList)"
   ]
  },
  {
   "cell_type": "markdown",
   "metadata": {},
   "source": [
    "사용자로부터 입력받은 정수까지 while문을 수행하면서, while문 내부에서 2부터 현재 값까지 for문을 수행한다. x값에 도달하기 전에 i로 나누었을때 나머지가 0이 되는 i의 값이 있다면 그 x 값은 소수가 아니므로 break를 통해 for문을 빠져나오고, x값에 도달할 때까지 나머지가 0이 되는 값이 없었다면 소수로 판단하고 리스트에 추가한다."
   ]
  },
  {
   "cell_type": "markdown",
   "metadata": {},
   "source": [
    "## 9번 문제\n",
    "- [ACM-ICPC 문제 2439번]\n",
    "    - 별찍기-2\n",
    "      \n",
    "      https://www.acmicpc.net/problem/2439"
   ]
  },
  {
   "cell_type": "code",
   "execution_count": 59,
   "metadata": {
    "scrolled": false
   },
   "outputs": [
    {
     "name": "stdout",
     "output_type": "stream",
     "text": [
      "5\n",
      "    *\n",
      "   **\n",
      "  ***\n",
      " ****\n",
      "*****\n"
     ]
    }
   ],
   "source": [
    "N = input()\n",
    "a = int(N)\n",
    "b = \" \"; c = \"*\"\n",
    "for x in range(1, a+1):\n",
    "    print (b * (a-x) + c * (x))"
   ]
  },
  {
   "cell_type": "markdown",
   "metadata": {},
   "source": [
    "문자열에 곱하기를 이용하여 b에는 공백을 저장하고 c에는 \\*을 저장한다.\n",
    "1부터 입력받은 값까지 for문을 수행하면서 N-x(x는 현재 행)개의 공백과 x개의 \\*을 출력한다."
   ]
  },
  {
   "cell_type": "markdown",
   "metadata": {},
   "source": [
    "![2439](image/2439.png)"
   ]
  },
  {
   "cell_type": "markdown",
   "metadata": {},
   "source": [
    "## 10번 문제\n",
    "- [ACM-ICPC 문제 1924번]\n",
    "    - 2007년\n",
    "    \n",
    "    https://www.acmicpc.net/problem/1924"
   ]
  },
  {
   "cell_type": "code",
   "execution_count": 23,
   "metadata": {},
   "outputs": [
    {
     "name": "stdout",
     "output_type": "stream",
     "text": [
      "1 1\n",
      "MON\n"
     ]
    }
   ],
   "source": [
    "InputString = input()\n",
    "x, y = InputString.split(' ')\n",
    "result = 0\n",
    "day = ['SUN', 'MON', 'TUE', 'WED', 'THU', 'FRI', 'SAT']\n",
    "arr = [31, 28, 31, 30, 31, 30, 31, 31, 30, 31, 30, 31]\n",
    "\n",
    "for a in range(int(x)-1):\n",
    "    result += arr[a]\n",
    "\n",
    "result += int(y)\n",
    "result = result % 7\n",
    "print (day[result])"
   ]
  },
  {
   "cell_type": "markdown",
   "metadata": {},
   "source": [
    "input을 한 줄에 숫자 두 개로 입력하는 문제가 있어서, ' '을 기준으로 split하도록 처리하였다. day는 요일의 리스트이고, arr는 각 월별 날짜수이다. for문에서 전월까지의 날짜수를 더한 후, 현재 날짜 수를 더해서 7로 나눈 값이 요일이 된다."
   ]
  },
  {
   "cell_type": "markdown",
   "metadata": {},
   "source": [
    "![1924](image/1924.png)"
   ]
  },
  {
   "cell_type": "markdown",
   "metadata": {},
   "source": [
    "## 11번 문제\n",
    "- [ACM-ICPC 문제 11720번]\n",
    "    - 숫자의 합\n",
    "    \n",
    "    https://www.acmicpc.net/problem/11720"
   ]
  },
  {
   "cell_type": "code",
   "execution_count": 5,
   "metadata": {},
   "outputs": [
    {
     "name": "stdout",
     "output_type": "stream",
     "text": [
      "5\n",
      "12345\n",
      "15\n"
     ]
    }
   ],
   "source": [
    "N = input()\n",
    "num = input()\n",
    "num = [num[i:i+1] for i in range(0,int(N))]\n",
    "result = 0\n",
    "for i in range(0, int(N)):\n",
    "    result += int(num[i])\n",
    "print(result)"
   ]
  },
  {
   "cell_type": "markdown",
   "metadata": {},
   "source": [
    "유저의 입력을 받아서 한 글자씩 리스트로 잘라낸 후에, for문 안에서 각각 더하도록 하였다."
   ]
  },
  {
   "cell_type": "markdown",
   "metadata": {},
   "source": [
    "![11720](image/11720.png)"
   ]
  },
  {
   "cell_type": "markdown",
   "metadata": {
    "collapsed": true
   },
   "source": [
    "소감 : 파이썬이 배우기 쉬운 언어라고 들었는데, 쉬운 점도 있지만 생각보다 불편한 점도 있어서 적응하려면 시간이 좀 걸릴 것 같습니다. 문제 사이트의 경우 제 컴퓨터에선 결과가 정상적으로 출력이 되지만, 문제사이트에서 요구하는 출력과 스페이스바 하나라도 차이가 나면 틀린 답으로 간주해서 조금 불편한 것 같습니다."
   ]
  },
  {
   "cell_type": "code",
   "execution_count": null,
   "metadata": {
    "collapsed": true
   },
   "outputs": [],
   "source": []
  }
 ],
 "metadata": {
  "kernelspec": {
   "display_name": "Python 3",
   "language": "python",
   "name": "python3"
  },
  "language_info": {
   "codemirror_mode": {
    "name": "ipython",
    "version": 3
   },
   "file_extension": ".py",
   "mimetype": "text/x-python",
   "name": "python",
   "nbconvert_exporter": "python",
   "pygments_lexer": "ipython3",
   "version": "3.6.1"
  }
 },
 "nbformat": 4,
 "nbformat_minor": 2
}
