{
 "cells": [
  {
   "cell_type": "markdown",
   "metadata": {},
   "source": [
    "# Assignment2"
   ]
  },
  {
   "cell_type": "markdown",
   "metadata": {},
   "source": [
    "## 1번 문제\n",
    "* 다음 6 개의 Expression에 대해 Evaluation 결과 값을 출력하고, 해당 결과가 나온 이유에 대해 설명하시오\n",
    "    * 1 and 2 and 3 and 4\n",
    "    * 1 or 2 or 3 or 4\n",
    "    * 1 and 2 or 3 and 4\n",
    "    * (1 and 2) or (3 and 4)\n",
    "    * 1 or 2 and 3 or 4\n",
    "    * (1 or 2) and (3 or 4)"
   ]
  },
  {
   "cell_type": "code",
   "execution_count": 47,
   "metadata": {},
   "outputs": [
    {
     "name": "stdout",
     "output_type": "stream",
     "text": [
      "4\n",
      "1\n",
      "2\n",
      "2\n",
      "1\n",
      "3\n"
     ]
    }
   ],
   "source": [
    "print (1 and 2 and 3 and 4)\n",
    "print (1 or 2 or 3 or 4)\n",
    "print (1 and 2 or 3 and 4)\n",
    "print ((1 and 2) or (3 and 4))\n",
    "print (1 or 2 and 3 or 4)\n",
    "print ((1 or 2) and (3 or 4))"
   ]
  },
  {
   "cell_type": "markdown",
   "metadata": {},
   "source": [
    "숫자끼리 and 연산을 하면 더 높은 숫자가, or 연산을 하면 낮은 숫자가 나오는 것 같다.\n",
    "\n",
    "and가 or보다 우선순위가 높으므로,  and와 or 연산이 괄호를 제외하고 섞여 있을 때 and 연산이 먼저 수행된다."
   ]
  },
  {
   "cell_type": "markdown",
   "metadata": {},
   "source": [
    "# 2번 문제\n",
    "* 경로에 해당하는 문자열 1개를 입력 받아 그 안에 디렉토리 경로명과 파일명을 분리하여 리스트로 반환하는 함수 div_path(s)를 작성하시오.\n",
    "    * 인자로 전달하는 문자열은 경로만 들어간다고 가정한다.\n",
    "    * 각 디렉토리와 파일을 구분하는 문자는 '/'로 가정한다.\n",
    "    * 반환하는 리스트의 첫번째 원소는 디렉토리이고 두번째 원소는 파일명이다.\n",
    "    * 다음과 같은 실행 및 출력 결과가 도출되어야 한다.\n",
    "        * div_path('/usr/local/bin/python')\n",
    "            * ['/usr/local/bin', 'python']\n",
    "        * div_path('/home/chulsoo/test.txt')\n",
    "            * ['/home/chulsoo', 'test.txt']\n",
    "    * [참고] 리스트(l) 내에 새로운 정수값 (예를 들어 10)을 넣는 방법은 l.append(10) 이다."
   ]
  },
  {
   "cell_type": "code",
   "execution_count": 45,
   "metadata": {
    "collapsed": true
   },
   "outputs": [],
   "source": [
    "def div_path(s):\n",
    "    s = s.split('/')\n",
    "    result = ['']\n",
    "    x = 1\n",
    "    while x < len(s)-1:\n",
    "        result[0] += '/' + s[x]\n",
    "        x = x+1\n",
    "    result.append(s[len(s)-1])\n",
    "    \n",
    "    return result"
   ]
  },
  {
   "cell_type": "code",
   "execution_count": 46,
   "metadata": {
    "scrolled": true
   },
   "outputs": [
    {
     "data": {
      "text/plain": [
       "['/usr/local/bin', 'python']"
      ]
     },
     "execution_count": 46,
     "metadata": {},
     "output_type": "execute_result"
    }
   ],
   "source": [
    "div_path('/usr/local/bin/python')"
   ]
  },
  {
   "cell_type": "markdown",
   "metadata": {},
   "source": [
    "split('/')을 통해 /를 기준으로 문자열을 분할하고, 파일명인 마지막 리스트를 제외하고 나머지 리스트를 전부 합쳐 출력한다.\n",
    "\n",
    "result[0]은 문자열 합치기를 이용하고, 파일명은 append()를 이용하여 리스트에 추가한다."
   ]
  },
  {
   "cell_type": "markdown",
   "metadata": {},
   "source": [
    "# 3번 문제\n",
    "* 두 개의 리스트를 인자로 받아서 그 두 개의 리스트에 대한 '합집합'을 반환하는 함수 list_union(lista, listb)를 작성하시오.\n",
    "    * 인자로 전달하는 리스트 2 개에는 정수값만 들어간다고 가정하자.\n",
    "    * 함수 내에서 새로운 리스트를 만들어 그 리스트 내에 인자로 받은 두 리스트의 모든 원소를 넣어 반환한다.\n",
    "    * 반환하는 리스트에는 절대로 중복된 원소가 들어 있으면 안된다 (집합의 조건).\n",
    "    * 반환하는 리스트는 정렬이 되어 있어야 한다.\n",
    "    * 다음과 같은 실행 및 출력 결과가 도출되어야 한다.\n",
    "        * list_union([1, 2, 3], [1, 2, 4])\n",
    "            * [1, 2, 3, 4]\n",
    "        * list_union([-10, -5, 0, -1], [100, 9, 0, 9])\n",
    "            * [-10, -5, -1, 0, 9, 100]\n",
    "        * list_union([0, 1, 2], [0, 1, 2])\n",
    "            * [0, 1, 2]\n",
    "    * [참고] 리스트(l) 내에 새로운 정수값 (예를 들어 10)을 넣는 방법은 l.append(10) 이다.\n",
    "    * [참고] 임의의 정수값 (x)이 리스트 (l) 내에 존재하는지 판단하는 방법은 x in l 이다."
   ]
  },
  {
   "cell_type": "code",
   "execution_count": 41,
   "metadata": {
    "collapsed": true
   },
   "outputs": [],
   "source": [
    "def list_union(lista, listb):\n",
    "    result = []\n",
    "    x = 0\n",
    "    while x < len(lista):\n",
    "        result.append(lista[x])\n",
    "        x = x + 1\n",
    "    y = 0\n",
    "    while y < len(listb):\n",
    "        result.append(listb[y])\n",
    "        y = y + 1\n",
    "    x = 0\n",
    "    while x < len(result):\n",
    "        if (result.count(result[x]) >= 2):\n",
    "            result.remove(result[x])\n",
    "        else:\n",
    "            x = x + 1\n",
    "    result.sort()\n",
    "    return result"
   ]
  },
  {
   "cell_type": "code",
   "execution_count": 42,
   "metadata": {},
   "outputs": [
    {
     "data": {
      "text/plain": [
       "[-10, -5, -1, 0, 9, 100]"
      ]
     },
     "execution_count": 42,
     "metadata": {},
     "output_type": "execute_result"
    }
   ],
   "source": [
    "list_union([-10, -5, 0, -1], [100, 9, 0, 9])"
   ]
  },
  {
   "cell_type": "markdown",
   "metadata": {},
   "source": [
    "lista와 listb의 값을 전부 차례대로 result 리스트에 추가한 후, 0번 리스트부터 순서대로 중복 검사를 수행한다.\n",
    "\n",
    "list.count를 이용하면 리스트 안에 x번째 리스트와 같은 값이 몇 개 있는지 알 수 있으므로, count의 값이 2개 이상이면 중복된 값이 있다고 판단할 수 있다.\n",
    "\n",
    "중복된 값이 있으면 현재 x번째 리스트를 삭제하고, 중복된 값이 없으면 x를 증가시켜 다음 리스트로 넘어간다. 이 때, 리스트 삭제 후 x값을 증가시키지 않는 이유는 x번째 리스트를 삭제하면서 x+1번째 리스트가 x번째 리스트가 되기 때문이다.\n",
    "\n",
    "모든 중복된 숫자를 삭제하고 난 후엔, list.sort를 이용하여 정렬한다."
   ]
  },
  {
   "cell_type": "markdown",
   "metadata": {},
   "source": [
    "# 4번 문제\n",
    "* [ACM-ICPC 문제 1110번]\n",
    "    * 더하기 사이클\n",
    "    \n",
    "    https://www.acmicpc.net/problem/1110"
   ]
  },
  {
   "cell_type": "code",
   "execution_count": 30,
   "metadata": {
    "scrolled": true
   },
   "outputs": [
    {
     "name": "stdout",
     "output_type": "stream",
     "text": [
      "26\n",
      "4\n"
     ]
    }
   ],
   "source": [
    "N = input()\n",
    "result = 0\n",
    "count = 0\n",
    "\n",
    "if (int(N) < 10):\n",
    "    N = '0' + N\n",
    "\n",
    "temp1 = N\n",
    "\n",
    "while (result != N):\n",
    "    count = count + 1\n",
    "\n",
    "    temp2 = int(temp1[0]) + int(temp1[1])\n",
    "    temp2 = str(temp2)\n",
    "\n",
    "    if(int(temp2) < 10):\n",
    "        temp2 = '0' + temp2\n",
    "        \n",
    "    temp1 = temp1[1] + temp2[1]\n",
    "    \n",
    "    result = temp1\n",
    "\n",
    "print (count)"
   ]
  },
  {
   "cell_type": "markdown",
   "metadata": {},
   "source": [
    "![1110](image/1110.png)"
   ]
  },
  {
   "cell_type": "markdown",
   "metadata": {},
   "source": [
    "N을 input()으로 받아와, 10 미만이면 앞자리에 0을 붙인 문자열을 만든다.\n",
    "\n",
    "결과값이 N과 같아질때까지 루프를 수행하며, 계산을 위해 temp1과 temp2라는 변수를 만들었다.\n",
    "\n",
    "temp1은 이전 temp1과 temp2의 마지막 자리수를 합친 값으로 결정되고, temp2는 각각의 자리수를 더한 값이다.\n",
    "\n",
    "temp2가 10미만일 경우에도 앞자리에 0을 붙여 계산한다.\n",
    "\n",
    "result가 N과 같아지면 루프가 종료되고, 계산된 count가 출력된다."
   ]
  },
  {
   "cell_type": "markdown",
   "metadata": {},
   "source": [
    "# 5번 문제\n",
    "* [Incremental Project] 웹 URL로 지정된 웹페이지를 문자열로 가져와 1) 모든 HTML 태그를 제외한 순수 텍스트 문자열만을 걸러내고, 2) 그 순수 텍스트 문자열 안에 존재하는 단어가 총 몇개인지 출력하는 프로그램을 작성하시오.\n",
    "\n",
    "    * HTML 태그는 다음 조건을 가지는 것이다.\n",
    "\n",
    "        * < 로 시작하여 >로 끝난다.\n",
    "        * 예를 들어, 아래와 같은 HTML 내용 내에 한 줄이 있다고 가정하자.\n",
    "            \n",
    "            `<label for=\"keep_signed\">로그인 유지</label>`           \n",
    "            \n",
    "        * 위 소스에서 HTML 태그를 제외한 순수 텍스트 문자열은 아래와 같다.\n",
    "        \n",
    "            로그인 유지\n",
    "            \n",
    "        * 한편, 아래와 같은 HTML 한 줄이 있다고 가정하자.\n",
    "        \n",
    "            `<link rel=\"stylesheet\" href=\"/common/css/xe.min.css?20150910092654\" />`\n",
    "                     \n",
    "        * 위 소스는 HTML 태그로만 구성된 것이며 걸러낼 수 있는 순수 텍스 문자열은 존재하지 않는다.\n",
    "    * 단어를 나누는 기준은 오로지 공백문자 (whitespace)이다.\n",
    "        * 즉, 위 순수 텍스트 문자열인 \"로그인 유지\"에서 분리한 단어는 \"로그인\"과 \"유지\"이다.\n",
    "    * 중복을 고려하지 않고 무조건 모든 단어의 개수를 세어서 출력한다.\n",
    "    * 본 숙제를 위하여 HTML 파싱과 관련된 모듈 (예. BeautifulSoup) 사용 금지\n",
    "    * 다음은 URL로 지정된 웹페이지를 특정 문자열로 가져오는 코드이다.\n",
    "        * 즉, 숙제 코드는 아래 코드로 부터 시작해야 한다."
   ]
  },
  {
   "cell_type": "code",
   "execution_count": 1,
   "metadata": {
    "collapsed": true
   },
   "outputs": [],
   "source": [
    "from urllib import request \n",
    " \n",
    "url = 'http://cse.koreatech.ac.kr'\n",
    "f = request.urlopen(url)\n",
    "source_bytes = f.read()\n",
    "source = source_bytes.decode('utf-8')"
   ]
  },
  {
   "cell_type": "code",
   "execution_count": 2,
   "metadata": {
    "scrolled": false
   },
   "outputs": [
    {
     "name": "stdout",
     "output_type": "stream",
     "text": [
      "단어의 개수 :  283\n"
     ]
    }
   ],
   "source": [
    "# \\n, \\t 제거\n",
    "temp = source.replace('\\n', '')\n",
    "temp = temp.replace('\\t', '')\n",
    "temp = temp.replace('>', '>$')\n",
    "temp = temp.split('<')\n",
    "result = []\n",
    "\n",
    "\n",
    "x = 0\n",
    "count = 0\n",
    "\n",
    "while x < len(temp):\n",
    "    temp[x] = temp[x].strip()\n",
    "    if(temp[x].find('$') != -1):\n",
    "        temp2 = temp[x].split('$')\n",
    "        y = 0\n",
    "        while y < len(temp2):\n",
    "            temp2[y].strip()\n",
    "            if((temp2[y].find('>') == -1) and (temp2[y] != '')):\n",
    "                result.append(temp2[y])\n",
    "            y = y + 1\n",
    "    x = x + 1\n",
    "\n",
    "\n",
    "result = ' '.join(result)\n",
    "result = result.split(' ')\n",
    "\n",
    "x = 0\n",
    "\n",
    "while x < len(result):\n",
    "    if(result[x].isalpha()):    #특수문자 및 숫자 포함된 문자열은 count 하지 않음.\n",
    "        count = count + 1\n",
    "    x = x + 1\n",
    "\n",
    "print(\"단어의 개수 : \", count)"
   ]
  },
  {
   "cell_type": "markdown",
   "metadata": {},
   "source": [
    "먼저 \\n과 \\t를 제거하고, >를 `>$`로 교체한다.(`$`가 html에서 쓰이지 않기 때문에 나중에 split을 위해 임의로 붙여준 것)\n",
    "\n",
    "교체가 모두 끝났으면 <를 기준으로 split하고, temp를 기준으로 판단한다.\n",
    "\n",
    "temp의 x번째 리스트 문자열에 좌우공백을 먼저 제거한 후, temp[x]에 >가 있으면 html태그로 보고 `$`를 기준으로 split하여 temp2에 임시리스트를 만든다.\n",
    "\n",
    "temp2[y]에 >가 없고, 빈 문자열이 아니면 result 리스트에 추가한다.\n",
    "\n",
    "result 리스트 각각을 중간에 공백을 넣어 문자열로 이어붙였다가, 다시 공백을 기준으로 split 한다.\n",
    "\n",
    "마지막으로 문자열로만 이루어진 것을 구분하기 위하여 isalpha를 사용하여 count한다."
   ]
  },
  {
   "cell_type": "markdown",
   "metadata": {},
   "source": [
    " "
   ]
  },
  {
   "cell_type": "markdown",
   "metadata": {},
   "source": [
    "마지막 문제에서 isalpha가 한글까지 적용되는 걸 몰라서 조금 헤맸습니다. 인터넷을 찾아보니 한글에도 적용이 된다 해서 무사히 끝낼 수 있었습니다.\n",
    "\n",
    "변수를 선언할 때, 타입을 정하지 않고 선언하다보니 리스트와 문자열의 변환이 자유롭게 되서 상대적으로 편한 것 같습니다. 편한 것과 별개로, 변수 이름을 잘 정해서 선언하지 않으면 중간에 제대로 따라가지 못해서 코드가 꼬일 수도 있겠다는 생각도 들었습니다."
   ]
  },
  {
   "cell_type": "code",
   "execution_count": null,
   "metadata": {
    "collapsed": true
   },
   "outputs": [],
   "source": []
  }
 ],
 "metadata": {
  "kernelspec": {
   "display_name": "Python 3",
   "language": "python",
   "name": "python3"
  },
  "language_info": {
   "codemirror_mode": {
    "name": "ipython",
    "version": 3
   },
   "file_extension": ".py",
   "mimetype": "text/x-python",
   "name": "python",
   "nbconvert_exporter": "python",
   "pygments_lexer": "ipython3",
   "version": "3.6.1"
  }
 },
 "nbformat": 4,
 "nbformat_minor": 2
}
