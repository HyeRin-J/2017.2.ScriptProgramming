{
 "cells": [
  {
   "cell_type": "markdown",
   "metadata": {},
   "source": [
    "# Assignment2"
   ]
  },
  {
   "cell_type": "markdown",
   "metadata": {},
   "source": [
    "## 1번 문제\n",
    "* 다음 6 개의 Expression에 대해 Evaluation 결과 값을 출력하고, 해당 결과가 나온 이유에 대해 설명하시오\n",
    "    * 1 and 2 and 3 and 4\n",
    "    * 1 or 2 or 3 or 4\n",
    "    * 1 and 2 or 3 and 4\n",
    "    * (1 and 2) or (3 and 4)\n",
    "    * 1 or 2 and 3 or 4\n",
    "    * (1 or 2) and (3 or 4)"
   ]
  },
  {
   "cell_type": "code",
   "execution_count": 7,
   "metadata": {},
   "outputs": [
    {
     "name": "stdout",
     "output_type": "stream",
     "text": [
      "4\n",
      "1\n",
      "2\n",
      "2\n",
      "1\n",
      "3\n"
     ]
    }
   ],
   "source": [
    "print (eval('1 and 2 and 3 and 4'))\n",
    "print (eval('1 or 2 or 3 or 4'))\n",
    "print (eval('1 and 2 or 3 and 4'))\n",
    "print (eval('(1 and 2) or (3 and 4)'))\n",
    "print (eval('1 or 2 and 3 or 4'))\n",
    "print (eval('(1 or 2) and (3 or 4)'))"
   ]
  },
  {
   "cell_type": "markdown",
   "metadata": {},
   "source": []
  },
  {
   "cell_type": "markdown",
   "metadata": {},
   "source": [
    "# 2번 문제\n",
    "* 경로에 해당하는 문자열 1개를 입력 받아 그 안에 디렉토리 경로명과 파일명을 분리하여 리스트로 반환하는 함수 div_path(s)를 작성하시오.\n",
    "    * 인자로 전달하는 문자열은 경로만 들어간다고 가정한다.\n",
    "    * 각 디렉토리와 파일을 구분하는 문자는 '/'로 가정한다.\n",
    "    * 반환하는 리스트의 첫번째 원소는 디렉토리이고 두번째 원소는 파일명이다.\n",
    "    * 다음과 같은 실행 및 출력 결과가 도출되어야 한다.\n",
    "        * div_path('/usr/local/bin/python')\n",
    "            * ['/usr/local/bin', 'python']\n",
    "        * div_path('/home/chulsoo/test.txt')\n",
    "            * ['/home/chulsoo', 'test.txt']\n",
    "    * [참고] 리스트(l) 내에 새로운 정수값 (예를 들어 10)을 넣는 방법은 l.append(10) 이다."
   ]
  },
  {
   "cell_type": "code",
   "execution_count": 108,
   "metadata": {
    "collapsed": true
   },
   "outputs": [],
   "source": [
    "def div_path(s):\n",
    "    s = s.split('/')\n",
    "    result = ['']\n",
    "    x = 1\n",
    "    while x < len(s)-1:\n",
    "        if(x >= 1):\n",
    "            result[0] += '/' + s[x]\n",
    "        x = x+1;\n",
    "    result.append(s[len(s)-1])\n",
    "    \n",
    "    return result"
   ]
  },
  {
   "cell_type": "code",
   "execution_count": 109,
   "metadata": {
    "scrolled": true
   },
   "outputs": [
    {
     "data": {
      "text/plain": [
       "['/usr/local/bin', 'python']"
      ]
     },
     "execution_count": 109,
     "metadata": {},
     "output_type": "execute_result"
    }
   ],
   "source": [
    "div_path('/usr/local/bin/python')"
   ]
  },
  {
   "cell_type": "markdown",
   "metadata": {},
   "source": []
  },
  {
   "cell_type": "markdown",
   "metadata": {},
   "source": [
    "# 3번 문제\n",
    "* 두 개의 리스트를 인자로 받아서 그 두 개의 리스트에 대한 '합집합'을 반환하는 함수 list_union(lista, listb)를 작성하시오.\n",
    "    * 인자로 전달하는 리스트 2 개에는 정수값만 들어간다고 가정하자.\n",
    "    * 함수 내에서 새로운 리스트를 만들어 그 리스트 내에 인자로 받은 두 리스트의 모든 원소를 넣어 반환한다.\n",
    "    * 반환하는 리스트에는 절대로 중복된 원소가 들어 있으면 안된다 (집합의 조건).\n",
    "    * 반환하는 리스트는 정렬이 되어 있어야 한다.\n",
    "    * 다음과 같은 실행 및 출력 결과가 도출되어야 한다.\n",
    "        * list_union([1, 2, 3], [1, 2, 4])\n",
    "            * [1, 2, 3, 4]\n",
    "        * list_union([-10, -5, 0, -1], [100, 9, 0, 9])\n",
    "            * [-10, -5, -1, 0, 9, 100]\n",
    "        * list_union([0, 1, 2], [0, 1, 2])\n",
    "            * [0, 1, 2]\n",
    "    * [참고] 리스트(l) 내에 새로운 정수값 (예를 들어 10)을 넣는 방법은 l.append(10) 이다.\n",
    "    * [참고] 임의의 정수값 (x)이 리스트 (l) 내에 존재하는지 판단하는 방법은 x in l 이다."
   ]
  },
  {
   "cell_type": "code",
   "execution_count": 171,
   "metadata": {
    "collapsed": true
   },
   "outputs": [],
   "source": [
    "def list_union(lista, listb):\n",
    "    result = []\n",
    "    x = 0\n",
    "    while x < len(lista):\n",
    "        result.append(lista[x])\n",
    "        x = x + 1\n",
    "    y = 0\n",
    "    while y < len(listb):\n",
    "        result.append(listb[y])\n",
    "        y = y + 1\n",
    "    x = 0\n",
    "    y = 0\n",
    "    while x < len(result):     \n",
    "        if (result.count(result[y]) >= 2):\n",
    "            result.remove(result[y])\n",
    "        else:\n",
    "            y = y + 1\n",
    "        x = x+1\n",
    "    result.sort()\n",
    "    return result"
   ]
  },
  {
   "cell_type": "code",
   "execution_count": 174,
   "metadata": {},
   "outputs": [
    {
     "data": {
      "text/plain": [
       "[-10, -5, -1, 0, 9, 100]"
      ]
     },
     "execution_count": 174,
     "metadata": {},
     "output_type": "execute_result"
    }
   ],
   "source": [
    "list_union([-10, -5, 0, -1], [100, 9, 0, 9])"
   ]
  },
  {
   "cell_type": "markdown",
   "metadata": {},
   "source": []
  },
  {
   "cell_type": "markdown",
   "metadata": {},
   "source": [
    "# 4번 문제\n",
    "* [ACM-ICPC 문제 1110번]\n",
    "    * 더하기 사이클\n",
    "    \n",
    "    https://www.acmicpc.net/problem/1110"
   ]
  },
  {
   "cell_type": "code",
   "execution_count": 20,
   "metadata": {
    "scrolled": true
   },
   "outputs": [
    {
     "name": "stdout",
     "output_type": "stream",
     "text": [
      "4\n",
      "20\n"
     ]
    }
   ],
   "source": [
    "N = input()\n",
    "result = 0\n",
    "count = 0\n",
    "\n",
    "if (int(N) < 10):\n",
    "    N = '0' + N\n",
    "\n",
    "temp1 = N\n",
    "\n",
    "while (result != N):\n",
    "    count = count + 1\n",
    "\n",
    "    temp2 = int(temp1[0]) + int(temp1[1])\n",
    "    temp2 = str(temp2)\n",
    "\n",
    "    if(int(temp2) < 10):\n",
    "        temp2 = '0' + temp2\n",
    "        \n",
    "    temp1 = temp1[1] + temp2[1]\n",
    "    \n",
    "    result = temp1\n",
    "\n",
    "print (count)"
   ]
  },
  {
   "cell_type": "markdown",
   "metadata": {},
   "source": [
    "![1110](image/1110.png)"
   ]
  },
  {
   "cell_type": "markdown",
   "metadata": {},
   "source": []
  },
  {
   "cell_type": "markdown",
   "metadata": {},
   "source": [
    "# 5번 문제\n",
    "* [Incremental Project] 웹 URL로 지정된 웹페이지를 문자열로 가져와 1) 모든 HTML 태그를 제외한 순수 텍스트 문자열만을 걸러내고, 2) 그 순수 텍스트 문자열 안에 존재하는 단어가 총 몇개인지 출력하는 프로그램을 작성하시오.\n",
    "\n",
    "    * HTML 태그는 다음 조건을 가지는 것이다.\n",
    "\n",
    "        * < 로 시작하여 >로 끝난다.\n",
    "        * 예를 들어, 아래와 같은 HTML 내용 내에 한 줄이 있다고 가정하자.\n",
    "            \n",
    "            `<label for=\"keep_signed\">로그인 유지</label>`           \n",
    "            \n",
    "        * 위 소스에서 HTML 태그를 제외한 순수 텍스트 문자열은 아래와 같다.\n",
    "        \n",
    "            로그인 유지\n",
    "            \n",
    "        * 한편, 아래와 같은 HTML 한 줄이 있다고 가정하자.\n",
    "        \n",
    "            `<link rel=\"stylesheet\" href=\"/common/css/xe.min.css?20150910092654\" />`\n",
    "                     \n",
    "        * 위 소스는 HTML 태그로만 구성된 것이며 걸러낼 수 있는 순수 텍스 문자열은 존재하지 않는다.\n",
    "    * 단어를 나누는 기준은 오로지 공백문자 (whitespace)이다.\n",
    "        * 즉, 위 순수 텍스트 문자열인 \"로그인 유지\"에서 분리한 단어는 \"로그인\"과 \"유지\"이다.\n",
    "    * 중복을 고려하지 않고 무조건 모든 단어의 개수를 세어서 출력한다.\n",
    "    * 본 숙제를 위하여 HTML 파싱과 관련된 모듈 (예. BeautifulSoup) 사용 금지\n",
    "    * 다음은 URL로 지정된 웹페이지를 특정 문자열로 가져오는 코드이다.\n",
    "        * 즉, 숙제 코드는 아래 코드로 부터 시작해야 한다."
   ]
  },
  {
   "cell_type": "code",
   "execution_count": 203,
   "metadata": {
    "collapsed": true
   },
   "outputs": [],
   "source": [
    "from urllib import request \n",
    " \n",
    "url = 'http://cse.koreatech.ac.kr'\n",
    "f = request.urlopen(url)\n",
    "source_bytes = f.read()\n",
    "source = source_bytes.decode('utf-8')"
   ]
  },
  {
   "cell_type": "code",
   "execution_count": 204,
   "metadata": {
    "scrolled": false
   },
   "outputs": [
    {
     "name": "stdout",
     "output_type": "stream",
     "text": [
      "단어의 개수 :  471\n"
     ]
    }
   ],
   "source": [
    "temp = source.replace('\\n', '')\n",
    "temp = temp.replace('\\t', '')\n",
    "temp = temp.replace('>', '>$')\n",
    "temp = temp.split('<')\n",
    "result = []\n",
    "\n",
    "x = 0\n",
    "\n",
    "while x < len(temp):\n",
    "    if(temp[x].find('$') != -1):\n",
    "        temp2 = temp[x].split('$')\n",
    "        y = 0\n",
    "        while y < len(temp2):\n",
    "            if((temp2[y].find('>') == -1) and (temp2[y] != '')):\n",
    "                result.append(temp2[y])\n",
    "            y = y + 1\n",
    "    x = x + 1\n",
    "\n",
    "result = ' '.join(result)\n",
    "result = result.split(' ')\n",
    "\n",
    "x = 0\n",
    "count = 0\n",
    "popcount = []\n",
    "\n",
    "while x < len(result):\n",
    "    if(result[x] != ''):\n",
    "        count = count + 1\n",
    "    x = x + 1\n",
    "\n",
    "print(\"단어의 개수 : \", count)"
   ]
  },
  {
   "cell_type": "markdown",
   "metadata": {},
   "source": []
  }
 ],
 "metadata": {
  "kernelspec": {
   "display_name": "Python 3",
   "language": "python",
   "name": "python3"
  },
  "language_info": {
   "codemirror_mode": {
    "name": "ipython",
    "version": 3
   },
   "file_extension": ".py",
   "mimetype": "text/x-python",
   "name": "python",
   "nbconvert_exporter": "python",
   "pygments_lexer": "ipython3",
   "version": "3.6.1"
  }
 },
 "nbformat": 4,
 "nbformat_minor": 2
}
