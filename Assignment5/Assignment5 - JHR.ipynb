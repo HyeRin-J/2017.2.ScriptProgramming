{
 "cells": [
  {
   "cell_type": "markdown",
   "metadata": {
    "collapsed": true
   },
   "source": [
    "# Assignment 5"
   ]
  },
  {
   "cell_type": "markdown",
   "metadata": {},
   "source": [
    "## 1번 문제\n",
    "\n",
    "클래스와 모듈의 공통점과 차이점에 대해 설명하시오."
   ]
  },
  {
   "cell_type": "markdown",
   "metadata": {},
   "source": [
    "클래스와 모듈의 공통점은 함수나 변수 등을 모아놓은 집합체라는 것이다.  \n",
    "차이점은 모듈은 대부분 파일 단위로 구성되며, 파일 안에 클래스를 포함할 수 있다. 또한 모듈은 인스턴스를 생성할 수 없고, 클래스는 인스턴스를 생성할 수 있다."
   ]
  },
  {
   "cell_type": "markdown",
   "metadata": {},
   "source": [
    "## 2번 문제\n",
    "\n",
    "다형성에 대해 설명하고 다형성을 보여주는 자신만의 파이썬 코드 예제를 제시하시오."
   ]
  },
  {
   "cell_type": "code",
   "execution_count": 24,
   "metadata": {},
   "outputs": [
    {
     "name": "stdout",
     "output_type": "stream",
     "text": [
      "Integer\n",
      "String\n",
      "String\n"
     ]
    }
   ],
   "source": [
    "class myclass():\n",
    "    def __init__(self, a):\n",
    "        self.a = a\n",
    "        \n",
    "    def mytype(self):\n",
    "        print()\n",
    "\n",
    "class Int(myclass):\n",
    "    def mytype(self):\n",
    "        return str('Integer')\n",
    "\n",
    "class Str(myclass):\n",
    "    def mytype(self):\n",
    "        return str('String')\n",
    "        \n",
    "for each in (Int(1), Str('abcd'), Str(123)):\n",
    "    print (each.mytype())"
   ]
  },
  {
   "cell_type": "markdown",
   "metadata": {},
   "source": [
    "같은 슈퍼 클래스를 상속받는 다른 서브 클래스들의 인스턴스가 같은 멤버 함수 호출에 대해 각각 다르게 반응하도록 하는 기능을 다형성이라고 한다. 예를 들면 연산자 +를 들 수 있는데, 숫자의 덧셈 연산도 할 수 있지만 문자열끼리의 연결 기능도 수행한다.  \n",
    "\n",
    "Int 클래스는 int형으로, Str 클래스는 str형 클래스를 생성하는 것으로 가정하고 클래스를 만든다. mytype 메소드는 생성된 서브 클래스의 타입을 임의로 출력한다."
   ]
  },
  {
   "cell_type": "markdown",
   "metadata": {},
   "source": [
    "## 3번문제\n",
    "\n",
    "다음 각 요구사항 모두를 만족시키는 Counter 클래스를 코딩하시오 (정답을 각 요구사항별로 입력할 필요 없이 3번 문제에 대해 1개의 클래스 정의 코드를 제시하면 된다.)\n",
    "\n",
    "    * 요구사항 1. 생성자에 count 값과 step 값을 인자로 받을 수 있다.\n",
    "\n",
    "        * count: Counter 인스턴스가 지니는 초기 정수 값\n",
    "        * step: Counter 인스턴스의 count가 증가되는 증분 (defalt 값: 1)\n",
    "            \n",
    "            >>> c = Counter(10) \n",
    "            >>> d = Counter(10, 2) \n",
    "            \n",
    "    * 요구사항 2. 다음과 같이 Counter의 인스턴스를 출력을 해주는 __str__() 메소드를 Counter 클래스 내에 구현하시오.\n",
    "\n",
    "            >>> print(c) \n",
    "            [Count (step: 1)] 10 \n",
    "            >>> print(d) \n",
    "            [Count (step: 2)] 10 \n",
    "\n",
    "    * 요구사항 3. 다음과 같이 step에 주어진 증분만큼 count를 증가시키는 incr() 메소드를 Counter 클래스 내에 구현하시오.\n",
    "\n",
    "        >>> c.incr() \n",
    "        >>> d.incr() \n",
    "        >>> print(c) \n",
    "        [Count (step: 1)] 11 \n",
    "        >>> print(d) \n",
    "        [Count (step: 2)] 12\n",
    "        \n",
    "    * 요구사항 4. Counter 클래스 내에 관련 메소드를 추가하여 인스턴스 객체를 직접 호출(call)할 수 있도록 하시오. 인스턴스 객체를 직접 호출했을 때에 내부적으로 incr() 메소드를 호출하는 방법으로 구현하시오.\n",
    "\n",
    "        >>> c() \n",
    "        >>> d() \n",
    "        >>> print(c) \n",
    "        [Count (step: 1)] 12 \n",
    "        >>> print(d) \n",
    "        [Count (step: 2)] 14 \n",
    "\n",
    "    * 요구사항 5. 다음과 같은 두 개의 산술 연산 (+, -)이 수행될 수 있도록 Counter 클래스 내에 관련 메소드를 추가하시오.\n",
    "\n",
    "        >>> c = c + 5 \n",
    "        >>> d = d - 5 \n",
    "        >>> print(c) \n",
    "        [Count (step: 1)] 17 \n",
    "        >>> print(d) \n",
    "        [Count (step: 2)] 9 \n",
    "\n",
    "    * 요구사항 6. 다음과 같은 관계연산 (>, <, ==)이 수행될 수 있도록 Counter 클래스 내에 관련 메소드를 추가하시오.\n",
    "\n",
    "        >>> print(c) > 10 \n",
    "        True \n",
    "        >>> print(d) > 10 \n",
    "        False \n",
    "        >>> print(c) < 10 \n",
    "        False \n",
    "        >>> print(d) < 10 \n",
    "        True \n",
    "        >>> print(c) == 17 \n",
    "        True \n",
    "        >>> print(d) != 9 \n",
    "        False "
   ]
  },
  {
   "cell_type": "code",
   "execution_count": 78,
   "metadata": {},
   "outputs": [
    {
     "name": "stdout",
     "output_type": "stream",
     "text": [
      "[Count (step : 1)] 10\n",
      "[Count (step : 2)] 10\n",
      "\n",
      "[Count (step : 1)] 11\n",
      "[Count (step : 2)] 12\n",
      "\n",
      "[Count (step : 1)] 12\n",
      "[Count (step : 2)] 14\n",
      "\n",
      "[Count (step : 1)] 17\n",
      "[Count (step : 2)] 9\n",
      "\n",
      "True\n",
      "False\n",
      "False\n",
      "True\n",
      "True\n",
      "False\n"
     ]
    }
   ],
   "source": [
    "class Counter():\n",
    "    def __init__(self, count, step = 1):\n",
    "        self.count = count\n",
    "        self.step = step\n",
    "    def __str__(self):\n",
    "        return str('[Count (step : ' + str(self.step) + ')] ' + str(self.count))\n",
    "    def incr(self):\n",
    "        self.count = self.count + self.step\n",
    "    def __call__(self):\n",
    "        self.incr()\n",
    "    def __add__(self, other):\n",
    "        return Counter(self.count + other, self.step)\n",
    "    def __sub__(self, other):\n",
    "        return Counter(self.count - other, self.step)\n",
    "    def __gt__(self, y):\n",
    "        return self.count > y\n",
    "    def __ge__(self, y):\n",
    "        return self.count >= y    \n",
    "    def __lt__(self, y):\n",
    "        return self.count < y    \n",
    "    def __le__(self, y):\n",
    "        return self.count <= y        \n",
    "    def __eq__(self, y):\n",
    "        return self.count == y\n",
    "    def __ne__(self, y):\n",
    "        return self.count != y\n",
    "    \n",
    "c = Counter(10)\n",
    "d = Counter(10, 2)\n",
    "\n",
    "print(c)\n",
    "print(d)\n",
    "print()\n",
    "\n",
    "c.incr()\n",
    "d.incr()\n",
    "print(c)\n",
    "print(d)\n",
    "print()\n",
    "\n",
    "c()\n",
    "d()\n",
    "print(c)\n",
    "print(d)\n",
    "print()\n",
    "\n",
    "c = c + 5\n",
    "d = d - 5\n",
    "print(c)\n",
    "print(d)\n",
    "print()\n",
    "\n",
    "print(c > 10)\n",
    "print(d > 10)\n",
    "print(c < 10)\n",
    "print(d < 10)\n",
    "print(c == 17)\n",
    "print(d != 9)\n"
   ]
  },
  {
   "cell_type": "markdown",
   "metadata": {},
   "source": []
  },
  {
   "cell_type": "markdown",
   "metadata": {},
   "source": [
    "## 4번 문제\n",
    "\n",
    "다음은 내장 자료형 list를 서브클래싱하여 만든 MySet 클래스 정의 내용이다. 다음 클래스 정의에서 \\__init\\__(), \\__str\\__(), elimicate_duplicate()의 세 개의 메소드 코드 내용을 자신이 다른 사람에게 가르친다고 생각하며 설명해보시오.\n",
    "\n",
    "    * MySet은 집합(Set) 자료형을 정의하려는 의도하에 만들어진 클래스이다."
   ]
  },
  {
   "cell_type": "code",
   "execution_count": 59,
   "metadata": {},
   "outputs": [
    {
     "name": "stdout",
     "output_type": "stream",
     "text": [
      "MySet: {1 ,2 ,3}\n"
     ]
    }
   ],
   "source": [
    "class MySet(list):\n",
    "    def __init__(self, l):\n",
    "        for e in l:\n",
    "            self.append(e)\n",
    "        MySet.eliminate_duplicate(self)\n",
    "    \n",
    "    def __str__(self):\n",
    "        result = \"MySet: {\"\n",
    "        for e in self:\n",
    "            result = result + str(e) + \", \"\n",
    "        result = result[0:len(result)-2] + \"}\"\n",
    "        return result\n",
    "\n",
    "    @staticmethod    \n",
    "    def eliminate_duplicate(l):\n",
    "        s = []\n",
    "        for e in l:\n",
    "            if e not in s:\n",
    "                s.append(e)\n",
    "        l[:] = []\n",
    "        for e in s:\n",
    "            l.append(e)\n",
    "\n",
    "    \n",
    "if __name__ == \"__main__\":\n",
    "    s = MySet([1, 2, 2, 3])\n",
    "    print(s)\n",
    "    t = MySet([2, 3, 4, 5, 6, 7, 8, 8, 8, 8, 8, 9])"
   ]
  },
  {
   "cell_type": "markdown",
   "metadata": {},
   "source": []
  },
  {
   "cell_type": "markdown",
   "metadata": {},
   "source": [
    "## 5번 문제\n",
    "\n",
    "4번 문제에 정의된 MySet 클래스에 메소드를 추가하여 다음 각 요구사항 모두를 만족시키는 코딩을 제시하시오\n",
    "\n",
    "    * 정답을 각 요구사항별로 입력할 필요 없이 요구사항 3개 전체에 대해 1개의 MySet 클래스 정의 코드를 제시하고 주석등으로 해당 코드를 설명한다.\n",
    "    * 요구사항 1. | 연산으로 두 집합의 합집합을 반환한다.\n",
    "\n",
    "        >>> u = s | t \n",
    "        >>> print(u) \n",
    "        MySet: {1, 2, 3, 4, 5, 6, 7, 8, 9} \n",
    "\n",
    "    * 요구사항 2. & 연산으로 두 집합의 교집합을 반환한다.\n",
    "\n",
    "        >>> u = s & t \n",
    "        >>> print(u) \n",
    "        MySet: {2, 3} \n",
    "\n",
    "    * 요구사항 3. - 연산으로 두 집합의 차집합을 반환한다.\n",
    "\n",
    "        >>> s = MySet([1, 2, 3]) \n",
    "        >>> t = MySet([3, 4, 5]) \n",
    "        >>> u = s - t \n",
    "        >>> print(u) \n",
    "        MySet: {1, 2} "
   ]
  },
  {
   "cell_type": "code",
   "execution_count": 69,
   "metadata": {},
   "outputs": [
    {
     "name": "stdout",
     "output_type": "stream",
     "text": [
      "MySet: {1, 2, 3, 4, 5, 6, 7, 8, 9}\n",
      "MySet: {2, 3}\n",
      "MySet: {1, 2}\n"
     ]
    }
   ],
   "source": [
    "class MySet(list):\n",
    "    def __init__(self, l):\n",
    "        for e in l:\n",
    "            self.append(e)\n",
    "        MySet.eliminate_duplicate(self)\n",
    "    \n",
    "    def __str__(self):\n",
    "        result = \"MySet: {\"\n",
    "        for e in self:\n",
    "            result = result + str(e) + \", \"\n",
    "        result = result[0:len(result)-2] + \"}\"\n",
    "        return result\n",
    "\n",
    "    @staticmethod    \n",
    "    def eliminate_duplicate(l):\n",
    "        s = []\n",
    "        for e in l:\n",
    "            if e not in s:\n",
    "                s.append(e)\n",
    "        l[:] = []\n",
    "        for e in s:\n",
    "            l.append(e)\n",
    "\n",
    "    def __or__(self, other):\n",
    "        for each in other:\n",
    "            if (each not in self):\n",
    "                self.append(each)\n",
    "        self.sort()\n",
    "        return MySet(self)\n",
    "    \n",
    "    def __and__(self, other):\n",
    "        result = []\n",
    "        for each in other:\n",
    "            if (each in self):\n",
    "                if (each not in result):\n",
    "                    result.append(each)\n",
    "        self.sort()\n",
    "        return MySet(result)\n",
    "    \n",
    "    def __sub__(self, other):\n",
    "        for each in other:\n",
    "            if (each in self):\n",
    "                self.remove(each)\n",
    "        self.sort()\n",
    "        return MySet(self)\n",
    "    \n",
    "s = MySet([1, 2, 2, 3])\n",
    "t = MySet([2, 3, 4, 5, 6, 7, 8, 8, 8, 8, 8, 9])\n",
    "    \n",
    "u = s | t\n",
    "print(u)\n",
    "\n",
    "s = MySet([1, 2, 2, 3])\n",
    "t = MySet([2, 3, 4, 5, 6, 7, 8, 8, 8, 8, 8, 9])\n",
    "\n",
    "u = s & t\n",
    "print(u)\n",
    "\n",
    "s = MySet([1, 2, 3]) \n",
    "t = MySet([3, 4, 5]) \n",
    "u = s - t\n",
    "print(u) "
   ]
  },
  {
   "cell_type": "markdown",
   "metadata": {},
   "source": []
  },
  {
   "cell_type": "markdown",
   "metadata": {},
   "source": [
    "## 6번 문제\n",
    "\n",
    "5번 문제에서 정의한 MySet 클래스에 대해 다음 예제를 수행하면 오류없이 올바르게 동작하는 것을 확인할 수 있다. 다음 예제 내에 있는 len(), bool() 내장함수와 in 키워드 사용 예제가 별다른 메소드 정의를 하지 않았는 데도 올바르게 수행되는 이유를 설명하시오.\n",
    "\n",
    "    >>> s = MySet([1, 2, 3, 4, 5, 6])\n",
    "    >>> print(len(s))\n",
    "    > 6\n",
    "    >>> print(bool(s))\n",
    "    > True\n",
    "    >>> print(2 in s)\n",
    "    > True"
   ]
  },
  {
   "cell_type": "code",
   "execution_count": 71,
   "metadata": {},
   "outputs": [
    {
     "name": "stdout",
     "output_type": "stream",
     "text": [
      "6\n",
      "True\n",
      "True\n"
     ]
    }
   ],
   "source": [
    "s = MySet([1, 2, 3, 4, 5, 6])\n",
    "print(len(s))\n",
    "print(bool(s))\n",
    "print(2 in s)"
   ]
  },
  {
   "cell_type": "markdown",
   "metadata": {},
   "source": []
  },
  {
   "cell_type": "markdown",
   "metadata": {},
   "source": [
    "## 7번 문제\n",
    "\n",
    "이전 Assignment 3 (Assignment 4가 아님)의 마지막 문제는 웹 URL로 지정된 웹페이지를 문자열로 가져와 모든 HTML 태그 및 CSS와 Javascript를 제외한 순수 텍스트를 얻어내고 그 안에 존재하는 단어를 추출하여 각 단어들에 대해 출현빈도를 사전형태({'world': 2, 'hello': 1, 'python': 1})로 저장하여 출력하는 것이었다. 이번에는 Assignment 3을 다시 확장/변형하여 다음과 같은 조건을 만족하도록 구현하시오.\n",
    "\n",
    "    * 1) 새로운 클래스 WebWordsFrequency를 정의하시오.\n",
    "        * 이전 Assignment 4에서 고려했던 pickle 모듈등은 전혀 고려하지 마시오.\n",
    "            * 즉, 하드디스크에 저장하고 다시 로드하는 기능은 본 숙제에는 배제하시오.\n",
    "        * Assignment 4에서 고려했던 영어 불용어 처리는 적용하시오.\n",
    "        * Assignment 4에서 처럼 국문 사이트가 아닌 영어 사이트만을 고려하여 아래 사항을 코딩하시오.\n",
    "    * 2) 생성자에 URL을 0개에서 임의의 개수를 넣을 수 있도록 생성자 인수를 가변인수로 정의하여 각각의 URL을 리스트 자료형에 유지하시오.\n",
    "    \n",
    "            >>> w1 = WebWordsFrequency('http://www.cnn.com', 'http://www.times.com', 'https://www.amazon.com') \n",
    "            >>> w2 = WebWordsFrequency('http://www.cnn.com', 'http://www.times.com') \n",
    "            >>> w3 = WebWordsFrequency() \n",
    "            \n",
    "    * 3) addUrl() 메소드를 구현하여 인스턴스를 생성한 이후에도 URL을 추가할 수 있도록 한다.\n",
    "\n",
    "        * 반드시 1개의 URL을 추가하도록 구현 (즉, 동시에 여러 개의 URL을 추가하는 것은 배제)\n",
    "        \n",
    "            >>> w1.addUrl('https://github.com')\n",
    "            >>> w3.addUrl('http://stackoverflow.com')\n",
    "            \n",
    "    * 4) removeUrl() 메소드를 구현하여 URL을 삭제할 수 있도록 한다.\n",
    "\n",
    "        * 반드시 1개의 URL을 삭제하도록 구현 (즉, 동시에 여러 개의 URL을 삭제하는 것은 배제)\n",
    "        \n",
    "            >>> w1.removeUrl('http://www.cnn.com')\n",
    "            >>> w2.removeUrl('http://stackoverflow.com')\n",
    "            \n",
    "    * 5) listUrls() 메소드를 구현하여 현재 등록된 모든 URL을 출력하는 기능을 추가\n",
    "    \n",
    "            >>> w1.listUrls()\n",
    "            http://www.times.com \n",
    "            https://www.amazon.com \n",
    "            https://github.com \n",
    "            \n",
    "    * 6) getWordsFrequency() 메소드를 구현하여 각 URL의 웹페이지들을 종합적으로 분석한 단어 출현 빈도 사전을 반환하시오.\n",
    "\n",
    "        * 만약 등록된 URL이 없다면 공백 사전을 반환\n",
    "            \n",
    "            >>> w1.getWordsFrequency() \n",
    "            {'hello': 8, 'site': 12, 'world': 2, 'science': 11, 'program': 1, 'python': 1}\n",
    "\n",
    "    * 7) getMaxFreqencyWords() 메소드를 구현하여 각 URL의 웹페이지들을 종합적으로 분석한 단어 출현 빈도 사전에서 가장 많이 출현한 단어 리스트를 반환하시오.\n",
    "\n",
    "            >>> w1.getMaxFreqencyWords() \n",
    "            site \n",
    "            \n",
    "        * 최다 출현 단어의 빈도수가 동일한 경우 모두 출력해주어야 함\n",
    "    \n",
    "            >>> w2.getMaxFreqencyWords() \n",
    "            site \n",
    "            science\n",
    "            \n",
    "        * 만약 등록된 URL이 없다면 None을 반환\n",
    "    * 8) 임의의 단어 1개를 파라미터로 받는 searchUrlByWord() 메소드를 구현하여 유사도가 높은 웹 사이트를 출력하시오.\n",
    "\n",
    "            >>> w1.searchUrlByWord(\"news\")\n",
    "            http://www.cnn.com \n",
    "            \n",
    "        * 파라미터로 받은 단어와 유사도가 동일한 URL이 여러 개이면 해당 URL을 모두 출력하시오."
   ]
  },
  {
   "cell_type": "code",
   "execution_count": 155,
   "metadata": {
    "collapsed": true
   },
   "outputs": [],
   "source": [
    "def PrintHtml(url):\n",
    "    f = request.urlopen(url)\n",
    "    source_bytes = f.read()\n",
    "    source = source_bytes.decode('utf-8')\n",
    "    f.close()\n",
    "    # \\n, \\t 제거\n",
    "    temp = source.replace('\\n', '')\n",
    "    temp = temp.replace('\\t', '')\n",
    "    temp = temp.replace('\\r', '')\n",
    "    temp = temp.replace('>', '>$')\n",
    "\n",
    "    while(temp.find('<script') != -1):\n",
    "        start =  temp.find('<script')\n",
    "        end = temp.find('/script>')\n",
    "        temp = temp[:start] + temp[end+8:]\n",
    "        \n",
    "    while(temp.find('<style') != -1):\n",
    "        start =  temp.find('<style')\n",
    "        end = temp.find('/style>')\n",
    "        temp = temp[:start] + temp[end+7:]\n",
    "\n",
    "    temp = temp.split('<')    \n",
    "    result = []\n",
    "    \n",
    "    x = 0\n",
    "    \n",
    "    while x < len(temp):\n",
    "        z = temp[x]\n",
    "        if(('src=' in z) or ('href=' in z)):\n",
    "            temp.remove(z)\n",
    "        else:\n",
    "            x = x + 1\n",
    "    x = 0\n",
    "\n",
    "    while x < len(temp):\n",
    "        temp[x] = temp[x].strip()\n",
    "        if(temp[x].find('$') != -1):\n",
    "            temp2 = temp[x].split('$')\n",
    "            y = 0\n",
    "            while y < len(temp2):\n",
    "                temp2[y].strip()\n",
    "                if((temp2[y].find('>') == -1) and (temp2[y] != '')):\n",
    "                    result.append(temp2[y])\n",
    "                y = y + 1\n",
    "        x = x + 1\n",
    "\n",
    "\n",
    "    result = ' '.join(result)\n",
    "    result = result.split(' ')\n",
    "\n",
    "    x = 0\n",
    "    import string\n",
    "    while x < len(result):\n",
    "        for z in string.punctuation:\n",
    "            result[x] = result[x].replace(z, '')            \n",
    "        x = x + 1\n",
    "\n",
    "    d = dict()\n",
    "    for x in result:\n",
    "        if(x.isalpha() == True):\n",
    "            if (x not in d):\n",
    "                d[x] = 1\n",
    "            else:\n",
    "                d[x] = d[x] + 1\n",
    "                \n",
    "    #불용어 제거\n",
    "    f = open('stopwords.txt')\n",
    "    s = f.read()\n",
    "    s = s.splitlines()\n",
    "    s.append('—')\n",
    "    f.close()\n",
    "    \n",
    "    for x in s:\n",
    "        if (d.get(x)):\n",
    "            d.pop(x)\n",
    "    \n",
    "    return (d)\n",
    "    print(d)"
   ]
  },
  {
   "cell_type": "code",
   "execution_count": 191,
   "metadata": {},
   "outputs": [],
   "source": [
    "class WebWordsFrequency(list):\n",
    "    def __init__(self, *url):\n",
    "        for e in url:\n",
    "            self.append(e)\n",
    "    def addUrl(self, url):\n",
    "        self.append(url)\n",
    "    def removeUrl(self, url):\n",
    "        if url in self:\n",
    "            self.remove(url)\n",
    "    def listUrls(self):\n",
    "        for e in self:\n",
    "            print (e)\n",
    "    def getWordsFrequency(self):\n",
    "        result = dict()\n",
    "        for e in self:\n",
    "            result[e] = PrintHtml(e)\n",
    "        return result\n",
    "    def getMaxFrequencyWords(self):\n",
    "        result = dict()\n",
    "        if(self.getWordsFrequency() != None) :\n",
    "            for e in self:\n",
    "                l = list(self.getWordsFrequency()[e].values())\n",
    "                print(l)\n",
    "                M = max(l)\n",
    "                l = list(self.getWordsFrequency()[e].items())\n",
    "                print(l)\n",
    "                result = list()\n",
    "                for e in l:\n",
    "                    if(e[1] == M):\n",
    "                        print(e[0])\n",
    "                        \n",
    "            return result\n",
    "        else:\n",
    "            print (None)\n",
    "            return None\n",
    "    def searchUrlByWord(self, word):\n",
    "        similarity = dict()\n",
    "        for e in self:\n",
    "            similarity[e] = self.getWordsFrequency().get(word, 0)\n",
    "            \n",
    "        M = max(similarity.values())\n",
    "        l = list(similarity.items())\n",
    "        print(l)\n",
    "        result = list()\n",
    "        for e in l:\n",
    "            if(e[1] == M):\n",
    "                print(e[1])\n",
    "                result.append(e[0])\n",
    "\n",
    "        return result"
   ]
  },
  {
   "cell_type": "code",
   "execution_count": 192,
   "metadata": {},
   "outputs": [
    {
     "name": "stdout",
     "output_type": "stream",
     "text": [
      "[1, 2, 3, 8, 1, 1, 1, 1, 1, 1, 10, 3, 3, 3, 4, 4, 4, 4, 1, 1, 1, 1]\n",
      "[('CNN', 1), ('Breaking', 2), ('News', 3), ('US', 8), ('World', 1), ('Weather', 1), ('Entertainment', 1), ('Video', 1), ('Search', 1), ('raquo', 1), ('International', 10), ('Edition', 3), ('Arabic', 3), ('Español', 3), ('Set', 4), ('edition', 4), ('preference', 4), ('Confirm', 4), ('Facebook', 1), ('Twitter', 1), ('Instagram', 1), ('AllnbspRightsnbspReserved', 1)]\n",
      "International\n",
      "[24, 13, 8, 10, 1, 5, 1, 1, 1, 2, 1, 1, 1, 1, 1, 1, 1, 4, 4, 1, 2, 1, 1, 2, 1, 1, 3, 1, 8, 7, 1, 1, 1, 1, 1, 3, 1, 1, 23, 1, 1, 1, 2, 1, 6, 9, 3, 3, 1, 1, 4, 1, 1, 1, 1, 1, 2, 3, 1, 2, 2, 1, 1, 1, 1, 1, 1, 1, 1, 1, 1, 1, 1, 9, 3, 5, 1, 2, 1, 1, 1, 1, 1, 1, 1, 1, 1, 1, 2, 1, 1, 1, 1, 1, 1, 1, 1, 1, 1, 1, 3, 3, 1, 1, 1, 1, 1, 5, 1, 3, 1, 1, 1, 1, 1, 1, 1, 1, 1, 1, 1, 1, 1, 1, 1, 1, 1, 1, 1, 1, 1, 1, 1, 1, 1, 1, 1, 1, 1, 1, 1, 1, 1, 2, 3, 1, 2, 2, 1, 1, 3, 1, 1, 1, 1, 1, 1, 1, 1, 2, 1, 1, 1, 1, 1, 1, 2, 1, 1, 1, 1, 1, 1, 1, 1, 1, 1, 1, 1, 1, 9, 1, 1, 1, 1, 1, 1, 1, 1, 1, 1, 1, 1, 1, 1, 1, 1, 1, 1, 1, 7, 3, 1, 2, 2, 1, 1, 1, 1, 1, 3, 3, 2, 1, 1, 1, 2, 2, 2, 1, 1, 1, 1, 1, 2, 1, 1, 1, 1, 1, 1, 1, 1, 1, 1, 1, 1, 1, 2, 1, 1, 2, 1, 1, 1, 1, 2, 1, 1, 1, 1, 1, 1, 1, 1, 3, 3, 2, 1, 2, 1, 1, 1, 1, 1, 2, 2, 2, 1, 1, 2, 2, 1, 1, 1, 1, 1, 1, 1, 1, 1, 1, 1, 1, 1, 1, 2, 1, 1, 1, 1, 1, 1, 1, 1, 1, 1, 1, 1, 1, 1, 1, 3, 2, 2, 1, 1, 1, 1, 1, 1, 1, 1, 1, 1, 1, 1, 1, 1, 1, 1, 1, 1, 1, 1, 1, 1, 1, 1, 1, 1, 1, 1, 1, 2, 2, 1, 1, 1, 1, 1, 1, 1, 1, 2, 1, 1, 1, 1, 1, 1, 1, 1, 1, 1, 1, 1, 1, 1, 1, 1, 1, 1, 1, 1, 1, 1, 1, 1, 1, 1, 1, 1, 1, 1, 1, 1, 1, 1, 1, 1, 1, 1, 1, 1, 1, 1, 1, 1, 1, 1, 1, 1, 1, 1, 1, 1, 1, 1, 1, 1, 1, 1, 1, 1, 1, 1, 1, 1, 1, 1, 3, 1, 1, 1, 1, 1, 1, 1, 1, 1, 1, 1, 1, 2, 1, 1, 1, 1, 1, 1, 1, 1, 1, 1, 2, 1, 1, 1, 1, 1, 1, 1, 1, 1, 1, 1, 1, 1, 1, 1, 1, 1, 1, 1, 5, 1, 1, 1, 1, 1, 1, 1, 1, 1, 1, 1, 1, 1, 1, 1, 1, 1, 1, 1, 1, 1, 1, 1, 1, 1, 1, 2, 1, 1, 1, 1, 1, 1, 1, 1, 1, 1, 1, 1, 1, 1, 1, 1, 1, 1, 1, 1, 1, 1, 1, 1, 1, 1, 1, 1, 1, 1, 4, 1, 2, 1, 1, 1, 1, 1, 2, 1, 1, 1, 1, 1, 2, 1, 1, 2, 1, 2, 2, 2, 2, 1, 1, 1, 1, 1, 1, 1, 1, 1, 1, 1, 1, 1, 1, 1, 1, 1, 2, 1, 1, 3, 1, 1, 3, 1, 1, 1, 1, 1, 1, 1, 2, 1, 1, 1, 1, 1, 1, 1, 1, 1, 1, 1, 2, 2, 2, 2, 1, 1, 1, 1, 1, 1, 1, 1, 1, 1, 1, 1, 1, 1, 1, 1, 1, 1, 1, 1, 2, 1, 1, 1, 1, 1, 1, 1, 1, 1, 1, 1, 1, 1, 1, 1, 1, 1, 1, 1, 1, 1, 1, 1, 1, 1, 1, 1, 1, 1, 1, 1, 1, 1, 1, 1, 1, 1, 1, 1, 3, 1, 1, 1, 1, 1, 1, 1, 1, 1, 1, 1, 1, 1, 1, 1, 1, 1, 1, 1, 1, 1, 1, 1, 1, 1, 1, 1, 1, 2, 1, 1, 1, 1, 1, 1, 1, 1, 1, 1, 1, 1, 1, 1, 1, 1, 1, 2, 1, 1, 1, 1, 1, 1, 1, 1, 1, 1, 1, 1, 1, 1, 1, 1, 1, 1, 1, 1, 1, 1, 1, 1, 1, 1, 1, 1, 1, 1, 1, 1, 1, 1, 1, 1, 2, 1, 1, 2, 1]\n",
      "[('The', 24), ('New', 13), ('York', 8), ('Times', 10), ('Breaking', 1), ('News', 5), ('World', 1), ('Multimedia', 1), ('esi', 1), ('NYTimescom', 2), ('supports', 1), ('Internet', 1), ('Explorer', 1), ('earlier', 1), ('Please', 1), ('upgrade', 1), ('browser', 1), ('Sections', 4), ('Search', 4), ('Log', 1), ('In', 2), ('Settings', 1), ('English', 1), ('Wednesday', 2), ('December', 1), ('Paper', 1), ('Video', 3), ('Quick', 1), ('Site', 8), ('Navigation', 7), ('Close', 1), ('search', 1), ('Clear', 1), ('text', 1), ('input', 1), ('Go', 3), ('Mobile', 1), ('Top', 1), ('By', 23), ('MARK', 1), ('LANDLER', 1), ('DAVID', 1), ('M', 2), ('HALBFINGER', 1), ('PM', 6), ('ET', 9), ('President', 3), ('Trump', 3), ('plans', 1), ('name', 1), ('Jerusalem', 4), ('capital', 1), ('Israel', 1), ('upending', 1), ('nearly', 1), ('seven', 1), ('decades', 2), ('American', 3), ('foreign', 1), ('policy', 2), ('Arab', 2), ('leaders', 1), ('warned', 1), ('Mr', 1), ('disrupt', 1), ('Mideast', 1), ('peace', 1), ('process', 1), ('fatally', 1), ('unleash', 1), ('wave', 1), ('violence', 1), ('region', 1), ('nbspComments', 9), ('Why', 3), ('Is', 5), ('Controversial', 1), ('Capital', 2), ('CAMILLA', 1), ('SCHICK', 1), ('REBECCA', 1), ('R', 1), ('RUIZ', 1), ('TARIQ', 1), ('PANJA', 1), ('extensive', 1), ('statebacked', 1), ('doping', 1), ('program', 2), ('resulted', 1), ('penalties', 1), ('precedent', 1), ('Russian', 1), ('Federation', 1), ('participate', 1), ('individual', 1), ('athletes', 1), ('Gold', 1), ('Silver', 1), ('Bronze', 1), ('Menrsquos', 3), ('Relay', 3), ('Luge', 1), ('Team', 1), ('Skiathlon', 1), ('Womenrsquos', 1), ('Curling', 1), ('RUS', 5), ('GER', 1), ('NOR', 3), ('CAN', 1), ('FRA', 1), ('USA', 1), ('AUT', 1), ('SWE', 1), ('SCT', 1), ('Related', 1), ('Coverage', 1), ('JONATHAN', 1), ('MARTIN', 1), ('MAGGIE', 1), ('HABERMAN', 1), ('impulsive', 1), ('improvisational', 1), ('political', 1), ('style', 1), ('preventing', 1), ('Republican', 1), ('Party', 1), ('establishing', 1), ('true', 1), ('organization', 1), ('coming', 1), ('midterm', 1), ('elections', 1), ('JEREMY', 1), ('W', 1), ('PETERS', 1), ('At', 1), ('rally', 1), ('Alabama', 1), ('Stephen', 1), ('K', 1), ('Bannon', 2), ('Roy', 3), ('S', 1), ('Moore', 2), ('Senate', 2), ('candidate', 1), ('facing', 1), ('accusations', 3), ('child', 1), ('molestation', 1), ('GOP', 1), ('mainstream', 1), ('PATRICIA', 1), ('COHEN', 1), ('JESSE', 1), ('DRUCKER', 1), ('House', 2), ('bills', 1), ('offered', 1), ('steeply', 1), ('reduced', 1), ('rates', 1), ('businesses', 1), ('But', 2), ('time', 1), ('impose', 1), ('restrictions', 1), ('interestpayment', 1), ('deductions', 1), ('commercial', 1), ('real', 1), ('estate', 1), ('passes', 1), ('ABBY', 1), ('GOODNOUGH', 1), ('ROBERT', 1), ('PEAR', 1), ('A', 9), ('health', 1), ('insurance', 1), ('popular', 1), ('Republicans', 1), ('Democrats', 1), ('limbo', 1), ('partisan', 1), ('rancor', 1), ('stymied', 1), ('legislative', 1), ('action', 1), ('Washington', 1), ('Seven', 1), ('Wonders', 1), ('Colosseum', 1), ('Guglielmo', 1), ('MattioliThe', 1), ('Technology', 1), ('Samsung', 1), ('More', 7), ('Daily', 3), ('offers', 1), ('touch', 2), ('provide', 2), ('materials', 1), ('journalists', 1), ('Learn', 1), ('phone', 1), ('call', 1), ('Harvey', 3), ('Weinstein', 3), ('I', 2), ('am', 1), ('ears', 1), ('eyes', 1), ('Complicity', 2), ('Machine', 2), ('producer', 2), ('relied', 1), ('powerful', 1), ('relationships', 1), ('industries', 1), ('cover', 1), ('sexual', 2), ('misconduct', 1), ('piled', 1), ('MEGAN', 1), ('TWOHEY', 1), ('JODI', 1), ('KANTOR', 1), ('SUSAN', 1), ('DOMINUS', 1), ('JIM', 1), ('RUTENBERG', 1), ('andnbsp', 1), ('STEVE', 1), ('EDER', 1), ('JESSICA', 2), ('BENNETT', 1), ('reporters', 1), ('broke', 2), ('Bill', 1), ('stories', 1), ('discussed', 1), ('issue', 1), ('actress', 2), ('Ashley', 1), ('Judd', 1), ('Europe', 1), ('Edition', 1), ('MIKE', 1), ('IVES', 1), ('PATRICK', 1), ('BOEHLER', 1), ('AM', 3), ('start', 3), ('day', 2), ('Listen', 1), ('Colorado', 2), ('baker', 1), ('refused', 1), ('bake', 1), ('wedding', 1), ('cake', 1), ('gay', 2), ('couple', 2), ('grounds', 2), ('free', 1), ('speech', 1), ('Supreme', 2), ('Court', 2), ('Audio', 1), ('Follow', 1), ('Travel', 1), ('Tips', 1), ('SHIVANI', 1), ('VORA', 1), ('Some', 1), ('tips', 1), ('acclaimed', 1), ('chef', 1), ('Alain', 1), ('Ducasse', 1), ('First', 1), ('arrive', 1), ('Opinion', 2), ('DANIEL', 1), ('T', 1), ('WILLINGHAM', 1), ('Comprehension', 1), ('depends', 1), ('Over', 1), ('gifts', 1), ('editors', 1), ('categories', 1), ('Holiday', 1), ('Gift', 1), ('Guide', 1), ('Journalism', 1), ('matters', 1), ('essential', 1), ('Subscribe', 3), ('JENNIFER', 2), ('MEDINA', 2), ('LIAM', 1), ('STACK', 1), ('JONAH', 1), ('ENGEL', 1), ('BROMWICH', 1), ('devastating', 1), ('fire', 1), ('grew', 1), ('astonishing', 1), ('speed', 1), ('overnight', 1), ('expected', 1), ('affect', 1), ('Ventura', 1), ('County', 1), ('days', 1), ('spread', 1), ('north', 1), ('Los', 1), ('Angeles', 1), ('buildings', 1), ('destroyed', 1), ('thousands', 1), ('evacuated', 1), ('ADAM', 1), ('LIPTAK', 1), ('refusal', 1), ('serve', 1), ('religious', 1), ('led', 2), ('major', 2), ('showdown', 1), ('Water', 1), ('Going', 1), ('Each', 1), ('Greenland', 1), ('loses', 1), ('billion', 1), ('tons', 1), ('ice', 2), ('planet', 1), ('warms', 1), ('research', 1), ('water', 1), ('trapped', 1), ('sheet', 1), ('change', 1), ('scientists', 1), ('global', 1), ('sea', 1), ('levels', 1), ('HENRY', 1), ('FOUNTAIN', 1), ('DEREK', 1), ('WATKINS', 1), ('SILVERGREENBERG', 1), ('STACY', 1), ('COWLEY', 1), ('Consumer', 1), ('Financial', 1), ('Protection', 1), ('Bureau', 1), ('softer', 1), ('regulatory', 1), ('appointee', 1), ('And', 1), ('internal', 1), ('resistance', 1), ('brewing', 1), ('HAYLEY', 1), ('KRISCHER', 1), ('floodgates', 1), ('white', 1), ('rape', 1), ('survivor', 1), ('MeToo', 1), ('movement', 1), ('coincided', 1), ('memoir', 1), ('JOHN', 1), ('KOBLIN', 1), ('MICHAEL', 1), ('GRYNBAUM', 1), ('Jeff', 1), ('Fager', 1), ('executive', 1), ('project', 1), ('original', 1), ('author', 1), ('women', 1), ('workplace', 1), ('SHARON', 1), ('OTTERMAN', 1), ('million', 1), ('donation', 1), ('Dr', 1), ('P', 1), ('Vagelos', 1), ('former', 1), ('chairman', 1), ('Merck', 1), ('underwrite', 1), ('financial', 1), ('aid', 1), ('future', 1), ('doctors', 1), ('Our', 3), ('columnist', 1), ('Andrew', 1), ('Ross', 1), ('Sorkin', 1), ('colleagues', 1), ('help', 1), ('sense', 1), ('business', 1), ('headlines', 1), ('power', 1), ('brokers', 1), ('shape', 1), ('Get', 2), ('allnew', 1), ('DealBook', 1), ('newsletter', 1), ('installment', 1), ('weekly', 1), ('feature', 1), ('collecting', 1), ('reader', 1), ('tales', 1), ('Australia', 1), ('retail', 2), ('giant', 1), ('started', 1), ('modest', 1), ('product', 1), ('offering', 1), ('seeking', 1), ('steal', 1), ('piece', 1), ('sector', 1), ('critic', 1), ('reflects', 1), ('legacy', 1), ('revered', 1), ('Metropolitan', 1), ('Opera', 1), ('conductor', 1), ('suspended', 1), ('company', 1), ('abuse', 1), ('How', 5), ('redesign', 1), ('classic', 1), ('Isabel', 1), ('Ruben', 1), ('Toledo', 1), ('Miami', 1), ('Dylan', 1), ('Bowie', 1), ('captures', 1), ('radically', 1), ('plastic', 1), ('persona', 1), ('capacity', 1), ('accommodate', 1), ('identity', 1), ('SHMUEL', 1), ('ROSNER', 1), ('formalize', 1), ('Israelis', 1), ('Editorial', 1), ('Moving', 1), ('Embassy', 1), ('anger', 1), ('nations', 1), ('LANCE', 1), ('OPPENHEIM', 1), ('To', 2), ('beg', 1), ('leniency', 1), ('defense', 1), ('attorneys', 1), ('producing', 1), ('documentaries', 1), ('audience', 1), ('judge', 1), ('User', 1), ('Subscriptions', 1), ('Watching', 1), ('Melba', 1), ('Jordan', 1), ('lupus', 1), ('kidney', 1), ('transplant', 1), ('close', 1), ('son', 1), ('misbehavior', 1), ('illness', 1), ('leaves', 1), ('depleted', 1), ('Neediest', 1), ('Cases', 1), ('Fund', 1), ('provided', 1), ('direct', 1), ('assistance', 1), ('struggling', 1), ('beyond', 1), ('From', 4), ('Advertisers', 1), ('Loading', 2), ('video', 1), ('Player', 1), ('Inside', 1), ('Nytimescom', 1), ('previous', 1), ('story', 2), ('Toblerone', 1), ('vs', 1), ('Poundland', 1), ('Textured', 1), ('Food', 1), ('Fight', 2), ('Where', 1), ('Latin', 1), ('America', 2), ('Headed', 1), ('Has', 2), ('Left', 2), ('Africa', 2), ('Agony', 2), ('Reservations', 1), ('Restaurants', 1), ('George', 1), ('McGovern', 1), ('Vietnam', 1), ('Democratic', 1), ('Crackup', 1), ('politician', 1), ('push', 1), ('Lyndon', 1), ('war', 1), ('party', 1), ('Dwarf', 1), ('Mongooses', 1), ('Respond', 1), ('Arrivals', 1), ('Macho', 1), ('Home', 2), ('Wrists', 1), ('Concerns', 1), ('About', 3), ('Net', 1), ('Neutrality', 1), ('Are', 3), ('Overblown', 1), ('Exercise', 1), ('May', 1), ('Enhance', 1), ('Effects', 1), ('Brain', 1), ('Training', 1), ('Her', 2), ('Lips', 1), ('Blue', 1), ('Dances', 1), ('Unpredictable', 1), ('Applying', 1), ('College', 1), ('So', 1), ('Confusing', 1), ('Great', 1), ('SingleFamily', 1), ('Problem', 1), ('Banned', 2), ('Winter', 2), ('Olympics', 2), ('Russia', 2), ('Faces', 1), ('Greatest', 1), ('Sports', 1), ('Crisis', 1), ('Since', 1), ('Soviet', 1), ('Era', 1), ('Tax', 1), ('Plan', 1), ('Crowns', 1), ('Big', 1), ('Winner', 1), ('Industry', 1), ('Shmuel', 1), ('Rosner', 1), ('Of', 1), ('Course', 1), ('Google', 1), ('Missed', 1), ('Out', 1), ('China', 2), ('Can', 1), ('It', 1), ('Flourish', 1), ('India', 1), ('Notebook', 1), ('Should', 1), ('Put', 1), ('Away', 1), ('My', 1), ('James', 1), ('Levine', 1), ('Recordings', 1), ('Finds', 1), ('Backing', 1), ('Risks', 1), ('High', 1), ('Death', 1), ('Retail', 1), ('Was', 1), ('All', 1), ('Empire', 1), ('Luxury', 1), ('ETail', 1), ('Carpetbagger', 1), ('Kumail', 1), ('Nanjiani', 1), ('Shut', 1), ('Down', 1), ('Racist', 1), ('Hecklers', 1), ('For', 1), ('Change', 1), ('Pace', 1), ('Story', 1), ('Told', 1), ('Lives', 1), ('Not', 1), ('Lost', 1), ('IOC', 1), ('Best', 3), ('Theater', 1), ('Trilobites', 1), ('See', 1), ('Christmas', 1), ('Trees', 1), ('Need', 1), ('Scuba', 1), ('Gear', 1), ('Christine', 1), ('Keeler', 1), ('Central', 1), ('Figure', 1), ('British', 1), ('Dead', 1), ('TV', 1), ('Shows', 1), ('Global', 1), ('Health', 1), ('Pursuits', 1), ('An', 1), ('Amusement', 1), ('Park', 1), ('Foodies', 1), ('Books', 1), ('Ancient', 1), ('Myths', 1), ('Modern', 1), ('Day', 1), ('Women', 2), ('Struggle', 1), ('Power', 1), ('What', 1), ('Colleges', 1), ('Want', 1), ('Applicant', 1), ('Everything', 1), ('Make', 1), ('Gingerbread', 1), ('Feature', 1), ('Takedown', 1), ('Title', 1), ('IX', 1), ('On', 1), ('Location', 1), ('Tiny', 1), ('Loft', 1), ('Living', 2), ('Men', 1), ('Say', 1), ('Different', 1), ('Than', 1), ('Similar', 1), ('Journalist', 1), ('Wrestles', 1), ('With', 1), ('Candor', 1), ('Egyptian', 1), ('Woman', 1), ('Will', 1), ('Lead', 1), ('Electric', 1), ('Car', 1), ('Future', 1), ('Chairman', 1), ('Says', 1), ('JayZ', 1), ('Discusses', 1), ('Rap', 1), ('Marriage', 1), ('Being', 1), ('Black', 1), ('Man', 1), ('STEFANOS', 1), ('CHEN', 1), ('recent', 1), ('ferry', 1), ('expansion', 1), ('bringing', 1), ('surge', 1), ('longneglected', 1), ('neighborhoods', 1), ('East', 1), ('River', 1), ('Index', 2), ('Arts', 1), ('Listings', 1), ('Information', 2), ('Company', 1)]\n",
      "The\n"
     ]
    },
    {
     "name": "stdout",
     "output_type": "stream",
     "text": [
      "[('http://www.cnn.com', 0), ('http://www.times.com', 0)]\n",
      "0\n",
      "0\n"
     ]
    },
    {
     "data": {
      "text/plain": [
       "['http://www.cnn.com', 'http://www.times.com']"
      ]
     },
     "execution_count": 192,
     "metadata": {},
     "output_type": "execute_result"
    }
   ],
   "source": [
    "w1 = WebWordsFrequency('http://www.cnn.com', 'http://www.times.com', 'http://www.fox.com')\n",
    "w2 = WebWordsFrequency('http://www.cnn.com', 'http://www.times.com')\n",
    "w3 = WebWordsFrequency()\n",
    "\n",
    "w1.addUrl('http://github.com')\n",
    "w3.addUrl('http://stackoverflow.com')\n",
    "\n",
    "w1.removeUrl('http://www.cnn.com')\n",
    "w2.removeUrl('http://stackoverflow.com')\n",
    "\n",
    "w2.getMaxFrequencyWords()\n",
    "w2.searchUrlByWord(\"CNN\")"
   ]
  },
  {
   "cell_type": "markdown",
   "metadata": {},
   "source": []
  },
  {
   "cell_type": "markdown",
   "metadata": {},
   "source": [
    "## 8번 문제\n",
    "\n",
    "위 7번 문제에서 정의한 WebWordsFrequency 클래스를 상속하여 OrderedWebWordsFrequency 클래스를 정의하고 슈퍼클래스에 정의된 getWordsFrequency() 메소드를 오버라이드 하여 단어 출현 빈도를 내림 차순으로 정렬하여 리스트로 출력하시오.\n",
    "\n",
    "    * 리스트 내의 각 원소는 단어와 빈도를 쌍으로 지니는 튜플이다.\n",
    "    * getWordFrequence() 메소드에 reverse 라는 인자를 만들고 true 또는 false를 인자로 받을 수 있도록 한다.\n",
    "\n",
    "        * reverse 인자의 디폴트 값은 false 이며, 기본적으로 내림차순으로 정렬한다.\n",
    "        * reverse 인자에 true를 넣으면 오름차순으로 정렬한다.\n",
    "\n",
    "            >>> w4 = OrderedWebWordsFrequency('http://www.times.com', 'https://www.amazon.com', 'https://github.com')\n",
    "\n",
    "            >>> w4.getWordsFrequency()\n",
    "            [('site', 12), ('science', 11), ('hello', 8), ('world', 2), ('program', 1), ('python', 1)]\n",
    "\n",
    "            >>> w4.getWordsFrequency(reverse=true)\n",
    "            [('program', 1), ('python', 1), ('world', 2), ('hello', 8), ('science', 11), ('site', 12)]"
   ]
  },
  {
   "cell_type": "code",
   "execution_count": null,
   "metadata": {
    "collapsed": true
   },
   "outputs": [],
   "source": []
  },
  {
   "cell_type": "markdown",
   "metadata": {},
   "source": []
  },
  {
   "cell_type": "markdown",
   "metadata": {},
   "source": [
    "## 9번 문제\n",
    "\n",
    "다음과 같은 코딩이 가능하도록 OrderedWebWordsFrequency 안에 반복자와 관련된 메소드를 추가하시오.\n",
    "\n",
    "        >>> for i in w4:\n",
    "        >>>       print(i)\n",
    "        ('site, 12)\n",
    "        ('science', 11)\n",
    "        ('hello', 8)\n",
    "        ('world', 2)\n",
    "        ('program', 1)\n",
    "        ('python', 1)"
   ]
  },
  {
   "cell_type": "code",
   "execution_count": null,
   "metadata": {
    "collapsed": true
   },
   "outputs": [],
   "source": []
  },
  {
   "cell_type": "markdown",
   "metadata": {},
   "source": []
  }
 ],
 "metadata": {
  "kernelspec": {
   "display_name": "Python 3",
   "language": "python",
   "name": "python3"
  },
  "language_info": {
   "codemirror_mode": {
    "name": "ipython",
    "version": 3
   },
   "file_extension": ".py",
   "mimetype": "text/x-python",
   "name": "python",
   "nbconvert_exporter": "python",
   "pygments_lexer": "ipython3",
   "version": "3.6.1"
  }
 },
 "nbformat": 4,
 "nbformat_minor": 2
}
