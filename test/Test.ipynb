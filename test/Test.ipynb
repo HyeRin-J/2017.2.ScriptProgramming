{
 "cells": [
  {
   "cell_type": "code",
   "execution_count": 4,
   "metadata": {},
   "outputs": [
    {
     "name": "stdout",
     "output_type": "stream",
     "text": [
      "A, B, C, D, E\n",
      "13\n"
     ]
    }
   ],
   "source": [
    "s = 'A, B, D, E'\n",
    "s = s[0:6] + 'C, ' + s[6:]\n",
    "print (s)\n",
    "print (len(s))"
   ]
  },
  {
   "cell_type": "code",
   "execution_count": 6,
   "metadata": {},
   "outputs": [
    {
     "name": "stdout",
     "output_type": "stream",
     "text": [
      "['1', '2', '3', '4', '5']\n"
     ]
    }
   ],
   "source": [
    "s = \"1, 2   , 3,   4,  5\"\n",
    "l = s.split(\",\")\n",
    "for x in range(len(l)):\n",
    "    l[x] = l[x].strip()\n",
    "\n",
    "print (l)"
   ]
  },
  {
   "cell_type": "code",
   "execution_count": 9,
   "metadata": {},
   "outputs": [
    {
     "name": "stdout",
     "output_type": "stream",
     "text": [
      "10\n",
      "9\n",
      "8\n",
      "7\n"
     ]
    }
   ],
   "source": [
    "s = []\n",
    "for element in range(1, 11):\n",
    "    s.append(element)\n",
    "for i in range(4):\n",
    "    print (s.pop())"
   ]
  },
  {
   "cell_type": "code",
   "execution_count": 10,
   "metadata": {},
   "outputs": [
    {
     "name": "stdout",
     "output_type": "stream",
     "text": [
      "[('a', 1, 4), ('a', 1, 5), ('a', 1, 6), ('a', 2, 4), ('a', 2, 5), ('a', 2, 6), ('a', 3, 4), ('a', 3, 5), ('a', 3, 6), ('b', 1, 4), ('b', 1, 5), ('b', 1, 6), ('b', 2, 4), ('b', 2, 5), ('b', 2, 6), ('b', 3, 4), ('b', 3, 5), ('b', 3, 6), ('c', 1, 4), ('c', 1, 5), ('c', 1, 6), ('c', 2, 4), ('c', 2, 5), ('c', 2, 6), ('c', 3, 4), ('c', 3, 5), ('c', 3, 6)]\n"
     ]
    }
   ],
   "source": [
    "seq1 = 'abc'\n",
    "seq2 = (1, 2, 3)\n",
    "seq3 = [4, 5, 6]\n",
    "l = [(x,y,z) for x in seq1 for y in seq2 for z in seq3]\n",
    "\n",
    "print(l)"
   ]
  },
  {
   "cell_type": "code",
   "execution_count": 12,
   "metadata": {},
   "outputs": [
    {
     "name": "stdout",
     "output_type": "stream",
     "text": [
      "[1, 2, 3, 4, 5, 3, 4, 5, 6, 7]\n",
      "[1, 2, 6, 7]\n"
     ]
    }
   ],
   "source": [
    "t1=[1, 2, 3, 4, 5]\n",
    "t2=[3, 4, 5, 6, 7]\n"
   ]
  },
  {
   "cell_type": "code",
   "execution_count": 50,
   "metadata": {},
   "outputs": [
    {
     "name": "stdout",
     "output_type": "stream",
     "text": [
      "[('aaa', 1), ('5ee', 5), ('bbb', 2), ('ddd', 4), ('ccc', 3)]\n",
      "<class 'int'>\n",
      "<class 'int'>\n",
      "<class 'int'>\n",
      "<class 'int'>\n",
      "<class 'int'>\n",
      "[('aaa', 1), ('bbb', 2), ('ccc', 3), ('ddd', 4), ('5ee', 5)]\n"
     ]
    }
   ],
   "source": [
    "d = {'aaa':1, '5ee':5, 'bbb':2, 'ddd':4, 'ccc':3}\n",
    "items = list()\n",
    "\n",
    "#키를 value로 바꿈\n",
    "def f(a):\n",
    "    print(type(a[1]))\n",
    "    return a[1]\n",
    "\n",
    "for x in d.items():\n",
    "    items.append(x)\n",
    "\n",
    "print(items)\n",
    "items.sort(key = f)\n",
    "print (items)"
   ]
  },
  {
   "cell_type": "code",
   "execution_count": null,
   "metadata": {
    "collapsed": true
   },
   "outputs": [],
   "source": []
  }
 ],
 "metadata": {
  "kernelspec": {
   "display_name": "Python 3",
   "language": "python",
   "name": "python3"
  },
  "language_info": {
   "codemirror_mode": {
    "name": "ipython",
    "version": 3
   },
   "file_extension": ".py",
   "mimetype": "text/x-python",
   "name": "python",
   "nbconvert_exporter": "python",
   "pygments_lexer": "ipython3",
   "version": "3.6.1"
  }
 },
 "nbformat": 4,
 "nbformat_minor": 2
}
