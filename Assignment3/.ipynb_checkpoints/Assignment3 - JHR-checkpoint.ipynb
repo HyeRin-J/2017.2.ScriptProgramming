{
 "cells": [
  {
   "cell_type": "markdown",
   "metadata": {},
   "source": [
    "# Assignment3"
   ]
  },
  {
   "cell_type": "markdown",
   "metadata": {},
   "source": [
    "## 1번 문제\n",
    "* L=[1, 2, 3, 4, 5]일 때 다음 각 문장을 수행한 후의 결과를 보고 납득할 만한 이유를 설명하시오.\n",
    "    * 1)      \n",
    "        L[1:3] = [100]   \n",
    "        print(L)        \n",
    "    <br>\n",
    "    * 2)     \n",
    "        L[1:3] = [(100)]    \n",
    "        print(L)  \n",
    "    <br>\n",
    "    * 3)      \n",
    "        L[1:3] = 100  \n",
    "        print(L)  \n",
    "     <br>   \n",
    "    * 4)      \n",
    "        L[1:3] = (100)  \n",
    "        print(L)  \n",
    "    <br>\n",
    "    * 5)  \n",
    "        L[1:3] = (100, 101, 102)  \n",
    "        print(L)  \n",
    "    <br>\n",
    "    * 6)  \n",
    "        L[1:3] = [100, 101, 102]  \n",
    "        print(L)  \n",
    "    <br>\n",
    "    * 7)  \n",
    "        L[1:3] = [(100, 101, 102)]  \n",
    "        print(L)  \n",
    "    <br>\n",
    "    * 8)  \n",
    "        L[1:3] = [[100, 101, 102]]  \n",
    "        print(L)  "
   ]
  },
  {
   "cell_type": "code",
   "execution_count": 14,
   "metadata": {},
   "outputs": [
    {
     "name": "stdout",
     "output_type": "stream",
     "text": [
      "[1, 100, 4, 5]\n"
     ]
    }
   ],
   "source": [
    "L=[1, 2, 3, 4, 5]\n",
    "\n",
    "L[1:3] = [100]\n",
    "print(L)"
   ]
  },
  {
   "cell_type": "markdown",
   "metadata": {},
   "source": [
    "2번째부터 3번째 리스트가 100이라는 값이 들어간 리스트로 교체"
   ]
  },
  {
   "cell_type": "code",
   "execution_count": 2,
   "metadata": {},
   "outputs": [
    {
     "name": "stdout",
     "output_type": "stream",
     "text": [
      "[1, 100, 4, 5]\n",
      "<class 'int'>\n"
     ]
    }
   ],
   "source": [
    "L=[1, 2, 3, 4, 5]\n",
    "L[1:3] = [(100)]\n",
    "print(L)"
   ]
  },
  {
   "cell_type": "markdown",
   "metadata": {},
   "source": [
    "2번째부터 3번째 리스트가 100이라는 값이 들어간 리스트로 교체  \n",
    "한 개의 원소만을 가진 튜플을 만들고 싶으면 끝에 ,를 기입하여 튜플임을 명시해야 한다. 이 경우 ,를 명시하지 않았기 때문에 int형으로 취급된다."
   ]
  },
  {
   "cell_type": "code",
   "execution_count": 3,
   "metadata": {},
   "outputs": [
    {
     "name": "stdout",
     "output_type": "stream",
     "text": [
      "[2, 3]\n"
     ]
    },
    {
     "ename": "TypeError",
     "evalue": "can only assign an iterable",
     "output_type": "error",
     "traceback": [
      "\u001b[1;31m---------------------------------------------------------------------------\u001b[0m",
      "\u001b[1;31mTypeError\u001b[0m                                 Traceback (most recent call last)",
      "\u001b[1;32m<ipython-input-3-e7b9b15bba2c>\u001b[0m in \u001b[0;36m<module>\u001b[1;34m()\u001b[0m\n\u001b[0;32m      1\u001b[0m \u001b[0mL\u001b[0m\u001b[1;33m=\u001b[0m\u001b[1;33m[\u001b[0m\u001b[1;36m1\u001b[0m\u001b[1;33m,\u001b[0m \u001b[1;36m2\u001b[0m\u001b[1;33m,\u001b[0m \u001b[1;36m3\u001b[0m\u001b[1;33m,\u001b[0m \u001b[1;36m4\u001b[0m\u001b[1;33m,\u001b[0m \u001b[1;36m5\u001b[0m\u001b[1;33m]\u001b[0m\u001b[1;33m\u001b[0m\u001b[0m\n\u001b[0;32m      2\u001b[0m \u001b[0mprint\u001b[0m\u001b[1;33m(\u001b[0m\u001b[0mL\u001b[0m\u001b[1;33m[\u001b[0m\u001b[1;36m1\u001b[0m\u001b[1;33m:\u001b[0m\u001b[1;36m3\u001b[0m\u001b[1;33m]\u001b[0m\u001b[1;33m)\u001b[0m\u001b[1;33m\u001b[0m\u001b[0m\n\u001b[1;32m----> 3\u001b[1;33m \u001b[0mL\u001b[0m\u001b[1;33m[\u001b[0m\u001b[1;36m1\u001b[0m\u001b[1;33m:\u001b[0m\u001b[1;36m3\u001b[0m\u001b[1;33m]\u001b[0m \u001b[1;33m=\u001b[0m \u001b[1;36m100\u001b[0m\u001b[1;33m\u001b[0m\u001b[0m\n\u001b[0m\u001b[0;32m      4\u001b[0m \u001b[0mprint\u001b[0m\u001b[1;33m(\u001b[0m\u001b[0mL\u001b[0m\u001b[1;33m)\u001b[0m\u001b[1;33m\u001b[0m\u001b[0m\n",
      "\u001b[1;31mTypeError\u001b[0m: can only assign an iterable"
     ]
    }
   ],
   "source": [
    "L=[1, 2, 3, 4, 5]\n",
    "print(L[1:3])\n",
    "L[1:3] = 100\n",
    "print(L)"
   ]
  },
  {
   "cell_type": "code",
   "execution_count": 17,
   "metadata": {},
   "outputs": [
    {
     "ename": "TypeError",
     "evalue": "can only assign an iterable",
     "output_type": "error",
     "traceback": [
      "\u001b[1;31m---------------------------------------------------------------------------\u001b[0m",
      "\u001b[1;31mTypeError\u001b[0m                                 Traceback (most recent call last)",
      "\u001b[1;32m<ipython-input-17-f155c5a8ccd1>\u001b[0m in \u001b[0;36m<module>\u001b[1;34m()\u001b[0m\n\u001b[0;32m      1\u001b[0m \u001b[0mL\u001b[0m\u001b[1;33m=\u001b[0m\u001b[1;33m[\u001b[0m\u001b[1;36m1\u001b[0m\u001b[1;33m,\u001b[0m \u001b[1;36m2\u001b[0m\u001b[1;33m,\u001b[0m \u001b[1;36m3\u001b[0m\u001b[1;33m,\u001b[0m \u001b[1;36m4\u001b[0m\u001b[1;33m,\u001b[0m \u001b[1;36m5\u001b[0m\u001b[1;33m]\u001b[0m\u001b[1;33m\u001b[0m\u001b[0m\n\u001b[1;32m----> 2\u001b[1;33m \u001b[0mL\u001b[0m\u001b[1;33m[\u001b[0m\u001b[1;36m1\u001b[0m\u001b[1;33m:\u001b[0m\u001b[1;36m3\u001b[0m\u001b[1;33m]\u001b[0m \u001b[1;33m=\u001b[0m \u001b[1;33m(\u001b[0m\u001b[1;36m100\u001b[0m\u001b[1;33m)\u001b[0m\u001b[1;33m\u001b[0m\u001b[0m\n\u001b[0m\u001b[0;32m      3\u001b[0m \u001b[0mprint\u001b[0m\u001b[1;33m(\u001b[0m\u001b[0mL\u001b[0m\u001b[1;33m)\u001b[0m\u001b[1;33m\u001b[0m\u001b[0m\n",
      "\u001b[1;31mTypeError\u001b[0m: can only assign an iterable"
     ]
    }
   ],
   "source": [
    "L=[1, 2, 3, 4, 5]\n",
    "L[1:3] = (100)\n",
    "print(L)"
   ]
  },
  {
   "cell_type": "markdown",
   "metadata": {},
   "source": [
    "L[1:3]은 리스트이고, 리스트에 int형을 바로 넣는 것은 불가능"
   ]
  },
  {
   "cell_type": "code",
   "execution_count": 5,
   "metadata": {},
   "outputs": [
    {
     "name": "stdout",
     "output_type": "stream",
     "text": [
      "[1, 100, 101, 102, 4, 5]\n",
      "<class 'tuple'>\n"
     ]
    }
   ],
   "source": [
    "L=[1, 2, 3, 4, 5]\n",
    "L[1:3] = (100, 101, 102)\n",
    "print(L)"
   ]
  },
  {
   "cell_type": "code",
   "execution_count": 19,
   "metadata": {},
   "outputs": [
    {
     "name": "stdout",
     "output_type": "stream",
     "text": [
      "[1, 100, 101, 102, 4, 5]\n"
     ]
    }
   ],
   "source": [
    "L=[1, 2, 3, 4, 5]\n",
    "L[1:3] = [100, 101, 102]\n",
    "print(L)"
   ]
  },
  {
   "cell_type": "markdown",
   "metadata": {},
   "source": [
    "리스트를 튜플로 교체하거나, 리스트로 교체"
   ]
  },
  {
   "cell_type": "code",
   "execution_count": 20,
   "metadata": {
    "scrolled": true
   },
   "outputs": [
    {
     "name": "stdout",
     "output_type": "stream",
     "text": [
      "[1, (100, 101, 102), 4, 5]\n"
     ]
    }
   ],
   "source": [
    "L=[1, 2, 3, 4, 5]\n",
    "L[1:3] = [(100, 101, 102)]\n",
    "print(L)"
   ]
  },
  {
   "cell_type": "code",
   "execution_count": 21,
   "metadata": {},
   "outputs": [
    {
     "name": "stdout",
     "output_type": "stream",
     "text": [
      "[1, [100, 101, 102], 4, 5]\n"
     ]
    }
   ],
   "source": [
    "L=[1, 2, 3, 4, 5]\n",
    "L[1:3] = [[100, 101, 102]]\n",
    "print(L)"
   ]
  },
  {
   "cell_type": "markdown",
   "metadata": {},
   "source": [
    "튜플을 가진 리스트와 리스트를 가진 리스트로 교체"
   ]
  },
  {
   "cell_type": "markdown",
   "metadata": {},
   "source": [
    "## 2번 문제\n",
    "* 문자열 S = 'Hello World and Python'에 대해 다음 요구사항에 대한 Python 코드를 제시하시오.\n",
    "    * 1) 단어의 순서가 역순으로 되어진 문자열 ('Python and World Hello')을 만들고\n",
    "    * 2) 1)의 결과 문자열에 대해 메소드 split과 join을 이용하여 공백을 모두 없엔 문자열 'PythonandWorldHello'을 만드시오."
   ]
  },
  {
   "cell_type": "code",
   "execution_count": 6,
   "metadata": {},
   "outputs": [
    {
     "name": "stdout",
     "output_type": "stream",
     "text": [
      "Python and World Hello\n",
      "\n",
      "PythonandWorldHello\n"
     ]
    }
   ],
   "source": [
    "S = 'Hello World and Python'\n",
    "S2 = S.split()\n",
    "S2[::] = S2[::-1]\n",
    "S2 = ' '.join(S2)\n",
    "print(S2)\n",
    "print()\n",
    "S = S2.split(' ')\n",
    "S = ''.join(S)\n",
    "print(S)"
   ]
  },
  {
   "cell_type": "markdown",
   "metadata": {},
   "source": [
    "단어의 순서가 역순으로 된 문자열을 만들기 위해서 split을 통해 공백을 기준으로 단어를 추출하고, 리스트의 순서를 역순으로 배열한 후 join을 통해 합친다.\n",
    "합쳤던 문자열을 다시 split으로 잘라 join하면 공백이 없이 합친 문자열을 만들 수 있다."
   ]
  },
  {
   "cell_type": "markdown",
   "metadata": {},
   "source": [
    "## 3번 문제\n",
    "* 다음 코드를 보고 물음에 답하시오.  \n",
    "    <br>\n",
    "    a = [1, 2, 3]  \n",
    "    b = a `*` 3  \n",
    "    c = [a] `*` 3  \n",
    "    print(b)  \n",
    "    print(c)  \n",
    "    * 1) 위 코드를 수행한 이후 다음 코드를 수행한 후 b와 c의 내용을 확인하시오.  \n",
    "        a[0]=0\n",
    "    * 2) b와 c 객체의 차이는 무엇인가?"
   ]
  },
  {
   "cell_type": "code",
   "execution_count": 7,
   "metadata": {},
   "outputs": [
    {
     "name": "stdout",
     "output_type": "stream",
     "text": [
      "[1, 2, 3, 1, 2, 3, 1, 2, 3]\n",
      "[[1, 2, 3], [1, 2, 3], [1, 2, 3]]\n",
      "\n",
      "[1, 2, 3, 1, 2, 3, 1, 2, 3]\n",
      "[[0, 2, 3], [0, 2, 3], [0, 2, 3]]\n"
     ]
    }
   ],
   "source": [
    "a = [1, 2, 3]\n",
    "b = a * 3\n",
    "c = [a] * 3\n",
    "print(b)\n",
    "print(c)\n",
    "print()\n",
    "a[0] = 0\n",
    "print(b)\n",
    "print(c)"
   ]
  },
  {
   "cell_type": "markdown",
   "metadata": {},
   "source": [
    "b는 단순히 a의 값만 복사가 되었지만 c는 a가 참조하는 객체까지 복사가 되어, a가 참조하는 객체의 값이 변경되면 c도 영향을 받게 된다."
   ]
  },
  {
   "cell_type": "markdown",
   "metadata": {},
   "source": [
    "## 4번 문제\n",
    "* 다음 문자열을 ':'을 기준으로 분리하여 리스트로 만들고 각 문자열의 좌우 공백을 제거하시오 (즉, 문자열 S에서 l을 만들어라)  \n",
    "<br>\n",
    "    s = '  first star   :   second star   :    third star  '  \n",
    "    l = ['first star', 'second star', 'third star']  \n",
    "    * 1) for ~ in 문을 이용한 코드를 작성하시오.\n",
    "    * 2) 리스트 내포(list comprehension)를 이용한 코드를 작성하시오."
   ]
  },
  {
   "cell_type": "code",
   "execution_count": 71,
   "metadata": {},
   "outputs": [
    {
     "name": "stdout",
     "output_type": "stream",
     "text": [
      "['first star', 'second star', 'third star']\n"
     ]
    }
   ],
   "source": [
    "s = ' first star : second star : third star '\n",
    "l = s.split(':')\n",
    "for x in range(3):\n",
    "    l[x] = l[x].strip()\n",
    "print(l)"
   ]
  },
  {
   "cell_type": "code",
   "execution_count": 72,
   "metadata": {},
   "outputs": [
    {
     "name": "stdout",
     "output_type": "stream",
     "text": [
      "['first star', 'second star', 'third star']\n"
     ]
    }
   ],
   "source": [
    "s = ' first star : second star : third star '\n",
    "l = s.split(':')\n",
    "l = [x.strip() for x in l]\n",
    "print(l)"
   ]
  },
  {
   "cell_type": "markdown",
   "metadata": {},
   "source": [
    "1) for문을 통하여 리스트가 가지고 있는 각각의 문자열에 대해 strip하여 좌우 공백을 제거한다.  \n",
    "2) 리스트 내포를 이용하여 리스트가 가지고 있는 각각의 문자열에 대해 strip한 값을 새로운 리스트로 만든다."
   ]
  },
  {
   "cell_type": "markdown",
   "metadata": {},
   "source": [
    "## 5번 문제\n",
    "* 다음과 같이 0보다 큰 정수 리스트 변수 list를 인자로 받는 함수 addall(list)와 addallodd(list)를 for ~ in 리터널과 리스트 내포 방식으로 각각 제시하시오.\n",
    "    * 1) addall(list) 함수 (리스트 내의 모든 정수를 더하는 함수로서 해답으로는 for ~ in 리터럴과 리스트 내포 방식으로 각각 제시하시오.)  \n",
    "        * \n",
    "        <br>\n",
    "        `>>>` addall([1])  \n",
    "        1  \n",
    "        * <br>\n",
    "        `>>>` addall([1, 2, 3, 4, 5, 6, 7, 8, 9])  \n",
    "        45  <br><br>\n",
    "    * 2) addallodd(list) 함수 (리스트내의 모든 홀수를 더하는 함수로서 해답으로는 for ~ in 리터럴과 리스트 내포 방식으로 각각 제시하시오.)\n",
    "        *  <br>\n",
    "            `>>>` addallodd([1])  \n",
    "            1\n",
    "        * <br>\n",
    "            `>>>` addallodd([1, 2, 3, 4, 5, 6, 7, 8, 9])  \n",
    "            25  <br><br>\n",
    "    * [참고 1]: 리스트 내포 방식으로 addall() 및 addallodd()함수를 만들 때엔 리스트 내포에 의해 생성된 리스트 결과에 대해 내장 함수를 사용하는 방식을 고려해보시오 (주의: 리스트 내포 방식의 addall() 및 addallodd() 함수의 몸체는 단 1줄로 작성되어야 한다.)\n",
    "    * [참고 2]: sum() 등의 내장함수 사용 가능함"
   ]
  },
  {
   "cell_type": "code",
   "execution_count": 10,
   "metadata": {},
   "outputs": [
    {
     "name": "stdout",
     "output_type": "stream",
     "text": [
      "45\n",
      "45\n"
     ]
    }
   ],
   "source": [
    "def addall(a):\n",
    "    s = 0\n",
    "    for x in a:\n",
    "        s = s + x\n",
    "    print(s)\n",
    "    \n",
    "addall([1, 2, 3, 4, 5, 6, 7, 8, 9])\n",
    "\n",
    "def addall(a):\n",
    "    print(sum([x for x in a]))  \n",
    "    \n",
    "addall([1, 2, 3, 4, 5, 6, 7, 8, 9])"
   ]
  },
  {
   "cell_type": "markdown",
   "metadata": {},
   "source": [
    "for in을 이용하여 인자로 들어온 리스트 안에 있는 값을 전부 s에 더한 후에 s를 출력한다.  \n",
    "리스트 내포 방식을 이용하면서 내장함수 sum을 이용하면, 리스트 안에 있는 값을 더한 값을 바로 출력할 수 있다."
   ]
  },
  {
   "cell_type": "code",
   "execution_count": 14,
   "metadata": {},
   "outputs": [
    {
     "name": "stdout",
     "output_type": "stream",
     "text": [
      "25\n",
      "25\n"
     ]
    }
   ],
   "source": [
    "def addallodd(a):\n",
    "    s = 0\n",
    "    for x in a:\n",
    "        if (x % 2 == 1):\n",
    "            s = s + x\n",
    "    print(s)\n",
    "    \n",
    "addallodd([1, 2, 3, 4, 5, 6, 7, 8, 9])\n",
    "\n",
    "def addallodd(a):\n",
    "    print(sum([x for x in a if (x % 2 == 1)])) \n",
    "\n",
    "addallodd([1, 2, 3, 4, 5, 6, 7, 8, 9])"
   ]
  },
  {
   "cell_type": "markdown",
   "metadata": {},
   "source": [
    "조건식을 걸어 2로 나누었을 때의 나머지가 1인 경우 홀수라고 할 수 있으므로, 홀수로 판단된 경우에만 s에 더하고 짝수인 경우엔 아무것도 수행하지 않는다.  \n",
    "리스트 내포 방식을 이용할 때는, 맨 뒤에 조건식을 써주면 홀수인 x값만 추출할 수 있다."
   ]
  },
  {
   "cell_type": "markdown",
   "metadata": {},
   "source": [
    "## 6번 문제\n",
    "* 다음 코드를 보고 물음에 답하시오.\n",
    "<br>\n",
    "        L1 = [1, 2, 3]  \n",
    "        L2 = [4, 5, 6]  \n",
    "        d = {'low':L1, 'high':L2}  \n",
    "        e = d  \n",
    "        f = d.copy()  \n",
    "        print(d)  \n",
    "        print(e)  \n",
    "        print(f)  \n",
    "        print()  \n",
    "        d['low'] = [10, 20, 30]  \n",
    "        d['high'][1] = 500  \n",
    "        print(d)  \n",
    "        print(e)  \n",
    "        print(f)  \n",
    "        \n",
    "    * 1) 위 코드의 수행 결과 d와 e는 항상 같은 결과를 출력한다. 그 이유는 무엇인가?\n",
    "    * 2) 위 코드의 수행 결과 마지막 f의 내용은 다음과 같다. 이 때 'high' 키의 값 내용 중 500이 출력된 이유와 'low' 키의 값 내용 중 [1, 2, 3]이 출력된 이유를 설명하시오 ([hint]: shallow copy 관점에서 설명하시오.)\n",
    "    <br><br>\n",
    "        {'high': [4, 500, 6], 'low': [1, 2, 3]}"
   ]
  },
  {
   "cell_type": "code",
   "execution_count": 19,
   "metadata": {
    "scrolled": true
   },
   "outputs": [
    {
     "name": "stdout",
     "output_type": "stream",
     "text": [
      "{'low': [1, 2, 3], 'high': [4, 5, 6]}\n",
      "{'low': [1, 2, 3], 'high': [4, 5, 6]}\n",
      "{'low': [1, 2, 3], 'high': [4, 5, 6]}\n",
      "\n",
      "{'low': [10, 20, 30], 'high': [4, 500, 6]}\n",
      "{'low': [10, 20, 30], 'high': [4, 500, 6]}\n",
      "{'low': [1, 2, 3], 'high': [4, 500, 6]}\n",
      "\n",
      "{'low': [10, 20, 30, 40], 'high': [4, 500, 6]}\n",
      "{'low': [1, 2, 3], 'high': [4, 500, 6]}\n"
     ]
    }
   ],
   "source": [
    "L1 = [1, 2, 3]  \n",
    "L2 = [4, 5, 6]  \n",
    "d = {'low':L1, 'high':L2}  \n",
    "e = d  \n",
    "f = d.copy()\n",
    "print(d)  \n",
    "print(e)  \n",
    "print(f)  \n",
    "print()  \n",
    "d['low'] = [10, 20, 30]  \n",
    "d['high'][1] = 500  \n",
    "print(d)  \n",
    "print(e)  \n",
    "print(f)  "
   ]
  },
  {
   "cell_type": "markdown",
   "metadata": {},
   "source": [
    "1) e = d라고 명시했기 때문에, 같은 객체를 참조하게 되어 d와 e는 항상 같은 결과를 출력하게 된다.  \n",
    "2) shallow copy를 하게 되면 복사된 리스트는 별도의 객체가 된다. 따라서 요소가 수정되는 것이 아니라 다른 값으로 대체가 된 것이다. 하지만 리스트 내부의 요소는 같은 객체를 참조하고 있기 때문에, 리스트 내부의 요소를 변경하면 같이 변경된다."
   ]
  },
  {
   "cell_type": "markdown",
   "metadata": {},
   "source": [
    "## 7번 문제\n",
    "* 사전 d = {'one':1, 'two':2, 'three':3, 'four':4, 'five':5}가 주어졌을 때 다음 요구사항에 맞는 코드를 제시하시오\n",
    "    * [참고]: d.keys(), d.values()를 통해 리스트를 얻어낸 후 리스트가 지니고 있는 sort(cmp=None, key=None, reverse=False)함수를 활용하시오.\n",
    "    * 1) 키의 알파벳 오름차순 순서대로 튜플 (키, 값)을 차례대로 출력하시오.\n",
    "    * 2) 키의 알파벳 내림차순 순서대로 튜플 (키, 값)을 차례대로 출력하시오.\n",
    "    * 3) 값의 오름차순 순서대로 튜플 (키, 값)을 차례대로 출력하시오.\n",
    "    * 4) 값의 내림차순 순서대로 튜플 (키, 값)을 차례대로 출력하시오."
   ]
  },
  {
   "cell_type": "code",
   "execution_count": 115,
   "metadata": {},
   "outputs": [
    {
     "name": "stdout",
     "output_type": "stream",
     "text": [
      "키의 알파벳 오름차순 순서대로 출력\n",
      "('five', 5)\n",
      "('four', 4)\n",
      "('one', 1)\n",
      "('three', 3)\n",
      "('two', 2)\n",
      "\n",
      "키의 알파벳 내림차순 순서대로 출력\n",
      "('two', 2)\n",
      "('three', 3)\n",
      "('one', 1)\n",
      "('four', 4)\n",
      "('five', 5)\n",
      "\n",
      "값의 오름차순 순서대로 출력\n",
      "('one', 1)\n",
      "('two', 2)\n",
      "('three', 3)\n",
      "('four', 4)\n",
      "('five', 5)\n",
      "\n",
      "값의 내림차순 순서대로 출력\n",
      "('five', 5)\n",
      "('four', 4)\n",
      "('three', 3)\n",
      "('two', 2)\n",
      "('one', 1)\n"
     ]
    }
   ],
   "source": [
    "d = {'one':1, 'two':2, 'three':3, 'four':4, 'five':5}\n",
    "dkey = []\n",
    "dvalue = []\n",
    "\n",
    "for key in d.keys():\n",
    "    dkey.append(key)    \n",
    "for value in d.values():\n",
    "    dvalue.append(value)\n",
    "    \n",
    "dkey.sort()\n",
    "print(\"키의 알파벳 오름차순 순서대로 출력\")\n",
    "for key in dkey:\n",
    "    result = key, d[key]\n",
    "    print(result)\n",
    "print()\n",
    "print(\"키의 알파벳 내림차순 순서대로 출력\")\n",
    "dkey.sort(reverse=True)\n",
    "for key in dkey:\n",
    "    result = key, d[key]\n",
    "    print(result)\n",
    "print()\n",
    "print(\"값의 오름차순 순서대로 출력\")\n",
    "dvalue.sort()\n",
    "for value in dvalue:\n",
    "    for x in d:\n",
    "        if(d[x] == value):\n",
    "            result = x, value\n",
    "            print(result)\n",
    "print()\n",
    "print(\"값의 내림차순 순서대로 출력\")\n",
    "dvalue.sort(reverse=True)\n",
    "for value in dvalue:\n",
    "    for x in d:\n",
    "        if(d[x] == value):\n",
    "            result = x, value\n",
    "            print(result)"
   ]
  },
  {
   "cell_type": "markdown",
   "metadata": {},
   "source": []
  },
  {
   "cell_type": "markdown",
   "metadata": {},
   "source": [
    "## 8번 문제\n",
    "* [ACM-ICPC 문제 1152번]\n",
    "    * 단어의 개수  \n",
    "      https://www.acmicpc.net/problem/1152"
   ]
  },
  {
   "cell_type": "code",
   "execution_count": 26,
   "metadata": {
    "scrolled": false
   },
   "outputs": [
    {
     "name": "stdout",
     "output_type": "stream",
     "text": [
      "  \n",
      "0\n"
     ]
    }
   ],
   "source": [
    "S = input()\n",
    "if(S.isspace()):\n",
    "    print(0)\n",
    "else : \n",
    "    S = S.strip()\n",
    "    S = S.split(' ')\n",
    "    print(len(S))"
   ]
  },
  {
   "cell_type": "markdown",
   "metadata": {},
   "source": [
    "![1152](image/1152.png)"
   ]
  },
  {
   "cell_type": "markdown",
   "metadata": {},
   "source": [
    "공백문자가 들어가는 경우를 생각하지 못해서 100%에서 계속 틀렸다고 나와 질문 검색란을 참고했습니다. 공백문자만 들어갈 경우 단어의 갯수가 0으로 출력되어야 한다는 답변을 보고 문자열에서 공백문자 검사 메소드를 통하여 답을 찾을 수 있었습니다."
   ]
  },
  {
   "cell_type": "markdown",
   "metadata": {},
   "source": [
    "## 9번 문제\n",
    "* [Incremental Project] 이전 Assignment 2의 마지막 문제는 웹 URL로 지정된 웹페이지를 문자열로 가져와 모든 HTML 태그 및 CSS와 Javascript를 제외한 순수 텍스트를 얻어내고 그 안에 존재하는 단어를 추출하고 단어들의 총 개수를 출력하는 프로그램을 작성하는 것이었다. 이번에는 그 마지막 숙제를 그대로 확장하여 웹 URL로 지정된 웹페이지 내 순수 텍스트 안에 존재하는 각 단어들에 대해 다음 요구사항 대로 출력하는 프로그램을 작성하시오.\n",
    "    * 요구사항 1. 순수 텍스트 안에 존재하는 단어들에 대해 string 모듈을 활용하여 모든 punctuation (구두문자)를 완벽히 제거하시오.\n",
    "        * 예: ['world!', ':', '+hello+', '~python$$$', '=', 'world'] ---> ['world', 'hello', 'python', 'world']\n",
    "        * 모든 punctuation을 확인하는 방법은 아래와 같다. <br> \n",
    "            import string  \n",
    "            print(string.punctuation)  <br>\n",
    "    * 요구사항 2. 만약 punctuation (구두문자)를 제거한 이후 공백으로 판명되는 단어들은 해당 단어 리스트에서 제거하시오.\n",
    "        * 예: ['컴퓨터공학부!', '---?', '%지향~', '...'] ---> ['컴퓨터공학부', '지향']\n",
    "    * 요구사항 3. 각 단어들의 출현빈도를 사전형태로 저장하여 출력하시오.\n",
    "        * 예: ['world', 'hello', 'python', 'world', '컴퓨터공학부', '지향'] ---> {'world': 2, 'hello': 1, 'python': 1, '컴퓨터공학부': 1, '지향': 1}\n",
    "    * 요구사항 4. 다음 3개의 사이트에 대한 결과를 출력하시오.\n",
    "        * http://www.naver.com\n",
    "        * http://www.daum.net\n",
    "        * http://www.nytimes.com"
   ]
  },
  {
   "cell_type": "code",
   "execution_count": 35,
   "metadata": {
    "collapsed": true
   },
   "outputs": [],
   "source": [
    "from urllib import request \n",
    " \n",
    "url = 'http://www.naver.com'\n",
    "f = request.urlopen(url)\n",
    "source_bytes = f.read()\n",
    "source = source_bytes.decode('utf-8')"
   ]
  },
  {
   "cell_type": "code",
   "execution_count": 36,
   "metadata": {
    "scrolled": true
   },
   "outputs": [
    {
     "name": "stdout",
     "output_type": "stream",
     "text": [
      "{'var': 3, 'nsc': 1, 'navertopv3documentdomain': 1, 'navercomvar': 1, 'jindoAll': 1, 'httpsspstaticnetpm2jscjindov171025jsif': 1, 'windowconsole': 1, 'windowconsolewindowconsolelogfunctionvar': 1, 'isLogin': 1, 'false': 3, 'function': 1, 'refreshLcsetc': 1, 'etc': 3, 'ifdocumentcookieindexOfnrefreshx1': 1, '1': 4, 'etcmrf1': 1, 'else': 1, 'etcpanbokreturn': 1, 'etclcsdorefreshLcs': 1, 'NAVER': 3, '뉴스스탠드': 2, '바로가기': 7, '주제별캐스트': 1, '타임스퀘어': 2, '쇼핑캐스트': 2, '로그인': 4, '네이버': 8, '네이버를': 1, '시작페이지로': 1, '쥬니어네이버': 1, '해피빈': 1, '검색': 2, '통합검색': 1, '블로그': 2, '카페': 2, '카페명': 1, '카페글': 1, '지식iN': 1, '뉴스': 6, '사이트': 3, '카테고리': 1, '영화': 4, '웹문서': 1, '사전': 2, '백과사전': 1, '영어사전': 1, '영영사전': 1, '국어사전': 1, '일본어사전': 1, '한자사전': 1, '용어사전': 1, '책': 5, '음악': 1, '전문자료': 1, '쇼핑': 2, '지역': 2, '동영상': 1, '이미지': 1, '내PC': 1, '자동차': 2, '게임': 2, '건강': 2, '인물': 1, '긍정부정검색': 1, '자동완성': 18, '펼치기': 5, '한글': 1, '입력기': 1, '생각한대로': 1, '검색해': 1, '보세요': 2, 'Beta': 1, 'txt': 5, '시간대와': 1, '관심사에': 2, '맞춘': 1, '컨텍스트': 3, '도움말': 6, '보기': 21, 'ON': 1, '선택됨': 1, 'OFF': 1, '동일한': 1, '시간대연령남녀별': 1, '사용자': 1, '그룹의': 1, '맞춰': 1, '자동완성을': 1, '제공합니다': 1, '자세히': 2, 'ONOFF설정은': 1, '해당': 1, '기기브라우저에': 1, '저장됩니다': 1, '레이어': 1, '닫기': 3, '신고': 4, '검색어저장': 6, '켜기': 5, '끄기': 7, '기능을': 5, '다시': 4, '켤': 4, '때는': 4, '을': 4, '클릭하세요': 4, '현재': 1, '사용하고': 1, '계십니다': 1, '기능이': 5, '활성화되었습니다': 1, '꺼져': 3, '있습니다': 5, '최근검색어': 2, '내': 8, '검색어': 7, '등록': 3, 'date': 1, '삭제': 4, 'intxt': 2, '내역이': 1, '없습니다': 3, '저장': 2, '해제': 1, '설정된': 1, '검색어가': 1, '최근검색어에서': 1, '를': 3, '선택하여': 1, '자주': 1, '찾는': 1, '검색어를': 2, '검색어로': 1, '저장해': 1, '알림': 1, '공용': 1, 'PC에서는': 1, '개인정보': 1, '보호를': 1, '위하여': 1, '반드시': 1, '로그아웃을': 1, '해': 1, '주세요': 1, '기록': 3, '전체': 5, '완료': 1, '검색어는': 1, '최대': 1, '10': 7, '개': 1, '까지': 1, '저장할': 1, '수': 2, '추가하시려면': 1, '기존': 1, '지워주세요': 1, '제19대': 1, '대통령선거': 1, '후보에': 1, '대해': 1, '5월': 1, '9일': 1, '선거일까지': 1, '제공되지': 1, '않습니다': 1, '자세히보기': 1, 'image7': 1, '6': 5, '12': 4, '7': 6, '8': 6, '9': 6, '11': 5, '5회차': 1, '13': 3, '14': 3, 'money': 1, '원': 1, '기온': 2, '℃': 2, '5': 6, 'displaylink': 1, '사이트로': 1, '바로': 2, '이동': 3, 'query': 1, 'intend': 1, '바로이동': 1, 'mismatchbefore': 2, 'match': 2, 'mismatchafter': 2, '메일': 1, '지식인': 1, '네이버페이': 1, '네이버TV': 1, '증권금융': 1, '부동산': 2, '지도': 1, '뮤직': 2, '만화': 1, '웹툰': 2, '더보기': 1, '실시간': 2, '급상승': 3, '권역외상센터': 2, '2': 2, 'sbs스페셜': 2, '3': 3, '부산행': 2, '4': 3, '이해진': 2, '믹스나인': 2, '블랙': 2, '내일': 2, '날씨': 2, '신의탑': 2, '홍종학': 2, '황금빛내인생': 2, '1박2일': 2, '도둑놈': 2, '도둑님': 2, '런닝맨': 2, '글자수세기': 2, '15': 2, '변혁의': 2, '사랑': 2, '16': 2, '윤송이': 3, '17': 2, '토익': 2, '18': 2, '맞춤법검사기': 2, '19': 2, '이영학': 2, '20': 2, '할로윈': 2, 'DataLab': 1, '트래킹': 1, '110위': 1, '1120위': 1, '데이터랩': 20, '그래프': 20, '20171030': 1, '000430': 1, '기준': 1, '연합뉴스': 1, '與': 1, '보이콧에': 1, '국민': 1, '분노…한국당': 1, '사회주의': 1, '독재행태': 1, '맞설': 1, '것': 2, '댓글수사': 1, '방해': 1, '문모': 1, '국정원': 1, '前국장': 1, '구속영장': 1, '사이버사': 1, '靑보고문서': 1, '발견…기무사': 1, '댓글공작도': 1, '日': 1, '정부': 1, '홈피에': 1, '독도일본땅': 1, '학교': 1, '부교재': 1, '게재': 1, '美전략무기': 1, '순환배치': 1, '확대': 1, '공감…정교히': 1, '움직일듯': 1, '韓中': 1, '정상회담': 1, '앞두고': 1, '사드': 1, '부담': 1, '털기': 1, '사장': 1, '父살해': 1, '피의자': 1, '리니지': 1, '아이템': 1, '거래': 1, '30일': 1, '최저기온': 1, '영하': 1, '3도…올가을': 1, '들어': 1, '가장쌀쌀': 1, '임기영': 1, '호투': 1, 'KIA': 1, '1패뒤': 1, '3연승…1승만': 1, '더하면': 1, 'V11': 1, '낙태죄': 1, '폐지': 1, '靑청원': 1, '20만명': 1, '넘어…소년법': 1, '개정': 1, '이어': 1, '두번째': 1, '네이버뉴스': 1, '연예': 1, '스포츠': 2, '경제': 1, '랭킹': 1, '언론사': 5, 'MY': 1, '이미지형': 1, '리스트형': 1, '설정': 3, '이전': 2, '페이지': 2, '다음': 2, '목록': 3, '구독': 19, '해지': 18, '기사보기': 18, '종합경제': 1, '방송통신': 1, 'IT': 1, '영자지': 1, '스포츠연예': 1, '매거진전문지': 1, '설정한': 3, '언론사가': 1, '설정에서': 1, 'MY언론사를': 1, '추가하면': 1, '언론사의': 1, '기사들을': 1, '홈에서': 1, '보실': 1, '추가': 1, 'Sign': 3, 'in': 2, 'Connect': 1, 'with': 1, 'people': 1, 'up': 1, 'Forgot': 1, 'Username': 1, 'or': 1, 'Password': 1, '1030': 1, '월': 1, '앞의': 1, '목록으로': 2, '뒤의': 1, 'TV뉴스': 1, '저녁': 1, '메인': 1, '다시보기': 1, '학습': 1, '최신': 1, '시사상식': 1, '영어로': 1, '듣는': 1, '영어톡톡': 1, '서울시': 1, 'lsquo뉴타운': 1, '출구전략lsquo': 1, '마무리재개발사업': 1, '대안은': 1, '여전히': 1, '과제': 1, '주제형': 1, '캐스트': 1, '관심': 4, '주제': 9, '선택': 1, '리빙': 1, '푸드': 1, '패션뷰티': 1, '맘·키즈': 1, 'TV연예': 1, '책문화': 2, '함께N': 1, '여행': 1, '디자인': 2, '경제M': 1, 'JOB': 1, '과학': 1, '중국': 1, '비즈니스': 3, 'FARM': 1, '스쿨잼': 1, '공연전시': 1, '법률': 1, '동물공감': 1, '연애·결혼': 1, '테크': 1, '열기': 1, 'name': 3, 'nameif': 1, 'isNewPanel': 1, 'NEW': 1, 'if': 1, '관심주제로': 1, '설정하시겠습니까': 1, '확인': 3, '취소': 3, '모바일에서': 1, '가져오시겠습니까': 1, '관심주제': 1, '모바일': 2, '가져오기': 2, '후': 2, '사용': 2, '가능합니다': 2, '초기화': 1, '전체선택': 1, '지식인의서재': 1, '베스트셀러': 1, '책문화블로그': 1, 'e북': 1, '베스트': 1, '저자': 1, '생중계': 1, '지식백과': 1, '열린연단': 1, '레버넌트': 1, '룸': 1, 'THE': 1, '33': 1, '이거': 1, '실화': 1, '믿기': 1, '힘든': 1, '실화를': 1, '바탕으로': 1, '한': 1, '소설': 2, 'Best': 2, '신들의': 1, '세계에도': 1, '비선실세가': 1, '있었다': 1, '처음': 1, '시작하는': 1, '그리스': 1, '신화': 1, '남자가': 2, '생리하면': 1, '국가가': 1, '평생': 1, '생리대': 1, '지급했을': 1, '월경을': 1, '한다면': 1, '나는': 2, '나를': 1, '사랑해': 1, 'For': 1, 'Me족': 1, '소소한': 1, '사치': 1, '즐긴다': 1, '1코노미': 1, '마음이': 1, '불안할': 1, '때': 1, '위로와': 1, '힘을': 1, '주는': 1, '캐치북': 1, '일상의': 1, '즐거움을': 1, '깨닫게': 1, '하는': 1, '인문학': 1, '시드페이퍼': 1, '출간전연재': 2, '최은미': 1, '장편소설': 1, '너무': 1, '완벽해서': 1, '수상한': 1, '사람': 1, '아홉번째': 1, '파도': 1, '브랜드': 1, '디자인의': 1, '콜라보레이션': 1, '트렌드': 1, '2018': 1, '고릴라': 1, '우리에': 1, '떨어진': 1, '아이': 1, '괜찮을까': 1, '마음을': 1, '읽는다는': 1, '착각': 1, '책미리보기': 1, '두꺼운': 1, '지갑': 2, '스튜핏': 1, '먼저': 1, '정리하자': 1, '돈': 1, '정리의': 1, '마법': 1, '묶인': 1, '삶에서': 1, '자유로운': 1, '삶을': 1, '사는': 1, '방법': 1, '자유롭고': 1, '싶다': 1, '말': 1, '걸지': 1, '못하고': 1, '놓쳐버린': 1, '인연을': 1, '알리는': 1, '그때': 1, '말할': 1, '걸': 1, '그랬어': 1, '사이코패스가': 1, '쳐놓은': 1, '덫에': 1, '걸렸다': 1, '검은집': 1, '독서의': 1, '계절': 1, '가을': 1, '쉽게': 2, '읽히는': 1, '한국': 1, '추천': 1, '토니': 1, '매니저': 1, 'httpscastboxshoppingnavercomshopboxmainnhnsvglesstrue': 1, '제2회': 1, '소상공인의날': 1, '우리동네': 1, '소상공인': 1, '축제': 1, '전국의': 1, '작은가게를': 1, '응원하고': 1, '다양한': 1, '혜택도': 1, '누리세요': 1, '도전': 1, '코딩미션': 1, '2017': 1, '온라인코딩파티': 1, '10월': 1, '23일부터': 1, '2주간': 1, '누구나': 1, '배우는': 1, 'SW': 1, '공지사항': 1, '주이스트소프트': 1, '계정': 1, '침해': 1, '대상자에': 1, '대한': 1, '안내': 2, '서비스': 1, '전체보기': 1, '프로젝트': 2, '꽃': 2, '인공지능': 1, '스피커': 2, '프렌즈': 1, '클로바': 1, 'AI': 1, 'Creators': 1, '크리에이터': 1, '스몰비즈니스': 1, 'Partners': 1, '파트너': 1, '·': 1, '광고': 1, '스토어': 1, '개설': 1, '지역업체': 1, 'Developers': 1, '개발자센터': 1, '오픈': 1, 'API': 1, '오픈소스': 1, 'D2': 1, '랩스': 1, '정책': 2, '및': 1, '약관': 1, '회사소개': 1, '인재채용': 1, '제휴제안': 1, '이용약관': 1, '개인정보처리방침': 1, '청소년보호정책': 1, '고객센터': 1, 'ⓒ': 1, 'Corp': 1, 'svr': 2, 'svt': 1, '20171030000500var': 1, 'aPanelListAllvar': 1, 'nmainJS': 1, 'httpsspstaticnetpm2jscnmainv171025jsvar': 1, 'sThemecastAdScriptUrl': 1, 'httpssslpstaticnettvetalibsassetsjspcmainminpcvetacoreminjs20170914nmainJSpushsThemecastAdScriptUrlfunction': 1, 'loadJS': 1, 'jindoLazyLoadingloadnmainJS': 1, 'functionif': 1, 'JEagleEyeClientsetEnabletrueiftypeof': 1, 'initPage': 1, 'undefined': 1, 'initPagetry': 1, 'aPanelListAll': 1, 'openDatenulladMapnullcodeLIVINGHOMEname리빙csslivinghomenclicklifopenDatenulladMapnullcodeLIVINGname푸드csslivingnclickfodopenDatenulladMapnullcodeSPORTSname스포츠csssportsnclickspoopenDatenulladMapnullcodeCARGAMEname자동차csscargamenclickautopenDatenulladMapnullcodeBEAUTYname패션뷰티cssbeautynclickbtyopenDatenulladMapnullcodeMOMKIDSname맘·키즈cssmomkidsnclickmomopenDatenulladMapnullcodeHEALTHname건강csshealthnclickheaopenDatenulladMapnullcodeBBOOMname웹툰cssbboomnclickwebopenDatenulladMapnullcodeGAMEAPPname게임cssgameappnclickgamopenDatenulladMapnullcodeVIDEOnameTV연예cssvideonclicktvcopenDatenulladMapnullcodeMUSICname뮤직cssmusicnclickmucopenDatenulladMapnullcodeMOVIEname영화cssmovienclickmovopenDatenulladMapnullcodeCULTUREname책문화cssculturenclickbokopenDatenulladMapnullcodeWITHname함께NcsswithnclickpubopenDatenulladMapnullcodeTRAVELname여행csstravelnclicktraopenDatenulladMapnullcodeDESIGNname디자인cssdesignnclickdesopenDatenulladMapnullcodeFINANCEname경제McssfinancenclickfinopenDatenulladMapnullcodeJOBnameJOBcssjobnclickjobopenDatenulladMapnullcodeSCIENCEname과학csssciencenclicksciopenDatenulladMapnullcodeCHINAname중국csschinanclickchnopenDatenulladMapnullcodeBUSINESSname비즈니스cssbusinessnclickbsnopenDatenulladMapnullcodeFARMnameFARMcssfarmnclickfaropenDatenulladMapnullcodeSCHOOLname스쿨잼cssschoolnclicksclopenDate20170622adMapnullcodeSHOWname공연전시cssshownclicksowopenDate20170803adMapnullcodeLAWname법률csslawnclicklawopenDate20170824adMapnullcodeANIMALname동물공감cssanimalnclickaniopenDate20170831adMapnullcodeWEDDINGname연애·결혼cssweddingnclickwedopenDate20170921adMapnullcodeITTECHname테크cssittechnclicktec': 1, 'catche': 1, 'JEagleEyeClientsendErrorinvalid': 1, 'paneljsonnavermainPageRefreshinitnavermainPanelinitaPanelListAllnavermainLoginitnavermainServiceNaviinitnavermainThemecastNaviinitbFlick': 1, 'falsesAdList': 1, 'headermsgsuccesscode0bodyadScriptListadScriptPCMain1httpshttpssslpstaticnettvetalibsassetsjspcmainminpcvetacoreminjshttphttpssslpstaticnettvetalibsassetsjspcmainminpcvetacoreminjsadListmenuBUSINESSadTypesingleDommultiDomAdUrlmultiDomUnitinfoListadposId1000084singleDomAdUrlhttpnvvetanavercomfxshowparamdadomidpmainbusiness00tbBUSINESS1unitSU10204typepositionrelpositionIndex0subjectcontentsdomnullmenuDESIGNadTypesingleDommultiDomAdUrlmultiDomUnitinfoListadposId1000090singleDomAdUrlhttpnvvetanavercomfxshowparamdadomidpmaindesign00tbDESIGN1unitSU10205typepositionrelpositionIndex0subjectcontentsdomnullmenuJOBadTypesingleDommultiDomAdUrlmultiDomUnitinfoListadposId1000088singleDomAdUrlhttpnvvetanavercomfxshowparamdadomidpmainjob00tbJOB1unitSU10200typepositionrelpositionIndex0subjectcontentsdomnullmenuMOMKIDSadTypesingleDommultiDomAdUrlmultiDomUnitinfoListadposId1000089singleDomAdUrlhttpnvvetanavercomfxshowparamdadomidpmainmomkids00tbMOMKIDS1unitSU10226typepositionrelpositionIndex0subjectcontentsdomnullmenuMOVIEadTypesingleDommultiDomAdUrlmultiDomUnitinfoListadposId1000087singleDomAdUrlhttpnvvetanavercomfxshowparamdadomidpmainmovie00tbMOVIE1unitSU10199typepositionrelpositionIndex0subjectcontentsdomnullmenuSCHOOLadTypesingleDommultiDomAdUrlmultiDomUnitinfoListadposId1000085singleDomAdUrlhttpnvvetanavercomfxshowparamdadomidpmainschool01tbSCHOOL1unitSU10210typepositionrelpositionIndex0subjectcontentsdomnullmenuTRAVELadTypesingleDommultiDomAdUrlmultiDomUnitinfoListadposId1000086singleDomAdUrlhttpnvvetanavercomfxshowparamdadomidpmaintravel00tbTRAVEL1unitSU10198typepositionrelpositionIndex0subjectcontentsdomnullnavermainCenterBannerinitnewSmartSearchnew': 1, 'navermainNewsstandrcode': 1, '15133102': 1, 'newspaperURL': 1, 'newspapernavercom': 1, 'newsStandURL': 1, 'newsstandnavercom': 1, 'userInfoURL': 1, 'userinfowwwnavercom': 1, 'newsCastInfo': 1, 'newsStandInfo': 1, 'headlineList': 1, 'pid': 1, '002003005006008009011013014015016018020021022023024025028029030031032038040042044047050052055056057073075076079081082083087088089092108109117120122123135138139140143144213214215241243277293296308310311312314326327328329330331332333334335336337338339340344345346354355356361362363364366368374376384385386387388389390391396404410416417421422440447536539901902903904905906907908909910911912913914915916917920921922923924925926927928930931932933934935936937938939940941942943944945946947948949': 1, 'amigo': 1, 'invalid': 1, 'pressCategory': 1, 'ct1pid032name경향신문imghttpsspstaticnetstaticnewsstandup20170424nsd14372435pngcatect2amigoNviewerYtodayNlocalnullpid005name국민일보imghttpsspstaticnetstaticnewsstandup20170424nsd1438916pngcatect2amigoNviewerYtodayNlocalnullpid079name노컷뉴스imghttpsspstaticnetstaticnewsstandup20170424nsd143958887pngcatect2amigoNviewerYtodayNlocalnullpid327name뉴데일리imghttpsspstaticnetstaticnewsstandup20170424nsd144037935pngcatect2amigoNviewerYtodayNlocalnullpid003name뉴시스imghttpsspstaticnetstaticnewsstandup20170424nsd14449981pngcatect3amigoNviewerYtodayNlocalnullpid368name데일리안imghttpsspstaticnetstaticnewsstandup20170424nsd14463367pngcatect2amigoNviewerYtodayNlocalnullpid020name동아일보imghttpsspstaticnetstaticnewsstandup20170424nsd14479875pngcatect2amigoNviewerYtodayNlocalnullpid029name디지털타임스imghttpsspstaticnetstaticnewsstandup20170424nsd144824356pngcatect4amigoNviewerYtodayNlocalnullpid117name마이데일리imghttpsspstaticnetstaticnewsstandup20170424nsd144944309pngcatect6amigoNviewerYtodayNlocalnullpid009name매일경제imghttpsspstaticnetstaticnewsstandup20170424nsd145032565pngcatect2amigoNviewerYtodayNlocalnullpid008name머니투데이imghttpsspstaticnetstaticnewsstandup20170424nsd145214517pngcatect2amigoNviewerYtodayNlocalnullpid021name문화일보imghttpsspstaticnetstaticnewsstandup20170424nsd19245981pngcatect2amigoNviewerYtodayNlocalnullpid006name미디어오늘imghttpsspstaticnetstaticnewsstandup20170424nsd145346617pngcatect2amigoNviewerYtodayNlocalnullpid293name블로터imghttpsspstaticnetstaticnewsstandup20170424nsd145534698pngcatect4amigoNviewerYtodayNlocalnullpid011name서울경제imghttpsspstaticnetstaticnewsstandup20170424nsd145718601pngcatect2amigoNviewerYtodayNlocalnullpid081name서울신문imghttpsspstaticnetstaticnewsstandup20170424nsd145738195pngcatect2amigoNviewerYtodayNlocalnullpid022name세계일보imghttpsspstaticnetstaticnewsstandup20170424nsd145813557pngcatect2amigoNviewerYtodayNlocalnullpid314name스포츠동아imghttpsspstaticnetstaticnewsstandup20170424nsd145951763pngcatect6amigoNviewerYtodayNlocalnullpid076name스포츠조선imghttpsspstaticnetstaticnewsstandup20170424nsd183553864pngcatect6amigoNviewerYtodayNlocalnullpid139name스포탈코리아imghttpsspstaticnetstaticnewsstandup20170424nsd151840663pngcatect6amigoNviewerYtodayNlocalnullpid277name아시아경제imghttpsspstaticnetstaticnewsstandup20170424nsd153432228pngcatect2amigoNviewerYtodayNlocalnullpid031name아이뉴스24imghttpsspstaticnetstaticnewsstandup20170424nsd153955864pngcatect4amigoNviewerYtodayNlocalnullpid047name오마이뉴스imghttpsspstaticnetstaticnewsstandup20170424nsd154314463pngcatect2amigoNviewerYtodayNlocalnullpid018name이데일리imghttpsspstaticnetstaticnewsstandup20170424nsd154426359pngcatect2amigoNviewerYtodayNlocalnullpid241name일간스포츠imghttpsspstaticnetstaticnewsstandup20170424nsd154619739pngcatect6amigoNviewerYtodayNlocalnullpid030name전자신문imghttpsspstaticnetstaticnewsstandup20170424nsd162528724pngcatect4amigoNviewerYtodayNlocalnullpid366name조선비즈imghttpsspstaticnetstaticnewsstandup20170424nsd162659528pngcatect2amigoNviewerYtodayNlocalnullpid023name조선일보imghttpsspstaticnetstaticnewsstandup20170424nsd162718792pngcatect2amigoNviewerYtodayNlocalnullpid330name중앙데일리imghttpsspstaticnetstaticnewsstandup20170424nsd162959945pngcatect5amigoNviewerYtodayNlocalnullpid025name중앙일보imghttpsspstaticnetstaticnewsstandup20170424nsd164240664pngcatect2amigoNviewerYtodayNlocalnullpid092name지디넷코리아imghttpsspstaticnetstaticnewsstandup20170424nsd16425834pngcatect4amigoNviewerYtodayNlocalnullpid376name지지통신imghttpsspstaticnetstaticnewsstandup20170424nsd16432873pngcatect3amigoNviewerYtodayNlocalnullpid040name코리아타임스imghttpsspstaticnetstaticnewsstandup20170424nsd1729401pngcatect5amigoNviewerYtodayNlocalnullpid044name코리아헤럴드imghttpsspstaticnetstaticnewsstandup20170424nsd17341942pngcatect5amigoNviewerYtodayNlocalnullpid014name파이낸셜뉴스imghttpsspstaticnetstaticnewsstandup20170424nsd172557496pngcatect2amigoNviewerYtodayNlocalnullpid002name프레시안imghttpsspstaticnetstaticnewsstandup20170424nsd172615885pngcatect2amigoNviewerYtodayNlocalnullpid028name한겨레imghttpsspstaticnetstaticnewsstandup20170424nsd17263596pngcatect2amigoNviewerYtodayNlocalnullpid015name한국경제imghttpsspstaticnetstaticnewsstandup20170424nsd172736175pngcatect2amigoNviewerYtodayNlocalnullpid215name한국경제TVimghttpsspstaticnetstaticnewsstandup20170424nsd172755139pngcatect3amigoNviewerYtodayNlocalnullpid038name한국일보imghttpsspstaticnetstaticnewsstandup20170424nsd172837200pngcatect2amigoNviewerYtodayNlocalnullpid016name헤럴드경제imghttpsspstaticnetstaticnewsstandup20170424nsd172855569pngcatect2amigoNviewerYtodayNlocalnullpid056nameKBSimghttpsspstaticnetstaticnewsstandup20170424nsd173124306pngcatect3amigoNviewerYtodayNlocalnullpid326nameKBS': 1, 'Worldimghttpsspstaticnetstaticnewsstandup20170424nsd173138949pngcatect5amigoNviewerYtodayNlocalnullpid214nameMBCimghttpsspstaticnetstaticnewsstandup20170424nsd17324940pngcatect3amigoNviewerYtodayNlocalnullpid057nameMBNimghttpsspstaticnetstaticnewsstandup20170424nsd173223533pngcatect3amigoNviewerYtodayNlocalnullpid109nameOSENimghttpsspstaticnetstaticnewsstandup20170424nsd17338859pngcatect6amigoNviewerYtodayNlocalnullpid055nameSBSimghttpsspstaticnetstaticnewsstandup20170424nsd173335676pngcatect3amigoNviewerYtodayNlocalnullpid052nameYTNimghttpsspstaticnetstaticnewsstandup20170424nsd173559874pngcatect3amigoNviewerYtodayNlocalnullct2pid032name경향신문imghttpsspstaticnetstaticnewsstandup20170424nsd14372435pngcatect2amigoNviewerYtodayNlocalnullpid005name국민일보imghttpsspstaticnetstaticnewsstandup20170424nsd1438916pngcatect2amigoNviewerYtodayNlocalnullpid944name나우뉴스imghttpsspstaticnetstaticnewsstandup20170424nsd14392079pngcatect2amigoNviewerYtodayNlocalnullpid079name노컷뉴스imghttpsspstaticnetstaticnewsstandup20170424nsd143958887pngcatect2amigoNviewerYtodayNlocalnullpid327name뉴데일리imghttpsspstaticnetstaticnewsstandup20170424nsd144037935pngcatect2amigoNviewerYtodayNlocalnullpid930name뉴스타파imghttpsspstaticnetstaticnewsstandup20170424nsd144152433pngcatect2amigoNviewerYtodayNlocalnullpid913name뉴스토마토imghttpsspstaticnetstaticnewsstandup20170424nsd14431117pngcatect2amigoNviewerYtodayNlocalnullpid914name뉴스핌imghttpsspstaticnetstaticnewsstandup20170613nsd173430698pngcatect2amigoNviewerYtodayNlocalnullpid536name더팩트imghttpsspstaticnetstaticnewsstandup20170424nsd144543120pngcatect2amigoNviewerYtodayNlocalnullpid368name데일리안imghttpsspstaticnetstaticnewsstandup20170424nsd14463367pngcatect2amigoNviewerYtodayNlocalnullpid020name동아일보imghttpsspstaticnetstaticnewsstandup20170424nsd14479875pngcatect2amigoNviewerYtodayNlocalnullpid009name매일경제imghttpsspstaticnetstaticnewsstandup20170424nsd145032565pngcatect2amigoNviewerYtodayNlocalnullpid008name머니투데이imghttpsspstaticnetstaticnewsstandup20170424nsd145214517pngcatect2amigoNviewerYtodayNlocalnullpid021name문화일보imghttpsspstaticnetstaticnewsstandup20170424nsd19245981pngcatect2amigoNviewerYtodayNlocalnullpid006name미디어오늘imghttpsspstaticnetstaticnewsstandup20170424nsd145346617pngcatect2amigoNviewerYtodayNlocalnullpid931name민중의소리imghttpsspstaticnetstaticnewsstandup20170424nsd14546867pngcatect2amigoNviewerYtodayNlocalnullpid939name브릿지경제imghttpsspstaticnetstaticnewsstandup20170424nsd145512265pngcatect2amigoNviewerYtodayNlocalnullpid943name비즈니스워치imghttpsspstaticnetstaticnewsstandup20170424nsd145553365pngcatect2amigoNviewerYtodayNlocalnullpid942name비즈니스포스트imghttpsspstaticnetstaticnewsstandup20170424nsd145630550pngcatect2amigoNviewerYtodayNlocalnullpid011name서울경제imghttpsspstaticnetstaticnewsstandup20170424nsd145718601pngcatect2amigoNviewerYtodayNlocalnullpid081name서울신문imghttpsspstaticnetstaticnewsstandup20170424nsd145738195pngcatect2amigoNviewerYtodayNlocalnullpid022name세계일보imghttpsspstaticnetstaticnewsstandup20170424nsd145813557pngcatect2amigoNviewerYtodayNlocalnullpid277name아시아경제imghttpsspstaticnetstaticnewsstandup20170424nsd153432228pngcatect2amigoNviewerYtodayNlocalnullpid920name아시아투데이imghttpsspstaticnetstaticnewsstandup20170424nsd153458161pngcatect2amigoNviewerYtodayNlocalnullpid921name아주경제imghttpsspstaticnetstaticnewsstandup20170424nsd154016764pngcatect2amigoNviewerYtodayNlocalnullpid013name연합인포맥스imghttpsspstaticnetstaticnewsstandup20170424nsd154238686pngcatect2amigoNviewerYtodayNlocalnullpid047name오마이뉴스imghttpsspstaticnetstaticnewsstandup20170424nsd154314463pngcatect2amigoNviewerYtodayNlocalnullpid539name위키트리imghttpsspstaticnetstaticnewsstandup20170424nsd15444343pngcatect2amigoNviewerYtodayNlocalnullpid018name이데일리imghttpsspstaticnetstaticnewsstandup20170424nsd154426359pngcatect2amigoNviewerYtodayNlocalnullpid243name이코노미스트imghttpsspstaticnetstaticnewsstandup20170424nsd15444742pngcatect2amigoNviewerYtodayNlocalnullpid922name이투데이imghttpsspstaticnetstaticnewsstandup20170424nsd15453589pngcatect2amigoNviewerYtodayNlocalnullpid923name인민망imghttpsspstaticnetstaticnewsstandup20170424nsd154522345pngcatect2amigoNviewerYtodayNlocalnullpid925name일요신문imghttpsspstaticnetstaticnewsstandup20170424nsd192546763pngcatect2amigoNviewerYtodayNlocalnullpid366name조선비즈imghttpsspstaticnetstaticnewsstandup20170424nsd162659528pngcatect2amigoNviewerYtodayNlocalnullpid023name조선일보imghttpsspstaticnetstaticnewsstandup20170424nsd162718792pngcatect2amigoNviewerYtodayNlocalnullpid025name중앙일보imghttpsspstaticnetstaticnewsstandup20170424nsd164240664pngcatect2amigoNviewerYtodayNlocalnullpid941name초이스경제imghttpsspstaticnetstaticnewsstandup20170424nsd164431529pngcatect2amigoNviewerYtodayNlocalnullpid143name쿠키뉴스imghttpsspstaticnetstaticnewsstandup20170424nsd172415111pngcatect2amigoNviewerYtodayNlocalnullpid014name파이낸셜뉴스imghttpsspstaticnetstaticnewsstandup20170424nsd172557496pngcatect2amigoNviewerYtodayNlocalnullpid002name프레시안imghttpsspstaticnetstaticnewsstandup20170424nsd172615885pngcatect2amigoNviewerYtodayNlocalnullpid028name한겨레imghttpsspstaticnetstaticnewsstandup20170424nsd17263596pngcatect2amigoNviewerYtodayNlocalnullpid015name한국경제imghttpsspstaticnetstaticnewsstandup20170424nsd172736175pngcatect2amigoNviewerYtodayNlocalnullpid038name한국일보imghttpsspstaticnetstaticnewsstandup20170424nsd172837200pngcatect2amigoNviewerYtodayNlocalnullpid016name헤럴드경제imghttpsspstaticnetstaticnewsstandup20170424nsd172855569pngcatect2amigoNviewerYtodayNlocalnullpid932nameCEO스코어데일리imghttpsspstaticnetstaticnewsstandup20170904nsd10420716pngcatect2amigoNviewerYtodayNlocalnullpid120nameEBNimghttpsspstaticnetstaticnewsstandup20171017nsd173540697pngcatect2amigoNviewerYtodayNlocalnullct3pid421name뉴스1imghttpsspstaticnetstaticnewsstandup20170424nsd14405515pngcatect3amigoNviewerYtodayNlocalnullpid003name뉴시스imghttpsspstaticnetstaticnewsstandup20170424nsd14449981pngcatect3amigoNviewerYtodayNlocalnullpid916name머니투데이방송imghttpsspstaticnetstaticnewsstandup20170424nsd145249746pngcatect3amigoNviewerYtodayNlocalnullpid934name아리랑TVimghttpsspstaticnetstaticnewsstandup20170424nsd153357809pngcatect3amigoNviewerYtodayNlocalnullpid422name연합뉴스TVimghttpsspstaticnetstaticnewsstandup20170424nsd154219877pngcatect3amigoNviewerYtodayNlocalnullpid376name지지통신imghttpsspstaticnetstaticnewsstandup20170424nsd16432873pngcatect3amigoNviewerYtodayNlocalnullpid903name채널에이imghttpsspstaticnetstaticnewsstandup20170424nsd164352456pngcatect3amigoNviewerYtodayNlocalnullpid215name한국경제TVimghttpsspstaticnetstaticnewsstandup20170424nsd172755139pngcatect3amigoNviewerYtodayNlocalnullpid938name환경TVimghttpsspstaticnetstaticnewsstandup20170424nsd172938871pngcatect3amigoNviewerYtodayNlocalnullpid933nameCNNimghttpsspstaticnetstaticnewsstandup20170424nsd173010586pngcatect3amigoNviewerYtodayNlocalnullpid344nameEBSimghttpsspstaticnetstaticnewsstandup20170424nsd173043431pngcatect3amigoNviewerYtodayNlocalnullpid904nameJTBCimghttpsspstaticnetstaticnewsstandup20170424nsd173111263pngcatect3amigoNviewerYtodayNlocalnullpid056nameKBSimghttpsspstaticnetstaticnewsstandup20170424nsd173124306pngcatect3amigoNviewerYtodayNlocalnullpid906nameKNNimghttpsspstaticnetstaticnewsstandup20170424nsd173151831pngcatect3amigoNviewerYtodayNlocalnullpid214nameMBCimghttpsspstaticnetstaticnewsstandup20170424nsd17324940pngcatect3amigoNviewerYtodayNlocalnullpid057nameMBNimghttpsspstaticnetstaticnewsstandup20170424nsd173223533pngcatect3amigoNviewerYtodayNlocalnullpid340nameOBSimghttpsspstaticnetstaticnewsstandup20170424nsd173252323pngcatect3amigoNviewerYtodayNlocalnullpid055nameSBSimghttpsspstaticnetstaticnewsstandup20170424nsd173335676pngcatect3amigoNviewerYtodayNlocalnullpid374nameSBSCNBCimghttpsspstaticnetstaticnewsstandup20170424nsd173348251pngcatect3amigoNviewerYtodayNlocalnullpid902nameTV조선imghttpsspstaticnetstaticnewsstandup20170424nsd1735138pngcatect3amigoNviewerYtodayNlocalnullpid052nameYTNimghttpsspstaticnetstaticnewsstandup20170424nsd173559874pngcatect3amigoNviewerYtodayNlocalnullpid945nameYTN사이언스imghttpsspstaticnetstaticnewsstandup20170424nsd173618176pngcatect3amigoNviewerYtodayNlocalnullct4pid910name넥스트데일리imghttpsspstaticnetstaticnewsstandup20170424nsd143938201pngcatect4amigoNviewerYtodayNlocalnullpid138name디지털데일리imghttpsspstaticnetstaticnewsstandup20170424nsd14481127pngcatect4amigoNviewerYtodayNlocalnullpid029name디지털타임스imghttpsspstaticnetstaticnewsstandup20170424nsd144824356pngcatect4amigoNviewerYtodayNlocalnullpid293name블로터imghttpsspstaticnetstaticnewsstandup20170424nsd145534698pngcatect4amigoNviewerYtodayNlocalnullpid031name아이뉴스24imghttpsspstaticnetstaticnewsstandup20170424nsd153955864pngcatect4amigoNviewerYtodayNlocalnullpid030name전자신문imghttpsspstaticnetstaticnewsstandup20170424nsd162528724pngcatect4amigoNviewerYtodayNlocalnullpid092name지디넷코리아imghttpsspstaticnetstaticnewsstandup20170424nsd16425834pngcatect4amigoNviewerYtodayNlocalnullpid917nameIT조선imghttpsspstaticnetstaticnewsstandup20170424nsd173057968pngcatect4amigoNviewerYtodayNlocalnullct5pid330name중앙데일리imghttpsspstaticnetstaticnewsstandup20170424nsd162959945pngcatect5amigoNviewerYtodayNlocalnullpid040name코리아타임스imghttpsspstaticnetstaticnewsstandup20170424nsd1729401pngcatect5amigoNviewerYtodayNlocalnullpid044name코리아헤럴드imghttpsspstaticnetstaticnewsstandup20170424nsd17341942pngcatect5amigoNviewerYtodayNlocalnullpid326nameKBS': 1, 'Worldimghttpsspstaticnetstaticnewsstandup20170424nsd173138949pngcatect5amigoNviewerYtodayNlocalnullpid946nameYONHAPNEWSimghttpsspstaticnetstaticnewsstandup20170424nsd173542219pngcatect5amigoNviewerYtodayNlocalnullct6pid447name뉴스엔imghttpsspstaticnetstaticnewsstandup20170424nsd144110729pngcatect6amigoNviewerYtodayNlocalnullpid117name마이데일리imghttpsspstaticnetstaticnewsstandup20170424nsd144944309pngcatect6amigoNviewerYtodayNlocalnullpid108name스타뉴스imghttpsspstaticnetstaticnewsstandup20170424nsd14592836pngcatect6amigoNviewerYtodayNlocalnullpid144name스포츠경향imghttpsspstaticnetstaticnewsstandup20170424nsd14593063pngcatect6amigoNviewerYtodayNlocalnullpid314name스포츠동아imghttpsspstaticnetstaticnewsstandup20170424nsd145951763pngcatect6amigoNviewerYtodayNlocalnullpid073name스포츠서울imghttpsspstaticnetstaticnewsstandup20170424nsd15042554pngcatect6amigoNviewerYtodayNlocalnullpid396name스포츠월드imghttpsspstaticnetstaticnewsstandup20170424nsd1521496pngcatect6amigoNviewerYtodayNlocalnullpid076name스포츠조선imghttpsspstaticnetstaticnewsstandup20170424nsd183553864pngcatect6amigoNviewerYtodayNlocalnullpid940name스포츠투데이imghttpsspstaticnetstaticnewsstandup20170424nsd183628961pngcatect6amigoNviewerYtodayNlocalnullpid139name스포탈코리아imghttpsspstaticnetstaticnewsstandup20170424nsd151840663pngcatect6amigoNviewerYtodayNlocalnullpid311name엑스포츠뉴스imghttpsspstaticnetstaticnewsstandup20170424nsd154117pngcatect6amigoNviewerYtodayNlocalnullpid241name일간스포츠imghttpsspstaticnetstaticnewsstandup20170424nsd154619739pngcatect6amigoNviewerYtodayNlocalnullpid947name조이뉴스24imghttpsspstaticnetstaticnewsstandup20170424nsd162759461pngcatect6amigoNviewerYtodayNlocalnullpid312name텐아시아imghttpsspstaticnetstaticnewsstandup20170424nsd172519405pngcatect6amigoNviewerYtodayNlocalnullpid440name티브이데일리imghttpsspstaticnetstaticnewsstandup20170424nsd172538465pngcatect6amigoNviewerYtodayNlocalnullpid410nameMK스포츠imghttpsspstaticnetstaticnewsstandup20170424nsd173237747pngcatect6amigoNviewerYtodayNlocalnullpid109nameOSENimghttpsspstaticnetstaticnewsstandup20170424nsd17338859pngcatect6amigoNviewerYtodayNlocalnullpid416nameSBS연예스포츠imghttpsspstaticnetstaticnewsstandup20170424nsd173430905pngcatect6amigoNviewerYtodayNlocalnullpid213nameTV리포트imghttpsspstaticnetstaticnewsstandup20170424nsd173446621pngcatect6amigoNviewerYtodayNlocalnullpid404nameenews24imghttpsspstaticnetstaticnewsstandup20170424nsd173715121pngcatect6amigoNviewerYtodayNlocalnullct7pid356name게임메카imghttpsspstaticnetstaticnewsstandup20170424nsd143454437pngcatect7amigoNviewerYtodayNlocalnullpid363name과학동아imghttpsspstaticnetstaticnewsstandup20170424nsd143721586pngcatect7amigoNviewerYtodayNlocalnullpid908name국방일보imghttpsspstaticnetstaticnewsstandup20170424nsd143827635pngcatect7amigoNviewerYtodayNlocalnullpid911name농민신문imghttpsspstaticnetstaticnewsstandup20170424nsd144020188pngcatect7amigoNviewerYtodayNlocalnullpid912name뉴스컬처imghttpsspstaticnetstaticnewsstandup20170424nsd14412867pngcatect7amigoNviewerYtodayNlocalnullpid905name더스쿠프imghttpsspstaticnetstaticnewsstandup20170424nsd144523858pngcatect7amigoNviewerYtodayNlocalnullpid042name데일리한국imghttpsspstaticnetstaticnewsstandup20170424nsd144629578pngcatect7amigoNviewerYtodayNlocalnullpid345name디자인정글imghttpsspstaticnetstaticnewsstandup20170424nsd144732945pngcatect7amigoNviewerYtodayNlocalnullpid915name르몽드': 1, '디플로마티크imghttpsspstaticnetstaticnewsstandup20170424nsd1449112pngcatect7amigoNviewerYtodayNlocalnullpid024name매경이코노미imghttpsspstaticnetstaticnewsstandup20170424nsd145011543pngcatect7amigoNviewerYtodayNlocalnullpid075name맥스무비imghttpsspstaticnetstaticnewsstandup20170424nsd183033195pngcatect7amigoNviewerYtodayNlocalnullpid417name머니에스imghttpsspstaticnetstaticnewsstandup20170424nsd145150694pngcatect7amigoNviewerYtodayNlocalnullpid122name법률신문imghttpsspstaticnetstaticnewsstandup20170424nsd145431309pngcatect7amigoNviewerYtodayNlocalnullpid355name사이언스타임즈imghttpsspstaticnetstaticnewsstandup20170424nsd145657590pngcatect7amigoNviewerYtodayNlocalnullpid329name소년한국일보imghttpsspstaticnetstaticnewsstandup20170424nsd14583498pngcatect7amigoNviewerYtodayNlocalnullpid308name시사인imghttpsspstaticnetstaticnewsstandup20170424nsd151929775pngcatect7amigoNviewerYtodayNlocalnullpid135name시사저널imghttpsspstaticnetstaticnewsstandup20170424nsd153228485pngcatect7amigoNviewerYtodayNlocalnullpid140name씨네21imghttpsspstaticnetstaticnewsstandup20170424nsd153251814pngcatect7amigoNviewerYtodayNlocalnullpid328name에이블뉴스imghttpsspstaticnetstaticnewsstandup20170424nsd154040656pngcatect7amigoNviewerYtodayNlocalnullpid354name엘르imghttpsspstaticnetstaticnewsstandup20170424nsd154119884pngcatect7amigoNviewerYtodayNlocalnullpid310name여성신문imghttpsspstaticnetstaticnewsstandup20170424nsd154151666pngcatect7amigoNviewerYtodayNlocalnullpid924name인벤imghttpsspstaticnetstaticnewsstandup20170424nsd154539705pngcatect7amigoNviewerYtodayNlocalnullpid362name자동차생활imghttpsspstaticnetstaticnewsstandup20170424nsd162354371pngcatect7amigoNviewerYtodayNlocalnullpid123name조세일보imghttpsspstaticnetstaticnewsstandup20170424nsd162739461pngcatect7amigoNviewerYtodayNlocalnullpid361name채널예스imghttpsspstaticnetstaticnewsstandup20170424nsd164412540pngcatect7amigoNviewerYtodayNlocalnullpid928name컴퓨터월드imghttpsspstaticnetstaticnewsstandup20170424nsd17150763pngcatect7amigoNviewerYtodayNlocalnullpid296name코메디닷컴imghttpsspstaticnetstaticnewsstandup20170424nsd172354656pngcatect7amigoNviewerYtodayNlocalnullpid948name한겨레21imghttpsspstaticnetstaticnewsstandup20170424nsd172654646pngcatect7amigoNviewerYtodayNlocalnullpid050name한경비즈니스imghttpsspstaticnetstaticnewsstandup20170424nsd172712628pngcatect7amigoNviewerYtodayNlocalnullpid384name한국대학신문imghttpsspstaticnetstaticnewsstandup20170424nsd172816434pngcatect7amigoNviewerYtodayNlocalnullpid346name헬스조선imghttpsspstaticnetstaticnewsstandup20170424nsd172911723pngcatect7amigoNviewerYtodayNlocalnullpid364namePC사랑imghttpsspstaticnetstaticnewsstandup20170424nsd173322105pngcatect7amigoNviewerYtodayNlocalnullpid949nameTheAsiaNimghttpsspstaticnetstaticnewsstandup20170424nsd173523100pngcatect7amigoNviewerYtodayNlocalnullct8pid335name강원도민일보imghttpsspstaticnetstaticnewsstandup20170424nsd14341394pngcatect8amigoNviewerYtodayNlocalname강원code01pid087name강원일보imghttpsspstaticnetstaticnewsstandup20170424nsd143434899pngcatect8amigoNviewerYtodayNlocalname강원code01pid339name경기일보imghttpsspstaticnetstaticnewsstandup20170424nsd143511509pngcatect8amigoNviewerYtodayNlocalname경기code02name인천code11pid333name경남신문imghttpsspstaticnetstaticnewsstandup20170424nsd143531816pngcatect8amigoNviewerYtodayNlocalname경남code03name부산code08name울산code10pid907name경북매일신문imghttpsspstaticnetstaticnewsstandup20170424nsd143555345pngcatect8amigoNviewerYtodayNlocalname경북code04name대구code06pid337name경북일보imghttpsspstaticnetstaticnewsstandup20170424nsd143612100pngcatect8amigoNviewerYtodayNlocalname경북code04name대구code06name울산code10pid935name경상일보imghttpsspstaticnetstaticnewsstandup20170424nsd143628241pngcatect8amigoNviewerYtodayNlocalname울산code10pid338name경인일보imghttpsspstaticnetstaticnewsstandup20170424nsd143645415pngcatect8amigoNviewerYtodayNlocalname경기code02name인천code11pid083name광주일보imghttpsspstaticnetstaticnewsstandup20170424nsd143742681pngcatect8amigoNviewerYtodayNlocalname광주code05name전남code12pid332name국제신문imghttpsspstaticnetstaticnewsstandup20170424nsd143844997pngcatect8amigoNviewerYtodayNlocalname경남code03name부산code08name울산code10pid909name기호일보imghttpsspstaticnetstaticnewsstandup20170424nsd14392544pngcatect8amigoNviewerYtodayNlocalname경기code02name인천code11pid936name대구일보imghttpsspstaticnetstaticnewsstandup20170424nsd144433908pngcatect8amigoNviewerYtodayNlocalname경북code04name대구code06pid089name대전일보imghttpsspstaticnetstaticnewsstandup20170424nsd144457151pngcatect8amigoNviewerYtodayNlocalname대전code07name충남code15name충북code16name세종code17pid088name매일신문imghttpsspstaticnetstaticnewsstandup20170424nsd14505572pngcatect8amigoNviewerYtodayNlocalname경북code04name대구code06pid082name부산일보imghttpsspstaticnetstaticnewsstandup20170424nsd145450220pngcatect8amigoNviewerYtodayNlocalname경남code03name부산code08name울산code10pid385name영남일보imghttpsspstaticnetstaticnewsstandup20170424nsd154255890pngcatect8amigoNviewerYtodayNlocalname경북code04name대구code06pid386name울산매일imghttpsspstaticnetstaticnewsstandup20170424nsd154334776pngcatect8amigoNviewerYtodayNlocalname울산code10pid387name인천일보imghttpsspstaticnetstaticnewsstandup20170424nsd154558680pngcatect8amigoNviewerYtodayNlocalname경기code02name인천code11pid388name전남일보imghttpsspstaticnetstaticnewsstandup20170424nsd162423309pngcatect8amigoNviewerYtodayNlocalname광주code05name전남code12pid937name전북도민일보imghttpsspstaticnetstaticnewsstandup20170424nsd16244628pngcatect8amigoNviewerYtodayNlocalname전북code13pid336name전북일보imghttpsspstaticnetstaticnewsstandup20170424nsd16256807pngcatect8amigoNviewerYtodayNlocalname전북code13pid901name제민일보imghttpsspstaticnetstaticnewsstandup20170424nsd16254923pngcatect8amigoNviewerYtodayNlocalname제주code14pid389name제주도민일보imghttpsspstaticnetstaticnewsstandup20170424nsd1626960pngcatect8amigoNviewerYtodayNlocalname제주code14pid334name제주의소리imghttpsspstaticnetstaticnewsstandup20170424nsd162631114pngcatect8amigoNviewerYtodayNlocalname제주code14pid390name중도일보imghttpsspstaticnetstaticnewsstandup20170424nsd162822857pngcatect8amigoNviewerYtodayNlocalname대전code07name충남code15pid926name중부일보imghttpsspstaticnetstaticnewsstandup20170424nsd162931439pngcatect8amigoNviewerYtodayNlocalname경기code02name인천code11pid927name충북일보imghttpsspstaticnetstaticnewsstandup20170424nsd164449667pngcatect8amigoNviewerYtodayNlocalname충북code16name세종code17pid391name충청일보imghttpsspstaticnetstaticnewsstandup20170424nsd17115481pngcatect8amigoNviewerYtodayNlocalname대전code07name충남code15name충북code16name세종code17pid331name충청투데이imghttpsspstaticnetstaticnewsstandup20170424nsd17133978pngcatect8amigoNviewerYtodayNlocalname대전code07name충남code15name충북code16name세종code17isSupportedFlicking': 1, 'new': 2, 'navermainTimesquare': 1, 'aOrderedPanel': 1, 'codeweathername날씨codenewsname뉴스codesportsname스포츠codeconversationname회화codelifetoolsname생활도구': 1, 'isSupportedFlicking': 1, 'navermainRealtimeKeywordif': 1, 'Agentnavigatorie': 1, 'Agentnavigatorversion': 1}\n"
     ]
    }
   ],
   "source": [
    "# \\n, \\t 제거\n",
    "temp = source.replace('\\n', '')\n",
    "temp = temp.replace('\\t', '')\n",
    "temp = temp.replace('>', '>$')\n",
    "temp = temp.split('<')\n",
    "result = []\n",
    "\n",
    "x = 0\n",
    "count = 0\n",
    "\n",
    "while x < len(temp):\n",
    "    temp[x] = temp[x].strip()\n",
    "    if(temp[x].find('$') != -1):\n",
    "        temp2 = temp[x].split('$')\n",
    "        y = 0\n",
    "        while y < len(temp2):\n",
    "            temp2[y].strip()\n",
    "            if((temp2[y].find('>') == -1) and (temp2[y] != '')):\n",
    "                result.append(temp2[y])\n",
    "            y = y + 1\n",
    "    x = x + 1\n",
    "\n",
    "\n",
    "result = ' '.join(result)\n",
    "result = result.split(' ')\n",
    "\n",
    "x = 0\n",
    "import string\n",
    "while x < len(result):\n",
    "    for z in string.punctuation:\n",
    "        result[x] = result[x].replace(z, '')\n",
    "    x = x + 1\n",
    "\n",
    "count = 0\n",
    "while count < len(result):\n",
    "    if(result[count] == ''):\n",
    "        result.pop(count)    \n",
    "    else:\n",
    "        count = count + 1\n",
    "        \n",
    "d = dict()\n",
    "for x in result:\n",
    "    if x not in d:\n",
    "        d[x] = 1\n",
    "    else:\n",
    "        d[x] = d[x] + 1\n",
    "    \n",
    "print(d)"
   ]
  },
  {
   "cell_type": "code",
   "execution_count": 37,
   "metadata": {
    "collapsed": true
   },
   "outputs": [],
   "source": [
    "from urllib import request \n",
    " \n",
    "url = 'http://www.daum.net'\n",
    "f = request.urlopen(url)\n",
    "source_bytes = f.read()\n",
    "source = source_bytes.decode('utf-8')"
   ]
  },
  {
   "cell_type": "code",
   "execution_count": 38,
   "metadata": {},
   "outputs": [
    {
     "name": "stdout",
     "output_type": "stream",
     "text": [
      "{'Daum': 1, 'charset': 1, 'utf8bodydivdldtddulollih1h2h3h4h5h6precodeformfieldsetlegendtextareapblockquotethtdinputselectbuttonmargin0padding0fieldsetimgborder0': 1, 'nonedlulolmenuliliststylenoneblockquote': 1, 'qquotes': 1, 'noneblockquotebefore': 1, 'blockquoteafterqbefore': 1, 'qaftercontentcontentnoneinputselecttextareabuttonverticalalignmiddleinputmscleardisplaynonebuttonborder0': 1, 'nonebackgroundcolortransparentcursorpointerbodybackgroundfffdirectionltrwebkittextsizeadjustnonebodythtdinputselecttextareabuttonfontsize13pxlineheight15fontfamilyAppleSDGothicNeoRegularMalgun': 1, 'Gothic맑은': 1, '고딕dotum돋움sansserifcolor222letterspacing1pxosmac': 1, 'bodyosmac': 1, 'thosmac': 1, 'tdosmac': 1, 'inputosmac': 1, 'selectosmac': 1, 'textareaosmac': 1, 'buttonletterspacing0acolor222textdecorationnoneahovercolor118efftextdecorationunderlineaactivebackgroundcolortransparentaddresscaptioncitecodedfnemvarfontstylenormalfontweightnormalirpmdisplayblockoverflowhiddenfontsize1pxlineheight0textindent9999pxirwadisplayblockoverflowhiddenpositionrelativewidth100height100zindex1screenoutoverflowhiddenpositionabsolutewidth0height0lineheight0textindent9999pxshowdisplayblockhidedisplaynonedindexpositionrelativewidth100dindex': 1, 'shortcutgpositionabsolutetop34pxleft0height33pxpadding0': 1, '20px': 1, '0': 125, '26pxborderbottom1px': 1, 'solid': 53, '3f4243fontsize11pxlineheight14pxbackgroundcolor26292acolorfffletterspacing1pxtextaligncenterdindex': 1, 'shortcutgactivedindex': 2, 'shortcutgfocusoverflowhiddentop0textdecorationnonezindex101dindex': 1, 'shortcutghovercolorfffdindex': 1, 'shortcutg': 2, 'innershortcutdisplayinlineblockpaddingright10pxmargintop8pxbackgroundposition100': 1, '220pxverticalaligntoposmac': 1, 'dindex': 1, 'innershortcutmargintop11pxbackgroundposition100': 1, '223pxicopctopoverflowhiddenbackgroundurlt1daumcdnnetdaumtopdecoimagestop2017icopctop170828png': 1, 'norepeat': 17, '0icovertoverflowhiddenbackgroundurlt1daumcdnnetdaumtopdecoimagestop2017icopctopvert170724png': 1, '0txtpctopoverflowhiddenbackgroundurlt1daumcdnnetdaumtopdecoimagestop2017txtpctop170915png': 1, '0letterspacing1pxwhitespacenowrapbgpctopbackgroundurlt1daumcdnnetdaumtopdecoimagestop2017bgpctop170328png': 1, '0numpctopoverflowhiddenbackgroundurlt1daumcdnnetdaumtopdecoimagestop2017numpctop170405png': 1, '0imgthumbdisplayblockverticalaligntopframegpositionabsolutetop0left0border1px': 1, '000opacity008filteralphaopacity8thumbgdisplayblockpositionrelativedaumWrappositionrelativeminwidth1080pxosmac': 1, 'daumWraptransformtranslate3d0px': 1, '0px': 2, '0pxheaddaumpositionrelativezindex100contmainpositionrelativewidth990pxmargin15px': 1, 'auto': 3, '0conttopicoverflowhiddenpositionrelativezindex0width100bordertop1px': 1, 'ecececbackgroundcolorfbfbfcbackgroundposition50': 1, '100backgroundrepeatnorepeatfeaturetmpdisplayinlineblockverticalaligntopwrapmainpaddingbottom40pxclearbothzoom1wrapmainafterdisplayblockvisibilityhiddenheight0fontsize0clearbothcontentcmaintmpfloatleftwidth655pxmarginright35pxwingtmpfloatleftwidth300pxfootdaumbordertop1px': 1, '888footdaum': 1, 'innerfootoverflowhiddenpositionrelativewidth990pxmargin0': 1, 'autopadding37px': 1, '78pxfootdaum': 1, 'linklogofloatleftfootdaum': 1, 'infonoticeoverflowhiddenpadding0': 1, '250px': 3, '30pxfootdaum': 1, 'titnoticefloatleftfontsize13pxfootdaum': 1, 'linknoticedisplayblockpaddingright9pxbackgroundposition100': 1, '169pxfootdaum': 1, 'linknoticehovercolor222footdaum': 1, 'listnoticeoverflowhiddenwidth542pxheight19pxpaddingleft9pxfootdaum': 1, 'listnotice': 2, 'linkinfodisplayblockoverflowhiddentextoverflowellipsiswhitespacenowrapfootdaum': 1, 'linkinfohovercolor222footdaum': 1, 'searchfootpositionabsolutetop32pxright0footdaum': 1, 'boxsearchpositionrelativezindex1width209pxheight28pxborder1px': 1, 'c8c8c8footdaum': 1, 'searchonbordercolor0089fffootdaum': 1, 'tfkeywordfloatleftwidth164pxmargin5px': 1, '9pxborder1px': 1, 'transparentlineheight19pxoutline0footdaum': 1, 'btnsearchfloatrightwidth32pxheight28pxlineheight28pxbackgroundposition0': 1, '230pxbackgroundcolortransparentfootdaum': 1, 'linksvcallpositionabsolutetop81pxright0paddingright10pxfontweightboldcolor888backgroundposition100': 1, '194pxfootdaum': 1, 'infopolicypadding23px': 1, '0footdaum': 1, 'infopolicy': 2, 'linkpolicyfontsize12pxcolor888footdaum': 1, 'txtdotpadding0': 1, '2pxfontsize12pxcolor888footdaum': 1, 'txtcopyrightdisplayblockpaddingtop6pxfontsize11pxcolor888footdaum': 1, 'txtcopyright': 1, 'linkkakaocolor888osmac': 1, 'footdaum': 6, 'infonoticepadding3px': 1, '31pxosmac': 1, 'linknoticepaddingright12pxbackgroundpositiony172pxosmac': 1, 'tfkeywordmargintop4pxosmac': 1, 'linksvcalltop83pxbackgroundpositiony196pxosmac': 1, 'infopolicypaddingtop24pxosmac': 1, 'txtcopyrightpaddingtop5pxdheadborderbottom1px': 1, 'ecececdhead': 1, 'innerheadpositionrelativezindex1width1080pxheight150pxmargin0': 1, 'autotitdaumoverflowhiddenfloatleftwidth180pxheight150pxtextaligncenterlinkdaumoverflowhiddendisplayblockmargin28px': 1, 'autolinklaunchpositionabsolutetop6pxleft45pxpaddingright8pxfontsize11pxcolor888backgroundposition100': 1, '18pxosmac': 1, 'linklaunchtop9pxbackgroundposition100': 1, '21pxwrapsearchfloatleftpositionrelativemargintop50pxwrapsearch': 1, 'dschbackgroundcolorfffheaddaum': 1, 'boxsearchpositionrelativeheight44pxmargin1px': 1, '1px': 3, '0border1px': 2, '0089ffborderradius1pxheaddaum': 1, 'boxsearch': 2, 'innersearchpositionrelativezindex1height44pxpadding0': 1, '60px': 1, '14pxheaddaum': 1, 'boxsearchbefore': 1, 'headdaum': 5, 'innersearchbefore': 1, 'boxsearchafterpositionabsoluteleft0right100height1pxcontentbackgroundcolor0089ffheaddaum': 1, 'boxsearchbeforetop1pxheaddaum': 1, 'boxsearchafterbottom1pxheaddaum': 1, 'boxsearchhoverbefore': 1, 'boxsearchhoverafterright0transitionpropertyrighttransitionduration08sbackgroundlineargradientto': 1, 'right': 1, '86aaff': 1, '70bc4c': 1, 'ffbe00': 1, 'f46e85headdaum': 1, 'boxsearchhover': 1, 'innersearchbeforetop1pxbottom1pxleftautoright1pxwidth1pxheight46pxbackgroundcolorf46e85transitionpropertyheighttransitiondelay08sheaddaum': 1, 'tfkeywordfloatleftwidth442pxmargintop7pxborder1px': 1, 'transparentfontsize18pxlineheight24pxbackgroundcolortransparentoutline0imemodeactivewebkitappearancenoneheaddaum': 1, 'btnsearchpositionabsolutetop0right0width49pxheight42pxmargin1pxlineheight44pxbackgroundposition40px': 1, '231pxbackgroundcolortransparentslidefavorschoverflowhiddenwidth480pxheight28pxlistfavorschoverflowhiddenpaddingtop7pxlistfavorsch': 1, 'lifloatleftpaddingright10pxlistfavorsch': 1, 'linkfavorschdisplayblockfontsize12pxcolor555headdaum': 1, 'pagepctopzindex1right1pxbottom3pxheadbnrpositionabsolutetop33pxright45pxheadbnr': 1, 'linkheadbnrdisplayblockosmac': 1, 'boxsearchmargintop0osmac': 1, 'tfkeywordmargintop11pxosmac': 1, 'listfavorschpaddingtop10pxosmac': 1, 'listfavorsch': 1, 'lipaddingright14pxdaumSuggestWrappositionrelativemarginright90pxclearbothsuggestBoxpositionabsolutetop45pxleft0zindex9999width520pxpadding0backgroundnonebaseBoxbordertop1px': 1, 'dcdcdcfontsize12pxlineheight17pxfontfamily굴림gulimsansserifbackgroundcolorfffosmac': 1, 'baseBoxfontfamilyApple': 1, 'SD': 6, 'Gothic': 6, 'NeosansserifsuggestBox': 3, 'listpadding7px': 1, '13pxborderleft1px': 1, 'dcdcdcborderright1px': 2, 'dcdcdccolor333backgroundcolorfffsuggestBoxreverseType': 1, 'listpadding3px': 1, '7pxcolor333suggestBox': 1, 'baseBox': 4, 'lioverflowhiddenheight26pxpadding0': 1, '16pxlineheight26pxtextalignleftcursorpointersuggestBox': 1, 'li': 8, 'itemdisplayblockheight100suggestBox': 1, 'itemhovertextdecorationnonesuggestBox': 1, 'list': 1, 'onbackgroundcolorf6f6f6suggestBox': 1, 'strongfontweightnormalcolor0089ffsuggestBox': 1, 'lineoverflowhiddenheight1pxmargin7px': 1, '6pxpadding0fontsize1pxlineheight1pxbackgroundcolore5e5e5suggestBox': 1, 'guidepadding15px': 1, '10pxcolor555suggestBox': 1, 'footerpositionrelativeheight20pxpadding8px': 1, '12px': 3, '4px': 5, '7pxborder1px': 1, 'dcdcdcbordertop1px': 1, 'ecececfontsize11pxbackgroundcolorfbfbfbletterspacing1pxclearbothsuggestBoxreverseType': 1, 'footerbordertopcolordcdcdcborderbottomcoloredededsuggestBox': 1, 'footer': 7, 'flfloatleftsuggestBox': 1, 'frfloatrightsuggestBox': 1, 'btnclosepaddingleft12pxbackgroundposition0': 1, '939pxsuggestBox': 1, 'bardisplaynonepadding0': 1, '2pxcolordddsuggestBox': 1, 'fl': 1, 'barpadding0': 1, '2px': 10, '1pxsuggestBox': 1, 'offGuidedisplaynonepositionabsoluteright0bottom19pxwidth211pxheight27pxbackgroundurlsearch1daumcdnnetsearchstaticscommonpisuggestservicegif': 1, 'norepeattextindent999emsuggestBox': 1, 'offSuggestdisplaynoneosmac': 1, 'suggestBox': 8, 'listpadding9px': 1, '11pxosmac': 1, 'lipadding0': 1, '17pxsuggestBox': 1, 'acolor777suggestBox': 1, 'answerborderleft1px': 1, 'dcdcdcsuggestBox': 1, 'answer': 1, 'spancursorpointersuggestBox': 1, 'afontsize14pxcolor333fontfamily돋움dotumsansseriftextdecorationnoneosmac': 1, 'afontfamilyApple': 1, 'linedisplayblockoverflowhiddenclearbothsuggestBox': 1, 'blineborderbottom1px': 1, 'edededsuggestBox': 1, 'suggestexactdisplayblockoverflowhiddenheight40pxpadding12px': 1, '11px': 1, '18pxsuggestBox': 1, 'suggestexacthovertextdecorationnonesuggestBox': 1, 'eonbackgroundcolorf8f8f8textdecorationnonesuggestBox': 1, 'suggestexact': 56, 'txtexactoverflowhiddenfloatleftheight44pxmargintop0backgroundposition0': 1, '0suggestBox': 3, 'txtunitfontsize14pxfontfamilyarialsansserifsuggestBox': 1, 'titmarginleft1pxfontweightnormalfontsize12pxlineheight18pxfontfamily굴림gulimsansserifcolor333suggestBox': 1, 'contdisplayblocksuggestBox': 1, 'txtcontmarginright4pxfontweightboldfontsize14pxlineheight16pxfontfamily돋움dotumsansserifcolor333suggestBox': 1, 'txtnum1fontsize18pxlineheight20pxfontfamilytahomasansserifcolor333suggestBox': 1, 'txtnum2marginleft3pxfontsize12pxlineheight14pxfontfamily굴림gulimsansserifcolor333suggestBox': 1, 'txtnum3fontsize20pxlineheight23pxfontfamilyarialsansserifcolor333suggestBox': 1, 'txtnum4marginleft3pxfontsize12pxlineheight14pxfontfamily굴림gulimsansserifcolor333suggestBox': 1, 'txtexact': 5, 'icosuggest2backgroundurlsearch1daumcdnnetsearchstaticscommonpiicoicosuggest20110721gif': 1, 'icocelsiusbackgroundnonesuggestBox': 1, 'icoarrowuppaddingleft11pxbackgroundposition0': 1, '58pxsuggestBox': 1, 'icoarrowdownpaddingleft11pxbackgroundposition0': 1, '98pxsuggestBox': 1, 'icoarrowequalpaddingleft11pxbackgroundposition0': 1, '75pxsuggestBox': 1, 'txtbluecolor007affsuggestBox': 1, 'txtblue2color007affsuggestBox': 1, 'txtredcolore52d38suggestBox': 1, 'txtred2colore52d38suggestBox': 1, 'txttimefloatrightmargin25px': 1, '16px': 3, '0fontsize11pxfontfamily돋움dotumsansserifcolora1a1a1suggestBox': 1, 'icocelsiuswidth12pxheight13pxfontfamilyarialsansserifbackgroundpositionright': 1, '5pxsuggestBox': 1, 'barfontsize14pxcolordededesuggestBox': 1, 'wraptodayoverflowhiddenheight21pxpadding4px': 1, '10px': 2, '9pxlineheight21pxsuggestBox': 1, 'wraptoday': 2, 'contfontsize14pxcolor333textdecorationnonesuggestBox': 1, 'contimportfontweightnormalcolorea570aosmac': 1, 'titfontfamilyApple': 1, 'Neosansserifosmac': 3, 'txtnum2fontfamilyApple': 1, 'txtnum4fontfamilyApple': 1, 'txttimefontfamilyApple': 1, 'icolottofloatleftwidth28pxheight28pxmargin6px': 1, '5px': 3, '0borderradius20pxtextaligncentersuggestBox': 1, 'icolotto': 1, 'txtnumdisplayinlineblockmargintop7pxfontsize14pxlineheight1fontfamilyarialsansserifcolorfffverticalaligntopsuggestBox': 1, 'num1backgroundcolorf6a800suggestBox': 1, 'num10backgroundcolor4155cbsuggestBox': 1, 'num20backgroundcolorf64d61suggestBox': 1, 'num30backgroundcolor585d6esuggestBox': 1, 'num40backgroundcolorf6a800suggestBox': 1, 'pluswidth8pxheight8pxmargin16px': 1, '8px': 7, '4pxbackgroundurlsearch1daumcdnnetsearchstaticscommonpiicoicosuggest20110721gif': 1, '40pxtextindent9999pxopacity05suggestBox': 1, 'icosuggestpaddingleft59pxcolor555backgroundurlsearch1daumcdnnetsearchstaticscommonpiweathericoweathermpng': 1, 'norepeatsuggestBox': 1, 'icosuggest': 1, 'cont': 1, 'screenoutpositionstaticfontsize14pxfontfamilyarialsansseriftextindent0suggestBox': 1, 'txtexactoverflowhiddenfloatleftheight44pxmargintop0suggestBox': 1, 'icow00backgroundposition0': 1, '1620pxsuggestBox': 1, 'icow01backgroundposition0': 2, 'night': 16, '60pxsuggestBox': 1, 'icow02backgroundposition0': 2, '120pxsuggestBox': 1, '180pxsuggestBox': 1, 'icow03backgroundposition0': 2, '240pxsuggestBox': 1, '300pxsuggestBox': 1, 'icow04backgroundposition0': 1, '360pxsuggestBox': 1, 'icow05backgroundposition0': 2, '420pxsuggestBox': 1, '480pxsuggestBox': 1, 'icow06backgroundposition0': 2, '540pxsuggestBox': 1, '600pxsuggestBox': 1, 'icow07backgroundposition0': 1, '660pxsuggestBox': 1, 'icow08backgroundposition0': 1, '720pxsuggestBox': 1, 'icow09backgroundposition0': 1, '780pxsuggestBox': 1, 'icow10backgroundposition0': 2, '840pxsuggestBox': 1, '900pxsuggestBox': 1, 'icow11backgroundposition0': 1, '960pxsuggestBox': 1, 'icow12backgroundposition0': 1, '1020pxsuggestBox': 1, 'icow13backgroundposition0': 2, '1080pxsuggestBox': 1, '1140pxsuggestBox': 1, 'icow14backgroundposition0': 1, '1200pxsuggestBox': 1, 'icow15backgroundposition0': 1, '1260pxsuggestBox': 1, 'icow16backgroundposition0': 2, '1320pxsuggestBox': 1, '1380pxsuggestBox': 1, 'icow17backgroundposition0': 1, '1440pxsuggestBox': 1, 'icow18backgroundposition0': 1, '1500pxsuggestBox': 1, 'icow19backgroundposition0': 1, '1560pxdaumSuggestWrapdisplaynonedserviceborderbottom1px': 1, '888dservice': 1, 'innerservicepositionrelativewidth990pxheight45pxmargin0': 1, 'automenuservicefloatleftpositionrelativewidth660pxmenuservice': 1, 'linkmoreoverflowhiddenfloatleftwidth60pxheight25pxpadding10px': 1, '9pxlineheight20pxbackgroundposition0': 1, '8pxbackgroundcolortransparenttextaligncentermenuon': 1, 'linkmorebackgroundposition60px': 1, '8pxlistmainsvcfloatleftlistmainsvc': 1, 'lifloatleftheight45pxlistmainsvc': 1, 'txtpctopdisplayblockheight25pxpadding10px': 1, '0fontweightboldfontsize13pxlineheight25pxbackgroundcolortransparenttextaligncenterlistmainsvc': 1, 'linkcafewidth30pxbackgroundposition0': 1, '30pxlistmainsvc': 13, 'linkmailwidth36pxbackgroundposition30px': 1, 'linknewswidth37pxbackgroundposition66px': 1, 'linkmapwidth36pxbackgroundposition103px': 1, 'linkstockwidth37pxbackgroundposition139px': 1, 'linkshoppingwidth36pxbackgroundposition176px': 1, 'linkkakaotvwidth64pxbackgroundposition212px': 1, 'linkwebtoonwidth37pxbackgroundposition276px': 1, 'linkblogwidth48pxbackgroundposition313px': 1, 'linkbrunchwidth47pxbackgroundposition361px': 1, 'linkdicwidth36pxbackgroundposition408px': 1, 'linkgamewidth37pxbackgroundposition444px': 1, 'linkstarplaywidth59pxbackgroundposition481px': 1, 'linktogetherwidth59pxbackgroundposition540px': 1, '30pxservicelayerdisplaynonepositionabsolutetop45pxleft0width653pxborder1px': 1, '888backgroundcolorfffmenuon': 1, 'servicelayerdisplayblockservicelayer': 1, 'layerbodyoverflowhiddenbackgroundurlt1daumcdnnetdaumtopdecoimagestop2017bglinegif': 1, 'repeaty': 1, '0servicelayer': 1, 'sortservicefloatleftwidth94pxpadding0': 1, '15px': 3, '15pxservicelayer': 1, 'sortservicefstpaddingleft14pxservicelayer': 1, 'sortservice': 9, 'dtmargin11px': 1, '4pxfontweightboldfontsize12pxservicelayer': 1, 'ddclearbothfontsize12pxlineheight22pxservicelayer': 1, 'titsplitfloatleftpaddingright9pxbackgroundposition100': 1, '5pxservicelayer': 1, 'titsplit2margintop22pxservicelayer': 1, 'linksvccolor555servicelayer': 1, 'linksvchovercolor118effservicelayer': 1, 'iconewdisplayinlineblockwidth11pxheight11pxmargin2px': 1, '2pxfontsize0lineheight0backgroundposition160px': 1, '80pxverticalalignmiddletextindent9999pxservicelayer': 1, 'layerfootoverflowhiddenheight32pxbordertop1px': 1, 'ecececbackgroundcolorfbfbfbservicelayer': 1, 'layerfoot': 4, 'linktotalfloatleftpaddingright8pxmarginleft13pxfontsize11pxlineheight29pxcolor555backgroundposition100': 1, '12pxservicelayer': 1, 'btnclosefloatrightpadding0': 1, '13pxmargin2pxfontsize11pxlineheight24pxcolor888osmac': 1, 'servicelayer': 5, 'sortservicepaddingbottom12pxosmac': 1, 'dtmargin14px': 1, '4pxosmac': 2, 'titsplitbackgroundposition100': 1, '3pxosmac': 1, 'linktotalpaddingright10pxmarginleft14pxlineheight32pxbackgroundposition100': 1, '12pxosmac': 2, 'btnclosepadding0': 1, '12pxlineheight28pxtodaybasefloatrightpositionrelativeheight45pxtodaybase': 1, 'compbasedisplayinlineblockverticalaligntoptodaybase': 1, 'imgweatherbackgroundimageurlt1daumcdnnetdaumtopdecoimagestop2017imgweather170628pngbackgroundrepeatnorepeatfontsize0lineheight0textindent9999pxtodaybase': 1, 'txttemperfloatleftfontsize14pxfontfamilytahomaarialsansserifletterspacing0osmac': 1, 'todaybase': 1, 'txttemperfontfamilyhelveticaarialsansserifinfotodayfloatleftfontsize13pxinfotoday': 1, 'datetodayfloatleftheight24pxpaddingtop10pxlineheight20pxletterspacing0infotoday': 1, 'txtpartfloatleftmarginright5pxfontweightboldlineheight24pxinfotoday': 1, 'linkweatherfloatleftheight25pxmarginleft16pxpadding8px': 1, '12pxlineheight24pxtextalignrightinfotoday': 1, 'linkweatherhovercolor222textdecorationnoneinfotoday': 1, 'listweatherfloatleftoverflowhiddenheight25pxinfotoday': 1, 'listweather': 1, 'lioverflowhiddenheight25pxosmac': 1, 'infotoday': 4, 'datetodaylineheight26pxosmac': 1, 'txtpartlineheight30pxosmac': 1, 'linkweatherlineheight26pxosmac': 1, 'linkweather': 4, 'icomoremargintop10pxinfotoday': 1, 'imgweatherfloatleftwidth26pxheight26pxmargin1px': 1, '0verticalaligntopinfotoday': 1, 'icowm01backgroundposition0': 2, '240pxinfotoday': 4, 'icowm01backgroundposition30px': 1, 'icowm02backgroundposition60px': 1, 'icowm02backgroundposition90px': 1, 'icowm03backgroundposition0': 2, '270pxinfotoday': 4, 'icowm03backgroundposition30px': 1, 'icowm04backgroundposition60px': 1, 'icowm07backgroundposition90px': 1, 'icowm09backgroundposition0': 2, '300pxinfotoday': 4, 'icowm10backgroundposition30px': 1, 'icowm10backgroundposition60px': 1, 'icowm11backgroundposition90px': 1, 'icowm14backgroundposition0': 2, '330pxinfotoday': 4, 'icowm17backgroundposition30px': 1, 'icowm18backgroundposition60px': 1, 'icowm19backgroundposition90px': 1, 'txttempermargintop1pxinfotoday': 1, 'icodegreefloatleftwidth17pxheight15pxmargin7px': 1, '0fontsize12pxlineheight17pxbackgroundposition210px': 1, '270pxbackgroundcolortransparenttextaligncentertextindent0infotoday': 1, 'icomorewidth13pxheight9pxmargin9px': 1, '1pxbackgroundposition138px': 1, '292pxtodayon': 1, 'icomorebackgroundposition138px': 1, '304pxtodaylayerdisplaynonepositionabsolutetop45pxright0width298pxborder1px': 1, '888backgroundcolorffftodaylayer': 1, 'icowmbackgroundimageurlt1daumcdnnetdaumtopdecoimagestop2017icowmpngbackgroundrepeatnorepeatfontsize0lineheight0textindent9999pxtodaylayer': 1, 'layerbodyoverflowhiddentodaylayer': 1, 'layerbodyafterpositionabsolutetop0right0width42pxheight42pxcontenttodaylayer': 1, 'weatherpartpositionrelativeheight135pxtodaylayer': 1, 'btnlocatepositionabsolutetop17pxleft18pxwidth21pxheight21pxfontsize0lineheight0backgroundposition176px': 1, '246pxtextindent9999pxtodaylayer': 1, 'btnlocateonbackgroundposition176px': 1, '286pxtodaylayer': 1, 'linkweatherdisplayblockoverflowhiddenheight135pxtodaylayer': 1, 'linkweatherhovercolor222textdecorationnonetodaylayer': 1, 'txtplacedisplayblockheight20pxmargin17px': 1, '22pxfontweightboldfontsize13pxlineheight19pxtodaylayer': 1, 'txtplace': 1, 'txtlocaldisplayinlineblocktodaylayer': 1, 'icowmfloatleftwidth90pxheight90pxmarginleft22pxtodaylayer': 1, '0todaylayer': 5, 'icowm01backgroundposition100px': 1, 'icowm02backgroundposition200px': 1, 'icowm02backgroundposition300px': 1, '100pxtodaylayer': 4, 'icowm03backgroundposition100px': 1, 'icowm04backgroundposition200px': 1, 'icowm07backgroundposition300px': 1, '200pxtodaylayer': 5, 'icowm10backgroundposition100px': 1, 'icowm10backgroundposition200px': 1, 'icowm11backgroundposition300px': 1, '300pxtodaylayer': 4, 'icowm17backgroundposition100px': 1, 'icowm18backgroundposition200px': 1, 'icowm19backgroundposition300px': 1, 'infotemperdisplayblockoverflowhiddenheight32pxmargin19px': 1, '130pxfontfamilytahomaarialsansseriftodaylayer': 1, 'infotemper': 13, 'imgweatherfloatleftwidth22pxheight32pxmargin0todaylayer': 1, 'num0backgroundposition260px': 1, 'num1backgroundposition260px': 1, '40pxtodaylayer': 1, 'num2backgroundposition260px': 1, '80pxtodaylayer': 1, 'num3backgroundposition260px': 1, '120pxtodaylayer': 1, 'num4backgroundposition260px': 1, '160pxtodaylayer': 1, 'num5backgroundposition260px': 1, 'num6backgroundposition260px': 1, '240pxtodaylayer': 2, 'num7backgroundposition260px': 1, '280pxtodaylayer': 1, 'num8backgroundposition260px': 1, '320pxtodaylayer': 1, 'num9backgroundposition260px': 1, '360pxtodaylayer': 1, 'icominuswidth22pxheight32pxbackgroundposition260px': 1, '400pxtodaylayer': 1, 'icodegreewidth39pxheight32pxbackgroundposition210px': 1, '292pxtodaylayer': 1, 'statedescdisplayblockoverflowhiddenmargin7px': 1, '130pxlineheight16pxtodaylayer': 1, 'statedesc': 4, 'icodegreefloatleftwidth14pxheight12pxmargin3px': 1, '0backgroundposition240px': 1, '208pxtodaylayer': 1, 'txtdescfloatleftmarginright2pxtodaylayer': 1, 'layerfootoverflowhiddenbordertop1px': 1, 'ecececbackgroundcolorfbfbfbtodaylayer': 1, 'linkstatefloatleftoverflowhiddenwidth50height39pxcolor101010textdecorationnonetodaylayer': 1, 'infowmoverflowhiddenheight22pxpaddingtop8pxlineheight21pxtodaylayer': 1, 'infowm': 5, 'dtfloatleftpaddingright9pxtodaylayer': 1, 'ddfloatlefttodaylayer': 1, 'imgweatherdisplayinlineblockverticalaligntoptodaylayer': 1, 'infodustpaddingleft18pxtodaylayer': 1, 'icodustwidth20pxheight20pxmargintop3pxmarginright6pxbackgroundposition140px': 1, 'icoairwidth21pxheight21pxmargin1px': 1, '7px': 5, '2pxbackgroundposition140px': 1, '264pxtodaylayer': 1, 'stategoodcolor0078fftodaylayer': 1, 'statenormalcolor27aa1dtodaylayer': 1, 'statebadcolorfecc3dtodaylayer': 1, 'stateworstcolore30000todaylayer': 1, 'btnclosepositionabsolutetop18pxright18pxwidth16pxheight16pxbackgroundposition0': 2, '200pxosmac': 3, 'todaylayer': 8, 'txtplacemargintop20pxlineheight18pxosmac': 1, 'infotempermargintop15pxosmac': 1, 'statedescmargintop10pxosmac': 1, 'txttempermargintop1pxosmac': 1, 'icodegreemargintop1pxosmac': 1, 'infowmpaddingtop11pxosmac': 1, 'icodustmargintop0osmac': 1, 'icoairmargintop2pxtodayon': 1, 'todaylayerdisplayblockadverttmpfloatleftpositionrelativewidth655pxheight120pxmarginright35pxadverttmp': 1, 'bglinepositionabsolutetop0left0zindex1width653pxheight118pxborder1px': 1, 'ecececadvertstationdisplayinlineblockpositionrelativewidth300pxheight150pxmargintop15pxfontsize0lineheight0verticalaligntopadvertstation': 1, 'bglinepositionabsolutetop0left0zindex1width298pxheight148pxborder1px': 1, 'ecececboxshoppingdisplayinlineblockpositionrelativewidth300pxheight1177pxmargintop15pxverticalaligntopboxshopping': 1, 'bgline1positionabsolutetop0left0zindex1width298pxheight775pxborder1px': 1, 'ecececboxshopping': 1, 'bgline2positionabsolutetop792pxleft0zindex1width298pxheight383pxborder1px': 1, 'ecececadvertsvcbnrmargintop15pxadvertsvcbnr': 1, 'linkbnrdisplayblockpositionrelativeheight60pxadvertsvcbnr': 1, 'framegwidth298pxheight58pxadvertbnrmargintop15pxadvertbnr': 1, 'linkbnrdisplayblockoverflowhiddenpositionrelativeheight143pxadvertbnr': 1, 'framegwidth298pxheight141pxwraptiercontpositionrelativezindex99width990pxmargin0': 1, 'autologintmpfloatrightpositionrelativezindex0width300pxheight120pxletterspacing1pxloginmyzindex10backgroundurlt1daumcdnnetdaumtopdecoimagestop2017bgpctop170328png': 1, '0loginmy': 2, 'wrapmywidth285pxheight45pxpadding15px': 1, '17px': 1, '15pxloginmy': 1, 'infomyfloatleftpadding1px': 1, 'relmyfloatrightpaddingright15pxloginmy': 1, 'nameuserfloatleftmarginright4pxfontweightboldloginmy': 1, 'linkmyinfofloatleftfontsize11pxmargin2px': 1, '0lineheight14pxcolor555textdecorationunderlineloginmy': 1, 'linkssopositionabsolutetop41pxleft15pxwidth68pxheight22pxfontsize11pxlineheight22pxbackgroundposition100px': 1, '235pxwhitespacenowraploginmy': 1, 'linkssoingbackgroundposition100px': 1, '205pxloginmy': 1, 'linkssohelppositionabsolutetop41pxleft85pxwidth6pxheight22pxpadding0': 1, '6pxfontsize12pxlineheight22pxbackgroundposition180px': 1, '235pxwhitespacenowraplayerssopositionabsolutetop77pxleft0zindex11width298pxheight82pxborder1px': 1, '118effbackgroundcolorffflayersso': 1, 'boxhelpdisplaytablewidth100height100layersso': 1, 'txthelpdisplaytablecellpadding0': 1, '2pxfontsize12pxlineheight16pxcolor555verticalalignmiddlelayersso': 1, 'btnclosepositionabsolutetop5pxright5pxwidth21pxheight21pxpadding0': 1, '6pxbackgroundposition210px': 1, '235pxloginmy': 1, 'linkempathyfloatleftmargin5px': 1, '0fontsize11pxlineheight14pxcolor5b6473loginmy': 1, 'btnlogoutfloatleftwidth56pxheight24pxfontsize11pxlineheight24pxbackgroundposition180px': 1, '30pxbackgroundcolortransparentloginmy': 1, 'listbasisoverflowhiddenpositionabsolutetop43pxright9pxheight30pxletterspacing012emloginmy': 1, 'listbasis': 6, 'lifloatleftpaddingright8pxlineheight15pxloginmy': 1, 'linkbasisfloatleftfontsize12pxcolor555loginmy': 1, 'numbasismarginleft3pxcolor118effloginmy': 1, 'nummsgwidth30pxloginmy': 1, 'linknumfontweightboldcolor118effloginmy': 1, 'mymileage': 1, 'linkbasismarginright8pxloginmy': 1, 'wrapmysvcpositionrelativezindex10width300pxmysvclistpositionrelativewidth300pxheight43pxlistmysvcdisplayinlineblockpositionrelativewidth300pxheight43pxverticalaligntopletterspacing1pxlistmysvc': 1, 'lipositionrelativefloatleftwidth100pxheight43pxlistmysvc': 1, 'linkmysvcdisplayblockoverflowhiddenheight31pxpaddingtop12pxfontsize12pxlineheight18pxtextaligncentercolor555listmysvc': 1, 'linkmysvchovertextdecorationnonelistmysvc': 1, 'cafeg': 5, 'linkmysvcheight30pxpaddingtop13pxlineheight16pxlistmysvc': 1, 'txtmysvcdisplayinlineblockheight26pxcolor555verticalaligntoplistmysvc': 1, 'txtmysvcpaddingleft24pxbackgroundposition0': 1, '80pxlistmysvc': 1, 'stockg': 1, 'txtmysvcpaddingleft27pxbackgroundposition0': 1, '109pxlistmysvc': 1, 'blogg': 1, 'txtmysvcpaddingleft29pxbackgroundposition0': 1, '139pxlistmysvc': 1, 'iconewdisplaynonewidth11pxheight11pxmargin5px': 1, '4pxbackgroundposition160px': 1, '80pxtextindent9999pxverticalaligntoplistmysvc': 1, 'newg': 1, 'iconewdisplayinlineblocklistmysvc': 1, 'iconewmargintop4pxmycafeonbackgroundurlt1daumcdnnetdaumtopdecoimagestop2017bgpctop170328png': 1, '310px': 3, '0mystockonbackgroundurlt1daumcdnnetdaumtopdecoimagestop2017bgpctop170328png': 1, '50pxmyblogonbackgroundurlt1daumcdnnetdaumtopdecoimagestop2017bgpctop170328png': 1, '100pxlayermycontpositionabsolutetop120pxleft0width300pxheight353pxbackgroundposition0': 1, '130pxlayermycont': 1, 'btnclosepositionabsolutetop320pxright0width46pxheight32pxpadding3px': 1, '4pxfontsize11pxlineheight18pxcolor888osmac': 1, 'layersso': 1, 'txthelppaddingtop2pxpaddingbottom0osmac': 1, 'logintmpletterspacing0osmac': 1, 'loginmy': 4, 'infomypaddingtop4pxosmac': 1, 'nameusermarginright7pxosmac': 1, 'linkprivacymargintop0osmac': 1, 'listbasistop45pxright6pxletterspacing0osmac': 1, 'lipaddingright9pxosmac': 1, 'listmysvc': 2, 'linkmysvclineheight21pxosmac': 1, 'linkmysvclineheight20pxosmac': 1, 'iconewmargintop4pxosmac': 1, 'iconewmargintop3pxosmac': 1, 'layermycont': 1, 'btnclosepaddingtop5pxpanelblocpositionrelativepaddingtop61pxtittabcontpositionabsolutetop15pxfontsize16pxtittabcont': 1, 'linktitdisplayblockheight36pxlineheight36pxbackgroundcolortransparenttextaligncenterwraptabcontdisplaynonewidth655pxicoviewoverflowhiddenpositionabsoluteright8pxbottom8pxwidth23pxheight23pxbackgroundposition40px': 1, '0textindent9999pxcursorpointericovideooverflowhiddenpositionabsoluteright8pxbottom8pxwidth23pxheight23pxbackgroundposition70px': 1, '0textindent9999pxcursorpointericoliveoverflowhiddenpositionabsoluteright8pxbottom8pxwidth23pxheight23pxbackgroundposition130px': 1, '0textindent9999pxcursorpointercolorg1colore30000colorg2color118efficolabeloverflowhiddenpositionabsolutetop15pxleft15pxheight22pxpadding0': 1, '8pxfontsize11pxlineheight19pxcolorfffbackgroundcolor118efficolabel2overflowhiddenpositionabsolutetop0left0height20pxpadding0': 1, '7pxfontsize11pxlineheight17pxcolorfffbackgroundcolorrgba00006filterprogidDXImageTransformMicrosoftgradientstartColorstr99000000endColorstr99000000GradientType0icolabel3overflowhiddenpositionabsolutetop15pxleft15pxheight22pxpadding0': 1, '8pxfontsize11pxlineheight19pxcolorfffbackgroundcolore8493dosmac': 1, 'icolabelosmac': 1, 'icolabel3lineheight23pxosmac': 1, 'icolabel2lineheight21pxtaglivewidth30pxheight15pxbackgroundposition120px': 1, '70pxtagnewwidth31pxheight15pxbackgroundposition120px': 1, '90pxtageventwidth40pxheight15pxbackgroundposition120px': 1, '110pxtagissuewidth37pxheight15pxbackgroundposition120px': 1, '130pxpagepctoppositionabsolutewidthautoheight16pxpagepctop': 1, 'btnpagefloatleftwidth16pxheight16pxlineheight16pxbackgroundcolortransparentbackgroundposition210px': 1, '0pagepctop': 2, 'btnnextwidth15pxbackgroundposition226px': 2, 'infopagefloatleftpadding2px': 1, '0fontsize12pxlineheight16pxcolor555fontfamilytahomaarialsansserifpagepctop': 1, 'infopage': 1, 'txtslashpadding0': 1, '1pxosmac': 1, 'pagepctop': 9, 'infopagelineheight16pxfontfamilyhelveticaarialsansserifpagebtypetop20pxright0height26pxpagebtype': 1, 'btnpagewidth26pxheight26pxlineheight26pxbackgroundposition110px': 1, '170pxtextindent10pxpagebtype': 1, 'btnnextwidth25pxbackgroundposition136px': 1, '170pxpagebtype': 1, 'infopagepaddingtop1pxpaddingright8pxfontsize14pxlineheight22pxosmac': 1, 'pagebtype': 1, 'infopagelineheight24pxpagetabcontpositionabsolutezindex1top16pxleft30pxcursorpointerpagetabcont': 1, 'btnpageoverflowhiddenfloatleftwidth7pxheight7pxmargin9px': 1, '0fontsize10pxlineheight7pxbackgroundposition100px': 1, '170pxbackgroundcolortransparentpagetabcont': 1, 'onpositionrelativebackgroundposition100px': 1, '177pxlistthumboverflowhiddenlistthumb': 1, 'lifloatleftwidth154pxheight146pxmarginleft13pxlistthumb': 1, 'fstmarginleft0listthumb': 1, 'linkitemdisplayblocklistthumb': 1, 'thumbgwidth154pxheight94pxlistthumb': 1, 'framegwidth152pxheight92pxlistthumb': 1, 'contitempadding4px': 2, '0listthumb': 1, 'tititemdisplayblockoverflowhiddenmaxheight36pxpaddingright12pxfontweightnormallineheight18pxwordbreakkeepallwordwrapbreakwordosmac': 1, 'listthumb': 5, 'contitempaddingtop6pxosmac': 2, 'tititempaddingright14pxlisttxtfloatleftlisttxt': 1, 'lioverflowhiddenheight20pxpadding4px': 1, '2pxwhitespacenowraptextoverflowellipsislisttxt': 1, 'icopctopdisplayinlineblockmargin3px': 1, '0textindent9999pxverticalaligntoplisttxt': 1, 'splittxtpaddingleft10pxmarginleft10pxcolor888backgroundurlt1daumcdnnetdaumtopdecoimagestop2017icopctopvert170724png': 1, '46pxlisttxt': 1, 'splittxthovercolor118efflisttxt': 1, 'partmidpaddingtop18pxlineheight16pxlisttxt': 1, 'splitpartdisplayinlineblockoverflowhiddenverticalaligntoplisttxt': 1, 'splitpart': 3, 'linktxtmarginright3pxlisttxt': 1, 'splitfstfloatleftoverflowhiddenmaxwidth222pxtextoverflowellipsisosmac': 1, 'listtxt': 5, 'lilineheight20pxosmac': 1, 'splittxtbackgroundposition0': 1, '49pxosmac': 1, 'partmidlineheight22pxosmac': 1, 'splitpartletterspacing003emosmac': 1, 'linktxtmarginright7pxliststxtmargintop7pxliststxt': 1, 'lioverflowhiddenpaddingbottom4pxlineheight19pxwhitespacenowraptextoverflowellipsisliststxt': 1, 'txtmarkfontsize12pxcolor888linksectordisplayblockpositionrelativezindex0width321pxheight131pxlinksector': 1, 'framegwidth319pxheight129pxlinksector': 1, 'contitempositionabsoluteright0left0bottom0width100height100pxbackgroundurlt1daumcdnnetdaumtopdecoimagestop2017bgplate2png': 1, '100linksector': 1, 'tititemoverflowhiddenpositionabsoluteleft0bottom13pxright0padding0': 1, '15pxfontweightnormalfontsize14pxlineheight20pxcolorffflinksector': 1, 'icolabellinksector': 1, 'icolabel2linksector': 1, 'icolabel3linksector': 1, 'icopctopzindex1osmac': 1, 'linksector': 4, 'tititembottom10pxlistranking': 1, 'liheight20pxpaddingbottom5pxlistranking': 1, 'linkrankingdisplayblockoverflowhiddenlineheight18pxlistranking': 1, 'txtrankingoverflowhiddenfloatleftwidth288pxwhitespacenowraptextoverflowellipsislistranking': 1, 'linkrankinghover': 2, 'txtrankingtextdecorationunderlinelistranking': 1, 'numpctopfloatleftwidth16pxheight16pxmargin3px': 2, '0textindent9999pxverticalaligntoplistranking': 1, 'num1backgroundposition0': 3, '0listranking': 1, 'num2backgroundposition0': 3, '20pxlistranking': 1, 'num3backgroundposition0': 3, '40pxlistranking': 1, 'num4backgroundposition0': 2, '60pxlistranking': 1, 'num5backgroundposition0': 2, '80pxosmac': 2, 'listranking': 6, 'numpctopmargintop0osmac': 1, 'lilineheight22pxboxstoryoverflowhiddenborder1px': 1, 'ecececbackgroundcolorfbfbfcboxstory': 1, 'titsubjectoverflowhiddenmargintop7pxfontsize13pxboxstory': 1, 'titsubject': 2, 'linktitfloatleftpaddingright9pxbackgroundposition100': 1, '7pxosmac': 1, 'boxstory': 3, 'titsubjectmargintop10pxosmac': 1, 'linktitbackgroundposition100': 1, 'liststxtmargintop10pxsectionmediapositionrelativesectionmedia': 1, 'pagebtypetop15pxsectionmedia': 1, 'panelblocpadding57px': 1, '25pxsectionmedia': 1, 'tittabconttop11pxleft0panelbloc': 1, 'titnewsleft5pxpanelbloc': 1, 'titentertainleft55pxpanelbloc': 1, 'titsportsleft94pxpanelbloc': 1, 'titmovieleft147pxpanelbloc': 1, 'titautoleft186pxpanelbloc': 1, 'titrealestateleft240pxpanelbloc': 1, 'titnews': 2, 'linktitwidth36pxbackgroundposition0': 2, '130pxpanelbloc': 5, 'titentertain': 2, 'linktitwidth36pxbackgroundposition36px': 1, 'titsports': 2, 'linktitwidth50pxbackgroundposition72px': 1, 'titmovie': 2, 'linktitwidth36pxbackgroundposition122px': 1, 'titauto': 2, 'linktitwidth51pxbackgroundposition158px': 1, 'titrealestate': 2, 'linktitwidth48pxbackgroundposition209px': 1, '130pxnewson': 1, 'linktitbackgroundposition0': 3, '166pxentertainon': 1, 'linktitbackgroundposition36px': 2, '166pxsportson': 1, 'linktitbackgroundposition72px': 1, '166pxmovieon': 1, 'linktitbackgroundposition122px': 1, '166pxautoon': 1, 'linktitbackgroundposition158px': 1, '166pxrealestateon': 1, 'linktitbackgroundposition209px': 1, '166pxnewson': 1, 'wrapnews': 1, 'entertainon': 1, 'wrapentertain': 1, 'sportson': 1, 'wrapsports': 1, 'movieon': 1, 'wrapmovie': 1, 'autoon': 1, 'wrapauto': 1, 'realestateon': 1, 'wraprealestatedisplayblocksectionmedia': 1, 'wraptabcontheight480pxgroupnewsdisplayinlineblockheight292pxverticalaligntopnewsprimeheight438pxnewsprime': 1, 'listtxtwidth316pxpaddingleft4pxnewsprime': 1, 'tititemwordbreaknormalboxsectoroverflowhiddenfloatleftwidth321pxmarginright13pxboxsector': 1, 'listthumbwidth334pxmarginleft13pxboxsector': 1, 'linksectormarginbottom15pxnewsflowoverflowhiddenpositionrelativeheight40pxborder1px': 1, 'ecececlineheight35pxbackgroundcolorfbfbfbunithomefloatleftpaddingleft12pxunithome': 1, 'tithomefloatleftmarginright10pxunithome': 1, 'tithome': 2, 'linkhomepaddingright7pxbackgroundposition100': 1, '6pxunithome': 1, 'listhomefloatleftunithome': 1, 'listhome': 2, 'lifloatleftpadding0': 1, '7pxunithome': 1, 'linkhomecolor555unithome': 1, 'linkhomehovercolor118effunitlivefloatleftpaddingleft25pxunitlive': 1, 'icopctopfloatleftmargin12px': 1, '6px': 2, '0textindent9999pxunitlive': 1, 'linklivemarginright5pxcolor555unitlive': 1, 'linklivehovercolor118effnewsflow': 1, 'linkhashpadding0': 1, '7pxcolor118effosmac': 1, 'newsflowlineheight40pxosmac': 1, 'unithome': 1, 'linkhomepaddingright9pxbackgroundposition100': 1, '3pxboxissuefloatleftpositionrelativemarginright13pxboxissue': 1, 'linkissuedisplayblockoverflowhiddenpositionrelativewidth321pxheight277pxboxissue': 1, 'covergpositionabsoluteleft0bottom0width100height132pxbackgroundurlt1daumcdnnetdaumtopdecoimagestop2017bgplate8png': 1, '100boxissue': 1, 'framegwidth319pxheight275pxboxissue': 1, 'icolabelheight27pxfontsize14pxlineheight25pxbackgroundcolorrgba171422559boxissue': 1, 'contitemoverflowhiddenpositionabsoluteright0bottom14pxleft0boxissue': 1, 'contitem': 2, 'tititemdisplayblockoverflowhiddenmaxheight44pxpadding0': 1, '16pxfontweightnormalfontsize16pxlineheight22pxcolorfffosmac': 1, 'boxissue': 2, 'icolabellineheight29pxosmac': 1, 'contitembottom10pxspecialissue': 1, 'titissueoverflowhiddenpositionabsolutetop25pxleft21pxmaxheight60pxpaddingright20pxfontsize22pxcolorfffspecialissue': 1, 'contitembottom12pxspecialissue': 1, 'listitempadding0': 1, '16pxspecialissue': 1, 'listitem': 4, 'lioverflowhiddenmargintop3pxfontsize14pxspecialissue': 1, 'fstfontsize16pxlineheight26pxspecialissue': 1, 'linkitemdisplayblockoverflowhiddencolorfffwhitespacenowraptextoverflowellipsisosmac': 1, 'specialissue': 1, 'fstlineheight23pxwrapnews': 1, 'newsprimefloatleftwidth501pxheight438pxwrapnews': 1, 'newsflowclearbothwrapnews': 1, 'boxsectorwidth154pxwrapnews': 1, 'boxsector': 2, 'listthumbwidthautomarginleft0wrapnews': 1, 'lifloatnonemarginleft0wrapnews': 1, 'linksectorwidth154pxheight277pxmarginbottom0wrapnews': 1, 'framegwidth152pxheight275pxrankingnewsoverflowhiddenpositionrelativeheight148pxpadding0': 1, '14px': 3, '148pxranknewstitpositionabsolutetop3pxleft0width148pxranknewstit': 1, 'titrankingfloatleftlineheight17pxcolor118effranknewstit': 1, 'linktitcolor118effhelppartdisplayinlinefloatleftmargin3px': 1, '4pxhelppart': 1, 'linkhelpdisplayblockwidth31pxheight15pxfontsize11pxbackgroundcolortransparentbackgroundposition0': 1, '265pxhelplayeroverflowhiddenpositionabsolutetop27pxleft0width126pxheight48pxborder1px': 1, '888backgroundcolorfbfbfbhelplayer': 1, 'txthelppadding8px': 1, '13px': 2, '13pxfontsize11pxlineheight15pxcolor888helplayer': 1, 'btnclosepositionabsolutetop8pxright8pxwidth16pxheight16pxbackgroundposition0': 1, '200pxrankingnews': 1, 'listrankingmargintop3pxtabrankingpositionabsolutetop30pxleft0width64pxtabranking': 1, 'limarginbottom3pxtabranking': 1, 'linktabdisplayinlineblockoverflowhiddenfontweightboldlineheight16pxcolor888tabranking': 1, 'on': 6, 'linktabcolor222textdecorationunderlinetabranking': 1, 'icopctopfloatleftwidth6pxheight6pxmargin6px': 1, '0backgroundposition100px': 1, '190pxcontrankingdisplaynoneoverflowhiddencontrankingondisplayblockosmac': 1, 'helppartmargintop0osmac': 1, 'helplayertop25pxosmac': 1, 'ranknewstittop6pxosmac': 1, 'rankingnews': 1, 'listrankingmargintop5pxosmac': 1, 'tabrankingtop33pxosmac': 1, 'tabranking': 2, 'limarginbottom1pxosmac': 1, 'icopctopmargintop4pxcastsportspositionrelativewidth321pxmarginbottom15pxcastsports': 1, 'headcastheight35pxborder1px': 1, 'ecececbackgroundcolorfbfbfbcastsports': 1, 'titcastmargin6px': 1, '11pxfontsize13pxcastsports': 1, 'pagepctoptop11pxright14pxbottomautocastsports': 1, 'btnpagewidth16pxheight16pxlineheight16pxbackgroundposition210px': 1, '0castsports': 2, 'linkmorepositionabsolutetop9pxright13pxpaddingright7pxfontsize11pxcolor888backgroundposition100': 1, '18pxlistrelayborder1px': 1, 'ecececbordertop0': 1, 'nonelistrelay': 1, 'lioverflowhiddenlistrelay': 1, 'linkrelayhovercolor222textdecorationnonelistrelay': 1, 'txtteamoverflowhiddenfontsize12pxlineheight26pxwhitespacenowraptextoverflowellipsislistrelay': 1, 'txttimefloatleftfontsize11pxfontfamilytahomaarialsansserifletterspacing0listrelay': 1, 'txtleaguefloatleftpaddingleft3pxfontsize11pxcolor888listrelay': 1, 'txtscore': 13, 'innerscoredisplayinlineblockverticalaligntoplistrelay': 1, 'numpctopfloatleftwidth11pxheight16pxbackgroundcolortransparentlistrelay': 1, 'num0backgroundposition60px': 1, '0listrelay': 2, 'num1backgroundposition60px': 1, '20pxlistrelay': 1, 'num2backgroundposition60px': 1, '40pxlistrelay': 1, 'num3backgroundposition60px': 1, '60pxlistrelay': 1, 'num4backgroundposition60px': 1, '80pxlistrelay': 1, 'num5backgroundposition60px': 1, '100pxlistrelay': 1, 'num6backgroundposition60px': 1, '120pxlistrelay': 1, 'num7backgroundposition60px': 1, '140pxlistrelay': 1, 'num8backgroundposition60px': 1, '160pxlistrelay': 1, 'num9backgroundposition60px': 1, '180pxlistrelay': 1, 'numnonebackgroundposition60px': 1, '200pxlistrelay': 1, 'tagcastwidth56pxheight15pxfontsize11pxbackgroundcolortransparenttextaligncenterlistrelay': 1, 'cast1backgroundposition0': 1, '70pxlistrelay': 2, 'cast2backgroundposition0': 1, '90pxlistrelay': 2, 'cast3backgroundposition0': 1, '110pxlistrelay': 2, 'cast4backgroundposition0': 1, '130pxlistrelay': 1, 'cast5backgroundposition0': 1, '150pxlistrelay': 1, 'cast6backgroundposition60px': 1, 'cast7backgroundposition60px': 1, 'cast8backgroundposition60px': 1, 'cast9backgroundposition60px': 1, '130pxosmac': 1, 'castsports': 2, 'titcastmargin9px': 1, 'linkmoretop11pxbackgroundposition100': 1, '20pxosmac': 1, 'listrelay': 2, 'txttimefontfamilyhelveticaarialsansserifrelaygeneralheight93pxrelaygeneral': 1, 'linkrelayoverflowhiddenfloatleftpositionrelativewidth147pxheight84pxpadding9px': 1, '11pxborderleft1px': 1, 'f5f5f5relaygeneral': 1, 'linkrelayfstwidth146pxpaddingleft12pxborderleft0relaygeneral': 1, 'eventteamoverflowhiddenpositionabsoluteleft11pxtop57pxright0height25pxrelaygeneral': 1, 'eventteamfstleft11pxtop30pxrelaygeneral': 1, 'eventteam': 6, 'imgthumbfloatleftrelaygeneral': 1, 'txtteamfloatleftwidth69pxlineheight22pxmargin0': 1, '5pxrelaygeneral': 1, 'txtscorefloatleftwidth33pxmargintop5pxtextalignrightrelaygeneral': 1, 'tagcastfloatrightmargin1px': 1, '0relayspecial': 3, 'linkrelaydisplayblockoverflowhiddenpositionrelativeheight47pxbordertop1px': 1, 'f5f5f5relayspecial': 1, 'linkrelayfstbordertop0': 1, 'nonerelayspecial': 1, 'eventteamoverflowhiddenpositionabsoluteleft159pxtop0width52pxheight47pxpaddingleft107pxrelayspecial': 1, 'imgthumbpositionabsolutetop10pxright53pxrelayspecial': 1, 'txtteamfloatleftwidth45pxmargin8px': 1, 'txtscorepositionabsolutetop15pxleft38pxwidth33pxtextaligncenterrelayspecial': 1, 'eventteamfstleft0width53pxpadding0': 1, '106px': 1, 'eventteamfst': 3, 'txtscoreleft89pxrelayspecial': 1, 'imgthumbleft53pxrightautorelayspecial': 1, 'txtteamtextalignrightrelayspecial': 1, 'txttimedisplayblockfloatnonemargintop3pxtextaligncenterrelayspecial': 1, 'tagcastdisplayblockmargin2px': 1, 'linkviewwidth158pxheight66pxpadding27px': 1, '0fontsize12pxcolor888textaligncenterlistrelay': 1, 'linkviewhovercolor888textdecorationnonelistrelay': 1, 'linkview': 1, 'txtviewdisplayblockcolor118efftextdecorationunderlineosmac': 1, 'relaygeneral': 1, 'txtteamlineheight27pxosmac': 1, 'relayspecial': 2, 'txtteammargintop12pxosmac': 1, 'txttimemargintop5pxosmac': 1, 'linkviewheight63pxpaddingtop30pxboxspecialoverflowhiddenpositionrelativezindex0width641pxheight93pxmarginbottom15pxpadding36px': 1, '12pxborder1px': 1, 'ecececbackgroundcolorfbfbfbboxspecial': 1, 'titspecialpositionabsolutetop7pxleft12pxfontsize13pxboxspecial': 1, 'linkspecialmarginright3pxboxspecial': 1, 'linkspecial2color888boxspecial': 1, 'packslideoverflowhiddenboxspecial': 1, 'pagepctoptop8pxright12pxheight19pxboxspecial': 1, 'btnpagewidth19pxheight19pxlineheight19pxbackgroundposition40px': 1, '200pxboxspecial': 2, 'btnnextwidth18pxbackgroundposition59px': 1, 'infopagecolor888boxspecial': 1, 'numindexfontweightnormalboxspecial': 1, 'linkbannerfloatleftpositionrelativewidth308pxheight80pxmarginleft5pxboxspecial': 1, 'linkbanner': 1, 'framegwidth306pxheight78pxboxspecial': 1, 'bannerwidewidth419pxheight80pxmarginleft11pxboxspecial': 1, 'bannerwide': 1, 'framegwidth417pxheight78pxlistspecialfloatleftlistspecial': 1, 'lifloatleftlistspecial': 1, 'linkthumbfloatleftpositionrelativelistspecial': 1, 'linkthumb': 10, 'framegwidth54pxheight78pxlistspecial': 1, 'numgpositionabsolutetop0left0width16pxheight16pxfontsize11pxlineheight16pxcolorffffontfamilytahomaarialsansseriftextaligncenterlistspecial': 1, 'continfooverflowhiddenwordbreakkeepalllistspecial': 1, 'titinfodisplayblockoverflowhiddenmaxheight33pxfontweightnormalfontsize13pxlineheight17pxwordbreakbreakalllistspecial': 1, 'txtinfodisplayblockoverflowhiddenfontsize12pxlineheight16pxcolor888whitespacenowraptextoverflowellipsislistmovie1': 1, 'liwidth146pxpaddingright12pxlistmovie1': 1, 'numgbackgroundposition20px': 2, '0listmovie1': 2, 'numpointbackgroundposition0': 2, 'continfopositionrelativepadding36px': 1, '9pxlistmovie1': 1, 'titinfopositionabsolutetop0left9pxlistmovie1': 1, 'txtinfofloatleftwidth100letterspacing0listmovie1': 1, 'gradestardisplayblockoverflowhiddenpositionrelativewidth62pxheight12pxbackgroundposition40px': 1, '30pxlistmovie1': 1, 'innerstarpositionabsolutetop0left0widthautoheight12pxfontsize0lineheight0backgroundposition40px': 1, '50pxtextindent9999pxlistmovie2': 1, 'liwidth146pxpaddingright12pxlistmovie2': 1, 'continfopadding0': 1, '9pxlistmovie2': 1, 'titinfomargin2px': 1, '2pxlistmovie2': 1, 'txtinfomaxheight31pxwhitespacenormallistmovie3': 1, 'limarginleft10pxlistmovie3': 1, 'lifstmarginleft0listmovie3': 1, 'linkthumbwidth203pxheight80pxlistmovie3': 1, 'framegwidth201pxheight78pxlistmovie3': 1, 'icoplaypositionabsoluteright10pxbottom10pxwidth22pxheight22pxfontsize0lineheight0backgroundposition100px': 1, '0textindent9999pxlistmovie3': 1, 'continfopositionabsolutetop38pxleft0width152pxpadding0': 1, '40px': 1, '10pxcolorffflistmovie3': 1, 'txtinfocolorffflistmovie3': 1, 'titinfodisplayinlinelistmovie3': 1, 'txtruntimedisplayblockoverflowhiddenfontsize11pxlineheight13pxfontfamilytahomaarialsansserifwhitespacenowraptextoverflowellipsisletterspacing0listauto': 1, '20pxlistauto': 2, 'liwidth199pxpaddingleft10pxborderleft1px': 1, 'ecececlistauto': 1, 'lifstpaddingleft0borderleft0': 1, 'nonelistauto': 1, 'linkthumbwidth120pxheight80pxlistauto': 1, 'continfopadding13px': 1, '0listauto': 1, 'titinfomarginbottom2pxlistrealestate': 1, 'liwidth203pxmarginleft8pxlistrealestate': 1, 'lifstmarginleft0listrealestate': 1, 'linkthumbwidth110pxheight80pxlistrealestate': 1, 'framegwidth108pxheight78pxlistrealestate': 1, 'continfopaddingleft8pxlistrealestate': 1, 'titinfomargintop2pxmarginbottom4pxlistrealestate': 1, 'txtinfomargintop2pxlineheight14pxosmac': 1, 'boxspecial': 1, 'titspecialtop10pxosmac': 1, 'listspecial': 1, 'numgfontfamilyhelveticaarialsansserifosmac': 1, 'listmovie1': 1, 'gradestarmarginbottom3pxosmac': 1, 'listmovie2': 2, 'continfopaddingtop1pxosmac': 1, 'titinfomargintop0osmac': 1, 'listmovie3': 1, 'txtruntimemarginbottom2pxfontfamilyhelveticaarialsansserifosmac': 1, 'listauto': 1, 'continfopaddingtop16pxosmac': 1, 'listrealestate': 1, 'titinfomargintop1pxlineheight16pxlisthotissueoverflowhiddenpositionrelativewidth180pxheight280pxlisthotissue': 1, 'lioverflowhiddenpositionrelativewidth100height20pxmarginbottom8pxlisthotissue': 1, 'rolltxtpositionrelativelisthotissue': 1, 'rankcontoverflowhiddenpositionrelativeheight20pxlisthotissue': 1, 'numpctopfloatleftwidth16pxheight16pxmargintop1pxfontsize12pxlineheight17pxfontfamilytahomaarialsansserifbackgroundcolortransparenttextaligncenterlisthotissue': 1, 'rank1backgroundposition20px': 1, '0listhotissue': 1, 'rank2backgroundposition0': 1, '20pxlisthotissue': 1, 'rank3backgroundposition0': 1, '40pxlisthotissue': 1, 'rank4backgroundposition0': 1, '60pxlisthotissue': 1, 'rank5backgroundposition0': 1, '80pxlisthotissue': 1, 'rank6backgroundposition0': 1, '100pxlisthotissue': 1, 'rank7backgroundposition0': 1, '120pxlisthotissue': 1, 'rank8backgroundposition0': 1, '140pxlisthotissue': 1, 'rank9backgroundposition0': 1, '160pxlisthotissue': 1, 'rank10backgroundposition0': 1, '180pxlisthotissue': 1, 'txtissueoverflowhiddenfloatleftwidth119pxpaddingleft6pxlineheight15pxlisthotissue': 1, 'linkissuedisplayblockoverflowhiddenpaddingbottom1pxwhitespacenowraptextoverflowellipsislisthotissue': 1, 'rankresultfloatrightmargin1px': 1, '0fontweightnormalfontsize13pxlineheight14pxcolor888fontfamilytahomaarialsansserifbackgroundcolortransparentletterspacing005emlisthotissue': 1, 'rankresult': 1, 'icopctopdisplayinlineblockbackgroundcolortransparentverticalaligntoplisthotissue': 1, 'icoupwidth11pxheight14pxmarginright3pxbackgroundposition120px': 1, '30pxlisthotissue': 3, 'icodownwidth11pxheight14pxmarginright3pxbackgroundposition140px': 1, 'icosteadywidth11pxheight6pxmargin5px': 1, '0lineheight10pxbackgroundposition160px': 1, 'iconewwidth27pxheight12pxmargin2px': 1, '0backgroundposition120px': 1, '50pxosmac': 1, 'listhotissue': 9, 'txtissuelineheight20pxosmac': 1, 'rankresultlineheight16pxfontfamilyhelveticasansserifhotissuepositionabsolutetop19pxright90pxzindex1hotissueminioverflowhiddenpositionrelativewidth161pxheight20pxbackgroundcolorfffhotissuemini': 1, 'listhotissuewidth117pxhotissuemini': 1, 'txtissuewidth95pxhotissuemini': 1, 'txtrealtimefloatleftwidth44pxheight18pxlineheight18pxbackgroundposition325px': 1, '80pxbackgroundcolortransparenttextaligncenterhotissuemini': 1, 'rank2backgroundposition20px': 1, '20pxhotissuemini': 1, 'rank3backgroundposition20px': 1, '40pxhotissuemini': 1, 'rank4backgroundposition20px': 1, '60pxhotissuemini': 1, 'rank5backgroundposition20px': 1, '80pxhotissuemini': 1, 'rank6backgroundposition20px': 1, '100pxhotissuemini': 1, 'rank7backgroundposition20px': 1, '120pxhotissuemini': 1, 'rank8backgroundposition20px': 1, '140pxhotissuemini': 1, 'rank9backgroundposition20px': 1, '160pxhotissuemini': 1, 'rank10backgroundposition20px': 1, '180pxhotissuelayerdisplaynonepositionabsolutetop38pxright90pxwidth198pxheight384pxpaddingleft20pxborder1px': 1, '888backgroundcolorfffhotissuelayer': 1, 'tithotissuepositionstaticwidth104pxheight34pxmargin10px': 1, '0fontsize13pxlineheight34pxbackgroundposition210px': 1, '80pxbackgroundcolortransparenttextindent0hotissuelayer': 1, 'txtstandarddisplayblockpositionstaticwidthautoheightautomargintop5pxfontsize12pxlineheight14pxcolor888textindent0letterspacing0hotissuelayer': 1, 'hotissuelayer': 1, 'txtstandardmargintop8pxissueopen': 1, 'hotissuelayerdisplayblockhotissuebuiltinpositionabsolutetop57pxright0width153pxheight424pxborderleft1px': 1, 'ecececrealtimepartheight292pxmarginleft14pxrealtimepart': 1, 'tithotissuepadding2px': 1, '6pxfontsize13pxcolor118effrealtimepart': 1, 'listhotissuewidth138pxheight240pxrealtimepart': 1, 'liwidth138pxmarginbottom4pxrealtimepart': 1, 'txtissuewidth114pxosmac': 1, 'realtimepart': 1, 'tithotissuepadding5px': 1, '4pxstockpartheight102pxmarginleft15pxstockpart': 1, 'linkstockdisplayblockheight40pxmarginbottom8pxstockpart': 1, 'linkstockhovercolor222textdecorationnonestockpart': 1, 'titstockdisplayblockmarginbottom1pxfontweightboldfontsize13pxlineheight15pxstockpart': 1, 'numstockfontweightnormalfontsize14pxfontfamilytahomaarialsansserifletterspacing003emstockpart': 1, 'numstatuspaddingleft3pxfontsize12pxletterspacing0stockpart': 1, 'numstatus': 4, 'icoarrowdisplayinlineblockwidth9pxheight10pxmargin8px': 1, '3px': 1, '0fontsize0lineheight0textindent9999pxverticalaligntopstockpart': 1, 'stockup': 2, 'numstatuscolore30000stockpart': 1, 'stockdown': 2, 'numstatuscolor118effstockpart': 1, 'icoarrowbackgroundposition120px': 1, '150pxstockpart': 2, 'icoarrowbackgroundposition130px': 1, 'stockstay': 1, 'icoarrowbackgroundposition140px': 1, '150pxrelpartoverflowhiddenwidth136pxheight28pxmarginleft14pxborder1px': 1, 'ecececbackgroundcolorfbfbfbrelpart': 1, 'itemreldisplayblockwidth139pxheight28pxrelpart': 1, 'linkrelfloatleftwidth45pxheight28pxborderright1px': 1, 'ecececfontsize12pxlineheight26pxcolor888textaligncenterosmac': 1, 'relpart': 1, 'linkrellineheight29pxsectionmultipositionrelativebordertop1px': 1, '888sectionmulti': 1, 'wraptabcontheight157pxpanelbloc': 1, 'titkakaotv': 2, 'linktitwidth82pxbackgroundposition380px': 1, '80pxkakaotvon': 2, 'linktitbackgroundposition380px': 1, 'wrapkakaotv': 1, 'melonon': 1, 'wrapmelondisplayblocktabmultipositionabsolutetop14pxleft90pxheight36pxtabmulti': 1, 'lidisplayinlinefloatleftmarginleft13pxtabmulti': 1, 'linktitdisplayblockoverflowhiddenheight36pxfontweightboldlineheight33pxcolor888textdecorationnonetabmulti': 1, 'linktitcolor222textdecorationunderlineosmac': 1, 'tabmulti': 1, 'linktitlineheight38pxboximgspefloatleftmarginright13pxboximgspe': 1, 'icolabelboximgspe': 1, 'icolabel3fontsize12pxwrapkakaotv': 1, 'icovideobackgroundposition0': 1, '170pxsectionblogpositionrelativebordertop1px': 1, '888sectionblog': 1, 'wraptabcontoverflowhiddenheight179pxpanelbloc': 1, 'titcafeleft5pxpanelbloc': 1, 'titmiznetleft34pxpanelbloc': 1, 'titkakaostoryleft87pxpanelbloc': 1, 'tittistoryleft178pxpanelbloc': 1, 'titbrunchleft243pxpanelbloc': 1, 'titilboonleft296pxpanelbloc': 1, 'titstoryfundingleft349pxpanelbloc': 1, 'titcafe': 2, '220pxpanelbloc': 6, 'titmiznet': 2, 'linktitwidth50pxbackgroundposition36px': 1, 'titkakaostory': 2, 'linktitwidth88pxbackgroundposition86px': 1, 'tittistory': 2, 'linktitwidth62pxbackgroundposition174px': 1, 'titbrunch': 2, 'linktitwidth50pxbackgroundposition236px': 1, 'titilboon': 2, 'linktitwidth50pxbackgroundposition286px': 1, 'titstoryfunding': 2, 'linktitwidth74pxbackgroundposition336px': 1, '220pxcafeon': 1, '256pxmizneton': 2, '256pxkakaostoryon': 1, 'linktitbackgroundposition86px': 1, '256pxtistoryon': 1, 'linktitbackgroundposition174px': 1, '256pxbrunchon': 1, 'linktitbackgroundposition236px': 1, '256pxilboonon': 1, 'linktitbackgroundposition286px': 1, '256pxstoryfundingon': 1, 'linktitbackgroundposition336px': 1, 'wrapmiznet': 1, 'cafeon': 1, 'wrapcafe': 1, 'kakaostoryon': 1, 'wrapkakaostory': 1, 'tistoryon': 1, 'wraptistory': 1, 'brunchon': 1, 'wrapbrunch': 1, 'ilboonon': 1, 'wrapilboon': 1, 'storyfundingon': 1, 'wrapstoryfundingdisplayblocksectionblog': 1, 'boxstoryfloatrightwidth297pxheight152pxpadding0': 1, '11pxliststoryoverflowhiddenfloatleftliststory': 1, 'lifloatleftheight160pxmarginleft13pxliststory': 1, 'fstmarginleft0liststory': 1, 'linkitemdisplayblockpositionrelativewidth154pxcursorpointerliststory': 1, 'linkitemhovercolor222textdecorationnoneliststory': 1, 'thumbgwidth154pxheight94pxliststory': 1, 'framegwidth152pxheight92pxliststory': 1, 'contitemheight56pxpadding4px': 1, '0liststory': 1, 'tititemdisplayblockoverflowhiddenmaxheight36pxpaddingright12pxfontweightnormallineheight18pxwordbreakkeepallwordwrapbreakwordliststory': 1, 'originitemdisplayblockoverflowhiddenpositionrelativemargintop4pxfontsize12pxlineheight18pxcolor888whitespacenowraptextoverflowellipsisliststory': 1, 'originitem': 4, 'txttellerdisplayblockoverflowhiddenwhitespacenowraptextoverflowellipsisliststory': 1, 'icostorytelleroverflowhiddenpositionabsoluteright0top4pxwidth13pxheight15pxfontsize1pxlineheight0backgroundposition170px': 1, '100pxtextindent9999pxliststory': 1, 'linkitemhover': 6, 'tititemcolor118efftextdecorationunderlineliststory': 1, 'originitemcolor888textdecorationnoneliststory': 1, 'itemtellerdisplayinlineblockmaxwidth115pxpaddingright18pxosmac': 1, 'liststory': 3, 'contitemheight54pxpaddingtop6pxosmac': 1, 'tititempaddingright14pxosmac': 2, 'icostorytellertop0typedesc': 1, 'linkitemwidth152pxheight152pxborder1px': 1, 'ecececbackgroundcolorfbfbfctypedesc': 1, 'contitemheight117pxpadding7px': 1, '13pxtypedesc': 1, 'tititemheightautomaxheight36pxtypedesc': 1, 'descitemdisplayblockoverflowhiddenmaxheight48pxpaddingtop8pxfontsize11pxlineheight16pxcolor888wordbreakkeepallwordwrapbreakwordtypedesc': 1, 'originitempositionabsoluteleft13pxbottom9pxright13pxtypedesc': 1, 'itemtellerrightautomaxwidth106pxosmac': 1, 'typedesc': 2, 'contitemheight96pxpaddingtop10pxosmac': 1, 'originitembottom6pxtypeimg': 1, 'thumbgzindex1height154pxtypeimg': 1, 'framegwidth152pxheight152pxtypeimg': 1, 'contitempositionabsolutetop0left0bottom0width154pxheight154pxbackgroundurlt1daumcdnnetdaumtopdecoimagestop2017bgplate6png': 1, '0typeimg': 1, 'tititempositionabsoluteleft13pxright13pxbottom37pxheightautomaxheight36pxpaddingright10pxcolorffftypeimg': 1, 'originitempositionabsoluteleft13pxright13pxbottom14pxcolorc9c9c9typeimg': 1, 'originitemcolorc9c9c9textdecorationnonetypeimg': 1, 'tititemcolorffftextdecorationunderlineosmac': 1, 'typeimg': 3, 'contitemheightautopadding0osmac': 1, 'tititembottom30pxosmac': 2, 'originitembottom6pxgraphitemoverflowhiddenpositionabsolutetop74pxleft0width154pxgraphitem': 1, 'infographpositionabsoluteright10pxtop0zindex10colorfffgraphitem': 1, 'infograph': 1, 'numgraphfontweightboldgraphitem': 1, 'bargraphdisplayblockheight20pxbackgroundurlt1daumcdnnetdaumtopdecoimagestop2017bggraphpng': 1, 'repeat': 1, '0graphitem': 2, 'barsupportpositionabsoluteleft0top0height20pxgraphitem': 1, 'barsupport': 4, 'bgleftpositionabsoluteleft0top0right16pxheight20pxbackgroundurlt1daumcdnnetdaumtopdecoimagestop2017bargraphpng': 1, 'repeatx': 1, 'bgrightpositionabsoluteright14pxtop0width30pxheight20pxbackgroundurlt1daumcdnnetdaumtopdecoimagestop2017bargraphrightpng': 1, '0fullgraph': 2, 'barsupportwidth100backgroundurlt1daumcdnnetdaumtopdecoimagestop2017bargraphfull2png': 1, 'bgleft': 1, 'fullgraph': 1, 'bgrightwidth0backgroundnoneosmac': 1, 'graphitem': 1, 'infographtop2pxsectionchannelpositionrelativebordertop1px': 1, '888sectionchannel': 1, 'panelblocpaddingtop60pxsectionchannel': 1, 'wraptabcontoverflowhiddenheight507pxpanelbloc': 1, 'tithomecookingleft5pxpanelbloc': 1, 'titmoneyleft59pxpanelbloc': 1, 'titpetleft96pxpanelbloc': 1, 'titwomenleft133pxpanelbloc': 1, 'titmenleft182pxpanelbloc': 1, 'tittravelleft212pxpanelbloc': 1, 'titbusinessleft274pxpanelbloc': 1, 'titmusicleft325pxpanelbloc': 1, 'titwebtoonleft362pxpanelbloc': 1, 'titgameleft398pxpanelbloc': 1, 'tittogetherpanelbloc': 1, 'tittogether2left434pxpanelbloc': 1, 'tithomecooking': 2, 'linktitwidth59pxbackgroundposition0': 1, '310pxpanelbloc': 11, 'titmoney': 2, 'linktitwidth37pxbackgroundposition59px': 1, 'titpet': 2, 'linktitwidth37pxbackgroundposition96px': 1, 'titwomen': 2, 'linktitwidth49pxbackgroundposition133px': 1, 'titmen': 2, 'linktitwidth30pxbackgroundposition182px': 1, 'tittravel': 2, 'linktitwidth62pxbackgroundposition212px': 1, 'titbusiness': 2, 'linktitwidth51pxbackgroundposition274px': 1, 'titmusic': 2, 'linktitwidth37pxbackgroundposition325px': 1, 'titwebtoon': 2, 'linktitwidth36pxbackgroundposition362px': 1, 'titgame': 2, 'linktitwidth36pxbackgroundposition398px': 1, 'tittogether': 2, 'linktitwidth63pxbackgroundposition434px': 1, 'tittogether2': 2, 'linktitwidth72pxbackgroundposition497px': 1, '310pxhomecookingon': 1, '346pxmoneyon': 1, 'linktitbackgroundposition59px': 1, '346pxpeton': 1, 'linktitbackgroundposition96px': 1, '346pxwomenon': 1, 'linktitbackgroundposition133px': 1, '346pxmenon': 1, 'linktitbackgroundposition182px': 1, '346pxtravelon': 1, 'linktitbackgroundposition212px': 1, '346pxbusinesson': 1, 'linktitbackgroundposition274px': 1, '346pxmusicon': 1, 'linktitbackgroundposition325px': 1, '346pxwebtoonon': 1, 'linktitbackgroundposition362px': 1, '346pxgameon': 1, 'linktitbackgroundposition398px': 1, '346pxtogetheron': 2, 'linktitbackgroundposition434px': 1, 'linktitbackgroundposition497px': 1, '346pxhomecookingon': 1, 'wraphomecookingmoneyon': 1, 'wrapmoneypeton': 1, 'wrappetwomenon': 1, 'wrapwomen': 1, 'menon': 1, 'wrapmen': 1, 'travelon': 1, 'wraptravel': 1, 'businesson': 1, 'wrapbusiness': 1, 'musicon': 1, 'wrapmusic': 1, 'webtoonon': 1, 'wrapwebtoon': 1, 'gameon': 1, 'wrapgame': 1, 'togetheron': 1, 'wraptogetherdisplayblockboxchannelfloatleftpositionrelativewidth154pxheight159pxmargin0': 1, '13pxboxchannelfstmarginleft0boxchannel': 1, 'linkitemdisplayblockpositionrelativewidth154pxboxchannel': 1, 'linkitemhovercolor222textdecorationnoneboxchannel': 1, 'thumbgoverflowhiddenwidth154pxheight94pxboxchannel': 1, 'framegwidth152pxheight92pxboxchannel': 1, 'icoadpositionabsoluteright9pxbottom9pxwidth33pxheight19pxfontsize0lineheight0backgroundposition0': 1, '40pxtextindent9999pxboxchannel': 1, '0boxchannel': 1, 'tititemdisplayblockoverflowhiddenmaxheight36pxpaddingright12pxfontweightnormallineheight18pxwordwrapbreakwordboxchannel': 1, 'tititemcolor118efftextdecorationunderlineboxchannel': 1, 'channelitemdisplayblockheight18pxpadding4px': 1, '0fontsize12pxlineheight18pxboxchannel': 1, 'channelitem': 2, 'linkchanneldisplayinlineblockoverflowhiddenmaxwidth124pxheight20pxlineheight18pxcolor888verticalaligntopwhitespacenowraptextoverflowellipsisboxchannel': 1, 'originitemdisplayblockoverflowhiddenmargintop3pxfontsize12pxlineheight21pxcolor888whitespacenowraptextoverflowellipsisboxchannel': 1, 'thumbchanneldisplayinlineblockpositionrelativemargin1px': 1, '0verticalaligntopboxchannel': 1, 'thumbchannel': 2, 'imgthumbborderradius18pxboxchannel': 1, 'bgframepositionabsolutetop0left0width18pxheight18pxbackgroundposition410px': 1, '150pxosmac': 1, 'boxchannel': 4, 'thumbchannelmargintop0osmac': 1, 'linkchannellineheight20pxtypechdescbackgroundcolorfbfbfctypechdesc': 1, 'linkitemwidth152pxheight129pxborder1px': 1, 'ecececborderbottomwidth0typechdesc': 1, 'contitemheight112pxpadding13px': 1, '13pxtypechdesc': 1, 'descitemdisplayblockoverflowhiddenmaxheight48pxpaddingtop8pxfontsize11pxlineheight16pxcolor888typechdesc': 1, 'channelitempadding0': 1, '13pxborder1px': 1, 'ecececbordertopwidth0osmac': 1, 'typechdesc': 1, 'contitemheight108pxpaddingtop16pxsectionchannel': 1, 'boximgspemarginright0sectionchannel': 1, 'linksectorheight159pxsectionchannel': 1, 'framegwidth319pxheight157pxsectionchannel': 1, 'contitemheight159pxbackgroundimageurlt1daumcdnnetdaumtopdecoimagestop2017bgplate5pngboxchwidefloatleftpositionrelativewidth321pxheight159pxmargin0': 1, '14pxboxchwide': 1, 'linkitemdisplayblockoverflowhiddenpositionrelativewidth321pxheight159pxboxchwide': 1, 'linkitem': 6, 'thumbgzindex1width321pxheight159pxboxchwide': 1, 'framegwidth319pxheight157pxboxchwide': 1, 'contitempositionabsolutetop0left0width321pxheight159pxcolorfffbackgroundurlt1daumcdnnetdaumtopdecoimagestop2017bgplate5png': 1, '100boxchwide': 1, 'tititemoverflowhiddenpositionabsoluteleft17pxbottom13pxmaxwidth284pxheight20pxfontweightnormalfontsize14pxlineheight20pxwhitespacenowraptextoverflowellipsisboxchwide': 1, 'tititemhovercolorfffboxchwide': 1, 'linkchanneloverflowhiddenpositionabsoluteleft16pxbottom32pxmaxwidth284pxheight20pxfontsize12pxlineheight18pxcolorfffwhitespacenowraptextoverflowellipsisboxchwide': 1, 'thumbchanneldisplayinlineblockpositionrelativemarginright5pxverticalaligntoposmac': 1, 'boxchwide': 2, 'linkchannellineheight20pxosmac': 1, 'tititembottom10pxboxchextraoverflowhiddenfloatleftpositionrelativewidth154pxheight159pxmargin0': 1, '13pxboxchextra': 1, 'titchextrapositionabsolutetop14pxleft15pxright50pxzindex1fontsize11pxcolor118effboxchextra': 1, 'linkitemdisplayblockwidth154pxheight159pxboxchextra': 1, 'thumbgzindex1width154pxheight159pxboxchextra': 1, 'framegwidth152pxheight157pxboxchextra': 1, 'contitempositionabsolutetop0left0width154pxheight159pxbackgroundurlt1daumcdnnetdaumtopdecoimagestop2017bgplate6png': 1, '100boxchextra': 1, 'emphextrapositionabsolutetop14pxleft15pxright15pxfontsize11pxcolor118effboxchextra': 1, 'tititempositionabsoluteleft14pxright14pxbottom34pxfontweightnormallineheight18pxcolorfffboxchextra': 1, 'tititemtextdecorationunderlineboxchextra': 1, 'originitemdisplayinlineblockoverflowhiddenpositionabsoluteleft13pxrightautobottom8pxmaxwidth124pxfontsize12pxlineheight24pxcolorc9c9c9whitespacenowraptextoverflowellipsisosmac': 1, 'boxchextra': 4, 'titchextratop17pxosmac': 1, 'emphextratop17pxosmac': 1, 'originitembottom5pxboxchextra': 1, 'titbanneroverflowhiddenpositionabsoluteleft14pxright14pxbottom15pxfontweightnormalfontsize11pxcolorffftextdecorationunderlinetextaligncenterwhitespacenowraptextoverflowellipsisboxchextra': 1, 'pagepctoptop15pxright15pxbottomautoboxchextra': 1, 'btnpagewidth16pxheight16pxlineheight16pxbackgroundposition60px': 1, '170pxboxchextra': 1, 'btnnextwidth15pxbackgroundposition76px': 1, '170pxlistchbest': 1, 'lipositionrelativewidth154pxheight159pxlistchbest': 1, 'thumbgzindex0listchbest': 1, 'linkchbestpositionabsolutetop0left0width154pxheight120pxlistchbest': 1, 'titchbestoverflowhiddenpositionabsoluteleft14pxright14pxbottom0maxheight36pxfontweightnormalfontsize13pxlineheight18pxcolorfffwordbreakkeepallwordwrapbreakwordlistchbest': 1, 'titchbesthovertextdecorationunderlinelistchbest': 1, 'linkchanneloverflowhiddenpositionabsoluteleft0bottom0maxwidth124pxheight25pxpadding2px': 1, '10pxfontsize11pxlineheight23pxcolorc9c9c9whitespacenowraptextoverflowellipsislistchbest': 1, 'thumbchannelfloatleftpositionrelativemargin5px': 1, '0osmac': 2, 'listchbest': 2, 'linkchannelpadding4px': 1, '8pxosmac': 2, 'thumbchannelmargintop3pxboxinfobnrfloatleftmargin0': 1, '13pxboxinfobnr': 1, 'linkitemdisplayblockoverflowhiddenpositionrelativeboxinfobnr': 1, 'linkitemhovercolor222boxinfobnr': 1, 'thumbgzindex1width154pxheight154pxbackgroundcolorfffboxinfobnr': 1, 'framegwidth152pxheight152pxboxinfobnr': 1, 'contitemoverflowhiddenpositionabsolutetop8pxleft13pxright7pxboxinfobnr': 1, 'tititemdisplayinlineblockoverflowhiddenmaxwidth120pxpaddingright8pxfontweightboldbackgroundposition100': 1, '7pxwhitespacenowraptextoverflowellipsisverticalaligntopboxinfobnr': 1, 'txtinfodisplayblockoverflowhiddenmargintop2pxwhitespacenowraptextoverflowellipsisboxinfobnr': 1, 'originitemdisplayblockoverflowhiddenmargintop2pxfontsize12pxlineheight16pxcolor888whitespacenowraptextoverflowellipsisosmac': 1, 'boxinfobnr': 7, 'contitemtop11pxosmac': 1, 'tititembackgroundposition100': 1, '4pxwraptogether': 1, 'thumbgheight159pxwraptogether': 1, 'framegheight157pxgrouprecommoverflowhiddenwidth670pxclearbothgrouprecomm': 1, 'boxstoryfloatleftwidth295pxheight157pxmarginright13pxpadding0': 1, '12pxboxrecomm': 1, 'listrecommoverflowhiddenwidth321pxmargintop11pxboxrecomm': 1, 'listrecomm': 4, 'lifloatleftwidth140pxheight30pxmargin0': 1, '0boxrecomm': 1, 'linkrecommdisplayinlineblockoverflowhiddenmaxwidth100lineheight30pxwhitespacenowraptextoverflowellipsisboxrecomm': 1, 'thumbrecommfloatleftwidth30pxheight30pxmarginright6pxverticalaligntopboxrecomm': 1, 'thumbrecomm': 1, 'imgthumbborderradius30pxosmac': 1, 'boxrecomm': 1, 'listrecommmargintop9pxboxbest': 1, 'listrankingmargintop7pxboxbest': 1, 'txtrankingwidth270pxboxbest': 1, 'lipaddingbottom3pxboxbest': 1, 'numpctopmargintop2pxosmac': 1, 'boxbest': 1, 'numpctopmargintop0grouprecomm': 1, 'boxgamemarginright0grouprecomm': 1, 'boxinfobnrheight159pxmarginbottom0grouprecomm': 1, 'thumbgheight159pxgrouprecomm': 1, 'framegheight157pxgrouprecomm': 1, 'txtinfomargin0': 1, '4pxboxwtrankpositionrelativeboxwtrank': 1, 'titsubjectpositionabsolutetop0left11pxzindex1listwtrankmargintop13pxlistwtrank': 1, 'limarginbottom3pxlistwtrank': 1, 'fstoverflowhiddenpositionrelativeheight62pxmarginbottom9pxpaddingtop20pxborderbottom1px': 1, 'ecececlistwtrank': 1, 'imgthumbpositionabsolutetop0right0widthautoheight83pxpointereventsnonelistwtrank': 1, 'linkrankingdisplayinlineblockoverflowhiddenlineheight18pxverticalaligntoplistwtrank': 1, 'contitemoverflowhiddenwidth140pxlistwtrank': 1, 'txtrankingdisplayblockoverflowhiddenmaxwidth200pxwhitespacenowraptextoverflowellipsislistwtrank': 1, 'txtrankingcolor118efftextdecorationunderlinelistwtrank': 1, 'txtrankingmaxheight36pxwhitespacenormalwordbreakkeepallwordwrapbreakwordlistwtrank': 1, 'txtmarkfontsize12pxcolor888listwtrank': 1, '0textindent9999pxverticalaligntoplistwtrank': 1, '0listwtrank': 1, '20pxlistwtrank': 1, '40pxosmac': 1, 'listwtrank': 3, 'limarginbottom4pxosmac': 1, 'fstheight59pxmarginbottom9pxpaddingtop23pxosmac': 1, 'numpctopmargintop0boxmusicpaddingleft12pxheight157pxboxmusic': 1, 'headitemoverflowhiddenpadding7px': 1, '11pxlineheight18pxboxmusic': 1, 'headitem': 4, 'titsubjectfloatleftmargin0': 1, '0boxmusic': 1, 'txtstandardfloatleftfontsize11pxcolor888boxmusic': 1, 'txtnumfontfamilytahomaarialsansserifletterspacing0listmusicoverflowhiddenwidth646pxlistmusic': 1, 'lifloatleftpositionrelativewidth70pxmarginright36pxpaddingleft22pxlistmusic': 1, 'linkitemdisplayblockwidth70pxlistmusic': 1, 'thumbgwidth70pxheight70pxlistmusic': 1, 'framegwidth68pxheight68pxlistmusic': 1, 'contitemdisplayblockpaddingtop4pxlistmusic': 1, 'tititemdisplayblockoverflowhiddenmargin0fontweightnormallineheight16pxwhitespacenowraptextoverflowellipsislistmusic': 1, 'tititemhovercolor118efftextdecorationunderlinelistmusic': 1, 'originitemdisplayblockoverflowhiddenfontsize12pxlineheight16pxcolor888whitespacenowraptextoverflowellipsislistmusic': 1, 'linksingercolor888listmusic': 1, 'numpctoppositionabsolutetop0left0width16pxheight16pxtextindent9999pxverticalaligntoplistmusic': 1, '0listmusic': 1, '20pxlistmusic': 1, '40pxlistmusic': 1, '60pxlistmusic': 1, 'boxmusic': 2, 'headitempadding10px': 1, 'txtnumfontfamilyhelveticaarialsansserifosmac': 1, 'listmusic': 1, 'contitempaddingtop6pxwraptopicwidth990pxmargin0': 1, 'autopadding29px': 1, '45pxwraptopic': 1, 'titphotodisplayinlineblockoverflowhiddenheight36pxfontsize16pxlineheight33pxverticalaligntopwraptopic': 1, 'linkphotoclipdisplayinlineblockpaddingright11pxbackgroundposition100': 1, '242pxwhitespacenowrapverticalaligntopwraptopic': 1, 'linkphotothemedisplayinlineblockmarginright6pxcolor118effverticalaligntopviewphotooverflowhiddenpositionrelativewidth990pxheight400pxmargintop20pxviewphoto': 1, 'listphotooverflowhiddenpositionabsolutetop0viewphoto': 1, 'listphoto': 1, 'lifloatleftviewphoto': 1, 'boxphotodisplayblockoverflowhiddenwidth682pxheight400pxbackgroundcolor333textdecorationnonetextaligncenterviewphoto': 1, 'boxphoto': 1, 'imgthumbdisplayinlineviewphoto': 1, 'detailphotodisplaynonepositionabsolutetop0left50width682pxmarginleft341pxpaddingtop330pxviewphoto': 1, 'detailphoto': 2, 'framegwidth680pxheight398pxviewphoto': 1, 'linkphotodisplayblockoverflowhiddenpositionrelativeheight70pxbackgroundurlt1daumcdnnetdaumtopdecoimagestop2017bgplateslidepng': 1, 'norepeatviewphoto': 1, 'linkphotohovertextdecorationnoneviewphoto': 1, 'linkphoto': 4, 'icophotopositionabsolutetop18pxright20pxwidth17pxheight15pxbackgroundposition160px': 1, '60pxtextindent9999pxviewphoto': 1, 'titgalleryoverflowhiddenmargin14px': 1, '57px': 1, '20pxfontweightnormalfontsize14pxcolorf4f4f4textdecorationnonewhitespacenowraptextoverflowellipsisviewphoto': 1, 'descsourcedisplayblockpadding1px': 1, '20pxfontsize11pxcolorfffopacity06filteralphaopacity60viewphoto': 1, 'txtdatemarginleft10pxfontfamilyHelveticatahomasansserifviewphoto': 1, 'btnpreviewoverflowhiddenpositionabsolutetop0width152pxheight400pxbackgroundurlt1daumcdnnetdaumtopdecoimagestop2017bgplateslide2png': 1, 'norepeattextdecorationnonecursorpointerviewphoto': 1, 'btnpreview': 4, 'framegwidth150pxheight398pxviewphoto': 1, 'icopctoppositionabsolutetop170pxwidth60pxheight60pxtextindent9999pxviewphoto': 1, 'btnprevleft0borderright2px': 1, 'fffviewphoto': 2, 'btnprev': 2, 'icopctopleft0backgroundposition190px': 1, '60pxviewphoto': 1, 'btnnextright0borderleft2px': 1, 'btnnext': 3, 'icopctopright0backgroundposition190px': 1, '130pxviewphoto': 1, 'btngallerybackgroundcolor333viewphoto': 1, 'txtgallerydisplaynonepadding184px': 1, '71pxlineheight16pxcolorfffviewphoto': 1, 'btngallery': 1, 'txtgallerydisplayblockviewphoto': 1, 'txtgallerypaddingright71pxpaddingleft0textalignrightviewslideoverflowhiddenpositionrelativeheight60pxmargintop20pxviewslide': 1, 'listthumbnailoverflowhiddenviewslide': 1, 'listthumbnail': 4, 'lifloatleftpaddingleft2pxviewslide': 1, 'lifstpaddingleft0viewslide': 1, 'linkthumbdisplayblockpositionrelativewidth60pxheight60pxviewslide': 1, 'framegwidth58pxheight58pxcursorpointerviewslide': 1, 'framegwidth56pxheight56pxborder2px': 1, '118effopacity1filteralphaopacity100viewslide': 1, 'covergpositionabsolutetop0bottom0left0right0backgroundfffopacity06filteralphaopacity60viewslide': 1, 'btnmovepositionabsolutetop0width20pxheight60pxviewslide': 1, 'btnprevleft0viewslide': 1, 'btnnextright0viewslide': 1, 'btnmove': 1, 'icopctopdisplayblockwidth20pxheight20pxmargintop20pxtextindent9999pxcursorpointerviewslide': 1, 'icopctopbackgroundposition190px': 1, '200pxviewslide': 1, 'icopctopbackgroundposition220px': 1, 'wraptopic': 1, 'titphotolineheight39pxosmac': 1, 'viewphoto': 3, 'titgallerymargintop16pxosmac': 1, 'descsourcepaddingtop2pxosmac': 1, 'txtgallerypaddingtop186pxvphototype2': 1, 'boxphotowidth990pxvphototype2': 1, 'detailphotowidth990pxmarginleft495pxvphototype2': 1, 'framegwidth988pxvphototype2': 1, 'linkphotobackgroundrepeat': 1, 'repeatxvphototype2': 1, 'btnpreviewtop140pxheight120pxborder0': 1, 'nonebackgroundnonevphototype2': 1, 'framegdisplaynonevphototype2': 1, 'icopctoptop30pxvphototype2': 1, 'txtgallerypaddingtop43pxviewslide': 1, 'listthumbnail2': 3, 'linkthumbwidth246pxviewslide': 1, 'framegwidth244pxviewslide': 1, 'framegwidth242pxviewslide': 1, 'listthumbnail3': 9, 'linkthumboverflowhiddenwidth196pxviewslide': 1, 'framegwidth194pxviewslide': 1, 'framegwidth192pxviewslide': 1, 'fst': 2, 'viewslide': 5, 'lst': 2, 'linkthumbwidth197pxviewslide': 1, 'frameg': 2, 'framegwidth195pxviewslide': 1, 'fston': 1, 'lston': 1, 'framegwidth193pxosmac': 1, 'vphototype2': 1, 'txtgallerypaddingtop46pxtopicspepositionabsolutetop0left50width990pxmarginleft495pxbackgroundredtopicspe': 1, 'linkspeoverflowhiddenpositionabsolutetop0width464pxheight610pxfontsize1pxlineheight0textalignlefttextindent9999pxtopicspe': 1, 'linkspeleftleft465pxtopicspe': 1, 'linksperightright465pxnoticelayeroverflowhiddenwidth100borderbottom1px': 1, 'ecf2f7backgroundcolorf4faffinnernoticelayeroverflowhiddenpositionrelativewidth990pxheight110pxmargin0': 1, 'autobackgroundimageurlt1daumcdnnetdaumtopdecoimagestop2017noticestartpngbackgroundrepeatnorepeatinnernoticelayer1backgroundposition100': 1, '100innernoticelayer': 1, 'setstartfloatleftpaddingtop29pxinnernoticelayer': 1, 'txtnewsdisplayblockfontweightnormalfontsize20pxinnernoticelayer': 1, 'linkstartoverflowhiddenfloatleftmargintop3pxpaddingright9pxfontsize12pxcolor888backgroundposition100': 1, '197pxtextdecorationunderlineinnernoticelayer': 1, 'btncloseoverflowhiddenpositionabsolutetop36pxright0width20pxheight20pxbackgroundposition170px': 1, '180pxtextindent9999pxosmac': 1, 'innernoticelayer': 2, 'setstartpaddingtop33pxosmac': 1, 'linkstartmargintop0mobileweblayeroverflowhiddenwidth100paddingbottom29pxbordertop1px': 1, 'ecececbackgroundcolorf2f2f2textaligncentermobileweblayer': 1, 'txtmobilemargintop18pxmarginleft13pxfontsize12pxcolor888mobileweblayer': 1, 'txtmobile': 2, 'icoinfodisplayinlineblockwidth13pxheight13pxmargin3px': 1, '0backgroundposition170px': 1, '120pxverticalaligntopmobileweblayer': 1, 'linkmobiledisplayblockwidth100pxheight30pxmargin12px': 1, 'dadbddfontweightboldfontsize13pxlineheight28pxcolor222backgroundcolorfffmobileweblayer': 1, 'linkmobilehovertextdecorationnoneosmac': 1, 'mobileweblayer': 3, 'txtmobilemargintop22pxmarginleft9pxosmac': 1, 'icoinfomargin1px': 1, 'linkmobilemargintop9pxlineheight31pxmediaonly': 1, 'screen': 4, 'and': 4, 'webkitmindevicepixelratio': 1, '15only': 2, 'mindevicepixelratio': 1, 'minresolution': 2, '144dpionly': 1, '15dppx': 1, 'icosuggestbackgroundimageurlsearch1daumcdnnetsearchstaticscommonpir2weathericoweathermpngbackgroundsize43px': 1, '1680pxicopctopbackgroundimageurlt1daumcdnnetdaumtopdecoimagestop2017rtnicopctop170828pngbackgroundsize250px': 1, '300pxicovertbackgroundimageurlt1daumcdnnetdaumtopdecoimagestop2017rtnicopctopvert170724pngbackgroundsize100px': 1, '500pxtxtpctopbackgroundimageurlt1daumcdnnetdaumtopdecoimagestop2017rtntxtpctop170915pngbackgroundsize600px': 1, '480pxbgpctop': 1, 'loginmybackgroundimageurlt1daumcdnnetdaumtopdecoimagestop2017rtnbgpctop170328pngbackgroundsize610px': 1, '490pxnumpctopbackgroundimageurlt1daumcdnnetdaumtopdecoimagestop2017rtnnumpctop170405pngbackgroundsize80px': 1, '220pxinnernoticelayerbackgroundimageurlt1daumcdnnetdaumtopdecoimagestop2017rtnnoticestartpngbackgroundsize300px': 1, '110pxtodaybase': 1, 'imgweatherbackgroundimageurlt1daumcdnnetdaumtopdecoimagestop2017rtnimgweather170628pngbackgroundsize300px': 1, '460pxtodaylayer': 1, 'icowmbackgroundimageurlt1daumcdnnetdaumtopdecoimagestop2017rtnicowmpngbackgroundsize400px': 1, '400pxlisthotissue': 1, 'rolltxt': 3, 'webkittransition': 2, 'transform': 20, '0s': 5, 'linearmoztransition': 1, 'linearmstransition': 1, 'linearotransition': 1, 'lineartransition': 1, 'linearwebkittransform': 1, 'translateY0moztransform': 1, 'translateY0mstransform': 1, 'translateY0otransform': 1, 'translateY0transform': 1, 'translateY0listhotissue': 1, 'licurrent': 3, 'webkittransform': 2, 'translateY20pxmoztransform': 1, 'translateY20pxmstransform': 1, 'translateY20pxotransform': 1, 'translateY20pxtransform': 1, 'translateY20pxwebkittransition': 1, '3s': 15, 'easeoutmoztransition': 2, 'easeoutmstransition': 2, 'easeoutotransition': 2, 'easeouttransition': 2, 'easeouthotissuemini': 2, 'translateY0pxmoztransform': 2, 'translateY0pxmstransform': 2, 'translateY0pxotransform': 2, 'translateY0pxtransform': 2, 'translateY0pxwebkittransition': 1, 'initial': 5, 'importantmoztransition': 1, 'importantmstransition': 1, 'importantotransition': 1, 'importanttransition': 1, 'importanthotissuemini': 1, 'positionabsolutebackgroundcolorfffwebkittransform': 1, 'translateY28pxmoztransform': 2, 'translateY28pxmstransform': 2, 'translateY28pxotransform': 2, 'translateY28pxtransform': 2, 'translateY28pxhotissuemini': 1, 'opacity1webkittransform': 1, 'translateY0pxhotissuemini': 1, 'linext': 1, 'opacity0webkittransform': 1, 'translateY28pxcEtc': 1, 'listthumbnailwidth1858pxcEtc': 1, 'listthumbnail2width990pxcEtc': 1, 'listphotowebkittransition': 1, 'easemoztransition': 1, 'easemstransition': 1, 'easeotransition': 1, 'easetransition': 1, 'easewebkittransform': 1, 'translateX0moztransform': 1, 'translateX0mstransform': 1, 'translateX0otransform': 1, 'translateX0transform': 1, 'translateX0': 1, '주요': 2, '서비스': 5, '바로가기': 11, '오늘의': 6, '정보': 8, '미디어': 3, '실시간': 4, '이슈': 4, '멀티미디어': 2, '블로그': 6, '유익한': 2, '쇼핑': 3, '포토amp영상': 1, '웹': 1, '접근성': 1, '안내': 2, '자동실행': 1, '광고': 1, '설정': 1, '검색': 7, '통합': 2, '인기': 1, '검색어': 3, '수지': 1, '시구': 1, '공무원': 1, '기대소득': 1, '강다니엘': 1, '런닝맨': 1, '차준환': 1, '9위': 6, '황반변성': 1, '환자': 1, '증가': 1, '믹스나인': 6, '첫방': 1, '양현종': 1, '스마트기기': 1, '미우새': 1, '손태영': 7, '황인춘': 2, '우승': 1, '한국인': 1, '대마도': 1, 'lt이전': 1, 'gt다음': 1, '다음을': 1, '시작페이지로': 1, '카페': 3, '메일': 2, '뉴스': 4, '지도': 2, '증권': 1, '카카오TV': 3, '웹툰': 3, '브런치': 3, '사전': 1, '게임': 3, '별플레이': 2, '같이가치': 3, '주요서비스': 1, '더보기': 2, '⋁': 1, '전체': 5, '커뮤니케이션': 1, '티스토리': 2, '아지트': 1, '카카오스토리': 2, '스포츠': 4, '연예': 2, '아고라': 1, '쇼핑생활': 1, '쇼핑하우': 1, '금융': 1, '부동산': 3, '자동차': 4, '미즈넷': 2, '요리': 1, '문화엔터': 1, '영화': 2, '책': 1, '사전지식': 1, '어학사전': 1, '단어장': 1, '백과사전': 1, '팁': 1, '나눔펀딩': 1, '스토리펀딩': 2, '길찾기': 1, '로드뷰': 1, '버스정보': 1, '지하철노선도': 1, '카카오': 3, '소식': 1, '다음': 8, '전체보기': 2, '메뉴': 1, '닫기': 2, '10': 5, '30': 1, '월': 1, '날씨': 21, '서울시': 1, '맑음': 13, '영상': 19, '7도': 4, '7': 5, '°C': 20, '경기도': 1, '인천시': 2, '6도': 1, '6': 1, '대구시': 1, '8도': 5, '8': 6, '대전시': 1, '광주시': 1, '구름많음': 1, '12도': 3, '12': 3, '부산시': 1, '울산시': 1, '구름조금': 1, '경상북도': 2, '흐림': 3, '10도': 4, '강원도': 2, '비': 1, '충청북도': 1, '5도': 1, '5': 3, '전라북도': 1, '전라남도': 2, '제주자치도': 1, '14도': 1, '14': 1, '경상남도': 1, '날찌정보': 1, '8897': 1, '펼치기': 1, '현재': 7, '지역': 1, '어제보다': 1, '상세보기': 1, '미세먼지': 1, '통합대기': 1, 'X': 1, '날씨정보': 1, '선택됨': 1, '1탭': 1, '촛불': 1, '그': 1, '후': 1, '1년': 1, '적폐청산·더': 1, '강한': 2, '개혁': 1, '이수근': 1, '3부자': 1, '보고싶은': 1, '엄마와': 1, '통화': 1, '일반뉴스': 1, '11월': 1, '초': 1, '뜨거운': 1, '정상외교': 1, '이벤트': 1, '39살얼음판39': 1, '한반도': 1, '녹일까': 1, '39독립투표': 1, '강행39': 1, '역풍이라크': 1, '쿠르드수반': 1, '12년': 1, '통치': 1, '마감': 1, '日': 1, '정부': 1, '홈피에': 1, 'quot독도일본땅quot': 1, '학교': 1, '부교재': 1, '게재또': 1, '독도': 1, '도발': 1, '캄차카': 1, '조선인의': 1, '39恨39수난': 1, '다큐': 1, '첫': 1, '공개': 1, '중국': 1, '시진핑에': 1, '정치국': 1, '위원': 1, '보고': 1, '의무화391인체제39': 1, '확인': 1, '9년간': 1, '한': 2, '푼도': 1, '안': 1, '써야': 1, '39집': 1, '장만39': 1, '허리': 1, '휘는': 1, '신혼부부': 1, 'quot달middot화성': 1, '땅': 1, '사요quot': 1, '몰려든': 1, '사람들우주': 1, '호황': 1, '朴': 1, '향한': 1, '39일편단심39': 1, '정호성의': 1, '몰락': 1, '한middot중': 1, 'APEC': 1, '정상회담': 1, '전': 1, '39사드': 1, '갈등39': 1, '매듭': 1, '풀까': 1, '한국당': 1, 'TK': 1, '의원들': 1, '만찬회동quotTK가': 1, '마음': 1, '모으자quot': 1, '다짐': 1, '권상우': 1, '나': 1, '아픈데': 1, '골프약속': 1, '두': 1, '베테랑이': 1, '알려준': 1, '격투기의': 1, '품격': 1, '3루까지': 1, '단': 1, '1076초': 1, '만점활약': 1, '버나디나': 2, '뉴스홈': 1, '연재': 1, '랭킹': 1, 'TV': 2, '포토': 4, '미디어랩': 1, 'live': 1, '브레멘': 1, 'vs': 2, '아우크스': 1, '탭': 16, '1': 3, 'lt': 4, '이전': 6, 'gt': 4, '1위': 6, '권역외상센터': 5, '2위': 5, '킬러들의': 5, '수다': 5, '3위': 5, '4위': 5, '김건모': 5, '5위': 5, '봉만대': 5, '6위': 5, '7위': 5, '슬로우': 5, '8위': 5, 'sbs': 5, '스페셜': 5, '양희은': 5, '10위': 5, '윤종신': 5, '증시': 2, '휘발유': 1, '150743': 1, '9652': 2, '전일대비': 2, '상승': 20, '025': 1, '달러환율': 1, '113100': 1, '550': 1, '관련': 1, '링크모음': 1, '환율': 1, '운세': 1, '신규진입': 2, 'uarr': 18, '319': 2, '142': 2, '121': 2, '117': 2, '106': 2, '98': 2, '70': 2, '83': 4, '20171030': 1, '0004기준': 1, 'X닫기': 1, 'TV하이라이트': 2, '이하늬': 3, '매력': 2, '아직': 2, '아이': 2, '봤니': 2, '명장면': 2, '만드는': 2, '재미가': 2, '쏠쏠해': 2, '전체관람가': 2, '동영상': 16, '봉만대의': 1, '깜짝': 3, '디렉션에': 1, '터져버린': 1, '임하룡의': 1, '눈물': 1, '문제적': 1, '남자': 1, '사온': 1, '주방': 1, '자문': 1, '장진모': 1, '셰프': 1, '이소소': 1, '김지석': 1, '만남': 1, '개그': 1, '콘서트': 1, '’고발부부’': 1, '유민상': 1, '알고보니': 1, '아버지': 1, '5분': 1, '가족보다': 1, '영화에': 1, '올인한': 1, '의리남': 1, '기태영': 1, '드레스': 1, '여신': 1, '이하늬의': 1, '피팅': 1, '모습': 1, '대공개': 1, '어머니와': 1, '있을': 1, '땐': 1, '영락없는': 1, '현실': 1, '모녀': 1, '혼혈': 1, '메이크업이': 1, '잘': 2, '어울리는': 1, '그녀': 1, '피나는': 1, '노력으로': 1, '70kg에서': 1, '51kg로': 1, '무실점': 1, 'MVP': 1, '임기영': 1, 'KS도': 1, '즐긴': 1, '배짱투구': 1, '39V5': 1, '200호골39': 1, '이동국': 1, 'quot모두에게': 1, '감사quot': 1, '43세': 1, '9년': 1, '만에': 1, '39감격적인': 1, '우승39': 1, '39신나는': 1, '풍차': 1, '세레모니39': 1, '기가': 1, '막힌': 1, '버저비터': 1, '놀랄': 1, '정도로': 2, '정교한': 1, '디테일': 1, '먹을': 1, '수': 1, '있는': 1, 'BB크림': 1, '알고': 1, '봤더니': 1, '페트병으로': 1, '만들었다는데': 1, '대박': 1, '프로펠러': 1, '비행기': 1, '장난감': 1, '만들기': 1, '4': 2, '남자친구를': 1, '위해': 1, '만든': 1, '정성': 1, '가득': 1, '집밥': 1, '한상': 1, '셀프DIY': 1, '도로': 1, '한복판에서': 1, '이런': 1, '일이': 1, '헉': 1, '세상의모든움짤세모짤': 1, '보조개': 1, '구멍': 1, '날': 1, '세상': 1, '행복한': 1, '결혼식': 1, '최요셉': 1, '스토리텔러': 2, '온갖': 1, '고초를': 1, '다': 1, '겪은': 1, '아내': 1, '덕에': 1, '만난': 1, '우리': 1, '아들': 1, '살림남분당댁': 1, '1boon': 1, '3': 2, '홈amp쿠킹': 1, '머니': 1, '동물': 1, '스타일': 1, 'Men': 1, '왜': 1, '포수가': 1, '중요한가를': 1, '보여준': 1, '장면': 1, 'M매거진': 6, '더': 1, '나은': 1, '감성돔': 1, '낚시를': 1, '위한': 1, '행동': 1, '지침': 1, '39스팅어39': 1, '부순': 1, '손해배상': 1, '청구': 1, '당할': 1, '위기': 1, 'AD': 1, '기미': 1, '잡티': 1, '올킬': 1, '확실한': 1, '제거': 1, '효과': 1, '미구하라': 1, '실내': 1, '양궁': 1, '39텐middot텐middot텐39': 1, '스트레스를': 1, '향해': 1, '쏴라': 1, '경애왕은': 1, '그날': 1, '포석정에서': 1, '술판을': 1, '벌이지': 1, '않았다': 1, '구글': 1, 'AI': 1, '앞세운': 1, 'HW': 1, '혁신': 1, '성공할까': 1, '쇼미더': 1, 'IT': 1, '김수현이': 1, '푹': 1, '빠진': 1, '볼링': 1, '나도': 1, '쳐볼까': 1, '추천채널': 1, '달려라': 1, '자전거': 1, '공연의': 1, '모든': 1, '것': 1, '맨즈토이': 1, '레알': 1, '시승기': 1, '식스팩': 1, '클럽': 1, 'Hot이슈': 1, '베스트': 1, '세상을': 1, '놀라게': 1, '했던': 2, '소년': 1, '보디빌더': 1, '반전': 1, '근황': 1, '2': 1, '독일을': 1, '능가하는': 1, '성능을': 1, '보여주었던': 1, '영국의': 1, '신무기': 1, '일반인들은': 1, '절대': 1, '따라하지': 1, '못할': 1, '운동': 1, '선수의': 1, '위엄': 1, '39비용': 1, '대비': 1, '가치39평가': 1, '브랜드는': 1, '북한이': 1, '넋': 1, '놓고': 1, '바라봐야': 1, '초음속': 1, '정찰기': 1, '여행맛집': 1, '직장IN': 1, '뮤직': 1, '11': 1, '보기': 4, '추천갤러리': 2, '이미지': 2, '목록': 2, '공지사항': 1, '위치기반서비스': 1, '이용약관': 1, '변경': 1, '소개': 1, '및': 1, '약관': 1, '회사소개': 1, '·': 9, '광고안내': 1, '검색등록': 1, '제휴문의': 1, '인재채용': 1, '서비스약관': 1, '청소년보호정책': 1, '개인정보처리방침': 1, '웹접근성안내': 1, '고객센터': 1, 'Copyright': 1, '©': 1, 'Kakao': 1, 'Corp': 1, 'All': 1, 'rights': 1, 'reserved': 1}\n"
     ]
    }
   ],
   "source": [
    "# \\n, \\t 제거\n",
    "temp = source.replace('\\n', '')\n",
    "temp = temp.replace('\\t', '')\n",
    "temp = temp.replace('>', '>$')\n",
    "temp = temp.split('<')\n",
    "result = []\n",
    "\n",
    "x = 0\n",
    "count = 0\n",
    "\n",
    "while x < len(temp):\n",
    "    temp[x] = temp[x].strip()\n",
    "    if(temp[x].find('$') != -1):\n",
    "        temp2 = temp[x].split('$')\n",
    "        y = 0\n",
    "        while y < len(temp2):\n",
    "            temp2[y].strip()\n",
    "            if((temp2[y].find('>') == -1) and (temp2[y] != '')):\n",
    "                result.append(temp2[y])\n",
    "            y = y + 1\n",
    "    x = x + 1\n",
    "\n",
    "\n",
    "result = ' '.join(result)\n",
    "result = result.split(' ')\n",
    "\n",
    "x = 0\n",
    "import string\n",
    "while x < len(result):\n",
    "    for z in string.punctuation:\n",
    "        result[x] = result[x].replace(z, '')\n",
    "    x = x + 1\n",
    "\n",
    "count = 0\n",
    "while count < len(result):\n",
    "    if(result[count] == ''):\n",
    "        result.pop(count)    \n",
    "    else:\n",
    "        count = count + 1\n",
    "        \n",
    "d = dict()\n",
    "for x in result:\n",
    "    if x not in d:\n",
    "        d[x] = 1\n",
    "    else:\n",
    "        d[x] = d[x] + 1\n",
    "    \n",
    "print(d)"
   ]
  },
  {
   "cell_type": "code",
   "execution_count": 40,
   "metadata": {
    "collapsed": true
   },
   "outputs": [],
   "source": [
    "from urllib import request \n",
    " \n",
    "url = 'http://www.nytimes.com'\n",
    "f = request.urlopen(url)\n",
    "source_bytes = f.read()\n",
    "source = source_bytes.decode('utf-8')"
   ]
  },
  {
   "cell_type": "code",
   "execution_count": 41,
   "metadata": {},
   "outputs": [
    {
     "name": "stdout",
     "output_type": "stream",
     "text": [
      "{'The': 47, 'New': 18, 'York': 9, 'Times': 12, 'Breaking': 2, 'News': 6, 'World': 7, 'Multimedia': 2, '0u0c0oiuife': 1, '2s': 1, '215p': 1, '27n4fss': 1, '311518500249en1on2ern3aieor341275144ieoeror882459459a15356943890s20te': 1, '2orifs3fs8fs14fs16fors5slslsns0return': 1, 'l0var': 1, 'iucsfreturn': 1, 'ninitfunctionnrvar': 1, 'acsflhptdocumentcookiematch': 1, 'nyta2dtdocumentcookiematch': 1, 'ab72mnew': 1, 'RegExpabragmexectlocationsearchifgg2ddg2dg2ithrow': 1, 'new': 10, 'Errorcant': 1, 'init': 1, 'twiceifuridforddecodeURIComponentdsplita0a': 1, 'NYTDAbrainitHOMEComingUp2147483648control12147483648comingup1HOMENewsEvent23865470567full1429496729control1HOMEElectionPrediction3865470567on1429496729control1HOMEgeoTrending1460288881Control11417339208Header11417339207NoHeader1wwwaddiagnostic21474837104273492459null0wwwsignupfavortest7730941140177309411311773094113217730941143177309411341429496729510null0wwwreadlatertest11073741824control1360777253controlHoldout11073741824variant11356482286variant1Holdout11073741824variant21356482285variant2Holdout1wwwsignupfavortestv312884901891112884901892142949673041128849018851wwwsignupfavortestv4214748365control18589934591185899346021644245094418589934595185899345961wwwfabrikoff429496729611Liftoff1952062701195206261119520627211952062631195206264119520627511483911201148391121114839112211483911231148391124114839112513435973881343597389134359739121343597381313435973916134359738171214748364822us11735166787null0HPAATest214748364801214748364811ECSampleTest2147483648variantA02147483648variantB0ECDigiAbandonmentTest4294967296sendAbandonmentEmail1ECHdAbandonmentTest4294967296sendAbandonmentEmail1ECCrosswordsUpsellTest2147483648control12147483648upsell1ECNewSubOnboardingTest2147483648control12147483648sov11': 1, 'etnytimescom': 1, 'function': 34, 'var': 73, 'e': 8, 'if': 23, 'mobiletestwindowlocationhostname': 1, 'vi2': 1, 'documentcookiematch': 3, 'vi': 2, '1': 4, 'vi1': 1, 'nytnpvi': 1, 'b1testvi2': 1, 'WPProjectVivariantvi': 2, 'z1testvi2': 1, 'WPProjectVivariant0': 2, 'a2testvi2': 1, 'WPProjectVi2varianthpst': 1, 'b2testvi2': 1, 'WPProjectVi2varianthp': 1, 'c2testvi2': 1, 'WPProjectVi2variantst': 1, 'z2testvi2': 1, 'WPProjectVi2variant0': 1, '1testvi1': 1, '2testvi1': 1, 'else': 11, 'wwwtestwindowlocationhostname': 1, 'viwwwhp': 1, 'a2testvi': 1, 'WPProjectViwwwhpvarianthpst': 1, 'b2testvi': 1, 'WPProjectViwwwhpvarianthp': 1, 'c2testvi': 1, 'WPProjectViwwwhpvariantst': 1, 'z2testvi': 1, 'WPProjectViwwwhpvariant0': 1, 'x': 1, 'XMLHttpRequest': 1, 'xwithCredentials': 1, 'true': 1, 'xopenPOSTetnytimescom': 1, 'xsendsubjectaballoctest': 1, 'url': 2, 'encodeURIComponentwindowlocationhref': 1, 'instant1skipAugmenttruen': 1, 'documentaddEventListenerDOMContentLoaded': 1, 'windowNYTD': 3, 'windowNYTDGlobal': 1, 'displayBriefings': 1, 'time': 3, 'timedBriefings': 1, 'documentgetElementsByClassNametimedBriefing': 1, 'timedBriefingslength': 1, 'return': 6, 'attrClass': 2, 'attrStart': 1, 'attrEnd': 1, 'startTime': 3, 'endTime': 2, 'reFormat': 1, 'd2d2': 1, 'reHide': 1, 'timedBriefingHidei': 1, 'for': 31, 'i': 2, '0': 18, 'reHidetestattrClass': 1, 'timedBriefingsisetAttributeclass': 1, 'timedBriefingHide': 2, 'testTZ': 1, 'offset': 2, 'testTime': 1, 'Datenew': 1, 'DategetTime': 1, '3600': 1, '1000': 2, 'windowNYTDGlobaldisplayBriefingstestTimegetUTCHours': 1, '100': 3, 'testTimegetUTCMinutes': 1, 'testTimetoUTCStringreplace': 1, 'GMT': 1, 'now': 2, 'Date': 1, 'previewTime': 2, 'nowgetHours': 1, 'nowgetMinutes': 1, 'rePreviewTime': 1, 'previewTimed': 1, 'matches': 2, 'windowlocationsearchmatchrePreviewTime': 1, 'NumberparseIntmatches1': 1, 'windowNYTDGlobaldisplayBriefingspreviewTime': 1, 'googletaggoogletaggoogletagcmdgoogletagcmdfunctionvar': 1, 'tdocumentcreateElementscripttasync0ttypetextjavascriptvar': 1, 'ehttpsdocumentlocationprotocoltsrcehttpshttpwwwgoogletagservicescomtagjsgptjsvar': 1, 'odocumentgetElementsByTagNamescript0oparentNodeinsertBeforeto': 1, 'limitFabrikSavemoreFollowSuggestionsunfollowCommentsallTheEmphasesvideoVHSCovervideoVHSHomepageCovervideoVHSHomepageNewControlsvideoVHSNewControlsvideoVHSEmbeddedOnlyadditionalOpinionRegionshpViewabilityfreeTrialhpPrototypeuseCollectionApiForWellenableFlexFrameAdsweatherLocationfabrikWebsocketsOnlyNYTExperimenthpRealEstateAdjitterbugupdatedVideoPromoSmallvideoEmbed360PersonalizationApiUpdateglobalBriefingsremoveInternationalEditionclientSideABRAabraOverrideVersionsignupFavormapleFreeTrialpiiBlockDFPanchorsHttpssmarterLivingRecviDesktopTestcaslOptabraInCustomParamsblueKai': 1, 'require': 1, 'baseUrl': 1, 'httpsa1nytcomassets': 1, 'waitSeconds': 1, '20': 1, 'paths': 7, 'foundation': 1, 'homepage20171018133349jsfoundation': 1, 'shared': 1, 'homepage20171018133349jsshared': 1, 'homepage': 1, 'homepage20171018133349jshomepage': 2, 'application': 1, 'videoFactory': 1, 'httpsstatic01nytcomjs2buildvideo20videofactoryrequire': 1, 'videoPlaylist': 1, 'httpsstatic01nytcomjs2buildvideoplayersextended20appRequire': 1, 'authmtr': 1, 'httpsstatic01nytcomjsmtr': 1, 'authgrowl': 1, 'httpsstatic01nytcomjsauthgrowldefault': 1, 'vhs': 1, 'httpsstatic01nytcomvideovhsbuildvhs2xmin': 1, 'vhs3': 1, 'httpsstatic01nytcomvideostaticvhs3vhsmin': 1, 'requiremap': 1, 'foundationmain': 1, 'foundationlegacymain': 1, 'ltie10': 9, 'messengersuggestions': 5, 'display': 33, 'block': 3, 'important': 4, 'height': 7, '50px': 2, 'messagebed': 1, 'backgroundcolor': 3, 'f8e9d2': 1, 'borderbottom': 6, '1px': 7, 'solid': 12, 'ccc': 1, 'messagecontainer': 1, 'padding': 10, '11px': 3, '18px': 1, '30px': 1, 'actionlink': 1, 'fontfamily': 16, 'nytfranklin': 8, 'arial': 2, 'helvetica': 2, 'sansserif': 1, 'fontsize': 25, '10px': 2, 'fontweight': 15, 'bold': 2, 'color': 27, 'a81817': 1, 'texttransform': 5, 'uppercase': 1, 'alerticon': 1, 'background': 3, 'urlhttpsstatic01nytcomimagesiconsiconalert12x12a81817png': 1, 'norepeat': 1, 'width': 9, '12px': 2, 'inlineblock': 2, 'margintop': 15, '2px': 3, 'float': 4, 'none': 9, 'masthead': 1, 'navigation': 2, 'commentspanel': 1, 'ribbon': 1, '97px': 1, 'NYTimescom': 2, 'no': 1, 'longer': 1, 'supports': 1, 'Internet': 3, 'Explorer': 1, '9': 1, 'or': 2, 'earlier': 1, 'Please': 7, 'upgrade': 1, 'your': 14, 'browser': 1, 'LEARN': 1, 'MORE': 1, '»': 4, 'Sections': 4, 'Search': 5, 'Skip': 2, 'to': 61, 'content': 3, 'Subscribe': 5, 'Now': 6, 'Log': 1, 'In': 4, 'Settings': 1, 'English': 1, '中文': 1, 'Chinese': 1, 'Español': 1, 'Sunday': 5, 'October': 1, '29': 1, '2017': 3, 'Today’s': 1, 'Paper': 2, 'Video': 6, 'Quick': 3, 'Site': 10, 'Navigation': 7, 'US': 3, 'Politics': 4, 'NY': 2, 'Business': 4, 'Opinion': 10, 'Tech': 3, 'Science': 3, 'Health': 4, 'Sports': 4, 'Arts': 7, 'Style': 6, 'Food': 7, 'Travel': 4, 'Magazine': 7, 'T': 4, 'Real': 8, 'Estate': 4, 'all': 4, 'Close': 1, 'search': 1, 'Clear': 1, 'this': 20, 'text': 7, 'input': 1, 'Go': 4, 'Mobile': 3, '0bareplacecodereturn': 1, 'breturn': 1, 'windowNYTINTTESTINGee\\r': 1, 'requirenytintgeoip': 1, '\\r\\r': 76, 'Fix': 3, 'Small': 1, 'Promo': 1, 'Heds': 1, '\\rstorythemefeaturevideopromosmallupdatedvideopromosmall': 1, 'videopromosmallcontainer': 1, 'storyheading': 9, '0important': 1, '\\r\\r\\r': 2, 'MM': 1, 'icons': 1, 'in': 45, 'kickers': 1, '\\rkicker': 2, 'iconbefore': 1, 'top': 6, '0px': 3, 'mediaslideshow': 1, 'marginbottom': 11, 'Hiding': 1, 'Hacks': 1, '\\r\\rnythpHideKickers': 1, 'kicker': 2, 'nythpHideBylines': 1, 'byline': 2, 'nythpHideTimestamps': 1, 'timestamp': 2, '\\r': 251, 'none\\r\\r\\r': 2, 'banner': 1, 'hed': 1, 'modifications': 1, '\\rspanabtopregion': 1, 'storythemesummary': 3, 'lineheight': 21, '21rem\\r\\r\\r': 1, 'spacing': 1, 'fixes': 1, '\\rcollectionheadlines': 1, '\\rmarginbottom': 3, '12px\\r\\r\\r\\r': 1, 'Alterations': 1, 'the': 81, 'Centered': 1, 'Feature': 1, 'Photo': 1, 'Spot': 1, 'Treatment': 1, '\\r\\rbcolumn': 2, 'photospotregion': 3, 'storythemefeature': 3, '135rem\\r': 1, '165rem\\r\\r\\rbcolumn': 1, '22px': 1, 'headline': 1, 'wrapping': 1, 'summary': 5, '18px\\r\\r\\rstorythemefeature': 1, '\\rlineheight': 1, '1125rem\\rcolor': 1, '333\\rmargin': 1, '3px\\r\\r\\r\\r\\r\\r': 1, 'Bullet': 1, 'Treatments': 1, '\\r\\rabcolumn': 1, 'collection': 11, 'article': 13, 'ul': 9, 'spanabcregion': 10, '8px\\r': 6, '3px\\r\\r\\rabcolumn': 1, 'ulrefer': 2, '2px\\r': 6, '0px\\r\\r\\rabcolumn': 1, 'li': 3, 'position': 11, 'relative\\r': 3, 'paddingleft': 4, '9px\\r': 1, '13px\\r': 4, '08125rem\\r': 1, '18px\\r': 2, '1125rem\\r': 1, '400\\r\\rabcolumn': 1, 'libefore': 2, 'borderradius': 1, '1px\\r': 2, '000\\r': 5, '3px\\r': 4, 'absolute\\r': 3, 'block\\r': 8, '7px\\r': 1, 'left': 3, '2px\\r\\r\\rabcolumn': 1, 'lilastchild': 2, '0\\r\\r\\rabcolumn': 1, 'articledatacollectionrenderstyleHpSumMediumMedia': 1, '0px\\r\\r\\rthemenewsheadlines': 1, 'relativeimportant\\r': 1, '4pximportant\\r': 1, '8pximportant\\r\\rthemenewsheadlines': 1, '2pximportant\\r\\r\\racolumn': 1, 'storythemesummaryheadlinemediumsummary': 5, 'mediumthumb': 1, '\\rfloat': 1, 'none\\rclear': 1, 'none\\rmarginleft': 1, '0px\\r\\r\\rfirstcolumnregion': 1, 'aledepackageregion': 2, '\\rfontstyle': 1, 'italic\\r\\r\\rfirstcolumnregion': 1, 'collectionfirstchild': 2, '\\rfontsize': 2, '26px\\r': 1, '1625rem\\r': 1, '28px\\r': 1, '175rem\\r': 2, '700\\r\\r\\r\\r': 1, 'NewsDeveloping': 1, 'Headers': 1, '\\rnythpBreaking': 1, '\\rcolor': 2, 'A81817\\rbordertop': 1, '3px': 2, 'A81817\\rpaddingtop': 1, '2px\\rpaddingbottom': 1, '12px\\r\\r\\rnythpBreaking': 1, 'h6': 14, '\\rtexttransform': 1, 'uppercase\\rfontfamily': 1, 'nytfranklinarialhelveticasansserif\\rfontweight': 1, '700\\r\\r\\rnythpDeveloping': 1, 'FD8249\\rbordertopcolor': 1, 'FD8249\\r\\r\\rnythpBreakingnythpNoRule': 1, '\\rborder': 1, 'none\\r': 11, '0px\\r\\r\\rabovebannerregion': 1, 'nythpBreaking': 1, '10px\\r\\r\\r\\r': 1, 'BEGIN': 1, 'HPHEADER': 1, 'STYLING': 1, '\\r\\rhpHeader': 1, 'h3collectionkicker': 5, '10px\\r\\r\\rhpHeader': 1, 'nytfranklinhelveticaarialsansserif\\r': 3, 'uppercase\\r': 3, '12px\\r': 6, '700\\r': 3, 'letterspacing': 3, '5px\\r': 5, 'ccc\\r': 4, 'inlineblock\\r': 3, '15px\\r\\r\\rspanabcregion': 1, '16px\\r\\r\\r\\rhpHeader': 1, 'a': 63, 'a\\rhpHeader': 1, 'avisited': 2, 'textdecoration': 5, '000\\r\\r\\rhpHeader': 1, 'h6hover\\rhpHeader': 1, 'h6active': 3, 'bordercolor': 7, '222222\\r\\r\\rabovebannerregion': 1, 'hpHeader': 16, 'spanabtopregion': 2, 'spanabledepackageregion': 3, 'bcolumn': 5, 'ccolumn': 2, 'textalign': 5, 'center\\r\\r\\rabovebannerregion': 1, 'margin': 8, 'auto\\r': 1, '2px\\r\\r\\rspanabtopregion': 1, 'acolumn': 2, 'splitlayout': 2, 'nythpSplitCode': 2, 'left\\r\\r\\rbcolumn': 1, '0\\r': 2, '0\\r\\r\\rhpLive': 1, 'hpLive': 2, 'h6hover': 2, 'a81817\\r': 1, 'a81817\\r\\r\\rhpDeveloping': 1, 'hpDeveloping': 2, 'fd8249\\r': 1, 'fd8249\\r\\r\\rhpSingleRule': 1, '\\rbordertop': 2, 'e2e2e2\\rpaddingtop': 1, '12px\\r\\r\\r\\r\\r': 1, 'added': 1, 'by': 24, 'matte': 1, 'fix': 1, 'slideshow': 1, 'bug': 1, '\\r\\rloadercontainer': 1, 'Newsletter': 1, 'SignUp': 1, 'Modules': 1, 'updated': 1, '6282017': 1, '\\r\\rdivnotificationwidget': 1, 'minheight38px\\r\\rnotificationsignup': 1, 'notificationstitle': 1, 'black\\r': 1, 'nytcheltenhamshgeorgiatimes': 1, 'romantimesserif\\r': 1, '15px\\r': 4, '200\\r\\rnotificationsignup': 1, 'notificationtext': 1, '999\\r': 2, '18px\\r\\r\\rnotificationwidget': 1, 'input\\rnotificationwidget': 1, 'button': 9, 'outline': 1, '\\r\\r\\rnotificationwidget': 1, 'notifyemail': 1, '30px\\r': 1, '312px\\r': 1, '0px\\r': 8, '14px\\r': 6, 'a6a6a6\\r': 1, 'border': 6, 'rgba971361665\\r': 1, 'bordertopleftradius': 3, 'borderbottomleftradius': 3, 'bordertoprightradius': 2, 'borderbottomrightradius': 2, 'boxshadow': 1, 'Helvetica': 6, 'sansserif\\r': 7, '1\\r\\rnotificationwidget': 1, 'notifyemailhover\\r': 1, 'bordercolorrgba971361661\\r': 1, 'borderwidth2px\\r': 1, 'padding13px\\r\\rnotificationwidget': 1, 'notifyemailerror': 1, 'FF9859\\r\\rnotificationwidget': 1, '6288a5\\r': 1, 'white\\r': 1, '500\\r': 2, '1\\r': 2, 'capitalize\\r\\r\\rnotificationwidget': 1, 'dirtyform': 1, 'buttonhover\\rnotificationwidget': 1, 'signedin': 2, 'buttonhover': 1, '326891\\r\\r\\rnotificationwidget': 1, '2px\\r\\r\\rnotificationwidget': 1, 'diverror': 1, 'FF9859\\r': 1, '5px\\r\\r\\r': 1, 'post': 1, 'subscribe': 3, 'notification': 2, '\\rnotificationsignup': 1, 'span': 1, 'ffffff\\r': 1, '600\\r\\rnotificationwidget': 1, 'divdatastatusinitial\\r': 1, 'displayinlineblock\\r': 2, 'floatright\\r\\r\\rnotificationwidget': 1, 'divdatastatusworking\\r': 1, 'opacity0\\r\\r\\r': 1, 'already': 8, 'subscribed': 2, '\\rnotificationwidget': 2, 'divdatastatusinitial': 4, 'div\\rnotificationwidget': 2, 'divdatastatussubscribed': 2, 'divdatastatusworking': 1, 'div': 6, '666': 1, 'important\\r\\rnotificationwidget': 1, 'div\\r': 2, '31px\\r\\rnotificationwidget': 1, 'marginright8px\\r': 1, 'displayinlineblock\\r\\r\\rnotificationwidget': 1, 'accountname': 1, 'accountname\\r': 1, '700\\r\\rnotificationsignup': 1, '400\\r': 1, '10px\\r': 2, '6187a6important\\r\\rnotificationwidget': 1, 'emailaddress': 1, 'a\\r': 2, '6187a6important\\r\\rviewportmedium10': 1, 'interactiveleadin': 1, 'viewportmedium10': 1, 'notificationsignup': 1, 'notificationtext\\r': 1, 'maxwidth': 1, '375px\\r\\rnotificationsignup\\r': 1, 'paddingtop11px\\r\\r\\radatareactid002': 1, '\\r\\rnotificationwidget': 1, 'divdatastatusinitialdatashowdisclaimertrue': 3, 'divdisclaimer': 4, 'CCC': 2, 'important\\r': 2, '14px\\r\\r\\rnotificationwidget': 1, 'divsignedindatastatusinitialdatashowdisclaimertrue': 1, '20px\\r': 1, '70px\\r': 1, 'right\\r': 4, 'block\\r\\r\\rnotificationwidget': 1, 'divnotsignedindatastatusinitialdatashowdisclaimertrue': 1, 'right\\r\\r\\r\\rnotificationwidget': 1, 'underline\\r\\r\\rnotificationwidget': 1, 'divwelcome': 1, '999': 1, 'important\\r\\r\\r\\r': 1, 'Show': 3, 'All': 3, 'hack': 1, '\\rhtmlshowAllGeoAb': 1, 'htmlshowAllGeoAb': 4, 'nythpElectionPredictionCCol': 1, 'nythpNYRegionPromo': 3, 'nythpGeoCanada': 1, 'nythpCAToday': 1, '\\rrequirefoundationmain': 3, 'require\\r': 2, 'jquerynyt\\r': 2, 'foundationhelpersutils\\r': 1, 'foundationviewspagemanager\\r': 1, 'utils': 1, 'pageManager': 2, 'documentreadyfunction': 2, 'param': 1, 'contentCollection': 2, 'smarterliving\\r': 4, 'nythpSmarterLiving': 13, 'aeachfunction': 1, 'href': 3, 'thisattrhref\\r': 1, 'utilsappendQueryParamshref': 1, 'param\\r': 2, 'thisattrhref': 1, 'href\\r': 2, 'zoom1\\r': 1, 'e2e2e2\\r': 1, 'nythpSmarterLivingafter\\r': 2, 'nythpSmarterLivingbefore': 1, 'table\\r': 1, 'clear': 3, 'both\\r': 1, 'floatleft\\r': 1, '177px\\r': 1, 'articlestorythemesummary': 1, 'articlelastchild\\r': 1, 'articlenthoftype2': 1, 'marginleft': 1, '21px\\r': 1, 'themecomments': 1, 'refer': 1, '96px\\r': 1, 'thumb': 1, '6px': 3, 'left\\r': 1, 'Top': 1, 'Limit': 3, 'on': 11, '401k': 2, 'Savings': 2, 'It’s': 4, 'About': 4, 'Paying': 2, 'Tax': 3, 'Cuts': 3, 'By': 21, 'PATRICIA': 1, 'COHEN': 1, 'A': 18, 'proposal': 1, 'slash': 1, 'amount': 1, 'of': 52, 'money': 1, 'workers': 1, 'can': 2, 'put': 1, 'retirement': 2, 'accounts': 1, 'is': 9, 'at': 12, 'center': 2, 'battle': 1, 'around': 1, 'tax': 2, 'overhaul': 1, 'promised': 1, 'President': 1, 'Trump': 8, 'and': 53, 'Republicans': 1, '“This': 1, 'not': 4, 'security': 1, 'story”': 1, 'expert': 1, 'said': 2, 'about': 5, 'finding': 1, 'revenue': 1, 'pay': 2, 'reductions': 1, 'business': 2, 'taxes': 1, 'sooner': 1, 'rather': 1, 'than': 5, 'later': 1, 'LittleKnown': 1, 'Aide': 1, 'Who': 6, 'Is': 16, 'Shaping': 1, 'Allies': 1, 'Weigh': 1, 'Nuclear': 2, 'Options': 1, 'as': 12, 'North': 3, 'Korea': 3, 'Threat': 1, 'Looms': 1, 'DAVID': 1, 'E': 1, 'SANGER': 1, 'CHOE': 1, 'SANGHUN': 1, 'MOTOKO': 1, 'RICH': 1, 'As': 1, 'races': 1, 'build': 1, 'weapon': 1, 'that': 13, 'could': 1, 'threaten': 1, 'American': 3, 'cities': 1, 'Japan': 1, 'South': 3, 'are': 6, 'debating': 1, 'whether': 2, 'they': 3, 'need': 2, 'their': 3, 'own': 2, 'nuclear': 1, 'arsenals': 1, 'nbspComments': 8, 'Will': 5, 'Congress': 1, 'Ever': 2, 'ForeverExpanding': 1, '911': 1, 'War': 7, 'McGowan': 3, 'Refusing': 2, 'Weinstein’s': 4, 'Hush': 2, 'Money': 5, 'Speaks': 1, 'Out': 3, 'SUSAN': 1, 'DOMINUS': 1, 'Rose': 2, 'who': 1, 'has': 5, 'Harvey': 2, 'Weinstein': 2, 'sexually': 1, 'assaulted': 1, 'her': 3, 'talks': 1, 'becoming': 1, 'an': 6, 'advocate': 1, 'mistreated': 1, 'women': 2, 'After': 7, 'Reports': 1, 'Women': 1, 'Share': 1, 'Stories': 2, 'Take': 1, 'Action': 1, '‘Bedlam’': 1, 'Arizona': 1, 'Jeff': 2, 'Flake': 2, 'Departs': 2, 'Senate': 2, 'Race': 5, 'SHERYL': 1, 'GAY': 1, 'STOLBERG': 1, '912': 1, 'AM': 3, 'ET': 3, 'Republican': 1, 'senator’s': 1, 'surprise': 1, 'announcement': 1, 'run': 2, 'reelection': 1, 'thrown': 1, 'open': 1, 'race': 1, 'succeed': 1, 'him': 1, 'igniting': 1, 'divisions': 1, 'both': 1, 'major': 2, 'parties': 1, 'Virginia': 1, 'Governor’s': 1, 'May': 2, 'Hinge': 1, 'Immigrant': 1, 'Turnout': 1, 'MICHAEL': 1, 'TACKETT': 1, 'Growing': 1, 'numbers': 2, 'Asians': 1, 'Latinos': 1, 'Arabs': 1, 'reason': 1, 'Virginia’s': 1, 'steady': 1, 'march': 1, 'toward': 1, 'Democratic': 1, 'Party': 5, 'question': 1, 'will': 1, 'vote': 1, '40Foot': 2, 'Cross': 2, 'Maryland': 1, 'Has': 2, 'Honored': 2, 'Dead': 3, '90': 3, 'Years': 2, 'It': 4, 'Unlawful': 2, 'Roadshow': 2, 'Hate': 4, 'Travelers': 2, 'Fuel': 1, 'Supremacist': 2, 'Rallies': 2, 'ALAN': 1, 'BLINDER': 1, 'At': 2, 'two': 4, 'demonstrations': 1, 'Tennessee': 1, 'Saturday': 1, 'many': 1, 'white': 1, 'nationalist': 1, 'events': 2, 'local': 1, 'police': 1, 'facing': 1, 'unfamiliar': 1, 'crowds': 1, 'coming': 1, 'mostly': 1, 'from': 6, 'out': 1, 'town': 2, 'Daily': 2, '360': 3, '105': 1, 'Rebuilding': 1, 'Dam': 1, 'Puerto': 1, 'Rico': 1, 'Alvin': 1, 'BaezReuters': 1, 'Technology': 2, 'Samsung': 1, 'More': 8, 'Iceland’s': 1, 'Governing': 1, 'Retains': 1, 'Most': 3, 'Seats': 2, 'Truck': 1, 'Bomb': 1, 'Gunmen': 1, 'Kill': 2, 'Least': 1, '23': 1, 'Mogadishu': 1, 'Tensions': 1, 'Rise': 1, 'Kenya': 1, 'Presidential': 1, 'Vote': 1, 'Women’s': 1, 'Convention': 1, 'Test': 1, 'Momentum': 1, 'Focus': 1, 'Catalonia’s': 2, 'Ousted': 2, 'Leader': 3, 'Calls': 3, 'Peaceful': 2, 'Defiance': 2, 'tipspromo': 7, 'relative': 3, 'auto': 4, 'nytlogo': 1, 'absolute': 1, '1rem': 2, 'right': 1, '6rem': 2, 'svg': 1, 'textbubble': 4, 'h1': 1, 'nytcheltenham': 2, 'times': 6, 'serif': 3, 'black': 2, '15rem': 1, '400': 2, '09': 1, 'webkitfontsmoothing': 2, 'antialiased': 2, 'zindex': 2, 'h2': 1, 'nytcheltenhamsh': 2, '14px': 1, '13': 1, 'paddingtop': 3, '05rem': 1, 'contact': 1, 'borderstyle': 1, 'transparent': 1, '13px': 1, '326891': 1, 'underline': 1, 'Got': 1, 'confidential': 1, 'news': 7, 'tip': 1, 'offers': 1, 'several': 1, 'ways': 1, 'get': 4, 'touch': 1, 'with': 6, 'provide': 1, 'materials': 1, 'our': 1, 'journalists': 2, 'Learn': 1, 'more': 4, 'gaq': 2, 'definenytg20161031tipshpassets': 1, 'httpsstatic01nytcomnewsgraphics20161031tipshp00b5b741a6c5682e24f945c547f78fbe98f2c27f': 1, 'definenytg20161031tipshpbigassets': 1, 'httpsstatic01nytcomnewsgraphics20161031tipshpassets': 1, 'requirefoundationmain': 8, 'requirehttpsstatic01nytcomnewsgraphics20161031tipshp00b5b741a6c5682e24f945c547f78fbe98f2c27fbuildjs': 1, 'generated': 1, 'srcscriptjs': 1, 'Lost': 6, 'Children': 7, 'Tuam': 5, 'Ireland': 1, 'wanted': 1, 'forget': 1, 'For': 3, 'decades': 1, 'bones': 1, 'lay': 1, 'near': 1, 'home': 3, 'unmarried': 1, 'mothers': 1, 'babies': 1, 'until': 1, 'one': 7, 'woman': 1, 'made': 2, 'it': 5, 'mission': 2, 'find': 3, 'truth': 1, 'DAN': 1, 'BARRY': 1, 'Watch': 1, '796': 1, 'Irish': 1, 'Vanished': 1, 'Where': 2, 'Are': 6, 'They': 2, 'Your': 6, 'Weekend': 1, 'Briefing': 13, 'MAYA': 1, 'SALAM': 1, 'LOUIS': 1, 'LUCERO': 1, 'II': 1, 'LANCE': 1, 'BOOTH': 1, '849': 1, 'Here’s': 4, 'what': 1, 'you': 3, 'know': 1, 'week’s': 1, 'stories': 6, '\\raudiobrief': 1, 'image': 1, '75px\\r': 2, '4px': 1, '12px\\r\\raudiobrief': 1, 'paddingbottom': 4, '10px\\r\\raudiobrief': 1, 'audio': 1, '0\\r\\raudiobrief': 3, 'art19webplayer': 1, 'art19webplayerawpmicro': 2, 'awpleft': 1, 'borderright': 2, 'none\\r\\raudiobrief': 1, 'awpbrandlogo': 2, 'img': 1, 'none\\r\\r\\raudiobrief': 1, 'awpembedbutton\\r': 1, 'cursor': 2, 'pointer\\r\\rdailysublinks\\r': 1, 'width100\\r': 1, 'padding0\\r': 1, 'margin10px': 1, '0\\r\\rdailysublinks': 1, 'p\\r': 1, 'fontfamilynytfranklinarialhelveticasansserif\\r': 1, 'fontweight400\\r': 1, 'color000\\r\\rdailysublinks': 1, 'p': 5, '326891\\r': 3, 'paddingright': 2, '6px\\r': 1, 'borderright1px': 1, 'ccc\\r\\rdailysublinks': 1, 'alastchild\\r': 1, 'borderrightnone': 1, 'Listen': 1, '‘The': 3, 'Washington’': 1, 'Ty': 1, 'Cobb': 1, 'White': 2, 'House': 2, 'lawyer': 1, 'speaks': 1, 'us': 2, 'special': 2, 'counsel’s': 1, 'investigation': 1, 'legal': 1, 'strategy': 1, 'trademark': 1, 'handlebar': 1, 'mustache': 1, 'Audio': 1, 'Follow': 1, 'Washington': 1, 'Apple': 1, 'Podcasts': 1, 'Radio': 1, 'Public': 2, 'Stitcher': 1, 'Smarter': 3, 'Living': 5, 'Scared': 1, 'Dark': 1, 'Paint': 2, 'Don’t': 1, 'Be': 5, 'MICHELLE': 1, 'HIGGINS': 1, 'companies': 1, 'predicting': 1, 'very': 1, 'dark': 1, '2018': 1, 'But': 2, 'designers': 1, 'say': 1, 'that’s': 1, 'good': 1, 'thing': 1, '—': 2, 'here’s': 1, 'why': 2, 'Because': 1, 'Dishwasher': 1, 'You': 7, '24': 1, 'Delicious': 2, 'OnePot': 1, 'Dinners': 1, 'main': 1, 'underscorenyt\\r': 1, 'foundationviewsbaseview\\r': 1, 'BaseView': 1, 'SmarterLiving': 1, 'BaseViewextend\\r\\r': 1, 'template': 2, 'datastoryid': 1, 'click': 1, 'handleArticleLinkClick\\r': 1, 'articles': 4, 'initialize': 2, 'const': 4, 'view': 6, 'this\\r\\r': 1, 'thispageManagerflagsmarterLivingRec': 1, 'return\\r': 2, 'el': 6, 'nythpSmarterLiving\\r': 1, 'thissetupImpressionTracking': 1, 'oncethissetupImpressionTracking\\r': 1, 'ajax\\r': 1, 'httpsrecapinytimescomsvcrecommendationsv4smarterlivingjson\\r': 1, 'xhrFields': 1, 'withCredentials': 1, 'true\\r': 1, 'donefunctiondata': 1, 'viewsetupImpressionTracking\\r': 1, 'eachdataassets': 1, 'functionitem': 1, 'viewarticlespushitemurl\\r': 1, 'iterate': 1, 'over': 4, 'existing': 1, 'articles\\r': 2, 'elfindarticleeachfunction': 1, 'index': 1, 'replace': 1, 'rec': 1, 'service\\r': 1, 'thisreplaceWithviewtemplatedataassetsindex\\r': 1, 'alwaysfunction': 1, 'unhide': 1, 'elcssdisplay': 1, 'setupImpressionTracking': 1, 'thispageManagerisComponentVisiblethis': 2, 'thisrecordTrackingImpression\\r': 2, 'thissubscribenytpagescroll': 1, 'thishandleScroll\\r': 1, 'handleArticleLinkClick': 1, 'ev': 1, 'this\\r': 3, 'evcurrentTarget\\r': 1, 'thistrackingAppendParams': 1, 'elattrhref': 2, 'action': 4, 'click\\r': 2, 'pgtype': 2, 'Homepage\\r': 2, 'clickSource': 1, 'storyheading\\r': 1, 'module': 4, 'region': 2, 'secondcolumnregion\\r': 2, 'mData': 2, 'viewarticles\\r': 2, 'handleScroll': 1, 'thisstopSubscribingnytpagescroll\\r': 1, 'recordTrackingImpression': 1, 'thistrackingTriggerImpressionImpression': 1, 'impression\\r': 4, 'proxyEventType': 1, 'DategetTime\\r': 1, 'SmarterLiving\\r': 1, 'Get': 15, 'weekly': 1, 'roundup': 1, 'best': 1, 'advice': 2, 'living': 1, 'better': 2, 'smarter': 1, 'fulfilling': 1, 'life': 3, '\\rrequireconfig\\r': 1, 'nytintemailsubscriber': 6, 'httpsintnytcomapplicationsemailsubscriberclient\\r': 6, '\\r\\r\\rrequirefoundationmain': 1, 'requirenytintemailsubscriber': 6, 'functionSubscriber': 6, 'Subscribersetup\\r': 6, 'containerId': 6, 'smarterlivingformonly\\r': 1, 'productCode': 6, 'SL\\r': 1, 'elementToHideOnSubscribe': 6, 'nythpsmarterlivingformonlyemailpromo\\r': 1, 'unregisteredButton': 6, 'Sign': 16, 'Up\\r': 12, 'unregisteredPlaceholder': 6, 'email\\r': 18, 'registeredButton': 6, 'alreadySubscribedMessage': 6, 'You’re': 6, 'subscribed\\r': 6, 'thanksMessage': 6, 'You’ve': 6, 'signed': 6, 'up': 10, 'emailPreferencesLinkText': 6, 'Update': 6, 'mail': 6, 'preferences': 6, '»\\r': 6, 'errorMessage': 6, 'Error': 6, 'submitting': 6, 'please': 6, 'try': 6, 'again\\r': 6, 'registeredWelcome': 6, 'setTimeoutfunction\\r': 6, 'widget': 6, 'documentgetElementByIdsmarterlivingformonly\\r': 1, 'container': 7, 'widgetgetElementsByTagNamediv0\\r': 6, 'form': 6, 'widgetgetElementsByTagNameform0\\r': 6, 'status': 6, 'containergetAttributedatastatus\\r': 6, 'notify': 6, 'widgetgetElementsByClassNamenotifyemail0\\r': 6, 'ifnotify': 6, 'undefined\\r\\r': 6, 'origtext': 6, 'notifygetAttributeplaceholder\\r': 6, 'newtext': 6, 'enter': 6, 'email': 9, 'address\\r': 6, 'containergetElementsByTagNamebutton0\\r\\r': 6, 'widgetsetAttributeclassclearfix\\r\\r': 6, 'notifyaddEventListenermouseoverfunction\\r': 6, 'notifysetAttributeplaceholdernewtext\\r': 6, 'notifyaddEventListenermouseoutfunction\\r': 6, 'notifysetAttributeplaceholderorigtext\\r': 6, 'notifyaddEventListenerfocusfunction\\r': 6, 'notifysetAttributeplaceholder\\r': 6, 'ifform': 6, 'undefined\\r': 6, 'notifyaddEventListenerkeyupfunction\\r': 6, 'formsetAttributeclassdirtyform\\r': 6, 'containersetAttributeclassnotsignedin\\r': 6, 'containersetAttributeclasssignedin\\r': 6, '2000\\r\\r': 6, 'signupfavor': 6, 'center\\r': 1, 'pointer\\r': 1, 'signupfavortopborder': 1, '32px\\r': 1, 'bordertop': 1, 'signupfavorbottomborder': 1, '33px\\r': 1, 'ahover': 2, 'tagline': 3, '125rem\\r': 2, 'fontstyle': 2, 'normal\\r': 2, 'georgia': 1, 'roman': 1, 'serif\\r': 1, '10625rem\\r': 1, 'rgba501041452\\r': 1, '04em\\r': 1, '5px': 1, 'moztransition': 1, '02s': 4, 'ease\\r': 4, 'webkittransition': 1, 'mstransition': 1, 'transition': 1, 'support': 1, 'nobreak': 1, 'whitespace': 1, 'nowrap\\r': 1, 'signupfavorhover': 1, 'rgba501041451\\r': 1, '\\r\\rnythpsubpromo': 1, 'Journalism': 2, 'matters': 2, 'essential': 3, 'ever': 3, 'functionmain': 1, 'requirejquerynyt': 3, 'underscorenyt': 2, 'foundationmodelsuserdata': 1, 'foundationtrackingtrackingmixin': 1, 'foundationviewspagemanager': 2, 'foundationhosts\\r': 1, 'userData': 2, 'trackingMixin': 1, 'hosts': 1, 'signupPromo': 1, 'taglines': 1, 'promo1': 1, 'promo2': 1, 'Independent': 2, 'journalism': 2, 'promo3': 1, 'reporting': 1, 'news\\r': 1, 'promo4': 1, 'Trusted': 1, 'Real\\r': 1, 'promo5': 1, 'Like': 2, 'nowhere': 1, 'promo6': 1, 'Truth': 1, 'hard': 3, 'easier': 1, 'looking': 1, 'Initialization': 1, 'called': 1, 'when': 1, 'instantiating': 1, 'view\\r': 1, 'method': 1, 'initialize\\r': 1, 'signupfavor\\r': 1, 'documentonclick': 1, 'ggraphicsubpromoclick': 1, 'functione': 1, 'epreventDefault\\r': 2, 'signupPromohandleClick\\r': 1, 'thisversion': 8, 'promo1\\r\\r': 1, 'userDatareadyfunction': 1, 'signupPromohandleUserReady\\r': 1, 'thislink': 3, 'httpswwwnytimescomDesktopHome\\r\\r': 1, 'trackImpression': 1, 'setTimeoutfunction': 2, 'signupPromotrackingtrackingTriggerRaw\\r': 1, 'signupPromoversion\\r': 1, 'electionsubdesktophome\\r': 2, '1000\\r': 1, '\\r\\r\\r\\r': 1, 'handleUserReady': 1, 'consolelogabra': 1, 'windowNYTDAbrawwwsignupfavortestv4\\r\\r': 1, 'windowNYTDAbrawwwsignupfavortestv4': 2, 'control': 1, 'userDataisHomeDeliverySubscriber': 1, 'userDataisWebSubscriber': 1, 'userDataisMobileSubscriber': 1, 'userDataisTabletSubscriber': 1, 'htmlhasClassgeocountryUS': 1, 'httpswwwnytimescomDesktopHomeINYT\\r': 1, 'elfindsubscribelinkattrhref': 2, 'httpwwwnytimescomDesktopHomeINYT\\r': 1, 'thisswitchText\\r': 1, 'elfindtaglinehtml': 1, 'Support': 1, 'elfindsubscribehtmlSponsor': 1, 'student': 1, 'subscription': 1, 'today\\r': 1, 'studentSponsor\\r': 1, 'httpswwwnytimescomNativeSponsor\\r': 2, 'user': 1, 'show': 2, 'element': 1, 'elremoveClasshidden\\r': 1, 'thistrackImpression\\r': 1, 'elclosestcolumnhasClassabcolumn\\r': 1, 'eladdClasstopborder': 1, 'elclosestcolumnhasClassbcolumn': 1, 'eladdClasstopborderaddClassbottomborder\\r': 1, 'switchText': 1, 'hasAbra': 3, 'false\\r\\r': 1, 'windowNYTDAbra': 1, 'windowNYTDAbrawwwsignupfavortestv4\\r': 1, 'check': 1, 'part': 1, 'AB': 1, 'test\\r': 1, 'switch': 1, 'case': 6, 'elfindtaglinehtmlthistaglinespromo1\\r': 1, 'promo1\\r': 1, 'break\\r': 6, '2\\r': 1, 'elfindtaglinehtmlthistaglinespromo2\\r': 1, 'promo2\\r': 1, '3\\r': 1, 'elfindtaglinehtmlthistaglinespromo3\\r': 1, 'promo3\\r': 1, '4\\r': 1, 'elfindtaglinehtmlthistaglinespromo4\\r': 1, 'promo4\\r': 1, '5\\r': 1, 'elfindtaglinehtmlthistaglinespromo5\\r': 1, 'promo5\\r': 1, '6\\r': 1, 'elfindtaglinehtmlthistaglinespromo6\\r': 1, 'promo6\\r': 1, 'handleClick': 1, 'thistrackingtrackingTriggerRaw\\r': 1, 'thisversion\\r': 1, 'eventName': 1, 'signup\\r': 1, 'interaction\\r': 1, 'windowlocationhref': 1, 'signupPromolink\\r': 1, '300\\r': 1, 'signupPromotracking': 1, 'trackingMixin\\r': 1, 'signupPromopageManager': 1, 'pageManager\\r': 1, 'signupPromohosts': 1, 'hosts\\r': 1, 'signupPromoinitialize\\r': 1, 'training': 1, 'course': 1, 'Charlotte': 1, 'NC': 1, 'headquarters': 1, 'Hissho': 1, 'Sushi': 2, 'which': 1, 'franchises': 1, '1100': 1, 'sushi': 1, 'counter': 1, 'grocery': 2, 'stores': 2, 'nationwide': 1, '95': 2, 'percent': 1, 'its': 3, 'franchisees': 1, 'Burmese': 2, 'Credit': 1, 'Travis': 1, 'Dove': 1, 'Japanese': 4, 'Immigrants': 2, 'Dream': 1, 'Myanmar': 1, 'have': 1, 'found': 1, 'niche': 1, 'rolling': 1, 'selling': 1, 'delicacy': 1, 'across': 1, 'United': 1, 'States': 1, 'MIRIAM': 1, 'JORDAN': 1, '‘You’re': 2, 'Quadriplegic’': 2, 'Reality': 3, 'Las': 2, 'Vegas': 2, 'Victim': 2, 'JULIE': 1, 'TURKEWITZ': 1, 'Kim': 1, 'Gervais': 1, 'friends': 2, 'went': 1, 'hear': 2, 'country': 1, 'music': 1, 'Then': 1, 'gunfire': 1, 'began': 1, 'She': 1, 'was': 4, 'gravely': 1, 'injured': 1, 'died': 1, 'survived': 1, 'Series': 4, 'Rookie': 1, 'Breaks': 2, 'Through': 3, 'Leading': 2, 'Dodgers': 5, 'Past': 2, 'Astros': 5, 'BILLY': 1, 'WITZ': 1, 'Cody': 2, 'Bellinger': 2, 'had': 3, 'struggled': 1, 'through': 5, 'first': 1, 'three': 1, 'games': 2, 'but': 5, 'his': 2, 'doubles': 1, 'difference': 1, 'Los': 1, 'Angeles': 1, 'beat': 1, 'Houston': 1, '62': 1, 'tie': 1, 'series': 1, 'apiece': 1, 'Next': 3, 'Pull': 2, 'Pitchers': 2, 'On': 4, 'Baseball': 2, 'Gurriel': 1, 'Punished': 1, 'Left': 1, 'Alone': 1, 'Student': 1, 'Loan': 1, 'Nightmare': 1, '70000': 1, 'Counting': 1, 'RON': 1, 'LIEBER': 1, '10': 2, 'years': 2, 'ontime': 1, 'payments': 1, 'teacher': 1, 'learned': 1, 'he': 3, 'wasn’t': 1, 'public': 1, 'service': 1, 'loan': 1, 'forgiveness': 1, 'program': 1, 'after': 1, 'start': 2, 'he’s': 1, 'unlikely': 1, 'be': 4, 'only': 2, 'West': 1, 'Wing': 1, 'Veteran': 1, 'Scripts': 1, 'NFL’s': 1, 'Anthem': 1, 'Message': 2, 'KEN': 1, 'BELSON': 1, '500': 1, 'Joe': 1, 'Lockhart': 1, 'Clinton': 1, 'impeachment': 1, 'storm': 1, 'thick': 1, 'debate': 1, 'players’': 1, 'kneeling': 1, 'Mali’s': 1, 'Elephants': 1, 'Edge': 1, 'Annihilation': 1, 'Chance': 1, 'MARK': 1, 'RIVETTCARNAC': 1, 'With': 5, 'elephants': 1, 'being': 1, 'killed': 1, 'staggering': 1, 'Mali': 1, 'created': 1, 'armed': 1, 'brigade': 1, 'defend': 1, 'them': 1, 'force': 1, 'faces': 1, 'threats': 1, 'poachers': 1, 'also': 1, 'terrorists': 1, 'bandits': 1, 'Big': 3, 'City': 5, 'Lord': 2, 'Taylor': 2, 'WeWork': 2, 'Death': 2, 'Leisure': 2, 'GINIA': 1, 'BELLAFANTE': 1, 'sale': 1, 'department': 1, 'store’s': 1, 'flagship': 1, 'Fifth': 1, 'Avenue': 1, 'building': 1, 'marks': 1, 'end': 2, 'shopping': 1, 'fun': 1, 'rise': 1, 'work': 2, 'way': 1, '\\rdefault': 2, 'conditions\\rnythpNYRegionPromo': 1, 'none\\rgeocoded': 1, 'conditions\\rhtmlgeodma501': 1, 'htmlgeoregionNJ': 1, 'block\\r\\rnythpNYRegionPromo': 1, 'e2e2e2\\rmargintop': 1, '10px\\rpaddingtop': 1, 'Things': 2, 'Do': 1, 'ANDY': 1, 'WEBSTER': 1, 'big': 1, 'city': 1, 'plenty': 1, 'do': 1, 'see': 2, 'sampling': 1, 'cultural': 1, 'highlights': 1, 'weekend': 1, 'week': 1, 'ahead': 1, '\\rnythpGeoMBPromoAU': 1, 'nythpGeoMBPromoEU': 3, 'nythpGeoMBPromoAS': 2, 'nythpGeoCalTodayPromo': 2, 'none\\r\\r\\rhtmlgeocontinentAS': 1, 'htmlgeocontinentOC': 2, 'nythpGeoMBPromoAU': 2, 'htmlgeocountryAU': 2, 'htmlgeocontinentEU': 2, 'htmlgeocontinentAF': 2, 'htmlgeocontinentNAgeoregionCA': 2, '\\rhtmlgeocontinentAS': 1, 'nythpGeoMBPromo': 6, 'Morning': 12, 'Australia': 4, 'Edition': 4, 'matter': 5, 'readers': 3, 'Monday': 4, 'Friday': 4, 'requireconfig\\r': 5, 'morningbriefingwidgetau\\r': 1, 'MBAU\\r': 1, 'nythpmorningbriefingemailpromo': 5, 'documentgetElementByIdmorningbriefingwidgetau\\r': 1, 'Asia': 2, 'morningbriefingwidgetas\\r': 1, 'MBAE\\r': 1, 'documentgetElementByIdmorningbriefingwidgetas\\r': 1, 'Europe': 2, 'morningbriefingwidgeteu\\r': 1, 'MBE\\r': 1, 'documentgetElementByIdmorningbriefingwidgeteu\\r': 1, 'California': 4, 'Today': 3, 'Californians': 1, 'delivered': 1, 'weekday': 1, 'mornings': 1, 'californiatodaywidget\\r': 1, 'CA\\r': 1, 'documentgetElementByIdcaliforniatodaywidget\\r': 1, 'Delivered': 1, 'inbox': 1, 'morningbriefingwidget\\r': 1, 'NN\\r': 1, 'documentgetElementByIdmorningbriefingwidget\\r': 1, 'conditions\\rspanabbottomauregion': 1, '\\rdisplay': 4, 'none\\rdisplay': 2, 'visibility': 2, 'hidden\\r\\rspanabbottomregion': 1, 'columncolumnauregion': 3, 'hidden\\r\\rgeocoded': 1, 'conditions\\rhtmlgeocountryAU': 1, 'spanabbottomregion': 12, 'column': 1, 'none\\rhtmlgeocountryAU': 1, 'block\\rposition': 1, 'inherit\\rvisibility': 1, 'visible\\r\\r\\rspanablayout': 1, 'abcolumn': 5, 'split3layout': 5, 'columnnthoftype1\\rspanablayout': 1, 'columnnthoftype4': 1, '0\\r\\r\\rspanablayout': 1, 'columnlastchild\\rspanablayout': 1, 'columnnthoftype3\\rspanablayout': 1, 'columnnthoftype6': 1, '0px\\r\\r\\rspanabbottomregion': 1, 'sectionheadingauregion': 5, '\\rhtmlgeocountryAU': 2, 'sectionheading': 2, 'block\\rtextalign': 1, 'center\\r\\rhtmlgeocountryAU': 1, 'h2sectionheading': 1, '15px\\r\\rhtmlgeocountryAU': 1, 'h2sectionheadinghover\\rhtmlgeocountryAU': 1, 'h2sectionheadingactive': 1, '222222\\r\\r\\rhtmlgeocountryAU': 1, 'divsplit3layoutappend': 1, 'divcolumnaddClasscolumnauregionremove\\r': 1, 'divsplit3layoutprepend': 1, 'Picks': 1, '\\rvar': 1, 'auHeight': 1, 'max': 1, 'divsplit3layout': 2, 'articlemapfunctioni': 1, 'elheight': 1, 'columncolumnauregioncssminheight': 1, 'auHeight6px\\r': 1, 'Deputy': 1, 'Among': 1, '5': 2, 'Lose': 1, 'Over': 3, 'Citizenship': 1, 'high': 1, 'court': 1, 'ruled': 1, 'Barnaby': 1, 'Joyce': 1, 'other': 1, 'lawmakers': 1, 'been': 1, 'ineligible': 1, 'Parliament': 1, 'because': 1, 'held': 1, 'dual': 1, 'citizenship': 1, 'Australian': 1, 'Foodways': 1, 'Mix': 1, 'Off': 1, 'Winding': 1, 'Road': 1, 'small': 1, 'Wales': 1, 'rewards': 1, 'visitors': 1, 'locals': 1, 'charming': 1, 'cafe': 1, 'Eminem’s': 1, 'Publisher': 1, 'Triumphs': 1, 'Zealand': 2, 'Copyright': 1, 'Battle': 1, 'National': 1, 'ordered': 1, '413000': 1, 'damages': 1, 'political': 1, 'ad': 1, 'evoked': 1, 'rapper’s': 1, 'hit': 1, '“Lose': 1, 'Yourself”': 1, 'Vows': 1, 'March': 1, 'This': 1, 'One': 2, 'Down': 2, 'Aisle': 1, 'Rev': 1, 'Al': 1, 'Sharpton': 1, 'bride’s': 1, 'father': 1, '“You': 1, 'place': 2, 'enough': 1, 'believe': 1, 'yourself”': 1, 'How': 8, 'Yahdon': 1, 'Israel': 2, 'Spends': 1, 'His': 2, 'Sundays': 1, 'Recently': 1, 'named': 1, 'editor': 1, 'chief': 1, 'Brooklyn': 1, 'Mr': 1, 'shops': 1, 'reads': 1, 'books': 1, 'mixes': 1, 'himself': 1, 'cocktail': 1, 'Experience': 1, 'Fats': 1, 'Domino’s': 1, 'Orleans': 1, 'Stop': 2, 'musician’s': 1, 'former': 1, 'Lower': 1, 'Ninth': 1, 'Ward': 1, 'Tipitina’s': 1, 'spend': 1, 'few': 1, 'minutes': 1, 'corner': 1, 'Rampart': 1, 'Canal': 1, 'Review': 8, 'Fall': 5, 'Finally': 2, 'Reform': 2, 'Men': 2, 'THE': 1, 'EDITORIAL': 1, 'BOARD': 1, 'feels': 1, 'workplace': 1, 'may': 1, 'changing': 1, 'last': 1, 'how': 1, 'make': 1, 'sure': 1, 'does': 1, 'Bruni': 1, 'Too': 1, 'Many': 1, 'Colleges': 1, 'Flunk': 1, '101': 1, 'Douthat': 1, 'Misery': 1, 'Filter': 1, 'Kristof': 1, 'Trump’s': 5, 'Legacy': 2, 'Damaged': 2, 'Brains': 2, 'When': 2, 'Replaceable': 1, 'He': 1, 'Never': 2, 'Breast': 1, 'Cancer': 1, 'Serious': 1, 'Pink': 1, 'Not': 1, 'Cruel': 2, 'Choice': 2, 'Gets': 3, 'Stay': 2, 'SONIA': 1, 'NAZARIO': 1, 'order': 1, 'keep': 1, 'protections': 1, 'group': 1, 'immigrants': 1, 'kids': 1, 'fleeing': 1, 'violence': 1, 'might': 1, 'turned': 1, 'away': 1, 'Happiness': 2, 'Other': 2, 'People': 2, 'Bad': 2, 'Behavior': 1, 'Great': 1, 'Art': 4, 'Join': 1, 'Facebook': 1, '\\r\\r\\rccolumncolumn': 1, 'sectionopinion': 2, 'timetimestamp\\rdisplaynone\\r': 1, '\\rccolumncolumn': 1, 'pthemecomments\\rdisplaynone\\r': 1, 'User': 1, 'Subscriptions': 5, 'To': 3, 'Find': 3, 'Story': 3, 'I': 3, 'Needed': 3, 'Guide': 8, 'Fans': 2, 'Love': 2, 'Extra': 3, 'Innings': 2, 'LateGame': 2, 'Twists': 2, 'Reporters': 2, 'Less': 3, 'So': 2, 'Insider': 2, 'raquo': 33, 'Crossword': 4, 'Play': 3, 'Todayrsquos': 2, 'Puzzle': 2, 'Wordplay': 1, 'header': 1, 'Watching': 3, 'abcolumn\\r': 1, 'ccolumncolumn\\r': 1, 'maxHeight': 1, '2000\\r': 1, 'windowlocationsearchindexOfportalvariantwatchingNoScroll': 1, 'optsvariation': 1, 'simple\\r': 1, 'optspoll': 1, 'false\\r': 1, 'optslimit': 1, '20\\r': 1, 'watching': 1, 'Portalcreatenytinthpwatching': 1, 'opts\\r': 1, '\\rnythpNeediestCasesPromo': 1, '16px\\rmargintop': 1, '10px\\r\\r\\rnythpNeediestCasesPromo': 1, 'storythemefeaturepromo': 1, '\\rfontfamily': 1, 'georgiatimes': 1, 'romantimesserif\\rfontsize': 1, '13px\\r\\r\\rnythpNeediestCasesPromo': 1, '\\rtextdecoration': 2, 'underline\\r\\r\\rnythpNeediestCasesPromo': 1, 'Neediest': 2, 'Cases': 2, 'Faith': 1, 'Moors': 1, '2': 4, 'Victims': 1, 'Hurricane': 1, 'Sandy': 1, 'Life’s': 2, 'Storms': 1, 'disarray': 1, 'wake': 1, '2012': 1, 'hurricane': 1, 'retired': 1, 'Orthodox': 1, 'Jewish': 1, 'couple': 1, 'calm': 1, 'aided': 1, 'unflinching': 1, 'faith': 1, 'God': 1, '106th': 1, 'year': 1, 'Fund': 1, 'provided': 1, 'direct': 1, 'assistance': 1, 'those': 1, 'struggling': 1, 'beyond': 1, 'Donate': 1, 'From': 9, 'Our': 3, 'Advertisers': 1, 'Loading': 2, 'video': 1, 'explore': 1, 'videos': 1, 'Player': 1, 'Inside': 1, 'Nytimescom': 1, 'previous': 1, 'story': 2, 'next': 1, 'Television': 3, '‘Stranger': 3, 'Things’': 3, 'Star': 1, 'Wants': 1, 'Dad': 1, 'Twitter': 3, 'Killed': 1, 'First': 1, 'Amendment': 1, 'amendment': 1, 'withered': 1, 'face': 1, 'troll': 1, 'armies': 1, 'government': 1, 'censorship': 1, 'fake': 1, 'Can': 3, 'anything': 1, 'done': 1, 'Mind': 1, 'Mindfulness': 1, 'Should': 1, 'Spouse': 1, 'Best': 3, 'Friend': 1, 'GOP': 1, 'Move': 1, 'Thinking': 1, 'Feet': 1, 'MultimediaPhotos': 1, 'Beauty': 1, 'Rapidly': 1, 'Changing': 1, 'Leaks': 1, 'Marigold': 1, 'Affair': 1, 'full': 1, 'Cold': 2, 'intrigue': 1, 'lesson': 1, 'peace': 1, 'so': 1, 'achieve': 1, 'Vietnam': 1, 'Stream': 1, 'Every': 1, 'Major': 1, '’90s': 1, 'Comedy': 1, 'Claes': 1, 'Oldenburg': 1, 'Departure': 1, 'Tradition': 1, 'Sade’s': 1, 'Quiet': 1, 'Storm': 1, 'Cool': 1, 'Rouses': 1, 'Neighbors': 1, 'Reconsider': 1, 'Weapons': 1, 'Day': 1, 'Corner': 1, 'Office': 1, 'CEO': 1, 'Decade’s': 1, 'Worth': 1, 'Them': 1, 'Floyd': 1, 'Mayweather': 1, 'Helped': 1, 'Two': 2, 'Young': 1, 'Guys': 1, 'Miami': 1, 'Rich': 1, 'Editorial': 1, 'OpEd': 3, 'Columnist': 1, 'Faces': 2, 'Hard': 2, 'Hollywood': 1, 'Fueled': 1, 'Afar': 1, 'What': 3, 'Worries': 1, 'Companies': 1, 'Post': 1, 'Glowing': 1, 'Quarterly': 1, 'Profits': 1, 'Russia': 1, 'Fanned': 1, 'Flames': 1, 'Which': 2, 'Blowback': 1, 'Bans': 1, 'KremlinBacked': 1, 'Outlets': 1, 'Advertising': 1, 'Onstage': 1, 'JayZ': 1, 'Forgoes': 1, 'Distractions': 1, 'Drilling': 1, 'Swirling': 1, 'Proscenium': 1, 'Red': 1, 'Shoes’': 1, 'Donald': 2, 'Michael': 2, 'Moore': 2, 'Quarrel': 2, 'Broadway': 3, '‘Bedlam': 1, 'Here': 1, 'Arizona’': 1, 'Unworried': 1, 'Former': 1, 'Aides': 1, 'Tell': 1, 'Mueller': 1, 'Lawyer': 1, 'Says': 2, 'Fashion': 2, 'Virtual': 1, 'Naughty': 1, 'Look': 1, 'Future': 2, 'Tense': 1, 'Amazon': 1, 'Key': 1, 'Lot': 1, 'Scary': 1, 'Than': 4, 'My': 3, 'Post1Click': 1, 'Remorse': 1, 'Movies': 2, 'Biggest': 1, 'Year': 1, 'Horror': 2, 'History': 1, 'Glib': 1, 'Laughs': 1, '‘Suburbicon’': 1, 'Square’': 1, 'Takes': 1, 'Aim': 1, 'Sex': 1, '‘Everyone': 1, 'Something’': 1, 'De': 1, 'Blasio': 1, 'Donor': 1, 'Claimed': 1, 'Bought': 1, 'Access': 1, '‘Liar’': 1, '6': 1, 'tied': 1, '22': 1, 'Texans': 1, 'Owner': 1, 'Bob': 1, 'McNair': 1, 'Apologizes': 1, 'Again': 1, 'Meets': 1, 'Team': 1, 'Theater': 2, '‘M': 1, 'Butterfly’': 1, 'Returns': 1, 'Heavier': 1, 'Wings': 1, 'Spooked': 1, 'Life': 1, 'Bring': 1, 'Halloween': 1, 'Frights': 1, 'Trilobites': 3, 'Astronomers': 1, 'Study': 1, 'Mystery': 1, 'Object': 1, 'Outside': 1, 'Solar': 1, 'System': 1, 'TurkeySize': 1, 'Dinosaur': 1, 'RaccoonLike': 1, 'Bandit': 1, 'Mask': 1, 'Yes': 1, 'Oysters': 1, '‘Hear’': 1, 'Probably': 1, 'Wish': 1, 'We’d': 1, 'Clam': 1, 'Up': 2, 'Obituaries': 2, 'Robert': 1, 'Blakeley': 1, 'Whose': 1, 'Fallout': 1, 'Shelter': 1, 'Symbolized': 1, 'Dies': 3, 'Fay': 1, 'Chiang': 1, '65': 1, 'Poet': 1, 'Championed': 1, 'AsianAmerican': 1, 'Culture': 1, 'Walter': 1, 'Lassally': 1, 'Cinematographer': 1, 'Won': 1, 'Oscar': 1, '‘Zorba’': 1, 'Season': 2, 'Premiere': 1, 'Recap': 1, 'Lingering': 1, 'Effects': 1, 'Critic’s': 1, 'Notebook': 2, '‘TRL’': 1, 'Back': 3, 'MTV': 1, 'Undone': 1, 'Chatter': 1, 'Remember': 1, 'Before': 2, 'Governor': 1, 'Blocked': 1, 'Medicaid': 1, 'Expansion': 1, 'Maine': 1, 'Voters': 1, 'Could': 2, 'Overrule': 1, 'Him': 1, 'Old': 1, 'Age': 2, 'Last': 1, 'Question': 1, 'Operation': 1, 'Just': 2, 'Frail': 1, 'Declares': 1, 'Opioid': 1, 'Crisis': 1, '‘Health': 1, 'Emergency’': 1, 'Requests': 1, 'No': 1, 'Funds': 1, 'SpiceLaden': 1, 'Kerala': 1, 'Break': 1, 'Urban': 1, 'India': 1, 'Footsteps': 1, 'Chasing': 1, 'Spirit': 1, 'Fractured': 1, 'Spain': 1, 'García': 1, 'Lorca': 1, 'Bargain': 1, 'Destinations': 1, 'Books': 2, 'Nonfiction': 1, 'Stranger': 1, 'Fiction': 3, 'TrueCrime': 1, 'Roundup': 2, 'Indebted': 1, 'Early': 1, 'Master': 1, 'Villains': 1, 'Ourselves': 1, 'Thriller': 1, 'Education': 4, 'Campus': 2, 'Lives': 1, 'Administrators': 1, 'Need': 1, 'Catch': 1, 'Classroom': 1, 'Setting': 1, 'Suits': 1, 'Game': 1, 'Help': 2, 'Students': 1, 'Pay': 1, 'Right': 2, 'Price': 1, 'College': 1, 'Wine': 1, 'School': 1, 'CrozesHermitage': 1, 'Dimension': 1, 'Kitchen': 1, 'Warming': 1, 'Curry': 1, 'Matt': 1, 'Orlando': 1, 'Brings': 1, 'Sun': 1, 'Copenhagen': 1, 'Issue': 3, 'OldSchool': 1, 'Dinner': 2, 'Expandable': 1, 'Feast': 1, 'Bedroom': 2, 'Rover': 2, 'Maybe': 2, 'Even': 2, 'Condo': 2, 'View': 2, 'Illegal': 1, 'Apartment': 1, 'Shopping': 2, 'Wingback': 1, 'Chairs': 1, 'Upshot': 1, 'Silver': 1, 'Costs': 1, 'Gold': 1, 'Actions': 1, 'Have': 1, 'Scrambled': 1, 'Insurance': 1, 'Prices': 1, 'Draw': 1, 'Drug': 2, 'Overdose': 1, 'Epidemic': 1, 'Deaths': 1, 'America': 1, 'Rising': 1, 'Faster': 1, 'Reporter’s': 1, '‘I’m': 1, 'Icing': 1, 'Knee': 1, 'I’m': 1, 'Boiling': 1, 'Some': 2, 'Eggs’': 1, 'Automobiles': 2, 'Automakers': 1, 'Build': 1, 'Chests': 1, 'Finance': 1, 'SelfDriving': 1, 'Subaru': 1, 'Admits': 1, 'Inspection': 1, 'Failings': 1, 'Another': 1, 'Blow': 1, 'Japan’s': 1, 'Carmakers': 1, 'Wheels': 1, 'Forgetting': 1, 'Child': 1, 'Seat': 1, 'Cars': 1, 'Soon': 1, 'Warn': 1, 'Design': 2, 'Man': 1, 'Designing': 1, 'Spaces': 1, 'Instagram': 1, 'Editors': 1, 'Helsinki’s': 1, 'Saunas': 1, 'CAROLINE': 1, 'BIGGS': 1, 'serious': 1, 'animal': 1, 'lovers': 1, 'pets': 1, 'like': 1, 'family': 2, 'And': 1, 'doesn’t': 1, 'every': 1, 'member': 1, 'deserve': 1, 'space': 1, 'Homes': 1, 'Sale': 2, 'Rent': 1, 'Mortgage': 1, 'Calculator': 1, 'Emailed': 1, 'Viewed': 1, 'Trending': 1, 'Recommended': 1, 'Home': 2, 'Page': 1, 'Index': 2, 'windowmagnumwriteLogosmall': 1, 'httpsa1nytcomassetshomepage20171018133349imagesfoundationlogos': 1, 'standard': 1, 'siteindexbrandinglink': 1, 'Todays': 3, 'Corrections': 1, 'Columnists': 1, 'Editorials': 1, 'Contributors': 1, 'Letters': 1, 'Dance': 1, 'Music': 1, 'NYC': 3, 'Events': 3, 'Jobs': 1, 'Weddings': 1, 'Celebrations': 1, 'Listings': 1, 'Reader': 1, 'Center': 1, 'Classifieds': 1, 'Tools': 1, 'Services': 1, 'Photography': 1, 'NYT': 1, 'Store': 1, 'Journeys': 1, 'Manage': 1, 'Account': 1, 'NYTCo': 1, 'Delivery': 1, 'Digital': 1, 'Email': 1, 'Newsletters': 1, 'Alerts': 1, 'Gift': 1, 'Corporate': 1, 'Rate': 1, 'Applications': 1, 'Replica': 1, 'Information': 2, 'copy': 1, 'Company': 1, 'Contact': 1, 'Us': 2, 'Work': 1, 'Advertise': 1, 'Ad': 1, 'Choices': 1, 'Privacy': 1, 'Terms': 2, 'Service': 1, 'Map': 1, 'Feedback': 1, 'Version': 1, 'requirehomepagemain': 1, 'requirehttpsa1nytcomanalyticstagxsimpleminjs': 1, 'pageManagertrackingFireEventQueue': 1}\n"
     ]
    }
   ],
   "source": [
    "# \\n, \\t 제거\n",
    "temp = source.replace('\\n', '')\n",
    "temp = temp.replace('\\t', '')\n",
    "temp = temp.replace('>', '>$')\n",
    "temp = temp.split('<')\n",
    "result = []\n",
    "\n",
    "x = 0\n",
    "count = 0\n",
    "\n",
    "while x < len(temp):\n",
    "    temp[x] = temp[x].strip()\n",
    "    if(temp[x].find('$') != -1):\n",
    "        temp2 = temp[x].split('$')\n",
    "        y = 0\n",
    "        while y < len(temp2):\n",
    "            temp2[y].strip()\n",
    "            if((temp2[y].find('>') == -1) and (temp2[y] != '')):\n",
    "                result.append(temp2[y])\n",
    "            y = y + 1\n",
    "    x = x + 1\n",
    "\n",
    "\n",
    "result = ' '.join(result)\n",
    "result = result.split(' ')\n",
    "\n",
    "x = 0\n",
    "import string\n",
    "while x < len(result):\n",
    "    for z in string.punctuation:\n",
    "        result[x] = result[x].replace(z, '')\n",
    "    x = x + 1\n",
    "\n",
    "count = 0\n",
    "while count < len(result):\n",
    "    if(result[count] == ''):\n",
    "        result.pop(count)    \n",
    "    else:\n",
    "        count = count + 1\n",
    "        \n",
    "d = dict()\n",
    "for x in result:\n",
    "    if x not in d:\n",
    "        d[x] = 1\n",
    "    else:\n",
    "        d[x] = d[x] + 1\n",
    "    \n",
    "print(d)"
   ]
  },
  {
   "cell_type": "markdown",
   "metadata": {},
   "source": [
    "`<script> </script>`내부의 스크립트까지도 순수문자열로 잡아버려서 중간에 이상한 문자열이 출력되었는데, <> <> 사이에 있는 문자들이 순수문자열이라는 조건만 생각하면 어떻게 해야될지를 모르겠어서 일단 그대로 두었습니다.  \n",
    "사전을 만들때 for in을 이용하여 result의 값을 하나씩 꺼내서 검사하며, result의 값을 꺼낸 x가 사전 안에 없으면 x를 key로 value의 값을 1로 설정하고 x가 사전 안에 있으면 x를 key값으로 검색하여 value의 값을 하나씩 증가시키도록 하였습니다."
   ]
  },
  {
   "cell_type": "markdown",
   "metadata": {},
   "source": [
    "외할아버지께서 돌아가셔 상을 치르느라 저번주 수업을 듣지 못했습니다. 수업자료나 인터넷 등을 참고하여 최대한 과제를 수행하려고 해보았는데, 마지막 문제를 어떻게 처리해야 될지 들은 바가 없어 판단이 되지 않았습니다. 일단 그대로 두었는데, 어떻게 해야되는지 강의시간에 알려주신 바가 있다면 알려주시면 감사하겠습니다.  \n",
    "`+` 9주차부터의 이러닝 강의의 학습 기간이 잘못 입력된 것 같습니다. 확인 부탁드립니다."
   ]
  },
  {
   "cell_type": "code",
   "execution_count": null,
   "metadata": {
    "collapsed": true
   },
   "outputs": [],
   "source": []
  }
 ],
 "metadata": {
  "kernelspec": {
   "display_name": "Python 3",
   "language": "python",
   "name": "python3"
  },
  "language_info": {
   "codemirror_mode": {
    "name": "ipython",
    "version": 3
   },
   "file_extension": ".py",
   "mimetype": "text/x-python",
   "name": "python",
   "nbconvert_exporter": "python",
   "pygments_lexer": "ipython3",
   "version": "3.6.1"
  }
 },
 "nbformat": 4,
 "nbformat_minor": 2
}
