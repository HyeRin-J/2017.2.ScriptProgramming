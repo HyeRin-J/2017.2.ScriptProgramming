{
 "cells": [
  {
   "cell_type": "markdown",
   "metadata": {},
   "source": [
    "# Assignment3"
   ]
  },
  {
   "cell_type": "markdown",
   "metadata": {},
   "source": [
    "## 1번 문제\n",
    "* L=[1, 2, 3, 4, 5]일 때 다음 각 문장을 수행한 후의 결과를 보고 납득할 만한 이유를 설명하시오.\n",
    "    * 1)      \n",
    "        L[1:3] = [100]   \n",
    "        print(L)        \n",
    "    <br>\n",
    "    * 2)     \n",
    "        L[1:3] = [(100)]    \n",
    "        print(L)  \n",
    "    <br>\n",
    "    * 3)      \n",
    "        L[1:3] = 100  \n",
    "        print(L)  \n",
    "     <br>   \n",
    "    * 4)      \n",
    "        L[1:3] = (100)  \n",
    "        print(L)  \n",
    "    <br>\n",
    "    * 5)  \n",
    "        L[1:3] = (100, 101, 102)  \n",
    "        print(L)  \n",
    "    <br>\n",
    "    * 6)  \n",
    "        L[1:3] = [100, 101, 102]  \n",
    "        print(L)  \n",
    "    <br>\n",
    "    * 7)  \n",
    "        L[1:3] = [(100, 101, 102)]  \n",
    "        print(L)  \n",
    "    <br>\n",
    "    * 8)  \n",
    "        L[1:3] = [[100, 101, 102]]  \n",
    "        print(L)  "
   ]
  },
  {
   "cell_type": "code",
   "execution_count": 14,
   "metadata": {},
   "outputs": [
    {
     "name": "stdout",
     "output_type": "stream",
     "text": [
      "[1, 100, 4, 5]\n"
     ]
    }
   ],
   "source": [
    "L=[1, 2, 3, 4, 5]\n",
    "\n",
    "L[1:3] = [100]\n",
    "print(L)"
   ]
  },
  {
   "cell_type": "markdown",
   "metadata": {},
   "source": [
    "2번째부터 3번째 리스트가 100이라는 값이 들어간 리스트로 교체"
   ]
  },
  {
   "cell_type": "code",
   "execution_count": 2,
   "metadata": {},
   "outputs": [
    {
     "name": "stdout",
     "output_type": "stream",
     "text": [
      "[1, 100, 4, 5]\n",
      "<class 'int'>\n"
     ]
    }
   ],
   "source": [
    "L=[1, 2, 3, 4, 5]\n",
    "L[1:3] = [(100)]\n",
    "print(L)"
   ]
  },
  {
   "cell_type": "markdown",
   "metadata": {},
   "source": [
    "2번째부터 3번째 리스트가 100이라는 값이 들어간 리스트로 교체  \n",
    "한 개의 원소만을 가진 튜플을 만들고 싶으면 끝에 ,를 기입하여 튜플임을 명시해야 한다. 이 경우 튜플임을 명시하지 않았기 때문에 int형으로 취급된다."
   ]
  },
  {
   "cell_type": "code",
   "execution_count": 27,
   "metadata": {},
   "outputs": [
    {
     "ename": "TypeError",
     "evalue": "can only assign an iterable",
     "output_type": "error",
     "traceback": [
      "\u001b[1;31m---------------------------------------------------------------------------\u001b[0m",
      "\u001b[1;31mTypeError\u001b[0m                                 Traceback (most recent call last)",
      "\u001b[1;32m<ipython-input-27-d0274ea64f39>\u001b[0m in \u001b[0;36m<module>\u001b[1;34m()\u001b[0m\n\u001b[0;32m      1\u001b[0m \u001b[0mL\u001b[0m\u001b[1;33m=\u001b[0m\u001b[1;33m[\u001b[0m\u001b[1;36m1\u001b[0m\u001b[1;33m,\u001b[0m \u001b[1;36m2\u001b[0m\u001b[1;33m,\u001b[0m \u001b[1;36m3\u001b[0m\u001b[1;33m,\u001b[0m \u001b[1;36m4\u001b[0m\u001b[1;33m,\u001b[0m \u001b[1;36m5\u001b[0m\u001b[1;33m]\u001b[0m\u001b[1;33m\u001b[0m\u001b[0m\n\u001b[1;32m----> 2\u001b[1;33m \u001b[0mL\u001b[0m\u001b[1;33m[\u001b[0m\u001b[1;36m1\u001b[0m\u001b[1;33m:\u001b[0m\u001b[1;36m3\u001b[0m\u001b[1;33m]\u001b[0m \u001b[1;33m=\u001b[0m \u001b[1;36m100\u001b[0m\u001b[1;33m\u001b[0m\u001b[0m\n\u001b[0m\u001b[0;32m      3\u001b[0m \u001b[0mprint\u001b[0m\u001b[1;33m(\u001b[0m\u001b[0mL\u001b[0m\u001b[1;33m)\u001b[0m\u001b[1;33m\u001b[0m\u001b[0m\n",
      "\u001b[1;31mTypeError\u001b[0m: can only assign an iterable"
     ]
    }
   ],
   "source": [
    "L=[1, 2, 3, 4, 5]\n",
    "L[1:3] = 100\n",
    "print(L)"
   ]
  },
  {
   "cell_type": "code",
   "execution_count": 17,
   "metadata": {},
   "outputs": [
    {
     "ename": "TypeError",
     "evalue": "can only assign an iterable",
     "output_type": "error",
     "traceback": [
      "\u001b[1;31m---------------------------------------------------------------------------\u001b[0m",
      "\u001b[1;31mTypeError\u001b[0m                                 Traceback (most recent call last)",
      "\u001b[1;32m<ipython-input-17-f155c5a8ccd1>\u001b[0m in \u001b[0;36m<module>\u001b[1;34m()\u001b[0m\n\u001b[0;32m      1\u001b[0m \u001b[0mL\u001b[0m\u001b[1;33m=\u001b[0m\u001b[1;33m[\u001b[0m\u001b[1;36m1\u001b[0m\u001b[1;33m,\u001b[0m \u001b[1;36m2\u001b[0m\u001b[1;33m,\u001b[0m \u001b[1;36m3\u001b[0m\u001b[1;33m,\u001b[0m \u001b[1;36m4\u001b[0m\u001b[1;33m,\u001b[0m \u001b[1;36m5\u001b[0m\u001b[1;33m]\u001b[0m\u001b[1;33m\u001b[0m\u001b[0m\n\u001b[1;32m----> 2\u001b[1;33m \u001b[0mL\u001b[0m\u001b[1;33m[\u001b[0m\u001b[1;36m1\u001b[0m\u001b[1;33m:\u001b[0m\u001b[1;36m3\u001b[0m\u001b[1;33m]\u001b[0m \u001b[1;33m=\u001b[0m \u001b[1;33m(\u001b[0m\u001b[1;36m100\u001b[0m\u001b[1;33m)\u001b[0m\u001b[1;33m\u001b[0m\u001b[0m\n\u001b[0m\u001b[0;32m      3\u001b[0m \u001b[0mprint\u001b[0m\u001b[1;33m(\u001b[0m\u001b[0mL\u001b[0m\u001b[1;33m)\u001b[0m\u001b[1;33m\u001b[0m\u001b[0m\n",
      "\u001b[1;31mTypeError\u001b[0m: can only assign an iterable"
     ]
    }
   ],
   "source": [
    "L=[1, 2, 3, 4, 5]\n",
    "L[1:3] = (100)\n",
    "print(L)"
   ]
  },
  {
   "cell_type": "markdown",
   "metadata": {},
   "source": [
    "L[1:3]은 리스트이고, 리스트에 int형을 바로 넣는 것은 불가능"
   ]
  },
  {
   "cell_type": "code",
   "execution_count": 5,
   "metadata": {},
   "outputs": [
    {
     "name": "stdout",
     "output_type": "stream",
     "text": [
      "[1, 100, 101, 102, 4, 5]\n",
      "<class 'tuple'>\n"
     ]
    }
   ],
   "source": [
    "L=[1, 2, 3, 4, 5]\n",
    "L[1:3] = (100, 101, 102)\n",
    "print(L)"
   ]
  },
  {
   "cell_type": "code",
   "execution_count": 19,
   "metadata": {},
   "outputs": [
    {
     "name": "stdout",
     "output_type": "stream",
     "text": [
      "[1, 100, 101, 102, 4, 5]\n"
     ]
    }
   ],
   "source": [
    "L=[1, 2, 3, 4, 5]\n",
    "L[1:3] = [100, 101, 102]\n",
    "print(L)"
   ]
  },
  {
   "cell_type": "markdown",
   "metadata": {},
   "source": [
    "리스트를 튜플로 교체하거나, 리스트로 교체"
   ]
  },
  {
   "cell_type": "code",
   "execution_count": 20,
   "metadata": {
    "scrolled": true
   },
   "outputs": [
    {
     "name": "stdout",
     "output_type": "stream",
     "text": [
      "[1, (100, 101, 102), 4, 5]\n"
     ]
    }
   ],
   "source": [
    "L=[1, 2, 3, 4, 5]\n",
    "L[1:3] = [(100, 101, 102)]\n",
    "print(L)"
   ]
  },
  {
   "cell_type": "code",
   "execution_count": 21,
   "metadata": {},
   "outputs": [
    {
     "name": "stdout",
     "output_type": "stream",
     "text": [
      "[1, [100, 101, 102], 4, 5]\n"
     ]
    }
   ],
   "source": [
    "L=[1, 2, 3, 4, 5]\n",
    "L[1:3] = [[100, 101, 102]]\n",
    "print(L)"
   ]
  },
  {
   "cell_type": "markdown",
   "metadata": {},
   "source": [
    "튜플을 가진 리스트와 리스트를 가진 리스트로 교체"
   ]
  },
  {
   "cell_type": "markdown",
   "metadata": {},
   "source": [
    "## 2번 문제\n",
    "* 문자열 S = 'Hello World and Python'에 대해 다음 요구사항에 대한 Python 코드를 제시하시오.\n",
    "    * 1) 단어의 순서가 역순으로 되어진 문자열 ('Python and World Hello')을 만들고\n",
    "    * 2) 1)의 결과 문자열에 대해 메소드 split과 join을 이용하여 공백을 모두 없엔 문자열 'PythonandWorldHello'을 만드시오."
   ]
  },
  {
   "cell_type": "code",
   "execution_count": 6,
   "metadata": {},
   "outputs": [
    {
     "name": "stdout",
     "output_type": "stream",
     "text": [
      "Python and World Hello\n",
      "\n",
      "PythonandWorldHello\n"
     ]
    }
   ],
   "source": [
    "S = 'Hello World and Python'\n",
    "S2 = S.split()\n",
    "S2[::] = S2[::-1]\n",
    "S2 = ' '.join(S2)\n",
    "print(S2)\n",
    "print()\n",
    "S = S2.split(' ')\n",
    "S = ''.join(S)\n",
    "print(S)"
   ]
  },
  {
   "cell_type": "markdown",
   "metadata": {},
   "source": [
    "단어의 순서가 역순으로 된 문자열을 만들기 위해서 split을 통해 공백을 기준으로 단어를 추출하고, 리스트의 순서를 역순으로 배열한 후 join을 통해 합친다.\n",
    "합쳤던 문자열을 다시 split으로 잘라 join하면 공백이 없이 합친 문자열을 만들 수 있다."
   ]
  },
  {
   "cell_type": "markdown",
   "metadata": {},
   "source": [
    "## 3번 문제\n",
    "* 다음 코드를 보고 물음에 답하시오.  \n",
    "    <br>\n",
    "    a = [1, 2, 3]  \n",
    "    b = a `*` 3  \n",
    "    c = [a] `*` 3  \n",
    "    print(b)  \n",
    "    print(c)  \n",
    "    * 1) 위 코드를 수행한 이후 다음 코드를 수행한 후 b와 c의 내용을 확인하시오.  \n",
    "        a[0]=0\n",
    "    * 2) b와 c 객체의 차이는 무엇인가?"
   ]
  },
  {
   "cell_type": "code",
   "execution_count": 7,
   "metadata": {},
   "outputs": [
    {
     "name": "stdout",
     "output_type": "stream",
     "text": [
      "[1, 2, 3, 1, 2, 3, 1, 2, 3]\n",
      "[[1, 2, 3], [1, 2, 3], [1, 2, 3]]\n",
      "\n",
      "[1, 2, 3, 1, 2, 3, 1, 2, 3]\n",
      "[[0, 2, 3], [0, 2, 3], [0, 2, 3]]\n"
     ]
    }
   ],
   "source": [
    "a = [1, 2, 3]\n",
    "b = a * 3\n",
    "c = [a] * 3\n",
    "print(b)\n",
    "print(c)\n",
    "print()\n",
    "a[0] = 0\n",
    "print(b)\n",
    "print(c)"
   ]
  },
  {
   "cell_type": "markdown",
   "metadata": {},
   "source": [
    "b는 a의 값만 복사가 되었지만 c는 a를 원소로 가지는 리스트로 복사가 되어, a가 참조하는 객체의 값이 변경되면 c도 영향을 받게 된다."
   ]
  },
  {
   "cell_type": "markdown",
   "metadata": {},
   "source": [
    "## 4번 문제\n",
    "* 다음 문자열을 ':'을 기준으로 분리하여 리스트로 만들고 각 문자열의 좌우 공백을 제거하시오 (즉, 문자열 S에서 l을 만들어라)  \n",
    "<br>\n",
    "    s = '  first star   :   second star   :    third star  '  \n",
    "    l = ['first star', 'second star', 'third star']  \n",
    "    * 1) for ~ in 문을 이용한 코드를 작성하시오.\n",
    "    * 2) 리스트 내포(list comprehension)를 이용한 코드를 작성하시오."
   ]
  },
  {
   "cell_type": "code",
   "execution_count": 71,
   "metadata": {},
   "outputs": [
    {
     "name": "stdout",
     "output_type": "stream",
     "text": [
      "['first star', 'second star', 'third star']\n"
     ]
    }
   ],
   "source": [
    "s = ' first star : second star : third star '\n",
    "l = s.split(':')\n",
    "for x in range(3):\n",
    "    l[x] = l[x].strip()\n",
    "print(l)"
   ]
  },
  {
   "cell_type": "code",
   "execution_count": 72,
   "metadata": {},
   "outputs": [
    {
     "name": "stdout",
     "output_type": "stream",
     "text": [
      "['first star', 'second star', 'third star']\n"
     ]
    }
   ],
   "source": [
    "s = ' first star : second star : third star '\n",
    "l = s.split(':')\n",
    "l = [x.strip() for x in l]\n",
    "print(l)"
   ]
  },
  {
   "cell_type": "markdown",
   "metadata": {},
   "source": [
    "1) for문을 통하여 리스트가 가지고 있는 각각의 문자열에 대해 strip하여 좌우 공백을 제거한다.  \n",
    "2) 리스트 내포를 이용하여 리스트가 가지고 있는 각각의 문자열에 대해 strip한 값을 새로운 리스트로 만든다."
   ]
  },
  {
   "cell_type": "markdown",
   "metadata": {},
   "source": [
    "## 5번 문제\n",
    "* 다음과 같이 0보다 큰 정수 리스트 변수 list를 인자로 받는 함수 addall(list)와 addallodd(list)를 for ~ in 리터널과 리스트 내포 방식으로 각각 제시하시오.\n",
    "    * 1) addall(list) 함수 (리스트 내의 모든 정수를 더하는 함수로서 해답으로는 for ~ in 리터럴과 리스트 내포 방식으로 각각 제시하시오.)  \n",
    "        * \n",
    "        <br>\n",
    "        `>>>` addall([1])  \n",
    "        1  \n",
    "        * <br>\n",
    "        `>>>` addall([1, 2, 3, 4, 5, 6, 7, 8, 9])  \n",
    "        45  <br><br>\n",
    "    * 2) addallodd(list) 함수 (리스트내의 모든 홀수를 더하는 함수로서 해답으로는 for ~ in 리터럴과 리스트 내포 방식으로 각각 제시하시오.)\n",
    "        *  <br>\n",
    "            `>>>` addallodd([1])  \n",
    "            1\n",
    "        * <br>\n",
    "            `>>>` addallodd([1, 2, 3, 4, 5, 6, 7, 8, 9])  \n",
    "            25  <br><br>\n",
    "    * [참고 1]: 리스트 내포 방식으로 addall() 및 addallodd()함수를 만들 때엔 리스트 내포에 의해 생성된 리스트 결과에 대해 내장 함수를 사용하는 방식을 고려해보시오 (주의: 리스트 내포 방식의 addall() 및 addallodd() 함수의 몸체는 단 1줄로 작성되어야 한다.)\n",
    "    * [참고 2]: sum() 등의 내장함수 사용 가능함"
   ]
  },
  {
   "cell_type": "code",
   "execution_count": 10,
   "metadata": {},
   "outputs": [
    {
     "name": "stdout",
     "output_type": "stream",
     "text": [
      "45\n",
      "45\n"
     ]
    }
   ],
   "source": [
    "def addall(a):\n",
    "    s = 0\n",
    "    for x in a:\n",
    "        s = s + x\n",
    "    print(s)\n",
    "    \n",
    "addall([1, 2, 3, 4, 5, 6, 7, 8, 9])\n",
    "\n",
    "def addall(a):\n",
    "    print(sum([x for x in a]))  \n",
    "    \n",
    "addall([1, 2, 3, 4, 5, 6, 7, 8, 9])"
   ]
  },
  {
   "cell_type": "markdown",
   "metadata": {},
   "source": [
    "for in을 이용하여 인자로 들어온 리스트 안에 있는 값을 전부 s에 더한 후에 s를 출력한다.  \n",
    "리스트 내포 방식을 이용하면서 내장함수 sum을 이용하면, 리스트 안에 있는 값을 더한 값을 바로 출력할 수 있다."
   ]
  },
  {
   "cell_type": "code",
   "execution_count": 14,
   "metadata": {},
   "outputs": [
    {
     "name": "stdout",
     "output_type": "stream",
     "text": [
      "25\n",
      "25\n"
     ]
    }
   ],
   "source": [
    "def addallodd(a):\n",
    "    s = 0\n",
    "    for x in a:\n",
    "        if (x % 2 == 1):\n",
    "            s = s + x\n",
    "    print(s)\n",
    "    \n",
    "addallodd([1, 2, 3, 4, 5, 6, 7, 8, 9])\n",
    "\n",
    "def addallodd(a):\n",
    "    print(sum([x for x in a if (x % 2 == 1)])) \n",
    "\n",
    "addallodd([1, 2, 3, 4, 5, 6, 7, 8, 9])"
   ]
  },
  {
   "cell_type": "markdown",
   "metadata": {},
   "source": [
    "조건식을 걸어 2로 나누었을 때의 나머지가 1인 경우 홀수라고 할 수 있으므로, 홀수로 판단된 경우에만 s에 더하고 짝수인 경우엔 아무것도 수행하지 않는다.  \n",
    "리스트 내포 방식을 이용할 때는, 맨 뒤에 조건식을 써주면 홀수인 x값만 추출할 수 있다."
   ]
  },
  {
   "cell_type": "markdown",
   "metadata": {},
   "source": [
    "## 6번 문제\n",
    "* 다음 코드를 보고 물음에 답하시오.\n",
    "<br>\n",
    "        L1 = [1, 2, 3]  \n",
    "        L2 = [4, 5, 6]  \n",
    "        d = {'low':L1, 'high':L2}  \n",
    "        e = d  \n",
    "        f = d.copy()  \n",
    "        print(d)  \n",
    "        print(e)  \n",
    "        print(f)  \n",
    "        print()  \n",
    "        d['low'] = [10, 20, 30]  \n",
    "        d['high'][1] = 500  \n",
    "        print(d)  \n",
    "        print(e)  \n",
    "        print(f)  \n",
    "        \n",
    "    * 1) 위 코드의 수행 결과 d와 e는 항상 같은 결과를 출력한다. 그 이유는 무엇인가?\n",
    "    * 2) 위 코드의 수행 결과 마지막 f의 내용은 다음과 같다. 이 때 'high' 키의 값 내용 중 500이 출력된 이유와 'low' 키의 값 내용 중 [1, 2, 3]이 출력된 이유를 설명하시오 ([hint]: shallow copy 관점에서 설명하시오.)\n",
    "    <br><br>\n",
    "        {'high': [4, 500, 6], 'low': [1, 2, 3]}"
   ]
  },
  {
   "cell_type": "code",
   "execution_count": 19,
   "metadata": {
    "scrolled": true
   },
   "outputs": [
    {
     "name": "stdout",
     "output_type": "stream",
     "text": [
      "{'low': [1, 2, 3], 'high': [4, 5, 6]}\n",
      "{'low': [1, 2, 3], 'high': [4, 5, 6]}\n",
      "{'low': [1, 2, 3], 'high': [4, 5, 6]}\n",
      "\n",
      "{'low': [10, 20, 30], 'high': [4, 500, 6]}\n",
      "{'low': [10, 20, 30], 'high': [4, 500, 6]}\n",
      "{'low': [1, 2, 3], 'high': [4, 500, 6]}\n",
      "\n",
      "{'low': [10, 20, 30, 40], 'high': [4, 500, 6]}\n",
      "{'low': [1, 2, 3], 'high': [4, 500, 6]}\n"
     ]
    }
   ],
   "source": [
    "L1 = [1, 2, 3]  \n",
    "L2 = [4, 5, 6]  \n",
    "d = {'low':L1, 'high':L2}  \n",
    "e = d  \n",
    "f = d.copy()\n",
    "print(d)  \n",
    "print(e)  \n",
    "print(f)  \n",
    "print()  \n",
    "d['low'] = [10, 20, 30]  \n",
    "d['high'][1] = 500  \n",
    "print(d)  \n",
    "print(e)  \n",
    "print(f)  "
   ]
  },
  {
   "cell_type": "markdown",
   "metadata": {},
   "source": [
    "1) e = d라고 명시했기 때문에, 같은 객체를 참조하게 되어 d와 e는 항상 같은 결과를 출력하게 된다.  \n",
    "2) shallow copy를 하게 되면 복사된 리스트는 별도의 객체가 된다. 따라서 요소가 수정되는 것이 아니라 다른 값으로 대체가 된 것이다. 하지만 리스트 내부의 요소는 같은 객체를 참조하고 있기 때문에, 리스트 내부의 요소를 변경하면 같이 변경된다."
   ]
  },
  {
   "cell_type": "markdown",
   "metadata": {},
   "source": [
    "## 7번 문제\n",
    "* 사전 d = {'one':1, 'two':2, 'three':3, 'four':4, 'five':5}가 주어졌을 때 다음 요구사항에 맞는 코드를 제시하시오\n",
    "    * [참고]: d.keys(), d.values()를 통해 리스트를 얻어낸 후 리스트가 지니고 있는 sort(cmp=None, key=None, reverse=False)함수를 활용하시오.\n",
    "    * 1) 키의 알파벳 오름차순 순서대로 튜플 (키, 값)을 차례대로 출력하시오.\n",
    "    * 2) 키의 알파벳 내림차순 순서대로 튜플 (키, 값)을 차례대로 출력하시오.\n",
    "    * 3) 값의 오름차순 순서대로 튜플 (키, 값)을 차례대로 출력하시오.\n",
    "    * 4) 값의 내림차순 순서대로 튜플 (키, 값)을 차례대로 출력하시오."
   ]
  },
  {
   "cell_type": "code",
   "execution_count": 21,
   "metadata": {},
   "outputs": [
    {
     "name": "stdout",
     "output_type": "stream",
     "text": [
      "키의 알파벳 오름차순 순서대로 출력\n",
      "('five', 5)\n",
      "('four', 4)\n",
      "('one', 1)\n",
      "('three', 3)\n",
      "('two', 2)\n",
      "\n",
      "키의 알파벳 내림차순 순서대로 출력\n",
      "('two', 2)\n",
      "('three', 3)\n",
      "('one', 1)\n",
      "('four', 4)\n",
      "('five', 5)\n",
      "\n",
      "값의 오름차순 순서대로 출력\n",
      "('one', 1)\n",
      "('two', 2)\n",
      "('three', 3)\n",
      "('four', 4)\n",
      "('five', 5)\n",
      "\n",
      "값의 내림차순 순서대로 출력\n",
      "('five', 5)\n",
      "('four', 4)\n",
      "('three', 3)\n",
      "('two', 2)\n",
      "('one', 1)\n"
     ]
    }
   ],
   "source": [
    "d = {'one':1, 'two':2, 'three':3, 'four':4, 'five':5}\n",
    "dkey = []\n",
    "dvalue = []\n",
    "\n",
    "for key in d.keys():\n",
    "    dkey.append(key)    \n",
    "for value in d.values():\n",
    "    dvalue.append(value)\n",
    "    \n",
    "dkey.sort()\n",
    "print(\"키의 알파벳 오름차순 순서대로 출력\")\n",
    "for key in dkey:\n",
    "    result = key, d[key]\n",
    "    print(result)\n",
    "print()\n",
    "print(\"키의 알파벳 내림차순 순서대로 출력\")\n",
    "dkey.sort(reverse=True)\n",
    "for key in dkey:\n",
    "    result = key, d[key]\n",
    "    print(result)\n",
    "print()\n",
    "print(\"값의 오름차순 순서대로 출력\")\n",
    "dvalue.sort()\n",
    "for value in dvalue:\n",
    "    for x in d:\n",
    "        if(d[x] == value):\n",
    "            result = x, value\n",
    "            print(result)\n",
    "print()\n",
    "print(\"값의 내림차순 순서대로 출력\")\n",
    "dvalue.sort(reverse=True)\n",
    "for value in dvalue:\n",
    "    for x in d:\n",
    "        if(d[x] == value):\n",
    "            result = x, value\n",
    "            print(result)"
   ]
  },
  {
   "cell_type": "markdown",
   "metadata": {},
   "source": [
    "key와 value의 리스트를 추출하여 각각 정렬하고 for in을 이용한다. 정렬된 key의 리스트를 이용하여 사전에서 value를 찾을 수 있다. 튜플의 형태로 출력하기 위해서는 ,를 이용한다.  \n",
    "value의 값을 이용하여 key를 찾기 위해서 이중으로 for in을 이용하여 각각의 value의 대해 d[x]를 검사하고(x는 d의 key), value의 값이 같으면 x와 value를 튜플의 형태로 만들어 출력한다."
   ]
  },
  {
   "cell_type": "markdown",
   "metadata": {},
   "source": [
    "## 8번 문제\n",
    "* [ACM-ICPC 문제 1152번]\n",
    "    * 단어의 개수  \n",
    "      https://www.acmicpc.net/problem/1152"
   ]
  },
  {
   "cell_type": "code",
   "execution_count": 26,
   "metadata": {
    "scrolled": false
   },
   "outputs": [
    {
     "name": "stdout",
     "output_type": "stream",
     "text": [
      "  \n",
      "0\n"
     ]
    }
   ],
   "source": [
    "S = input()\n",
    "if(S.isspace()):\n",
    "    print(0)\n",
    "else : \n",
    "    S = S.strip()\n",
    "    S = S.split(' ')\n",
    "    print(len(S))"
   ]
  },
  {
   "cell_type": "markdown",
   "metadata": {},
   "source": [
    "![1152](image/1152.png)"
   ]
  },
  {
   "cell_type": "markdown",
   "metadata": {},
   "source": [
    "공백문자가 들어가는 경우를 생각하지 못해서 100%에서 계속 틀렸다고 나와 질문 검색란을 참고했습니다. 공백문자만 들어갈 경우 단어의 갯수가 0으로 출력되어야 한다는 답변을 보고 문자열에서 공백문자 검사 메소드를 통하여 답을 찾을 수 있었습니다."
   ]
  },
  {
   "cell_type": "markdown",
   "metadata": {},
   "source": [
    "## 9번 문제\n",
    "* [Incremental Project] 이전 Assignment 2의 마지막 문제는 웹 URL로 지정된 웹페이지를 문자열로 가져와 모든 HTML 태그 및 CSS와 Javascript를 제외한 순수 텍스트를 얻어내고 그 안에 존재하는 단어를 추출하고 단어들의 총 개수를 출력하는 프로그램을 작성하는 것이었다. 이번에는 그 마지막 숙제를 그대로 확장하여 웹 URL로 지정된 웹페이지 내 순수 텍스트 안에 존재하는 각 단어들에 대해 다음 요구사항 대로 출력하는 프로그램을 작성하시오.\n",
    "    * 요구사항 1. 순수 텍스트 안에 존재하는 단어들에 대해 string 모듈을 활용하여 모든 punctuation (구두문자)를 완벽히 제거하시오.\n",
    "        * 예: ['world!', ':', '+hello+', '~python$$$', '=', 'world'] ---> ['world', 'hello', 'python', 'world']\n",
    "        * 모든 punctuation을 확인하는 방법은 아래와 같다. <br> \n",
    "            import string  \n",
    "            print(string.punctuation)  <br>\n",
    "    * 요구사항 2. 만약 punctuation (구두문자)를 제거한 이후 공백으로 판명되는 단어들은 해당 단어 리스트에서 제거하시오.\n",
    "        * 예: ['컴퓨터공학부!', '---?', '%지향~', '...'] ---> ['컴퓨터공학부', '지향']\n",
    "    * 요구사항 3. 각 단어들의 출현빈도를 사전형태로 저장하여 출력하시오.\n",
    "        * 예: ['world', 'hello', 'python', 'world', '컴퓨터공학부', '지향'] ---> {'world': 2, 'hello': 1, 'python': 1, '컴퓨터공학부': 1, '지향': 1}\n",
    "    * 요구사항 4. 다음 3개의 사이트에 대한 결과를 출력하시오.\n",
    "        * http://www.naver.com\n",
    "        * http://www.daum.net\n",
    "        * http://www.nytimes.com"
   ]
  },
  {
   "cell_type": "code",
   "execution_count": 2,
   "metadata": {
    "collapsed": true,
    "scrolled": true
   },
   "outputs": [],
   "source": [
    "def PrintHtml(source):\n",
    "    # \\n, \\t 제거\n",
    "    temp = source.replace('\\n', '')\n",
    "    temp = temp.replace('\\t', '')\n",
    "    temp = temp.replace('>', '>$')\n",
    "    temp = temp.split('<')\n",
    "\n",
    "    result = []\n",
    "\n",
    "    for x in temp:\n",
    "        if (x.startswith(\"script\")):\n",
    "            temp.remove(x)\n",
    "        if ('css' or 'js' or 'JS') in x:\n",
    "            temp.remove(x)\n",
    "\n",
    "    x = 0\n",
    "    count = 0\n",
    "\n",
    "    while x < len(temp):\n",
    "        temp[x] = temp[x].strip()\n",
    "        if(temp[x].find('$') != -1):\n",
    "            temp2 = temp[x].split('$')\n",
    "            y = 0\n",
    "            while y < len(temp2):\n",
    "                temp2[y].strip()\n",
    "                if((temp2[y].find('>') == -1) and (temp2[y] != '')):\n",
    "                    result.append(temp2[y])\n",
    "                y = y + 1\n",
    "        x = x + 1\n",
    "\n",
    "\n",
    "    result = ' '.join(result)\n",
    "    result = result.split(' ')\n",
    "\n",
    "    x = 0\n",
    "    import string\n",
    "    while x < len(result):\n",
    "        for z in string.punctuation:\n",
    "            result[x] = result[x].replace(z, '')\n",
    "        x = x + 1\n",
    "\n",
    "    count = 0\n",
    "    while count < len(result):\n",
    "        if(result[count] == ''):\n",
    "            result.pop(count)    \n",
    "        else:\n",
    "            count = count + 1\n",
    "\n",
    "    d = dict()\n",
    "    for x in result:\n",
    "        if x not in d:\n",
    "            d[x] = 1\n",
    "        else:\n",
    "            d[x] = d[x] + 1\n",
    "\n",
    "    print(d)"
   ]
  },
  {
   "cell_type": "code",
   "execution_count": 4,
   "metadata": {},
   "outputs": [
    {
     "name": "stdout",
     "output_type": "stream",
     "text": [
      "{'NAVER': 3, '뉴스스탠드': 2, '바로가기': 7, '주제별캐스트': 1, '타임스퀘어': 2, '쇼핑캐스트': 2, '로그인': 4, '네이버': 7, '네이버를': 1, '시작페이지로': 1, '쥬니어네이버': 1, '해피빈': 2, '검색': 2, '통합검색': 1, '블로그': 3, '카페': 2, '카페명': 1, '카페글': 1, '지식iN': 1, '뉴스': 5, '사이트': 2, '카테고리': 1, '영화': 7, '웹문서': 1, '사전': 2, '백과사전': 1, '영어사전': 1, '영영사전': 1, '국어사전': 1, '일본어사전': 1, '한자사전': 1, '용어사전': 1, '책': 2, '음악': 1, '전문자료': 1, '쇼핑': 2, '지역': 2, '동영상': 1, '이미지': 1, '내PC': 1, '자동차': 3, '게임': 4, '건강': 2, '인물': 1, '긍정부정검색': 1, '자동완성': 18, '펼치기': 5, '한글': 1, '입력기': 1, '생각한대로': 1, '검색해': 1, '보세요': 2, 'Beta': 1, 'txt': 5, '시간대와': 1, '관심사에': 2, '맞춘': 1, '컨텍스트': 3, '도움말': 6, '보기': 21, 'ON': 1, '선택됨': 1, 'OFF': 1, '동일한': 1, '시간대연령남녀별': 1, '사용자': 1, '그룹의': 1, '맞춰': 1, '자동완성을': 1, '제공합니다': 1, '자세히': 2, 'ONOFF설정은': 1, '해당': 1, '기기브라우저에': 1, '저장됩니다': 1, '레이어': 1, '닫기': 3, '신고': 4, '검색어저장': 6, '켜기': 5, '끄기': 7, '기능을': 5, '다시': 4, '켤': 4, '때는': 4, '을': 4, '클릭하세요': 4, '현재': 2, '사용하고': 1, '계십니다': 1, '기능이': 5, '활성화되었습니다': 1, '꺼져': 3, '있습니다': 5, '최근검색어': 2, '내': 8, '검색어': 7, '등록': 3, 'date': 1, '삭제': 4, 'intxt': 2, '내역이': 1, '없습니다': 3, '저장': 2, '해제': 1, '설정된': 1, '검색어가': 1, '최근검색어에서': 1, '를': 3, '선택하여': 1, '자주': 1, '찾는': 1, '검색어를': 2, '검색어로': 1, '저장해': 1, '알림': 1, '공용': 1, 'PC에서는': 1, '개인정보': 1, '보호를': 1, '위하여': 1, '반드시': 1, '로그아웃을': 1, '해': 1, '주세요': 1, '기록': 3, '전체': 5, '완료': 1, '검색어는': 1, '최대': 1, '10': 7, '개': 1, '까지': 1, '저장할': 1, '수': 2, '추가하시려면': 1, '기존': 1, '지워주세요': 1, '제19대': 1, '대통령선거': 1, '후보에': 1, '대해': 1, '5월': 1, '9일': 1, '선거일까지': 1, '제공되지': 1, '않습니다': 1, '자세히보기': 1, 'image7': 1, '6': 5, '1': 3, '12': 4, '7': 6, '8': 6, '9': 6, '11': 5, '5회차': 1, '13': 3, '14': 3, 'money': 1, '원': 1, '기온': 2, '℃': 2, '5': 4, 'displaylink': 1, '사이트로': 1, '바로': 2, '이동': 3, 'query': 1, 'intend': 1, '바로이동': 1, 'match': 2, 'mismatchafter': 2, '메일': 1, '지식인': 1, '네이버페이': 1, '네이버TV': 1, '증권금융': 1, '부동산': 2, '지도': 1, '뮤직': 2, '만화': 1, '웹툰': 2, '더보기': 1, '실시간': 2, '급상승': 3, '무한도전': 2, '2': 2, '일본': 2, '대만': 2, '3': 2, '도도맘': 2, '4': 2, '마스터키': 2, '블랙프라이데이': 2, '큐넷': 2, '오버워치': 2, '그것이': 2, '알고싶다': 2, '더유닛': 2, '나혼자산다': 2, '아는형님': 2, 'tv편성표': 2, '15': 2, '서든어택': 2, '16': 2, '넷마블': 2, '17': 2, '강다니엘': 2, '18': 2, '지하철노선도': 2, '19': 2, '해피데스데이': 2, '20': 2, '롯데시네마': 2, 'DataLab': 1, '트래킹': 1, '110위': 1, '1120위': 1, '데이터랩': 20, '그래프': 20, '20171118': 1, '172830': 1, '기준': 1, '연합뉴스': 1, '포항지진': 1, '대피소에': 1, '텐트·칸막이': 1, '설치해': 1, '사생활': 1, '보호': 1, '연기된': 1, '수능': 1, 'D5…안정': 1, '찾은': 1, '수험생들': 1, '막판': 1, '열공': 1, '기준금리': 1, '인상': 1, '눈앞…비은행': 1, '가계대출': 1, '비중': 1, '사상': 1, '최고': 1, '한국': 1, '밥상물가': 1, 'OECD': 1, '최상위권…3분기': 1, '54': 1, '올라': 1, '우병우': 1, '이번엔': 1, '불법사찰·블랙리스트…조만간': 1, '소환': 1, '공공기관이': 1, '탈세라니…': 1, '5년간': 1, '1조5천억원': 1, '추징': 1, '잇단': 1, '취재에': 1, '심리적': 1, '압박…경찰': 1, '서해순씨': 1, '신변보호': 1, '삼성의': 1, '별': 1, '임원이': 1, '되면…혜택': 1, '듬뿍': 1, '부담': 1, '백배': 1, '파리바게뜨': 1, '제빵사': 1, '고용': 1, '3자': 1, '합작법인': 1, '연내': 1, '출범': 1, '성관계': 1, '경험': 1, '있느냐…딸': 1, '추행한': 1, '의붓아버지': 1, '징역': 1, '3년': 1, '네이버뉴스': 1, '연예': 1, '스포츠': 2, '경제': 1, '랭킹': 1, '언론사': 5, 'MY': 1, '이미지형': 1, '리스트형': 1, '설정': 3, '이전': 2, '페이지': 2, '다음': 2, '목록': 3, '구독': 19, '해지': 18, '기사보기': 18, '종합경제': 1, '방송통신': 1, 'IT': 1, '영자지': 1, '스포츠연예': 1, '매거진전문지': 1, '설정한': 3, '언론사가': 1, '설정에서': 1, 'MY언론사를': 1, '추가하면': 1, '언론사의': 1, '기사들을': 1, '홈에서': 1, '보실': 1, '추가': 1, 'Sign': 3, 'in': 2, 'Connect': 1, 'with': 1, 'people': 1, 'up': 1, 'Forgot': 1, 'Username': 1, 'or': 1, 'Password': 1, '1118': 1, '토': 1, '앞의': 1, '목록으로': 2, '뒤의': 1, '학습': 1, '영어로': 1, '듣는': 1, '영어': 1, '톡톡': 1, '문화': 1, '상영': 1, '오늘의': 1, '공연': 1, '전시회': 1, '성남': 1, '단대동': 1, 'lsquo행복주택lsquo': 1, '건립hellip시세': 1, '50darr': 1, '16가구': 1, '입주': 1, '주제형': 1, '캐스트': 1, '관심': 4, '주제': 9, '선택': 1, '리빙': 1, '푸드': 1, '패션뷰티': 1, '맘·키즈': 1, 'TV연예': 1, '책문화': 1, '함께N': 1, '여행': 1, '디자인': 1, '경제M': 1, 'JOB': 1, '과학': 1, '중국': 1, '비즈니스': 3, 'FARM': 1, '스쿨잼': 1, '공연전시': 1, '법률': 1, '동물공감': 1, '연애·결혼': 1, '테크': 1, '열기': 1, 'nameif': 1, 'isNewPanel': 1, 'NEW': 1, 'if': 1, '관심주제로': 1, '설정하시겠습니까': 1, '확인': 3, '취소': 3, '모바일에서': 1, '가져오시겠습니까': 1, '관심주제': 1, '모바일': 2, '가져오기': 2, '후': 2, '사용': 2, '가능합니다': 2, '초기화': 1, '전체선택': 1, '자동차소식': 1, '자동차영상': 1, '국산차정보': 1, '수입차정보': 1, '모터사이클': 3, '공식': 1, '피아트': 1, '500으로': 1, '달린': 1, '노스': 1, '코스트': 1, '500': 1, '술에': 1, '취해': 1, '추한': 1, '본능': 1, '음주운전': 1, '모토야': 1, '테마': 9, '미세먼지': 1, '오염의': 1, '주범은': 1, '디젤': 1, '승용차': 1, '데일리카': 1, '푸조': 2, '중형': 1, '7인승': 1, 'SUV': 1, '뉴': 1, '5008': 1, '사전계약': 1, '실시': 1, '오토헤럴드': 2, '쉐보레': 1, '올란도캡티바': 1, '생산': 1, '중단된': 1, '이유는': 1, '카미디어': 1, '외모지상주의에': 1, '도전하다': 1, '토요타': 1, '프리우스': 1, '시승기': 2, '최가니': 1, 'EICMA': 1, '2017': 3, '밀라노': 1, '쇼': 1, '스즈키': 1, '부스': 1, '라이드매거진': 1, 'ë\\x8f\\x99ì\\x98\\x81ì\\x83\\x81': 1, '2811': 1, '2018년형': 1, '마세라티': 1, '기블리': 1, 'S': 1, 'Q4': 1, '페이스리프트': 1, '오토뷰': 1, '영상': 1, '볼보트럭': 1, '내년': 1, '긴급제동': 1, '차선이탈경고장치': 1, '기본': 1, '장착': 1, '모터그래프': 1, '바뀌는': 1, '경인': 1, '고속도로': 1, '12월부터': 1, '6080kmh': 1, '다키': 1, '배터리': 1, '전기차의': 1, '시대는': 1, '올': 1, '것인가': 1, '글로벌오토뉴스': 1, '칼럼': 1, '2018': 1, '머스탱': 1, '현지': 1, '시승행사': 1, '외신': 1, '반응은': 1, '로드테스트': 1, '짝퉁': 1, '연료필터': 1, '이렇게': 1, '다르다': 1, '유통업자': 1, '검거': 1, '지피코리아': 1, '판교자율주행모터쇼': 1, '개막자율': 1, '주행': 1, '셔틀': 1, '첫': 1, '공개': 1, 'httpscastboxshoppingnavercomshopboxmainnhnsvglesstrue': 1, '공감펀딩': 1, '국경없는영화제': 1, '지구': 1, '반대편의': 1, '낯선': 1, '일들': 1, '영화와': 1, '다큐멘터리로': 1, '만나요': 1, '커넥트재단': 1, '하버드': 1, 'CS50': 1, '비전공생을': 1, '위한': 1, '컴퓨터과학': 1, '입문': 1, '강좌': 1, '공지사항': 1, '서비스': 1, '전체보기': 1, '프로젝트': 2, '꽃': 2, '인공지능': 1, '스피커': 2, '프렌즈': 1, '클로바': 1, 'AI': 1, 'Creators': 1, '크리에이터': 1, '스몰비즈니스': 1, 'Partners': 1, '파트너': 1, '안내': 1, '·': 1, '광고': 1, '스토어': 1, '개설': 1, '지역업체': 1, 'Developers': 1, '개발자센터': 1, '오픈': 1, 'API': 1, '오픈소스': 1, 'D2': 1, '랩스': 1, '정책': 2, '및': 1, '약관': 1, '회사소개': 1, '인재채용': 1, '제휴제안': 1, '이용약관': 1, '개인정보처리방침': 1, '청소년보호정책': 1, '고객센터': 1, 'ⓒ': 1, 'Corp': 1, 'var': 1, 'svt': 1, '20171118172848var': 1, 'aPanelListAllvar': 1, 'nmainJS': 1, 'httpsspstaticnetpm2jscnmainv171116jsvar': 1, 'sThemecastAdScriptUrl': 1, 'httpssslpstaticnettvetalibsassetsjspcmainminpcvetacoreminjs20170914nmainJSpushsThemecastAdScriptUrlfunction': 1, 'loadJS': 1, 'jindoLazyLoadingloadnmainJS': 1, 'functionif': 1, 'svr': 1}\n"
     ]
    }
   ],
   "source": [
    "from urllib import request \n",
    " \n",
    "url = 'http://www.naver.com'\n",
    "f = request.urlopen(url)\n",
    "source_bytes = f.read()\n",
    "source = source_bytes.decode('utf-8')\n",
    "\n",
    "PrintHtml(source)"
   ]
  },
  {
   "cell_type": "code",
   "execution_count": 52,
   "metadata": {},
   "outputs": [
    {
     "name": "stdout",
     "output_type": "stream",
     "text": [
      "{'Daum': 1, '주요': 2, '서비스': 5, '바로가기': 11, '오늘의': 6, '정보': 8, '미디어': 3, '실시간': 4, '이슈': 5, '멀티미디어': 2, '블로그': 6, '유익한': 2, '쇼핑': 3, '포토amp영상': 1, '웹': 1, '접근성': 1, '안내': 2, '자동실행': 1, '광고': 1, '설정': 1, '검색': 7, '통합': 2, '인기': 1, '검색어': 3, '트와이스': 1, '라이키': 1, '멜로홀릭': 1, '경수진': 1, '민아': 1, '솔로데뷔': 1, '김재철': 1, '압수수색': 1, '정은지': 1, '애국가': 1, '김주혁': 6, '사망': 2, '신태용': 1, '이동국': 3, '지진': 1, '대피훈련': 1, '정준하': 1, '고소취하': 1, '유연석': 1, '시구': 1, '도민호': 6, '신태용호': 1, '명단': 1, '한라산': 1, '상고대': 1, '한국시리즈': 2, '5차전': 2, '성시경': 1, '정유미': 1, 'lt이전': 1, 'gt다음': 1, '다음을': 1, '시작페이지로': 1, '카페': 3, '메일': 2, '뉴스': 4, '지도': 2, '증권': 1, '카카오TV': 3, '웹툰': 3, '브런치': 3, '사전': 2, '게임': 3, '별플레이': 2, '같이가치': 3, '주요서비스': 1, '더보기': 2, '⋁': 1, '전체': 5, '커뮤니케이션': 1, '티스토리': 2, '아지트': 1, '카카오스토리': 2, '스포츠': 4, '연예': 2, '아고라': 1, '쇼핑생활': 1, '쇼핑하우': 1, '금융': 1, '부동산': 2, '자동차': 2, '미즈넷': 2, '요리': 1, '문화엔터': 1, '영화': 3, '책': 1, '사전지식': 1, '어학사전': 1, '단어장': 1, '백과사전': 1, '팁': 2, '나눔펀딩': 1, '스토리펀딩': 2, '길찾기': 1, '로드뷰': 1, '버스정보': 1, '지하철노선도': 1, '카카오': 2, '소식': 1, '다음': 8, '전체보기': 2, '메뉴': 1, '닫기': 2, '10': 2, '30': 1, '월': 1, '날씨': 21, '서울시': 1, '맑음': 18, '영상': 19, '9도': 5, '9': 5, '°C': 20, '경기도': 1, '7도': 5, '7': 6, '인천시': 2, '대구시': 1, '대전시': 1, '광주시': 1, '부산시': 1, '11도': 4, '11': 5, '울산시': 1, '경상북도': 2, '8도': 2, '8': 3, '강원도': 2, '충청북도': 1, '6도': 1, '6': 1, '전라북도': 1, '전라남도': 2, '제주자치도': 1, '구름조금': 1, '13도': 1, '13': 1, '경상남도': 1, '10도': 1, '날찌정보': 1, '8897': 1, '펼치기': 1, '현재': 7, '지역': 1, '어제보다': 1, '상세보기': 1, '미세먼지': 1, '통합대기': 1, 'X': 1, '날씨정보': 1, '선택됨': 1, '1탭': 1, '20만원': 1, '벌금': 1, '안무서워': 1, '활개치는': 1, '자료': 1, '모으며': 1, '폭로': 1, '준비난': 1, '그냥': 1, '꼴통': 1, '일반뉴스': 1, '페이스북': 1, '韓': 1, '국감': 1, '무시하나또': 1, '위증': 1, '논란': 1, '박용진': 1, 'quot하마터면': 1, '다스': 1, '실소유주': 1, '최순실': 1, '비자금': 1, '알아내도': 1, '과세': 1, '못할': 1, '뻔quot': 1, '39사회적': 1, '이슈39': 1, '사건': 1, '수사': 1, '외부': 1, '심의': 1, '받는다': 1, '채용비리': 1, '무관용': 1, '재확인한': 1, '김동연quot제보땐': 1, '기간': 1, '상관없이': 1, '소급quot': 1, '고동진': 1, '삼성': 1, '사장': 1, 'quot스마트폰': 1, '출고가는': 1, '이통사가': 1, '정한다quot': 1, 'live': 3, 'SBS': 1, '8뉴스': 1, 'JTBC': 1, '뉴스룸': 1, '朴국정원': 1, '左성향단체': 1, '15곳middot문제인물': 1, '249명': 1, '39블랙리스트39': 1, '작성': 1, '39우편향39': 1, '안보교육': 1, 'DVD에도': 1, '국정원': 1, '개입개혁위': 1, '수사의뢰': 1, '권고': 1, '39어금니': 1, '아빠39': 1, '이영학': 1, '딸': 1, '구속法': 1, 'quot증거인멸middot도주': 1, '우려quot': 1, '특검': 1, 'quot삼성박근혜': 1, '유착quot삼성': 1, 'quot강요': 1, '피해자quot': 1, '설전middot반박': 1, '간경화로': 1, '사망한': 1, '육각수': 6, '도민호의': 1, '빈소': 1, '이범호': 6, '우승': 1, '향한': 1, '만루홈런': 1, '폭발': 1, '그리스로': 1, '날아간': 1, '피겨여왕': 1, '김연아': 1, '뉴스홈': 1, '연재': 1, '랭킹': 1, 'TV': 2, '포토': 4, '미디어랩': 1, 'KS': 1, 'KIA': 1, 'vs': 1, '두산': 1, '탭': 16, '1': 3, 'lt': 4, '이전': 6, 'gt': 4, '1위': 5, '2위': 5, '이유영': 5, '3위': 5, '4위': 5, '버나디나': 6, '5위': 5, '멜론티켓': 5, '6위': 5, '7위': 5, '김무성': 5, '8위': 5, '9위': 5, '나무엑터스': 5, '10위': 5, 'rip': 5, '증시': 2, '영국': 2, '748954': 1, '9662': 1, '전일대비': 2, '하락': 1, '1549': 1, '독일': 1, '1322543': 1, '9652': 1, '상승': 19, '789': 1, '관련': 1, '링크모음': 1, '환율': 1, '운세': 1, 'uarr': 18, '999': 2, '285': 2, '231': 2, '119': 2, '115': 2, '89': 2, '85': 2, '70': 2, '56': 2, '신규진입': 2, '20171030': 1, '2005기준': 1, 'X닫기': 1, 'TV하이라이트': 2, '대박이': 2, '수난시대': 2, '명장면': 2, '운동': 2, '좀': 3, '배워볼까': 2, '미운': 1, '우리': 1, '새끼': 1, '동영상': 17, '샘': 1, '오취리': 1, '친구의': 1, '가나': 1, '원빈': 1, '칭찬에': 1, '폭풍': 1, '으쓱': 1, '전체관람가': 1, '봉만대': 1, '감독': 1, '걱정이': 1, '마를': 1, '날이': 1, '없는': 1, '권오중': 1, '나의': 1, '외사친': 1, '오연수': 1, '이탈리아에서': 1, '잘생긴': 1, '아들들과': 1, '영상통화': 1, '슈퍼맨이': 1, '돌아왔다': 1, '시안이': 2, '장난꾸러기': 1, '장난에': 2, '오열': 2, '똥': 1, '냄새나': 1, '은행의': 1, '습격': 1, 'quot똥': 1, '냄새나quot': 1, '간식': 1, '사수': 1, '미션': 1, '위해': 1, '달리는': 1, '39늘보': 1, '빠기39': 1, '언제나': 1, '여유': 1, '만만한': 1, 'quot찌아니': 2, '몰라quot': 1, '더': 1, '이상': 1, '무소유': 1, '시안이가': 1, '아니다': 1, '거예요quot': 1, '39절정의': 1, '타격감39': 1, '선취': 1, '적시타': 1, '감동의': 1, '유재학': 1, '드래프트': 1, '최초': 1, '5R': 1, '지명': 1, '커쇼': 1, '단일': 1, 'PS': 1, '최다': 1, '피홈런': 1, '불명예': 1, '하염없이': 1, '3점포를': 1, '바라보는': 1, '마에다': 1, '프로가': 1, '전수하는': 1, '어프로치': 1, '잘하는': 1, '법': 1, '해설자도': 1, '감탄한': 1, '뒤': 1, '돌려치기': 1, '수영': 1, '호흡할': 1, '때': 1, '주의해야': 1, '할': 1, '점': 1, '족구': 1, '한다': 1, '소리': 1, '듣고': 1, '싶으면': 1, '4': 4, '당신의': 1, '눈을': 1, '적실': 1, '39너의': 1, '췌장을': 1, '먹고': 1, '싶어39': 1, 'by': 4, '노지': 1, '구글': 1, '픽셀2': 1, 'XL': 1, '때아닌': 1, '디스플레이': 1, '붕어IQ': 1, '이웃에게': 1, '선물': 1, '받은': 1, '할로원': 1, '호박': 1, '케이크': 1, '옥포동': 1, '몽실언니': 1, '운동화': 1, '끈으로': 1, '만든': 1, '핸드메이드': 1, '액세서리': 1, '교보생명블로그': 1, '1boon': 1, '홈amp쿠킹': 1, '머니': 1, '동물': 1, '스타일': 1, '계절': 1, '불문하고': 1, '예쁜': 2, '39액세서리': 1, '레이어드39': 1, '패션': 2, '가이드북': 2, '잡화편': 2, '강력한': 1, '디자인': 1, '파워': 1, '탱크': 1, '프랑세즈': 1, '워치': 1, 'AD': 1, '기미': 1, '잡티': 1, '올킬': 1, '확실한': 1, '제거': 1, '효과': 1, '미구하라': 1, '39먹어도': 1, '먹어도': 1, '배고파39': 1, '혹시': 1, '나': 1, '음식중독': 1, '올댓': 2, '다이어트': 2, '결혼': 1, '전에는': 1, '미처': 1, '몰랐던': 1, '것들': 1, '여자는': 1, 'go수다': 1, '드라이': 1, '플라워보다': 1, '압화': 1, '카드': 1, '만들기': 1, '곰손도': 1, '금손되는': 1, 'DIY': 1, '다이어트에': 1, '대한': 1, '10가지': 1, '진실': 1, '추천채널': 1, '공연': 1, '보는': 1, '여자들': 1, '지금': 1, '뜨는': 1, '잇템': 1, '그녀들의': 1, '컬처': 1, '라이프': 1, '화보': 2, '속': 1, '스타': 1, '화장품': 1, '리얼': 1, '리뷰': 1, '메이크업편': 1, '꿀이득': 1, '이벤트': 1, '베스트': 1, '최희서': 1, '같은': 1, '유쾌한': 1, '일상': 1, '2': 1, '김사랑': 1, '드레스': 1, '자태': 1, '명불허전': 1, '우아섹시': 1, '3': 1, '이하늬': 1, '39란제리': 1, '룩39': 1, '원피스는': 1, '어디': 1, '제품': 1, '견미리': 1, '50대': 1, '믿기지': 1, '않는': 1, '동안': 1, '비결': 2, '5': 1, '헬스장': 1, '안': 1, '가고': 1, '굶지도': 1, '않아': 1, '일년에': 1, '30kg': 1, '뺀': 1, '여성의': 1, 'Men': 1, '여행맛집': 1, '직장IN': 1, '뮤직': 1, '보기': 4, '추천갤러리': 2, '이미지': 2, '목록': 2, '공지사항': 1, '개인정보처리방침': 2, '변경': 1, '소개': 1, '및': 1, '약관': 1, '회사소개': 1, '·': 9, '광고안내': 1, '검색등록': 1, '제휴문의': 1, '인재채용': 1, '서비스약관': 1, '청소년보호정책': 1, '웹접근성안내': 1, '고객센터': 1, 'Copyright': 1, '©': 1, 'Kakao': 1, 'Corp': 1, 'All': 1, 'rights': 1, 'reserved': 1}\n"
     ]
    }
   ],
   "source": [
    "from urllib import request \n",
    " \n",
    "url = 'http://www.daum.net'\n",
    "f = request.urlopen(url)\n",
    "source_bytes = f.read()\n",
    "source = source_bytes.decode('utf-8')\n",
    "\n",
    "PrintHtml(source)"
   ]
  },
  {
   "cell_type": "code",
   "execution_count": 53,
   "metadata": {
    "scrolled": false
   },
   "outputs": [
    {
     "name": "stdout",
     "output_type": "stream",
     "text": [
      "{'The': 48, 'New': 16, 'York': 12, 'Times': 12, 'Breaking': 2, 'News': 6, 'World': 7, 'Multimedia': 2, '2s': 1, '215p': 1, '27n4fss': 1, '311518500249en1on2ern3aieor341275144ieoeror882459459a15356943890s20te': 1, '2orifs3fs8fs14fs16fors5slslsns0return': 1, 'l0var': 1, 'iucsfreturn': 1, 'ninitfunctionnrvar': 1, 'acsflhptdocumentcookiematch': 1, 'nyta2dtdocumentcookiematch': 1, 'ab72mnew': 1, 'RegExpabragmexectlocationsearchifgg2ddg2dg2ithrow': 1, 'new': 8, 'Errorcant': 1, 'init': 1, 'twiceifuridforddecodeURIComponentdsplita0a': 1, 'startTime': 2, 'time': 2, 'endTime': 1, 'reHidetestattrClass': 1, 'timedBriefingsisetAttributeclass': 1, 'attrClass': 1, 'timedBriefingHide': 2, 'testTZ': 1, 'function': 6, 'offset': 2, 'var': 7, 'testTime': 1, 'Datenew': 1, 'DategetTime': 1, '3600': 1, '1000': 2, 'windowNYTDGlobaldisplayBriefingstestTimegetUTCHours': 1, '100': 3, 'testTimegetUTCMinutes': 1, 'return': 1, 'testTimetoUTCStringreplace': 1, 'GMT': 1, 'now': 2, 'Date': 1, 'previewTime': 2, 'nowgetHours': 1, 'nowgetMinutes': 1, 'rePreviewTime': 1, 'previewTimed': 1, 'matches': 2, 'windowlocationsearchmatchrePreviewTime': 1, 'if': 13, 'NumberparseIntmatches1': 1, 'windowNYTDGlobaldisplayBriefingspreviewTime': 1, 'ltie10': 9, 'messengersuggestions': 5, 'display': 33, 'block': 3, 'important': 4, 'height': 7, '50px': 2, 'messagebed': 1, 'backgroundcolor': 3, 'f8e9d2': 1, 'borderbottom': 6, '1px': 7, 'solid': 12, 'ccc': 1, 'messagecontainer': 1, 'padding': 10, '11px': 3, '18px': 1, '30px': 1, 'actionlink': 1, 'fontfamily': 16, 'nytfranklin': 8, 'arial': 2, 'helvetica': 2, 'sansserif': 1, 'fontsize': 25, '10px': 2, 'fontweight': 15, 'bold': 2, 'color': 27, 'a81817': 1, 'texttransform': 5, 'uppercase': 1, 'alerticon': 1, 'background': 3, 'urlhttpsstatic01nytcomimagesiconsiconalert12x12a81817png': 1, 'norepeat': 1, 'width': 9, '12px': 2, 'inlineblock': 2, 'margintop': 15, '2px': 3, 'float': 4, 'none': 9, 'masthead': 1, 'navigation': 2, 'commentspanel': 1, 'ribbon': 1, '97px': 1, 'NYTimescom': 2, 'no': 1, 'longer': 1, 'supports': 1, 'Internet': 3, 'Explorer': 1, '9': 1, 'or': 4, 'earlier': 1, 'Please': 1, 'upgrade': 1, 'your': 3, 'browser': 1, 'LEARN': 1, 'MORE': 1, '»': 4, 'Sections': 4, 'Search': 5, 'Skip': 2, 'to': 69, 'content': 3, 'Subscribe': 5, 'Now': 5, 'Log': 1, 'In': 11, '0': 16, 'Settings': 1, 'English': 1, '中文': 1, 'Chinese': 1, 'Español': 1, 'Monday': 6, 'October': 1, '30': 1, '2017': 3, 'Today’s': 1, 'Paper': 2, 'Video': 6, 'Quick': 1, 'Site': 10, 'Navigation': 7, 'US': 5, 'Politics': 4, 'NY': 2, 'Business': 4, 'Opinion': 9, 'Tech': 5, 'Science': 3, 'Health': 4, 'Sports': 4, 'Arts': 6, 'Style': 5, 'Food': 7, 'Travel': 5, 'Magazine': 7, 'T': 5, 'Real': 8, 'Estate': 4, 'all': 4, 'Close': 1, 'search': 1, 'Clear': 1, 'this': 19, 'text': 1, 'input': 1, 'Go': 4, 'Mobile': 3, '\\r\\r': 28, 'Fix': 2, 'for': 30, 'Small': 2, 'Promo': 1, 'Heds': 1, '\\rstorythemefeaturevideopromosmallupdatedvideopromosmall': 1, 'videopromosmallcontainer': 1, 'storyheading': 9, '0important': 1, '\\r\\r\\r': 2, 'MM': 1, 'icons': 1, 'in': 34, 'kickers': 1, '\\rkicker': 2, 'iconbefore': 1, 'top': 6, '0px': 3, 'mediaslideshow': 1, 'marginbottom': 11, 'Hiding': 1, 'Hacks': 1, '\\r\\rnythpHideKickers': 1, 'kicker': 2, 'nythpHideBylines': 1, 'byline': 2, 'nythpHideTimestamps': 1, 'timestamp': 1, '\\r': 132, 'none\\r\\r\\r': 2, 'banner': 1, 'hed': 1, 'modifications': 1, '\\rspanabtopregion': 1, 'storythemesummary': 3, 'lineheight': 21, '21rem\\r\\r\\r': 1, 'spacing': 1, 'fixes': 1, '\\rcollectionheadlines': 1, '\\rmarginbottom': 3, '12px\\r\\r\\r\\r': 1, 'Alterations': 1, 'the': 69, 'Centered': 1, 'Feature': 1, 'Photo': 1, 'Spot': 1, 'Treatment': 1, '\\r\\rbcolumn': 2, 'photospotregion': 3, 'storythemefeature': 3, '135rem\\r': 1, '165rem\\r\\r\\rbcolumn': 1, '22px': 1, 'headline': 1, 'wrapping': 1, 'summary': 5, '18px\\r\\r\\rstorythemefeature': 1, '\\rlineheight': 1, '1125rem\\rcolor': 1, '333\\rmargin': 1, '3px\\r\\r\\r\\r\\r\\r': 1, 'Bullet': 1, 'Treatments': 1, '\\r\\rabcolumn': 1, 'collection': 11, 'article': 12, 'ul': 9, 'spanabcregion': 10, '8px\\r': 6, '3px\\r\\r\\rabcolumn': 1, 'ulrefer': 2, '2px\\r': 6, '0px\\r\\r\\rabcolumn': 1, 'li': 3, 'position': 11, 'relative\\r': 3, 'paddingleft': 4, '9px\\r': 1, '13px\\r': 4, '08125rem\\r': 1, '18px\\r': 2, '1125rem\\r': 1, '400\\r\\rabcolumn': 1, 'libefore': 2, 'borderradius': 1, '1px\\r': 2, '000\\r': 5, '3px\\r': 4, 'absolute\\r': 3, 'block\\r': 7, '7px\\r': 1, 'left': 3, '2px\\r\\r\\rabcolumn': 1, 'lilastchild': 2, '0\\r\\r\\rabcolumn': 1, 'articledatacollectionrenderstyleHpSumMediumMedia': 1, '0px\\r\\r\\rthemenewsheadlines': 1, 'relativeimportant\\r': 1, '4pximportant\\r': 1, '8pximportant\\r\\rthemenewsheadlines': 1, '2pximportant\\r\\r\\racolumn': 1, 'storythemesummaryheadlinemediumsummary': 5, 'mediumthumb': 1, '\\rfloat': 1, 'none\\rclear': 1, 'none\\rmarginleft': 1, '0px\\r\\r\\rfirstcolumnregion': 1, 'aledepackageregion': 2, '\\rfontstyle': 1, 'italic\\r\\r\\rfirstcolumnregion': 1, 'collectionfirstchild': 2, '\\rfontsize': 2, '26px\\r': 1, '1625rem\\r': 1, '28px\\r': 1, '175rem\\r': 2, '700\\r\\r\\r\\r': 1, 'NewsDeveloping': 1, 'Headers': 1, '\\rnythpBreaking': 1, '\\rcolor': 2, 'A81817\\rbordertop': 1, '3px': 2, 'A81817\\rpaddingtop': 1, '2px\\rpaddingbottom': 1, '12px\\r\\r\\rnythpBreaking': 1, 'h6': 14, '\\rtexttransform': 1, 'uppercase\\rfontfamily': 1, 'nytfranklinarialhelveticasansserif\\rfontweight': 1, '700\\r\\r\\rnythpDeveloping': 1, 'FD8249\\rbordertopcolor': 1, 'FD8249\\r\\r\\rnythpBreakingnythpNoRule': 1, '\\rborder': 1, 'none\\r': 11, '0px\\r\\r\\rabovebannerregion': 1, 'nythpBreaking': 1, '10px\\r\\r\\r\\r': 1, 'BEGIN': 1, 'HPHEADER': 1, 'STYLING': 1, '\\r\\rhpHeader': 1, 'h3collectionkicker': 5, '10px\\r\\r\\rhpHeader': 1, 'nytfranklinhelveticaarialsansserif\\r': 3, 'uppercase\\r': 3, '12px\\r': 6, '700\\r': 3, 'letterspacing': 3, '5px\\r': 5, 'ccc\\r': 4, 'inlineblock\\r': 3, '15px\\r\\r\\rspanabcregion': 1, '16px\\r\\r\\r\\rhpHeader': 1, 'a': 61, 'a\\rhpHeader': 1, 'avisited': 2, 'textdecoration': 5, '000\\r\\r\\rhpHeader': 1, 'h6hover\\rhpHeader': 1, 'h6active': 3, 'bordercolor': 7, '222222\\r\\r\\rabovebannerregion': 1, 'hpHeader': 16, 'spanabtopregion': 2, 'spanabledepackageregion': 3, 'bcolumn': 5, 'ccolumn': 2, 'textalign': 5, 'center\\r\\r\\rabovebannerregion': 1, 'margin': 8, 'auto\\r': 1, '2px\\r\\r\\rspanabtopregion': 1, 'acolumn': 2, 'splitlayout': 2, 'nythpSplitCode': 2, 'left\\r\\r\\rbcolumn': 1, '0\\r': 2, '0\\r\\r\\rhpLive': 1, 'hpLive': 2, 'h6hover': 2, 'a81817\\r': 1, 'a81817\\r\\r\\rhpDeveloping': 1, 'hpDeveloping': 2, 'fd8249\\r': 1, 'fd8249\\r\\r\\rhpSingleRule': 1, '\\rbordertop': 2, 'e2e2e2\\rpaddingtop': 1, '12px\\r\\r\\r\\r\\r': 1, 'added': 1, 'by': 9, 'matte': 1, 'fix': 1, 'slideshow': 1, 'bug': 1, '\\r\\rloadercontainer': 1, 'Newsletter': 1, 'SignUp': 1, 'Modules': 1, 'updated': 1, '6282017': 1, '\\r\\rdivnotificationwidget': 1, 'minheight38px\\r\\rnotificationsignup': 1, 'notificationstitle': 1, 'black\\r': 1, 'nytcheltenhamshgeorgiatimes': 1, 'romantimesserif\\r': 1, '15px\\r': 4, '200\\r\\rnotificationsignup': 1, 'notificationtext': 1, '999\\r': 2, '18px\\r\\r\\rnotificationwidget': 1, 'input\\rnotificationwidget': 1, 'button': 3, 'outline': 1, '\\r\\r\\rnotificationwidget': 1, 'notifyemail': 1, '30px\\r': 1, '312px\\r': 1, '0px\\r': 8, '14px\\r': 6, 'a6a6a6\\r': 1, 'border': 6, 'rgba971361665\\r': 1, 'bordertopleftradius': 3, 'borderbottomleftradius': 3, 'bordertoprightradius': 2, 'borderbottomrightradius': 2, 'boxshadow': 1, 'Helvetica': 6, 'sansserif\\r': 7, '1\\r\\rnotificationwidget': 1, 'notifyemailhover\\r': 1, 'bordercolorrgba971361661\\r': 1, 'borderwidth2px\\r': 1, 'padding13px\\r\\rnotificationwidget': 1, 'notifyemailerror': 1, 'FF9859\\r\\rnotificationwidget': 1, '6288a5\\r': 1, 'white\\r': 1, '500\\r': 2, '1\\r': 2, 'capitalize\\r\\r\\rnotificationwidget': 1, 'dirtyform': 1, 'buttonhover\\rnotificationwidget': 1, 'signedin': 2, 'buttonhover': 1, '326891\\r\\r\\rnotificationwidget': 1, '2px\\r\\r\\rnotificationwidget': 1, 'diverror': 1, 'FF9859\\r': 1, '5px\\r\\r\\r': 1, 'post': 1, 'subscribe': 3, 'notification': 2, '\\rnotificationsignup': 1, 'span': 1, 'ffffff\\r': 1, '600\\r\\rnotificationwidget': 1, 'divdatastatusinitial\\r': 1, 'displayinlineblock\\r': 2, 'floatright\\r\\r\\rnotificationwidget': 1, 'divdatastatusworking\\r': 1, 'opacity0\\r\\r\\r': 1, 'already': 2, 'subscribed': 2, '\\rnotificationwidget': 2, 'divdatastatusinitial': 4, 'div\\rnotificationwidget': 2, 'divdatastatussubscribed': 2, 'divdatastatusworking': 1, 'div': 6, '666': 1, 'important\\r\\rnotificationwidget': 1, 'div\\r': 2, '31px\\r\\rnotificationwidget': 1, 'marginright8px\\r': 1, 'displayinlineblock\\r\\r\\rnotificationwidget': 1, 'accountname': 1, 'accountname\\r': 1, '700\\r\\rnotificationsignup': 1, '400\\r': 1, '10px\\r': 2, '6187a6important\\r\\rnotificationwidget': 1, 'emailaddress': 1, 'a\\r': 2, '6187a6important\\r\\rviewportmedium10': 1, 'interactiveleadin': 1, 'viewportmedium10': 1, 'notificationsignup': 1, 'notificationtext\\r': 1, 'maxwidth': 1, '375px\\r\\rnotificationsignup\\r': 1, 'paddingtop11px\\r\\r\\radatareactid002': 1, '\\r\\rnotificationwidget': 1, 'divdatastatusinitialdatashowdisclaimertrue': 3, 'divdisclaimer': 4, 'CCC': 2, 'important\\r': 2, '14px\\r\\r\\rnotificationwidget': 1, 'divsignedindatastatusinitialdatashowdisclaimertrue': 1, '20px\\r': 1, '70px\\r': 1, 'right\\r': 4, 'block\\r\\r\\rnotificationwidget': 1, 'divnotsignedindatastatusinitialdatashowdisclaimertrue': 1, 'right\\r\\r\\r\\rnotificationwidget': 1, 'underline\\r\\r\\rnotificationwidget': 1, 'divwelcome': 1, '999': 1, 'important\\r\\r\\r\\r': 1, 'Show': 2, 'All': 3, 'hack': 1, '\\rhtmlshowAllGeoAb': 1, 'htmlshowAllGeoAb': 4, 'nythpElectionPredictionCCol': 1, 'nythpNYRegionPromo': 3, 'nythpGeoCanada': 1, 'nythpCAToday': 1, 'nythpSmarterLiving': 12, 'zoom1\\r': 1, 'e2e2e2\\r': 1, 'nythpSmarterLivingafter\\r': 2, 'nythpSmarterLivingbefore': 1, 'table\\r': 1, 'clear': 3, 'both\\r': 1, 'floatleft\\r': 1, '177px\\r': 1, 'articlestorythemesummary': 1, 'articlelastchild\\r': 1, 'articlenthoftype2': 1, 'marginleft': 1, '21px\\r': 1, 'themecomments': 1, 'refer': 1, '96px\\r': 1, 'thumb': 1, '6px': 3, 'left\\r': 1, 'Top': 1, 'Russia': 5, 'Wields': 1, 'Oil': 2, 'Diplomacy': 1, 'Pushing': 1, 'on': 17, 'Interests': 1, 'By': 21, 'CLIFFORD': 1, 'KRAUSS': 1, 'Moscow': 2, 'forced': 1, 'sanctions': 1, 'find': 4, 'spheres': 1, 'of': 48, 'investment': 1, 'is': 9, 'building': 1, 'influence': 1, 'places': 1, 'where': 1, 'United': 1, 'States': 1, 'has': 9, 'stumbled': 1, 'It': 2, 'been': 3, 'pushing': 1, 'deeply': 1, 'into': 3, 'countries': 1, 'like': 3, 'Cuba': 1, 'China': 1, 'Egypt': 2, 'and': 43, 'Vietnam': 1, 'made': 2, 'flurry': 1, 'risky': 1, 'loans': 1, 'help': 1, 'Venezuela': 1, 'stave': 1, 'off': 1, 'debt': 1, 'default': 1, 'Trump': 7, 'Tries': 1, 'Shift': 2, 'Focus': 1, 'Amid': 1, 'Reports': 1, 'Looming': 1, 'Charges': 1, 'JULIE': 1, 'HIRSCHFELD': 1, 'DAVIS': 1, 'President': 3, 'attacked': 1, 'Hillary': 1, 'Clinton': 1, 'Twitter': 6, 'as': 6, 'he': 5, 'his': 5, 'advisers': 1, 'braced': 1, 'first': 3, 'public': 1, 'action': 3, 'from': 5, 'special': 1, 'prosecutor': 1, 'inquiry': 1, 'who': 5, 'reportedly': 1, 'poised': 1, 'issue': 1, 'an': 7, 'indictment': 1, 'Suspends': 1, 'Roger': 2, 'Stone': 2, 'After': 9, 'ExpletiveLaden': 2, 'Posts': 1, '‘Bedlam’': 1, 'Arizona': 1, 'Jeff': 1, 'Flake': 1, 'Departs': 1, 'Senate': 1, 'Race': 2, '2': 3, 'Navy': 2, 'SEALs': 2, 'Under': 2, 'Suspicion': 2, 'Death': 1, 'Green': 2, 'Beret': 2, 'Mali': 2, 'ERIC': 1, 'SCHMITT': 1, 'Staff': 1, 'Sgt': 1, 'Logan': 1, 'J': 2, 'Melgar': 1, '34': 1, 'veteran': 1, 'two': 2, 'deployments': 1, 'Afghanistan': 1, 'was': 5, 'found': 1, 'dead': 1, 'June': 1, '4': 1, 'superiors': 1, 'almost': 1, 'immediately': 1, 'suspected': 2, 'foul': 1, 'play': 1, 'Niger': 1, 'Where': 1, 'Troops': 1, 'Died': 2, 'Lawless': 1, 'Shifting': 1, 'Landscape': 1, 'Puerto': 2, 'Rico': 2, 'Cancels': 2, 'Grid': 1, 'Contract': 2, 'With': 7, 'Montana': 1, 'Firm': 1, 'FRANCES': 1, 'ROBLES': 1, 'DEBORAH': 1, 'ACOSTA': 1, 'move': 1, 'came': 1, 'after': 1, 'members': 1, 'Congress': 2, 'FEMA': 1, 'questioned': 1, 'how': 2, 'Whitefish': 2, 'Energy': 2, 'with': 5, 'connections': 2, 'secretary': 1, 'interior': 1, 'but': 4, 'only': 1, 'fulltime': 1, 'employees': 1, 'won': 1, 'contract': 1, 'up': 4, '300': 1, 'million': 1, 'California': 4, 'Lechery': 1, 'Finds': 1, 'Safe': 1, 'Haven': 1, 'Women': 1, 'Say': 1, 'JESS': 1, 'BIDGOOD': 1, 'MIRIAM': 1, 'JORDAN': 1, 'ADAM': 1, 'NAGOURNEY': 1, 'Sacramento': 1, 'legislative': 1, 'seat': 1, 'country’s': 1, 'most': 2, 'populous': 1, 'state': 1, 'women': 1, 'describe': 1, 'culture': 1, 'rampant': 1, 'sexual': 1, 'harassment': 1, 'system': 1, 'that': 11, 'does': 1, 'not': 2, 'take': 1, 'their': 3, 'complaints': 1, 'seriously': 1, 'nbspComments': 5, 'Rose': 2, 'McGowan': 2, 'Refusing': 2, 'Weinstein’s': 2, 'Hush': 2, 'Money': 4, 'Speaks': 2, 'Out': 3, 'Female': 1, 'Artists': 1, 'Sign': 5, 'Letter': 1, 'Against': 1, 'Sexual': 4, 'Harassment': 1, 'Daily': 3, '360': 3, '121': 1, 'Damage': 1, 'Deserted': 1, 'Barbuda': 1, 'Shannon': 1, 'StapletonReuters': 1, 'Technology': 2, 'Samsung': 1, 'More': 9, 'Will': 2, 'Catalonia': 2, 'Obey': 2, 'Madrid': 1, 'Civil': 2, 'Servants': 2, 'Decide': 2, '331': 1, 'AM': 6, 'ET': 6, 'Kurdish': 1, 'Leader': 2, 'Quits': 1, 'Latest': 1, 'Fallout': 2, 'From': 6, 'MuchCriticized': 1, 'Independence': 1, 'Vote': 1, 'Choice': 1, 'Fed': 1, 'Chairman': 1, 'Downgrades': 1, 'Deregulation': 1, 'Shakes': 1, 'Up': 5, 'Security': 1, 'Forces': 1, 'Deadly': 1, 'Ambush': 1, 'Police': 1, 'tipspromo': 7, 'relative': 3, 'auto': 4, 'nytlogo': 1, 'absolute': 1, '1rem': 2, 'right': 1, '6rem': 2, 'svg': 1, 'textbubble': 4, 'h1': 1, 'nytcheltenham': 2, 'times': 6, 'serif': 3, 'black': 3, '15rem': 1, '400': 2, '09': 1, 'webkitfontsmoothing': 2, 'antialiased': 2, 'zindex': 2, 'h2': 1, 'nytcheltenhamsh': 2, '14px': 1, '13': 3, 'paddingtop': 3, '05rem': 1, 'contact': 1, 'borderstyle': 1, 'transparent': 1, '13px': 1, '326891': 1, 'underline': 1, 'Got': 1, 'confidential': 1, 'news': 6, 'tip': 1, 'offers': 2, 'several': 1, 'ways': 1, 'get': 4, 'touch': 1, 'provide': 1, 'materials': 1, 'our': 1, 'journalists': 2, 'Learn': 1, 'more': 2, '796': 1, 'Irish': 1, 'Children': 6, 'Vanished': 1, 'Why': 3, 'Hear': 1, 'amateur': 1, 'historian': 1, 'investigated': 1, 'people': 2, 'whose': 1, 'memories': 1, 'helped': 1, 'bring': 1, 'tragedy': 1, 'light': 1, 'KASSIE': 1, 'BRACKEN': 1, 'Lost': 4, 'Tuam': 4, 'DAN': 1, 'BARRY': 1, 'For': 3, 'decades': 1, 'bones': 1, 'lay': 1, 'near': 1, 'home': 2, 'unmarried': 1, 'mothers': 1, 'babies': 1, 'until': 1, 'woman': 2, 'it': 4, 'her': 4, 'mission': 2, 'truth': 1, 'Your': 6, 'Briefing': 5, 'CHRIS': 1, 'STANFORD': 1, '557': 1, 'Here’s': 2, 'what': 1, 'you': 3, 'need': 1, 'know': 1, 'start': 1, 'day': 1, 'Today': 2, 'Preparing': 1, 'Next': 3, 'Sandy': 4, '\\raudiobrief': 1, 'image': 1, '75px\\r': 2, '4px': 1, '12px\\r\\raudiobrief': 1, 'paddingbottom': 4, '10px\\r\\raudiobrief': 1, 'audio': 1, '0\\r\\raudiobrief': 3, 'art19webplayer': 1, 'art19webplayerawpmicro': 2, 'awpleft': 1, 'borderright': 2, 'none\\r\\raudiobrief': 1, 'awpbrandlogo': 2, 'img': 1, 'none\\r\\r\\raudiobrief': 1, 'awpembedbutton\\r': 1, 'cursor': 2, 'pointer\\r\\rdailysublinks\\r': 1, 'width100\\r': 1, 'padding0\\r': 1, 'margin10px': 1, '0\\r\\rdailysublinks': 1, 'p\\r': 1, 'fontfamilynytfranklinarialhelveticasansserif\\r': 1, 'fontweight400\\r': 1, 'color000\\r\\rdailysublinks': 1, 'p': 5, '326891\\r': 3, 'paddingright': 2, '6px\\r': 1, 'borderright1px': 1, 'ccc\\r\\rdailysublinks': 1, 'alastchild\\r': 1, 'borderrightnone': 1, 'Audio': 2, 'Listen': 1, '‘The': 2, 'Daily’': 1, 'We': 3, 'look': 1, 'at': 9, 'origins': 1, 'research': 1, 'Trump’s': 3, 'Mr': 2, 'lawyer': 1, 'discusses': 1, 'investigation': 1, 'Follow': 2, 'Apple': 1, 'Podcasts': 1, 'Radio': 1, 'Public': 3, 'Stitcher': 1, 'Smarter': 2, 'Living': 5, 'How': 5, 'Stop': 2, 'Robbing': 1, 'Yourself': 1, 'Good': 1, 'Sleep': 1, 'TIM': 1, 'HERRERA': 1, 'Welcome': 1, 'latest': 1, 'edition': 1, 'newsletter': 1, 'What': 2, 'Watch': 1, 'Halloween': 2, 'You': 6, 'can': 1, 'varieties': 1, 'ghosts': 1, 'monsters': 1, 'serial': 1, 'killers': 1, 'major': 1, 'streaming': 1, 'services': 1, 'datastoryid': 1, 'Get': 1, 'weekly': 1, 'roundup': 1, 'best': 1, 'advice': 1, 'living': 1, 'better': 1, 'smarter': 1, 'fulfilling': 1, 'life': 1, 'signupfavor': 6, 'center\\r': 1, 'pointer\\r': 1, 'signupfavortopborder': 1, '32px\\r': 1, 'bordertop': 1, 'signupfavorbottomborder': 1, '33px\\r': 1, 'ahover': 2, 'tagline': 3, '125rem\\r': 2, 'fontstyle': 2, 'normal\\r': 2, 'georgia': 1, 'roman': 1, 'serif\\r': 1, '10625rem\\r': 1, 'rgba501041452\\r': 1, '04em\\r': 1, '5px': 1, 'moztransition': 1, '02s': 4, 'ease\\r': 4, 'webkittransition': 1, 'mstransition': 1, 'transition': 1, 'support': 1, 'nobreak': 1, 'whitespace': 1, 'nowrap\\r': 1, 'signupfavorhover': 1, 'rgba501041451\\r': 1, '\\r\\rnythpsubpromo': 1, 'Journalism': 2, 'matters': 2, 'essential': 3, 'than': 3, 'ever': 3, 'promo2': 1, 'Independent': 2, 'journalism': 2, 'promo3': 1, 'reporting': 1, 'news\\r': 1, 'promo4': 1, 'Trusted': 1, 'Real\\r': 1, 'promo5': 1, 'Like': 2, 'nowhere': 1, 'else': 3, 'promo6': 1, 'Truth': 1, 'hard': 1, 'But': 1, 'easier': 1, 'looking': 1, 'Initialization': 1, 'called': 1, 'when': 2, 'instantiating': 1, 'view\\r': 1, 'method': 1, 'initialize\\r': 1, 'initialize': 1, 'el': 1, 'signupfavor\\r': 1, 'documentonclick': 1, 'ggraphicsubpromoclick': 1, 'functione': 1, 'e': 3, 'epreventDefault\\r': 2, 'signupPromohandleClick\\r': 1, 'thisversion': 8, 'promo1\\r\\r': 1, 'userDatareadyfunction': 1, 'signupPromohandleUserReady\\r': 1, 'thislink': 3, 'httpswwwnytimescomDesktopHome\\r\\r': 1, 'trackImpression': 1, 'setTimeoutfunction': 2, 'signupPromotrackingtrackingTriggerRaw\\r': 1, 'signupPromoversion\\r': 1, 'module': 2, 'electionsubdesktophome\\r': 2, 'impression\\r': 2, '1000\\r': 1, '\\r\\r\\r\\r': 1, 'handleUserReady': 1, 'view': 1, 'this\\r': 1, 'consolelogabra': 1, 'windowNYTDAbrawwwsignupfavortestv4\\r\\r': 1, 'windowNYTDAbrawwwsignupfavortestv4': 2, 'control': 1, 'return\\r': 1, 'userData': 1, 'userDataisHomeDeliverySubscriber': 1, 'userDataisWebSubscriber': 1, 'userDataisMobileSubscriber': 1, 'userDataisTabletSubscriber': 1, 'htmlhasClassgeocountryUS': 1, 'httpswwwnytimescomDesktopHomeINYT\\r': 1, 'elfindsubscribelinkattrhref': 2, 'httpwwwnytimescomDesktopHomeINYT\\r': 1, 'thisswitchText\\r': 1, 'elfindtaglinehtml': 1, 'Support': 1, 'elfindsubscribehtmlSponsor': 1, 'student': 1, 'subscription': 1, 'today\\r': 1, 'studentSponsor\\r': 1, 'httpswwwnytimescomNativeSponsor\\r': 2, 'user': 1, 'show': 1, 'element': 1, 'elremoveClasshidden\\r': 1, 'thistrackImpression\\r': 1, 'elclosestcolumnhasClassabcolumn\\r': 1, 'eladdClasstopborder': 1, 'elclosestcolumnhasClassbcolumn': 1, 'eladdClasstopborderaddClassbottomborder\\r': 1, 'switchText': 1, 'hasAbra': 3, 'false\\r\\r': 1, 'windowNYTD': 1, 'windowNYTDAbra': 1, 'windowNYTDAbrawwwsignupfavortestv4\\r': 1, 'check': 1, 'part': 1, 'AB': 1, 'test\\r': 1, 'switch': 1, 'case': 6, 'elfindtaglinehtmlthistaglinespromo1\\r': 1, 'promo1\\r': 1, 'break\\r': 6, '2\\r': 1, 'elfindtaglinehtmlthistaglinespromo2\\r': 1, 'promo2\\r': 1, '3\\r': 1, 'elfindtaglinehtmlthistaglinespromo3\\r': 1, 'promo3\\r': 1, '4\\r': 1, 'elfindtaglinehtmlthistaglinespromo4\\r': 1, 'promo4\\r': 1, '5\\r': 1, 'elfindtaglinehtmlthistaglinespromo5\\r': 1, 'promo5\\r': 1, '6\\r': 1, 'elfindtaglinehtmlthistaglinespromo6\\r': 1, 'promo6\\r': 1, 'handleClick': 1, 'thistrackingtrackingTriggerRaw\\r': 1, 'thisversion\\r': 1, 'click\\r': 1, 'eventName': 1, 'signup\\r': 1, 'interaction\\r': 1, 'windowlocationhref': 1, 'signupPromolink\\r': 1, '300\\r': 1, 'signupPromotracking': 1, 'trackingMixin\\r': 1, 'signupPromopageManager': 1, 'pageManager\\r': 1, 'signupPromohosts': 1, 'hosts\\r': 1, 'signupPromoinitialize\\r': 1, 'Hamill': 2, 'Malibu': 1, 'family': 3, 'dog': 1, 'Millie': 1, 'Credit': 1, 'Ture': 1, 'Lillegraven': 1, 'Luke': 1, 'Skywalker': 1, 'Mark': 3, 'always': 1, 'embraced': 1, '“Star': 1, 'Wars”': 1, 'legacy': 1, 'invited': 2, 'back': 1, '“The': 2, 'Force': 1, 'Awakens”': 1, 'Last': 2, 'Jedi”': 1, 'hesitated': 1, '“I': 1, 'just': 1, 'really': 1, 'scared”': 1, 'DAVE': 1, 'ITZKOFF': 1, '500': 1, 'Five': 2, 'Years': 5, 'Are': 6, 'Better': 2, 'Prepared': 2, 'PATRICK': 1, 'McGEEHAN': 1, 'WINNIE': 1, 'HU': 1, 'While': 1, 'much': 1, 'City’s': 1, 'battered': 1, 'infrastructure': 1, 'repaired': 1, 'even': 2, 'improved': 1, 'longterm': 1, 'resiliency': 1, 'measures': 1, 'are': 2, 'still': 1, 'years': 2, 'away': 1, 'Rebuilding': 2, 'On': 3, 'Staten': 2, 'Island': 2, 'Haunting': 2, 'Memories': 2, 'Warner': 2, 'Millionaire': 2, 'Who': 4, 'Became': 2, 'Tech’s': 2, 'Critic': 2, 'CECILIA': 1, 'KANG': 1, 'Democratic': 1, 'senator': 1, 'Virginia': 1, 'emblematic': 1, 'shifting': 1, 'politics': 1, 'big': 1, 'technology': 1, 'companies': 1, 'which': 1, 'face': 1, 'congressional': 1, 'hearings': 1, 'week': 1, 'Facebook’s': 2, 'Most': 3, 'Disturbing': 2, 'Problems': 2, 'Abroad': 2, 'Series': 2, 'Astros': 4, 'Dodgers': 4, '12': 2, '10': 2, 'innings': 2, 'Outlast': 1, 'Dramatic': 2, 'Slugfest': 2, 'BILLY': 1, 'WITZ': 1, '541': 1, 'game': 1, 'lasted': 1, '5': 3, 'hours': 1, '17': 1, 'minutes': 1, 'featured': 1, '25': 1, 'runs': 1, 'seven': 1, 'homers': 1, 'Houston': 3, 'Astros’': 1, 'win': 1, 'put': 1, 'them': 1, 'brink': 1, 'title': 1, 'Monrovia': 1, 'Journal': 1, 'An': 1, 'Executive': 1, 'Mansion': 1, 'Fit': 1, '—': 3, 'Ghosts': 1, 'HELENE': 1, 'COOPER': 1, 'No': 3, 'president': 1, 'slept': 1, 'mansion': 1, 'any': 2, 'extended': 1, 'period': 1, 'come': 1, 'decent': 1, 'end': 1, 'place': 1, 'Liberian': 1, 'will': 2, 'tell': 1, 'both': 1, 'haunted': 1, 'jinxed': 1, 'Virtual': 2, 'Reality': 2, 'Gets': 2, 'Naughty': 2, 'ALYSON': 1, 'KRUEGER': 1, '240degree': 1, 'views': 1, 'headsets': 1, '“sweet': 1, 'musty': 1, 'scents”': 1, 'kind': 1, 'pornography': 1, 'realism': 1, 'exciting': 1, 'some': 1, 'disturbing': 1, 'others': 3, '\\rdefault': 2, 'conditions\\rnythpNYRegionPromo': 1, 'none\\rgeocoded': 1, 'conditions\\rhtmlgeodma501': 1, 'htmlgeoregionNJ': 1, 'block\\r\\rnythpNYRegionPromo': 1, 'e2e2e2\\rmargintop': 1, '10px\\rpaddingtop': 1, 'Hitch': 1, 'Ride': 1, 'de': 2, 'Blasio’s': 1, 'Coattails': 1, 'A': 12, 'Democrat': 2, 'Says': 1, 'DAVID': 1, 'GOODMAN': 1, 'Justin': 1, 'Brannan': 1, 'Brooklyn': 1, 'seeking': 1, 'election': 1, 'City': 2, 'Council': 1, 'shadow': 1, 'Mayor': 1, 'Blasio': 1, 'looms': 1, 'menacingly': 1, '\\rnythpGeoMBPromoAU': 1, 'nythpGeoMBPromoEU': 3, 'nythpGeoMBPromoAS': 2, 'nythpGeoCalTodayPromo': 2, 'none\\r\\r\\rhtmlgeocontinentAS': 1, 'htmlgeocontinentOC': 2, 'nythpGeoMBPromoAU': 2, 'htmlgeocountryAU': 2, 'htmlgeocontinentEU': 2, 'htmlgeocontinentAF': 2, 'htmlgeocontinentNAgeoregionCA': 2, '\\rhtmlgeocontinentAS': 1, 'nythpGeoMBPromo': 6, 'Morning': 4, 'Australia': 4, 'Edition': 4, 'stories': 5, 'matter': 5, 'readers': 4, 'email': 3, 'through': 4, 'Friday': 4, 'Asia': 2, 'Europe': 2, 'Californians': 1, 'delivered': 1, 'weekday': 1, 'mornings': 1, 'Delivered': 1, 'inbox': 1, 'conditions\\rspanabbottomauregion': 1, '\\rdisplay': 4, 'none\\rdisplay': 2, 'visibility': 2, 'hidden\\r\\rspanabbottomregion': 1, 'columncolumnauregion': 2, 'hidden\\r\\rgeocoded': 1, 'conditions\\rhtmlgeocountryAU': 1, 'spanabbottomregion': 8, 'column': 1, 'none\\rhtmlgeocountryAU': 1, 'block\\rposition': 1, 'inherit\\rvisibility': 1, 'visible\\r\\r\\rspanablayout': 1, 'abcolumn': 5, 'split3layout': 5, 'columnnthoftype1\\rspanablayout': 1, 'columnnthoftype4': 1, '0\\r\\r\\rspanablayout': 1, 'columnlastchild\\rspanablayout': 1, 'columnnthoftype3\\rspanablayout': 1, 'columnnthoftype6': 1, '0px\\r\\r\\rspanabbottomregion': 1, 'sectionheadingauregion': 5, '\\rhtmlgeocountryAU': 2, 'sectionheading': 2, 'block\\rtextalign': 1, 'center\\r\\rhtmlgeocountryAU': 1, 'h2sectionheading': 1, '15px\\r\\rhtmlgeocountryAU': 1, 'h2sectionheadinghover\\rhtmlgeocountryAU': 1, 'h2sectionheadingactive': 1, '222222\\r\\r\\rhtmlgeocountryAU': 1, 'Picks': 1, 'Australian': 2, 'Government': 1, 'Rejects': 1, 'Move': 2, 'Indigenous': 2, '‘Recognition’': 1, 'government': 1, 'said': 1, 'proposal': 1, 'create': 1, 'body': 1, 'representing': 1, 'would': 1, 'have': 2, 'failed': 1, 'brought': 1, 'vote': 1, 'national': 1, 'referendum': 1, 'Deputy': 1, 'Among': 1, 'Lose': 1, 'Seats': 1, 'Over': 2, 'Citizenship': 1, 'high': 2, 'court': 1, 'ruled': 1, 'Barnaby': 1, 'Joyce': 1, 'other': 1, 'lawmakers': 1, 'had': 2, 'ineligible': 1, 'run': 1, 'Parliament': 1, 'because': 2, 'they': 1, 'held': 1, 'dual': 1, 'citizenship': 1, 'Japanese': 2, 'Foodways': 1, 'Mix': 1, 'Off': 1, 'Winding': 1, 'Road': 1, 'small': 1, 'town': 1, 'South': 1, 'Wales': 1, 'rewards': 1, 'visitors': 1, 'locals': 1, 'charming': 1, 'cafe': 1, 'Sight': 1, 'Insight': 1, 'Desert': 1, 'artist': 1, 'Andrea': 1, 'Zittel': 1, 'spent': 1, 'nearly': 1, '20': 1, 'exploring': 1, 'solitude': 1, 'she’s': 1, 'inviting': 1, 'join': 2, '“Experimental': 1, 'Cabins”': 1, 'At': 1, 'Dinner': 2, 'Party': 4, 'When': 4, 'You’re': 1, 'Bad': 3, 'Guest': 1, 'author': 1, 'too': 1, 'miserable': 1, 'be': 3, 'polite': 1, 'dinner': 1, 'engagement': 1, 'didn’t': 1, 'want': 1, 'go': 1, 'rich': 1, 'man': 1, 'him': 1, 'MakeBelieve': 1, 'Is': 8, 'Too': 1, 'I': 5, 'my': 2, 'wife': 1, 'wasn’t': 1, 'going': 2, 'me': 1, 'son': 1, 'once': 1, 'again': 1, 'she': 1, 'psychotic': 1, 'Silence': 2, 'Democrats': 3, 'MICHAEL': 1, 'TOMASKY': 1, 'aren’t': 1, 'potential': 1, '2020': 1, 'contenders': 1, 'taking': 1, 'stand': 1, 'way': 1, 'country': 1, 'heading': 1, 'Editorial': 3, 'Phil': 1, 'Murphy': 1, 'Governor': 2, 'Jersey': 1, 'Insect': 2, 'Armageddon': 2, 'Blow': 2, 'Checking': 1, 'My': 2, 'Male': 1, 'Privilege': 1, 'Leonhardt': 1, 'Donald': 2, 'Wants': 1, 'Raise': 1, 'Taxes': 1, 'Sex': 2, 'Love': 3, 'Aging': 1, 'Woman': 2, '451': 1, 'us': 1, 'Economy': 2, 'Can’t': 2, 'Grow': 2, 'Without': 2, 'Birth': 2, 'Control': 2, 'BRYCE': 1, 'COVERT': 1, 'promised': 1, 'growth': 1, 'He': 2, 'shouldn’t': 1, 'limit': 1, 'access': 1, 'contraception': 1, 'Neruda': 1, 'Pinochet': 1, 'Rumors': 1, 'Murder': 1, 'ARIEL': 1, 'DORFMAN': 1, '612': 1, 'Forensic': 1, 'investigations': 1, 'Pablo': 1, 'Neruda’s': 1, 'death': 1, '1973': 1, 'renewed': 1, 'speculation': 1, 'about': 1, 'actually': 1, 'died': 1, '\\r\\r\\rccolumncolumn': 1, 'sectionopinion': 2, 'timetimestamp\\rdisplaynone\\r': 1, '\\rccolumncolumn': 1, 'pthemecomments\\rdisplaynone\\r': 1, 'User': 1, 'Subscriptions': 5, 'To': 3, 'Find': 3, 'Story': 3, 'Needed': 3, 'Guide': 8, 'Fans': 2, 'Extra': 2, 'Innings': 2, 'LateGame': 2, 'Twists': 2, 'Reporters': 2, 'Less': 2, 'So': 2, 'Insider': 2, 'raquo': 33, 'Crossword': 4, 'Play': 2, 'Todayrsquos': 2, 'Puzzle': 2, 'Wordplay': 1, 'header': 1, 'Watching': 1, '\\rnythpNeediestCasesPromo': 1, '16px\\rmargintop': 1, '10px\\r\\r\\rnythpNeediestCasesPromo': 1, 'storythemefeaturepromo': 1, '\\rfontfamily': 1, 'georgiatimes': 1, 'romantimesserif\\rfontsize': 1, '13px\\r\\r\\rnythpNeediestCasesPromo': 1, '\\rtextdecoration': 2, 'underline\\r\\r\\rnythpNeediestCasesPromo': 1, 'Neediest': 2, 'Cases': 2, 'Her': 1, 'Peers': 1, 'Made': 1, 'School': 2, 'Look': 2, 'Easy': 1, 'Hard': 1, 'Work': 2, 'She’s': 1, 'Catching': 1, 'dropping': 1, 'out': 1, 'school': 1, 'Wendy': 1, 'Genao': 1, 'earned': 1, 'equivalency': 1, 'diploma': 1, 'enrolled': 1, 'college': 1, 'She': 2, 'finally': 1, 'feels': 1, 'scholar': 1, 'its': 1, '106th': 1, 'year': 1, 'Fund': 1, 'provided': 1, 'direct': 1, 'assistance': 1, 'those': 1, 'struggling': 1, 'beyond': 1, 'Donate': 1, 'Our': 3, 'Advertisers': 1, 'Loading': 2, 'video': 1, 'explore': 1, 'videos': 1, 'Player': 1, 'Inside': 1, 'Nytimescom': 1, 'previous': 1, 'story': 2, 'next': 1, 'Book': 1, 'Review': 8, 'Behind': 1, 'Bars': 1, 'Crime': 1, 'Didn’t': 1, 'Commit': 1, 'Behavior': 1, 'Great': 1, 'Art': 6, 'Citing': 1, 'Woody': 1, 'Allen': 1, 'Bill': 2, 'Cosby': 1, 'Wagner': 1, 'Caravaggio': 1, 'discuss': 1, 'whether': 1, 'artist’s': 1, 'misdeeds': 1, 'should': 1, 'taint': 1, 'work': 1, 'Live': 1, 'Outsmarting': 1, 'Primitive': 1, 'Responses': 1, 'Fear': 1, 'Build': 2, 'Skin': 1, 'Care': 1, 'Routine': 1, 'Sunday': 3, 'Breast': 1, 'Cancer': 1, 'Serious': 1, 'Pink': 1, 'Not': 1, 'Thinking': 1, 'Feet': 1, 'Design': 3, 'Dutch': 1, 'Treasure': 1, 'Trove': 1, 'Returns': 2, 'Perfect': 1, 'Paint': 1, 'Michelle': 1, 'Obama': 1, 'Amy': 1, 'Sherald’s': 1, 'artistic': 1, 'hands': 1, 'former': 1, 'lady': 1, 'honored': 1, 'individual': 1, 'spectacular': 1, 'one': 1, 'deserves': 1, 'seen': 1, 'such': 1, 'Mind': 1, 'Mindfulness': 1, 'Chef': 1, 'Makes': 1, 'Case': 1, 'Local': 1, 'Alaskan': 1, 'Cuisine': 1, 'Yes': 2, 'Really': 1, 'Am': 1, 'This': 1, 'Beauty': 1, 'Pageant': 1, 'Sade’s': 1, 'Quiet': 1, 'Storm': 1, 'Cool': 1, 'Must': 1, 'Resist': 1, 'Madrid’s': 1, 'Rule': 1, 'Afghan': 1, 'Taliban': 1, 'Awash': 1, 'Heroin': 1, 'Cash': 1, 'Troubling': 1, 'Turn': 1, 'War': 3, 'Sixth': 1, 'Grade': 1, 'Straight': 1, 'Factory': 1, 'Day': 1, 'Forget': 1, 'Washington': 1, 'Far': 1, 'Uses': 1, 'Its': 1, 'Giant': 1, 'Rosneft': 1, 'Foreign': 1, 'Policy': 1, 'Tool': 1, 'OpEd': 3, 'Contributor': 1, 'Bryce': 1, 'Covert': 1, 'Misconduct': 1, 'California’s': 1, 'Capitol': 1, 'Difficult': 1, 'Escape': 1, 'Calls': 1, 'Hollywood': 1, 'Rebuild': 1, 'Power': 1, 'Lines': 1, 'Worries': 1, 'Big': 2, 'Companies': 1, 'Post': 1, 'Glowing': 1, 'Quarterly': 1, 'Profits': 1, 'Fanned': 1, 'Flames': 1, 'Which': 2, 'Faces': 1, 'Blowback': 1, 'Bans': 1, 'Two': 1, 'KremlinBacked': 1, 'Outlets': 1, 'Advertising': 1, 'Kevin': 2, 'Spacey': 2, 'Apologizes': 2, 'Allegation': 2, 'DecadesOld': 2, 'Advance': 2, 'Minor': 2, 'Reading': 1, 'Numbers': 1, 'Data': 1, 'Meets': 1, 'Literature': 1, 'Onstage': 1, 'JayZ': 1, 'Forgoes': 1, 'Distractions': 1, 'Drilling': 1, 'Down': 2, 'Message': 2, 'Suspended': 1, 'Tweets': 1, 'Strangling': 1, 'Attack': 1, 'Tax': 1, '‘MiddleClass': 1, 'Con': 1, 'Job’': 1, 'Fashion': 2, 'Fall': 3, 'Dead': 1, '‘Terry': 1, 'Richardson': 1, 'Just': 3, 'Tip': 1, 'Iceberg’': 1, 'Movies': 2, '‘Jigsaw’': 1, 'Carves': 1, 'Clooney’s': 1, '‘Suburbicon’': 1, 'Box': 1, 'Office': 1, 'Square’': 1, 'Takes': 1, 'Aim': 1, 'Biggest': 1, 'Year': 1, 'Horror': 2, 'History': 1, 'PostSandy': 1, 'Those': 1, 'Killed': 1, 'Hurricane': 1, 'leads': 1, 'series': 1, '32': 1, 'Dizzying': 1, 'BattleScarred': 1, 'West': 1, 'Wing': 1, 'Veteran': 1, 'Scripting': 1, 'NFL’s': 1, 'Anthem': 2, 'NFL': 1, 'Scores': 1, 'Texans': 1, 'Kneel': 1, 'During': 1, 'Protest': 1, 'Theater': 2, '‘Knives': 1, 'Hens’': 1, 'Wondrous': 1, 'Drama': 1, 'Lust': 1, 'Language': 1, 'Michael': 1, 'Moore': 1, 'Quarrel': 1, 'Broadway': 2, '‘M': 1, 'Butterfly’': 1, 'Heavier': 1, 'Wings': 1, 'Trilobites': 3, 'Astronomers': 1, 'Study': 1, 'Mystery': 1, 'Object': 1, 'Outside': 1, 'Solar': 1, 'System': 1, 'TurkeySize': 1, 'Dinosaur': 1, 'RaccoonLike': 1, 'Bandit': 1, 'Mask': 1, 'Oysters': 1, 'Can': 2, '‘Hear’': 1, 'They': 1, 'Probably': 1, 'Wish': 1, 'We’d': 1, 'Clam': 1, 'Obituaries': 2, 'Wopo': 1, 'Holup': 1, 'Adorned': 1, 'Spaces': 2, 'Dies': 3, '80': 1, 'Robert': 1, 'Blakeley': 1, 'Whose': 1, 'Shelter': 1, 'Symbolized': 1, 'Cold': 1, '95': 1, 'Fay': 1, 'Chiang': 1, '65': 1, 'Poet': 1, 'Championed': 1, 'AsianAmerican': 1, 'Culture': 1, 'Television': 2, '‘Stranger': 1, 'Things’': 1, 'Season': 1, 'Premiere': 1, 'Recap': 1, 'Lingering': 1, 'Effects': 1, 'Critic’s': 1, 'Notebook': 2, '‘TRL’': 1, 'Back': 2, 'MTV': 1, 'Undone': 1, 'Blocked': 1, 'Medicaid': 1, 'Expansion': 1, 'Maine': 1, 'Voters': 1, 'Could': 2, 'Overrule': 1, 'Him': 1, 'Old': 1, 'Age': 2, 'One': 1, 'Question': 1, 'Before': 1, 'Operation': 1, 'Frail': 1, 'Declares': 1, 'Opioid': 1, 'Crisis': 1, '‘Health': 1, 'Emergency’': 1, 'Requests': 1, 'Funds': 1, 'SpiceLaden': 1, 'Kerala': 1, 'Break': 1, 'Urban': 1, 'India': 1, 'Footsteps': 1, 'Chasing': 1, 'Spirit': 1, 'Fractured': 1, 'Spain': 1, 'Through': 1, 'García': 1, 'Lorca': 1, 'Bargain': 1, 'Destinations': 1, 'Books': 2, 'Nonfiction': 1, 'Stranger': 1, 'Than': 3, 'Fiction': 3, 'Best': 2, 'TrueCrime': 1, 'Stories': 1, 'Roundup': 2, 'Indebted': 1, 'Early': 1, 'Master': 1, 'Villains': 1, 'Ourselves': 1, 'Thriller': 1, 'Education': 4, 'Campus': 2, 'Hate': 1, 'Lives': 1, 'Administrators': 1, 'Need': 1, 'Catch': 1, 'Classroom': 1, 'Setting': 1, 'Suits': 1, 'Game': 1, 'Help': 2, 'Students': 1, 'Pay': 1, 'Right': 2, 'Price': 1, 'College': 1, 'Kitchen': 1, 'Warming': 1, 'Curry': 1, 'Wine': 1, 'Lesson': 1, 'Savennières': 1, 'Matt': 1, 'Orlando': 1, 'Brings': 1, 'Sun': 1, 'Copenhagen': 1, 'Issue': 3, 'AllHandsOnDeck': 1, 'Dumpling': 1, 'Fondue': 1, 'Bedroom': 2, 'Rover': 2, 'Maybe': 2, 'Even': 2, 'Condo': 2, 'View': 2, 'Be': 1, 'Illegal': 1, 'Apartment': 1, 'Shopping': 2, 'Wingback': 1, 'Chairs': 1, 'Upshot': 1, 'Silver': 1, 'Costs': 1, 'Gold': 1, 'Actions': 1, 'Have': 1, 'Scrambled': 1, 'Insurance': 1, 'Prices': 1, 'Draw': 1, 'Drug': 2, 'Overdose': 1, 'Epidemic': 1, 'Deaths': 1, 'America': 1, 'Rising': 1, 'Faster': 1, 'Ever': 1, 'Send': 1, 'Journalist': 1, '52Week': 1, 'Trot': 1, 'Around': 1, 'Globe': 1, 'Reporter’s': 1, 'Automobiles': 2, 'Automakers': 1, 'Chests': 1, 'Finance': 1, 'SelfDriving': 1, 'Future': 1, 'Subaru': 1, 'Admits': 1, 'Inspection': 1, 'Failings': 1, 'Another': 1, 'Japan’s': 1, 'Carmakers': 1, 'Wheels': 1, 'Forgetting': 1, 'Child': 1, 'Seat': 1, 'Kill': 1, 'Cars': 1, 'May': 1, 'Soon': 1, 'Warn': 1, 'Man': 1, 'Designing': 1, 'Instagram': 1, 'Some': 1, 'Things': 1, 'Editors': 1, 'Helsinki’s': 1, 'Saunas': 1, 'CAROLINE': 1, 'BIGGS': 1, 'serious': 1, 'animal': 1, 'lovers': 1, 'pets': 1, 'And': 1, 'doesn’t': 1, 'every': 1, 'member': 1, 'deserve': 1, 'own': 1, 'space': 1, 'Homes': 1, 'Sale': 2, 'Rent': 1, 'Mortgage': 1, 'Calculator': 1, 'Emailed': 1, 'Viewed': 1, 'Trending': 1, 'Recommended': 1, 'Home': 2, 'Page': 1, 'Index': 2, 'Todays': 3, 'Corrections': 1, 'Columnists': 1, 'Editorials': 1, 'Contributors': 1, 'Letters': 1, 'Dance': 1, 'Music': 1, 'NYC': 3, 'Events': 3, 'Jobs': 1, 'Weddings': 1, 'Celebrations': 1, 'Listings': 1, 'Reader': 1, 'Center': 1, 'Classifieds': 1, 'Tools': 1, 'Services': 1, 'Photography': 1, 'NYT': 1, 'Store': 1, 'Journeys': 1, 'Manage': 1, 'Account': 1, 'NYTCo': 1, 'Delivery': 1, 'Digital': 1, 'Email': 1, 'Newsletters': 1, 'Alerts': 1, 'Gift': 1, 'Corporate': 1, 'Rate': 1, 'Applications': 1, 'Replica': 1, 'Information': 2, 'copy': 1, 'Company': 1, 'Contact': 1, 'Us': 2, 'Advertise': 1, 'Ad': 1, 'Choices': 1, 'Privacy': 1, 'Terms': 2, 'Service': 1, 'Map': 1, 'Feedback': 1, 'Version': 1}\n"
     ]
    }
   ],
   "source": [
    "from urllib import request \n",
    " \n",
    "url = 'http://www.nytimes.com'\n",
    "f = request.urlopen(url)\n",
    "source_bytes = f.read()\n",
    "source = source_bytes.decode('utf-8')\n",
    "\n",
    "PrintHtml(source)"
   ]
  },
  {
   "cell_type": "markdown",
   "metadata": {},
   "source": [
    "처음에 `<script> </script>`내부의 스크립트까지도 순수문자열로 잡아버려서 중간에 이상한 문자열이 출력되었는데, script로 시작하는 문자열을 삭제하고 css와 js, JS등을 포함한 문자열을 삭제하게 하여 임시로 해결했지만, 근본적인 해결책은 되지 못했습니다.  \n",
    "사전을 만들때 for in을 이용하여 result의 값을 하나씩 꺼내서 검사하며, result의 값을 꺼낸 x가 사전 안에 없으면 x를 key로 value의 값을 1로 설정하고 x가 사전 안에 있으면 x를 key값으로 검색하여 value의 값을 하나씩 증가시키도록 하였습니다."
   ]
  },
  {
   "cell_type": "markdown",
   "metadata": {},
   "source": [
    "외할아버지께서 돌아가셔 상을 치르느라 저번주 수업을 듣지 못했습니다. 수업자료나 인터넷 등을 참고하여 최대한 과제를 수행하려고 해보았는데, 마지막 문제를 어떻게 처리해야 될지 들은 바가 없어 판단이 되지 않았습니다. 어떻게 해야되는지 강의시간에 알려주신 바가 있다면 알려주시면 감사하겠습니다.  \n",
    "`+` 9주차부터의 이러닝 강의의 학습 기간이 잘못 입력된 것 같습니다. 확인 부탁드립니다."
   ]
  },
  {
   "cell_type": "code",
   "execution_count": null,
   "metadata": {
    "collapsed": true
   },
   "outputs": [],
   "source": []
  }
 ],
 "metadata": {
  "kernelspec": {
   "display_name": "Python 3",
   "language": "python",
   "name": "python3"
  },
  "language_info": {
   "codemirror_mode": {
    "name": "ipython",
    "version": 3
   },
   "file_extension": ".py",
   "mimetype": "text/x-python",
   "name": "python",
   "nbconvert_exporter": "python",
   "pygments_lexer": "ipython3",
   "version": "3.6.3"
  }
 },
 "nbformat": 4,
 "nbformat_minor": 2
}
